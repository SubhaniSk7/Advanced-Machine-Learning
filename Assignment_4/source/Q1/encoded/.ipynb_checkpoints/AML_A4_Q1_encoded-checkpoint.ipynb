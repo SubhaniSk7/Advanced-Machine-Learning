{
 "cells": [
  {
   "cell_type": "code",
   "execution_count": 0,
   "metadata": {
    "colab": {},
    "colab_type": "code",
    "id": "Dutt10wp8JwK"
   },
   "outputs": [],
   "source": [
    "import torch\n",
    "from torchvision import datasets, transforms\n",
    "import torch.nn as nn\n",
    "import torch.nn.functional as F\n",
    "import torch.optim as optim\n",
    "from torch.utils.data import DataLoader\n",
    "from torch.utils.data.sampler import SubsetRandomSampler\n",
    "import matplotlib.pyplot as plt\n",
    "import numpy as np\n",
    "import joblib"
   ]
  },
  {
   "cell_type": "markdown",
   "metadata": {
    "colab_type": "text",
    "id": "2EhbXdXR8JwN"
   },
   "source": [
    "### Data loading"
   ]
  },
  {
   "cell_type": "code",
   "execution_count": 2,
   "metadata": {
    "colab": {
     "base_uri": "https://localhost:8080/",
     "height": 84
    },
    "colab_type": "code",
    "id": "ulFGa8XG8JwN",
    "outputId": "c143e359-1c3c-40be-c49d-67f6130fa9ab"
   },
   "outputs": [
    {
     "name": "stderr",
     "output_type": "stream",
     "text": [
      "\r",
      "0it [00:00, ?it/s]"
     ]
    },
    {
     "name": "stdout",
     "output_type": "stream",
     "text": [
      "Downloading https://www.cs.toronto.edu/~kriz/cifar-10-python.tar.gz to ./Datasets/CIFAR10_data/cifar-10-python.tar.gz\n"
     ]
    },
    {
     "name": "stderr",
     "output_type": "stream",
     "text": [
      "170500096it [00:07, 24302292.89it/s]                               \n"
     ]
    },
    {
     "name": "stdout",
     "output_type": "stream",
     "text": [
      "Extracting ./Datasets/CIFAR10_data/cifar-10-python.tar.gz to ./Datasets/CIFAR10_data/\n",
      "Files already downloaded and verified\n"
     ]
    }
   ],
   "source": [
    "path = \"./Datasets/CIFAR10_data/\"\n",
    "# path = \"E:/Datasets/CIFAR10_data/\"\n",
    "\n",
    "device = 'cuda'\n",
    "num_workers = 0\n",
    "batch_size = 64\n",
    "\n",
    "transform = transforms.Compose([transforms.ToTensor(), transforms.Normalize((0.5, 0.5, 0.5), (0.5, 0.5, 0.5))])\n",
    "\n",
    "train_data = datasets.CIFAR10(path, train=True, download=True, transform=transform)\n",
    "test_data = datasets.CIFAR10(path, train=False, download=True, transform=transform)\n",
    "\n",
    "train_loader = DataLoader(train_data, batch_size=batch_size, num_workers=num_workers)\n",
    "test_loader = DataLoader(test_data, batch_size=batch_size, num_workers=num_workers)\n",
    "\n",
    "# classes = [\"plane\", \"car\", \"bird\", \"cat\", \"deer\", \"dog\", \"frog\", \"horse\", \"ship\", \"truck\"]"
   ]
  },
  {
   "cell_type": "markdown",
   "metadata": {
    "colab_type": "text",
    "id": "tcK9omY08JwT"
   },
   "source": [
    "### Network"
   ]
  },
  {
   "cell_type": "code",
   "execution_count": 0,
   "metadata": {
    "colab": {},
    "colab_type": "code",
    "id": "fAeWfPPV8JwT"
   },
   "outputs": [],
   "source": [
    "class Architecture(nn.Module):\n",
    "    def __init__(self):\n",
    "        super(Architecture, self).__init__()\n",
    "\n",
    "        self.encoder_conv1 = nn.Conv2d(in_channels=3, out_channels=32, kernel_size=3, padding=1)\n",
    "        self.encoder_conv2 = nn.Conv2d(32, 64, 3, padding=1)\n",
    "        self.encoder_conv3 = nn.Conv2d(64, 128, 3, padding=1)\n",
    "        self.pool = nn.MaxPool2d(2, return_indices=True)\n",
    "\n",
    "        self.encoder_fc1 = nn.Linear(128 * 4 * 4, 256)\n",
    "        self.encoder_fc2 = nn.Linear(256, 64)\n",
    "        self.encoder_fc3 = nn.Linear(64, 10)\n",
    "\n",
    "        self.relu = nn.ReLU()\n",
    "\n",
    "    def forward(self, x):\n",
    "        x = self.relu(self.encoder_conv1(x))\n",
    "        x, indices1 = self.pool(x)\n",
    "\n",
    "        x = self.relu(self.encoder_conv2(x))\n",
    "        x, indices2 = self.pool(x)\n",
    "        \n",
    "        x = self.relu(self.encoder_conv3(x))\n",
    "        encoded, indices3 = self.pool(x)\n",
    "\n",
    "        encoded = encoded.view(-1, 128 * 4 * 4)\n",
    "        encoded = self.relu(self.encoder_fc1(encoded))\n",
    "        encoded = self.relu(self.encoder_fc2(encoded))\n",
    "        encoded = self.encoder_fc3(encoded)\n",
    "\n",
    "        return encoded\n",
    "\n",
    "model = Architecture()\n",
    "model.to(device)\n",
    "\n",
    "CE = nn.CrossEntropyLoss()\n",
    "optimizer = optim.Adagrad(model.parameters(), lr=0.02)"
   ]
  },
  {
   "cell_type": "markdown",
   "metadata": {
    "colab_type": "text",
    "id": "hVQHWI7IJfeU"
   },
   "source": [
    "### Training, Testing and train,valid-loss, test-accuracy"
   ]
  },
  {
   "cell_type": "code",
   "execution_count": 14,
   "metadata": {
    "colab": {
     "base_uri": "https://localhost:8080/",
     "height": 1000
    },
    "colab_type": "code",
    "id": "t9sBOPXo8Jwa",
    "outputId": "10083983-e3bb-4498-a599-7d383d05788f"
   },
   "outputs": [
    {
     "name": "stdout",
     "output_type": "stream",
     "text": [
      "Epoch: 1  Train Loss: 1.7101016437149048  | Test Loss: 1.438028779411316  Test Accuracy: 47.1\n",
      "Epoch: 2  Train Loss: 1.2040759020996095  | Test Loss: 1.2368655920028686  Test Accuracy: 55.9\n",
      "Epoch: 3  Train Loss: 1.0406831783676147  | Test Loss: 1.1578100931167603  Test Accuracy: 59.2\n",
      "Epoch: 4  Train Loss: 0.9340278973770142  | Test Loss: 1.1204127328872682  Test Accuracy: 61.02\n",
      "Epoch: 5  Train Loss: 0.8575697129821778  | Test Loss: 1.0353372367858886  Test Accuracy: 63.87\n",
      "Epoch: 6  Train Loss: 0.7986350588989258  | Test Loss: 0.9877792533874512  Test Accuracy: 65.86\n",
      "Epoch: 7  Train Loss: 0.7503818053817749  | Test Loss: 0.9415937547683716  Test Accuracy: 67.35\n",
      "Epoch: 8  Train Loss: 0.7088159393882751  | Test Loss: 0.9179759366989135  Test Accuracy: 68.24\n",
      "Epoch: 9  Train Loss: 0.671477439250946  | Test Loss: 0.8913991276741028  Test Accuracy: 69.46\n",
      "Epoch: 10  Train Loss: 0.6374643735694885  | Test Loss: 0.8644499900817871  Test Accuracy: 70.12\n",
      "Epoch: 11  Train Loss: 0.6055452050590515  | Test Loss: 0.8469804349899293  Test Accuracy: 71.01\n",
      "Epoch: 12  Train Loss: 0.5760077552604675  | Test Loss: 0.835642124080658  Test Accuracy: 71.69\n",
      "Epoch: 13  Train Loss: 0.5483513303375244  | Test Loss: 0.825040591621399  Test Accuracy: 72.53\n",
      "Epoch: 14  Train Loss: 0.5221867716407775  | Test Loss: 0.815154114151001  Test Accuracy: 73.17\n",
      "Epoch: 15  Train Loss: 0.4975666692686081  | Test Loss: 0.8152283731460571  Test Accuracy: 73.18\n",
      "Epoch: 16  Train Loss: 0.47421050641059875  | Test Loss: 0.8201273420333862  Test Accuracy: 73.33\n",
      "Epoch: 17  Train Loss: 0.4517453638744354  | Test Loss: 0.826708772945404  Test Accuracy: 73.52\n",
      "Epoch: 18  Train Loss: 0.4302178100156784  | Test Loss: 0.8363944284915924  Test Accuracy: 73.57\n",
      "Epoch: 19  Train Loss: 0.4091648690271378  | Test Loss: 0.8471833339691162  Test Accuracy: 73.64\n",
      "Epoch: 20  Train Loss: 0.3892988210773468  | Test Loss: 0.8586948459625244  Test Accuracy: 73.74\n",
      "Epoch: 21  Train Loss: 0.36978138773202895  | Test Loss: 0.87195572681427  Test Accuracy: 73.82\n",
      "Epoch: 22  Train Loss: 0.3512288664603233  | Test Loss: 0.8856639647483826  Test Accuracy: 73.87\n",
      "Epoch: 23  Train Loss: 0.33316237585783004  | Test Loss: 0.9007705251216889  Test Accuracy: 73.87\n",
      "Epoch: 24  Train Loss: 0.3156111139988899  | Test Loss: 0.9169227138996124  Test Accuracy: 74.13\n",
      "Epoch: 25  Train Loss: 0.2985909567332268  | Test Loss: 0.9344042749404907  Test Accuracy: 74.0\n",
      "Epoch: 26  Train Loss: 0.2821018653440475  | Test Loss: 0.9537416438579559  Test Accuracy: 73.97\n",
      "Epoch: 27  Train Loss: 0.2663510700964928  | Test Loss: 0.9758879088401794  Test Accuracy: 73.9\n",
      "Epoch: 28  Train Loss: 0.25121110460996626  | Test Loss: 0.9988031815052032  Test Accuracy: 73.82\n",
      "Epoch: 29  Train Loss: 0.23627834945201873  | Test Loss: 1.0203146106719971  Test Accuracy: 73.87\n",
      "Epoch: 30  Train Loss: 0.22189472012281417  | Test Loss: 1.0460212308406829  Test Accuracy: 73.81\n",
      "Epoch: 31  Train Loss: 0.20802825861930846  | Test Loss: 1.0712054858207702  Test Accuracy: 73.91\n",
      "Epoch: 32  Train Loss: 0.19445566741466522  | Test Loss: 1.0990492477416993  Test Accuracy: 73.78\n",
      "Epoch: 33  Train Loss: 0.18150752999305725  | Test Loss: 1.1275460270404816  Test Accuracy: 73.83\n",
      "Epoch: 34  Train Loss: 0.16914948910236358  | Test Loss: 1.1589088870048523  Test Accuracy: 73.7\n",
      "Epoch: 35  Train Loss: 0.15724388221263885  | Test Loss: 1.1893852538108827  Test Accuracy: 73.79\n",
      "Epoch: 36  Train Loss: 0.1459506638407707  | Test Loss: 1.221517384147644  Test Accuracy: 73.68\n",
      "Epoch: 37  Train Loss: 0.13507793999671935  | Test Loss: 1.2577955591201782  Test Accuracy: 73.62\n",
      "Epoch: 38  Train Loss: 0.12501691534280776  | Test Loss: 1.292561921310425  Test Accuracy: 73.68\n",
      "Epoch: 39  Train Loss: 0.11534803215503693  | Test Loss: 1.3307702044487  Test Accuracy: 73.56\n",
      "Epoch: 40  Train Loss: 0.10615610528230666  | Test Loss: 1.3679422618865966  Test Accuracy: 73.36\n",
      "Epoch: 41  Train Loss: 0.09764790533542633  | Test Loss: 1.4073276384353637  Test Accuracy: 73.34\n",
      "Epoch: 42  Train Loss: 0.08950899083137512  | Test Loss: 1.4486170627593995  Test Accuracy: 73.26\n",
      "Epoch: 43  Train Loss: 0.08194087925910949  | Test Loss: 1.4887687910079956  Test Accuracy: 73.1\n",
      "Epoch: 44  Train Loss: 0.0747452038860321  | Test Loss: 1.529959920024872  Test Accuracy: 73.19\n",
      "Epoch: 45  Train Loss: 0.0681181604397297  | Test Loss: 1.5747802242279052  Test Accuracy: 73.11\n",
      "Epoch: 46  Train Loss: 0.06200732795715332  | Test Loss: 1.6149292096138002  Test Accuracy: 73.1\n",
      "Epoch: 47  Train Loss: 0.05628546487569809  | Test Loss: 1.656897366809845  Test Accuracy: 73.13\n",
      "Epoch: 48  Train Loss: 0.05113101388812065  | Test Loss: 1.695536911010742  Test Accuracy: 73.13\n",
      "Epoch: 49  Train Loss: 0.04641839378833771  | Test Loss: 1.7340557563781738  Test Accuracy: 73.02\n",
      "Epoch: 50  Train Loss: 0.04223251157164574  | Test Loss: 1.773721030807495  Test Accuracy: 73.09\n",
      "Epoch: 51  Train Loss: 0.03826122996687889  | Test Loss: 1.8102938445091248  Test Accuracy: 73.05\n",
      "Epoch: 52  Train Loss: 0.0346133272266388  | Test Loss: 1.8494929874420165  Test Accuracy: 73.04\n",
      "Epoch: 53  Train Loss: 0.031285507613420485  | Test Loss: 1.8864698059082032  Test Accuracy: 73.13\n",
      "Epoch: 54  Train Loss: 0.02838406265735626  | Test Loss: 1.9233978828430176  Test Accuracy: 73.07\n",
      "Epoch: 55  Train Loss: 0.02570051364183426  | Test Loss: 1.960523606967926  Test Accuracy: 72.95\n",
      "Epoch: 56  Train Loss: 0.023335156930685042  | Test Loss: 1.995607227897644  Test Accuracy: 73.04\n",
      "Epoch: 57  Train Loss: 0.021176073954701422  | Test Loss: 2.028875708770752  Test Accuracy: 73.06\n",
      "Epoch: 58  Train Loss: 0.01927709194779396  | Test Loss: 2.0595728212356565  Test Accuracy: 73.03\n",
      "Epoch: 59  Train Loss: 0.01763950825035572  | Test Loss: 2.0897919746398927  Test Accuracy: 72.99\n",
      "Epoch: 60  Train Loss: 0.016107233167886734  | Test Loss: 2.1214004875183106  Test Accuracy: 73.01\n",
      "Epoch: 61  Train Loss: 0.01476665533721447  | Test Loss: 2.148641400909424  Test Accuracy: 73.04\n",
      "Epoch: 62  Train Loss: 0.013585046105980873  | Test Loss: 2.177387544250488  Test Accuracy: 73.09\n",
      "Epoch: 63  Train Loss: 0.012524644795656204  | Test Loss: 2.2029918460845948  Test Accuracy: 73.14\n",
      "Epoch: 64  Train Loss: 0.011565385912060737  | Test Loss: 2.2284424114227295  Test Accuracy: 73.08\n",
      "Epoch: 65  Train Loss: 0.010723175686001778  | Test Loss: 2.25455277633667  Test Accuracy: 73.1\n",
      "Epoch: 66  Train Loss: 0.009941986398100853  | Test Loss: 2.277826644706726  Test Accuracy: 73.12\n",
      "Epoch: 67  Train Loss: 0.009239991691708565  | Test Loss: 2.3005003002166746  Test Accuracy: 73.16\n",
      "Epoch: 68  Train Loss: 0.00862934197574854  | Test Loss: 2.3237542911529543  Test Accuracy: 73.09\n",
      "Epoch: 69  Train Loss: 0.008069877981841564  | Test Loss: 2.3471809352874757  Test Accuracy: 73.11\n",
      "Epoch: 70  Train Loss: 0.0075706557944417  | Test Loss: 2.369213257598877  Test Accuracy: 73.06\n",
      "Epoch: 71  Train Loss: 0.007115392837524414  | Test Loss: 2.3902226303100584  Test Accuracy: 72.95\n",
      "Epoch: 72  Train Loss: 0.006705117581486702  | Test Loss: 2.4107578477859497  Test Accuracy: 72.9\n",
      "Epoch: 73  Train Loss: 0.006314345216751099  | Test Loss: 2.431010496711731  Test Accuracy: 72.97\n",
      "Epoch: 74  Train Loss: 0.005969636705517769  | Test Loss: 2.449898056793213  Test Accuracy: 73.0\n",
      "Epoch: 75  Train Loss: 0.005647903787791729  | Test Loss: 2.4693249139785767  Test Accuracy: 73.02\n",
      "Epoch: 76  Train Loss: 0.005350451344251632  | Test Loss: 2.48783074760437  Test Accuracy: 72.99\n",
      "Epoch: 77  Train Loss: 0.005066029860377312  | Test Loss: 2.505910479927063  Test Accuracy: 72.99\n",
      "Epoch: 78  Train Loss: 0.004814765028655529  | Test Loss: 2.524140353012085  Test Accuracy: 73.01\n",
      "Epoch: 79  Train Loss: 0.004576873455643654  | Test Loss: 2.5421979682922364  Test Accuracy: 73.02\n",
      "Epoch: 80  Train Loss: 0.004357041677236557  | Test Loss: 2.55992956943512  Test Accuracy: 72.99\n",
      "Epoch: 81  Train Loss: 0.004143402211666107  | Test Loss: 2.576398369216919  Test Accuracy: 72.98\n",
      "Epoch: 82  Train Loss: 0.003948604603111744  | Test Loss: 2.592501630973816  Test Accuracy: 73.02\n",
      "Epoch: 83  Train Loss: 0.0037716016617417338  | Test Loss: 2.6081748165130616  Test Accuracy: 73.05\n",
      "Epoch: 84  Train Loss: 0.003608859103322029  | Test Loss: 2.623205100631714  Test Accuracy: 73.08\n",
      "Epoch: 85  Train Loss: 0.003455289005488157  | Test Loss: 2.638276099777222  Test Accuracy: 73.06\n",
      "Epoch: 86  Train Loss: 0.003312122614234686  | Test Loss: 2.652914896774292  Test Accuracy: 73.06\n",
      "Epoch: 87  Train Loss: 0.003181461618542671  | Test Loss: 2.6665913595199586  Test Accuracy: 73.07\n",
      "Epoch: 88  Train Loss: 0.0030524801732599734  | Test Loss: 2.680936336517334  Test Accuracy: 73.06\n",
      "Epoch: 89  Train Loss: 0.002933680919855833  | Test Loss: 2.694185722351074  Test Accuracy: 73.07\n",
      "Epoch: 90  Train Loss: 0.0028211389569938183  | Test Loss: 2.70733603515625  Test Accuracy: 73.1\n",
      "Epoch: 91  Train Loss: 0.002714666382521391  | Test Loss: 2.7196188564300536  Test Accuracy: 73.13\n",
      "Epoch: 92  Train Loss: 0.0026173060841858387  | Test Loss: 2.731710530090332  Test Accuracy: 73.11\n",
      "Epoch: 93  Train Loss: 0.002523201671987772  | Test Loss: 2.7437604888916014  Test Accuracy: 73.07\n",
      "Epoch: 94  Train Loss: 0.0024358813530206682  | Test Loss: 2.7556871437072754  Test Accuracy: 73.11\n",
      "Epoch: 95  Train Loss: 0.002351151065826416  | Test Loss: 2.7667385593414306  Test Accuracy: 73.12\n",
      "Epoch: 96  Train Loss: 0.002272478263825178  | Test Loss: 2.778087287902832  Test Accuracy: 73.14\n",
      "Epoch: 97  Train Loss: 0.0021968177145719526  | Test Loss: 2.788956832122803  Test Accuracy: 73.14\n",
      "Epoch: 98  Train Loss: 0.002125888537466526  | Test Loss: 2.799657654953003  Test Accuracy: 73.13\n",
      "Epoch: 99  Train Loss: 0.0020565726512670516  | Test Loss: 2.8100885528564454  Test Accuracy: 73.15\n",
      "Epoch: 100  Train Loss: 0.0019927693322300912  | Test Loss: 2.8201800319671633  Test Accuracy: 73.11\n"
     ]
    }
   ],
   "source": [
    "train_ce_loss_plt = []\n",
    "test_accuracy_plt = []\n",
    "test_loss_plt = []\n",
    "\n",
    "n_epochs = 100\n",
    "for epoch in range(n_epochs):\n",
    "    train_ce_loss = 0\n",
    "    test_loss = 0\n",
    "\n",
    "    model.train()\n",
    "    for images, labels in train_loader:\n",
    "        images, labels = images.to(device), labels.to(device)\n",
    "\n",
    "        optimizer.zero_grad()\n",
    "        en = model(images)\n",
    "        classification_loss = CE(en, labels)\n",
    "        classification_loss.backward()\n",
    "        optimizer.step()\n",
    "\n",
    "        train_ce_loss += classification_loss.item() * images.size(0)\n",
    "\n",
    "    train_ce_loss /= len(train_loader.dataset)\n",
    "    train_ce_loss_plt.append(train_ce_loss)\n",
    "\n",
    "    class_correct = list(0. for i in range(10))\n",
    "    class_total = list(0. for i in range(10))\n",
    "\n",
    "    model.eval()\n",
    "    with torch.no_grad():\n",
    "        for data, target in test_loader:\n",
    "            data, target = data.cuda(), target.cuda()\n",
    "            en = model(data)\n",
    "            loss = CE(en, target)\n",
    "\n",
    "            test_loss += loss.item() * data.size(0)\n",
    "            _, pred = torch.max(en, 1)\n",
    "            correct = np.squeeze(pred.eq(target.data.view_as(pred)))\n",
    "            for i in range(len(target)):\n",
    "                label = target.data[i]\n",
    "                class_correct[label] += correct[i].item()\n",
    "                class_total[label] += 1\n",
    "\n",
    "    test_loss = test_loss / len(test_loader.dataset)\n",
    "    test_loss_plt.append(test_loss)\n",
    "    test_accuracy = 100. * np.sum(class_correct) / np.sum(class_total)\n",
    "    test_accuracy_plt.append(test_accuracy)\n",
    "    print('Epoch:',(epoch + 1),' Train Loss:', train_ce_loss,' | Test Loss:',test_loss,' Test Accuracy:', test_accuracy)"
   ]
  },
  {
   "cell_type": "markdown",
   "metadata": {
    "colab_type": "text",
    "id": "yNNI7hPGJfeW"
   },
   "source": [
    "### Saving"
   ]
  },
  {
   "cell_type": "code",
   "execution_count": 0,
   "metadata": {
    "colab": {},
    "colab_type": "code",
    "id": "syHe9j0iDTgt"
   },
   "outputs": [],
   "source": [
    "joblib.dump(train_ce_loss_plt, 'train_loss_plt_q1_encoded.sav')\n",
    "joblib.dump(test_loss_plt, 'test_loss_plt_q1_encoded.sav')\n",
    "joblib.dump(test_accuracy_plt, 'test_accuracy_plt_q1_encoded.sav')\n",
    "torch.save(model.state_dict(), \"model_q1_encoded.pt\")"
   ]
  },
  {
   "cell_type": "code",
   "execution_count": 17,
   "metadata": {
    "colab": {
     "base_uri": "https://localhost:8080/",
     "height": 282
    },
    "colab_type": "code",
    "id": "rvGSNzFvJji0",
    "outputId": "e8869c76-7f7f-4b4f-d7ad-239d8193ea40"
   },
   "outputs": [
    {
     "data": {
      "text/plain": [
       "[<matplotlib.lines.Line2D at 0x7fe145520470>]"
      ]
     },
     "execution_count": 17,
     "metadata": {
      "tags": []
     },
     "output_type": "execute_result"
    },
    {
     "data": {
      "image/png": "[encoded data removed]",
      "text/plain": [
       "<Figure size 432x288 with 1 Axes>"
      ]
     },
     "metadata": {
      "tags": []
     },
     "output_type": "display_data"
    }
   ],
   "source": [
    "plt.plot(np.arange(len(train_ce_loss_plt)),train_ce_loss_plt)"
   ]
  },
  {
   "cell_type": "code",
   "execution_count": 18,
   "metadata": {
    "colab": {
     "base_uri": "https://localhost:8080/",
     "height": 282
    },
    "colab_type": "code",
    "id": "fqnHn_32XUXp",
    "outputId": "03f870e4-138e-4bf9-ef66-8e98e232e76e"
   },
   "outputs": [
    {
     "data": {
      "text/plain": [
       "[<matplotlib.lines.Line2D at 0x7fe145500390>]"
      ]
     },
     "execution_count": 18,
     "metadata": {
      "tags": []
     },
     "output_type": "execute_result"
    },
    {
     "data": {
      "image/png": "[encoded data removed]",
      "text/plain": [
       "<Figure size 432x288 with 1 Axes>"
      ]
     },
     "metadata": {
      "tags": []
     },
     "output_type": "display_data"
    }
   ],
   "source": [
    "plt.plot(np.arange(len(test_loss_plt)),test_loss_plt)"
   ]
  },
  {
   "cell_type": "code",
   "execution_count": 19,
   "metadata": {
    "colab": {
     "base_uri": "https://localhost:8080/",
     "height": 283
    },
    "colab_type": "code",
    "id": "uHPEzwBQXhF6",
    "outputId": "99861178-ae61-4eaf-be17-85a3cdee8e2b"
   },
   "outputs": [
    {
     "data": {
      "text/plain": [
       "[<matplotlib.lines.Line2D at 0x7fe14545fa20>]"
      ]
     },
     "execution_count": 19,
     "metadata": {
      "tags": []
     },
     "output_type": "execute_result"
    },
    {
     "data": {
      "image/png": "[encoded data removed]",
      "text/plain": [
       "<Figure size 432x288 with 1 Axes>"
      ]
     },
     "metadata": {
      "tags": []
     },
     "output_type": "display_data"
    }
   ],
   "source": [
    "plt.plot(np.arange(len(test_accuracy_plt)),test_accuracy_plt)"
   ]
  },
  {
   "cell_type": "code",
   "execution_count": 0,
   "metadata": {
    "colab": {},
    "colab_type": "code",
    "id": "bR832f-lXofO"
   },
   "outputs": [],
   "source": []
  },
  {
   "cell_type": "code",
   "execution_count": 5,
   "metadata": {},
   "outputs": [
    {
     "data": {
      "image/png": "[encoded data removed]",
      "text/plain": [
       "<Figure size 432x288 with 1 Axes>"
      ]
     },
     "metadata": {
      "needs_background": "light"
     },
     "output_type": "display_data"
    },
    {
     "data": {
      "image/png": "[encoded data removed]",
      "text/plain": [
       "<Figure size 432x288 with 1 Axes>"
      ]
     },
     "metadata": {
      "needs_background": "light"
     },
     "output_type": "display_data"
    },
    {
     "data": {
      "image/png": "[encoded data removed]",
      "text/plain": [
       "<Figure size 432x288 with 1 Axes>"
      ]
     },
     "metadata": {
      "needs_background": "light"
     },
     "output_type": "display_data"
    }
   ],
   "source": [
    "import joblib\n",
    "import matplotlib.pyplot as plt\n",
    "import numpy as np\n",
    "train_ce_loss_plt = joblib.load('train_loss_plt_q1_encoded.sav')\n",
    "test_loss_plt = joblib.load('test_loss_plt_q1_encoded.sav')\n",
    "test_accuracy_plt = joblib.load('test_accuracy_plt_q1_encoded.sav')\n",
    "\n",
    "plt.title('Training loss')\n",
    "plt.plot(np.arange(len(train_ce_loss_plt)),train_ce_loss_plt,label = 'Train CE Loss')\n",
    "plt.xlabel('Epochs')\n",
    "plt.ylabel('Loss')\n",
    "plt.legend()\n",
    "plt.show()\n",
    "\n",
    "plt.title('Test Loss')\n",
    "plt.plot(np.arange(len(test_loss_plt)),test_loss_plt,color='r',label = 'Test Loss')\n",
    "plt.xlabel('Epochs')\n",
    "plt.ylabel('Loss')\n",
    "plt.legend()\n",
    "plt.show()\n",
    "\n",
    "plt.title('Test Accuracy')\n",
    "plt.plot(np.arange(len(test_accuracy_plt)),test_accuracy_plt,color='g',label = 'Test Accuracy')\n",
    "plt.xlabel('Epochs')\n",
    "plt.ylabel('Accuracy')\n",
    "plt.legend()\n",
    "plt.show()"
   ]
  },
  {
   "cell_type": "code",
   "execution_count": null,
   "metadata": {},
   "outputs": [],
   "source": []
  }
 ],
 "metadata": {
  "accelerator": "GPU",
  "colab": {
   "collapsed_sections": [],
   "name": "AML_A4_Q1_encoded.ipynb",
   "provenance": [],
   "toc_visible": true
  },
  "kernelspec": {
   "display_name": "Python 3",
   "language": "python",
   "name": "python3"
  },
  "language_info": {
   "codemirror_mode": {
    "name": "ipython",
    "version": 3
   },
   "file_extension": ".py",
   "mimetype": "text/x-python",
   "name": "python",
   "nbconvert_exporter": "python",
   "pygments_lexer": "ipython3",
   "version": "3.7.1"
  }
 },
 "nbformat": 4,
 "nbformat_minor": 1
}
