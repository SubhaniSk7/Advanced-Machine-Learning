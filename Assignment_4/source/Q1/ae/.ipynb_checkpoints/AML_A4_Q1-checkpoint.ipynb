{
 "cells": [
  {
   "cell_type": "code",
   "execution_count": 1,
   "metadata": {
    "colab": {},
    "colab_type": "code",
    "id": "Dutt10wp8JwK"
   },
   "outputs": [],
   "source": [
    "import torch\n",
    "from torchvision import datasets, transforms\n",
    "import torch.nn as nn\n",
    "import torch.nn.functional as F\n",
    "import torch.optim as optim\n",
    "from torch.utils.data import DataLoader\n",
    "from torch.utils.data.sampler import SubsetRandomSampler\n",
    "import matplotlib.pyplot as plt\n",
    "import numpy as np\n",
    "import joblib"
   ]
  },
  {
   "cell_type": "markdown",
   "metadata": {
    "colab_type": "text",
    "id": "2EhbXdXR8JwN"
   },
   "source": [
    "### Data loading"
   ]
  },
  {
   "cell_type": "code",
   "execution_count": 2,
   "metadata": {
    "colab": {
     "base_uri": "https://localhost:8080/",
     "height": 84
    },
    "colab_type": "code",
    "id": "ulFGa8XG8JwN",
    "outputId": "faa37754-fa87-4c29-8421-d623aa3235ec"
   },
   "outputs": [
    {
     "name": "stderr",
     "output_type": "stream",
     "text": [
      "\r",
      "0it [00:00, ?it/s]"
     ]
    },
    {
     "name": "stdout",
     "output_type": "stream",
     "text": [
      "Downloading https://www.cs.toronto.edu/~kriz/cifar-10-python.tar.gz to ./Datasets/CIFAR10_data/cifar-10-python.tar.gz\n"
     ]
    },
    {
     "name": "stderr",
     "output_type": "stream",
     "text": [
      "170500096it [00:06, 27569495.91it/s]                               \n"
     ]
    },
    {
     "name": "stdout",
     "output_type": "stream",
     "text": [
      "Extracting ./Datasets/CIFAR10_data/cifar-10-python.tar.gz to ./Datasets/CIFAR10_data/\n",
      "Files already downloaded and verified\n"
     ]
    }
   ],
   "source": [
    "path = \"./Datasets/CIFAR10_data/\"\n",
    "# path = \"E:/Datasets/CIFAR10_data/\"\n",
    "\n",
    "device = 'cuda'\n",
    "num_workers = 0\n",
    "batch_size = 64\n",
    "\n",
    "transform = transforms.Compose([transforms.ToTensor(), transforms.Normalize((0.5, 0.5, 0.5), (0.5, 0.5, 0.5))])\n",
    "\n",
    "train_data = datasets.CIFAR10(path, train=True, download=True, transform=transform)\n",
    "test_data = datasets.CIFAR10(path, train=False, download=True, transform=transform)\n",
    "\n",
    "train_loader = DataLoader(train_data, batch_size=batch_size, num_workers=num_workers)\n",
    "test_loader = DataLoader(test_data, batch_size=batch_size, num_workers=num_workers)\n",
    "\n",
    "classes = [\"plane\", \"car\", \"bird\", \"cat\", \"deer\", \"dog\", \"frog\", \"horse\", \"ship\", \"truck\"]"
   ]
  },
  {
   "cell_type": "markdown",
   "metadata": {
    "colab_type": "text",
    "id": "tcK9omY08JwT"
   },
   "source": [
    "### Network"
   ]
  },
  {
   "cell_type": "code",
   "execution_count": 0,
   "metadata": {
    "colab": {},
    "colab_type": "code",
    "id": "fAeWfPPV8JwT"
   },
   "outputs": [],
   "source": [
    "class Architecture(nn.Module):\n",
    "    def __init__(self):\n",
    "        super(Architecture, self).__init__()\n",
    "\n",
    "        self.encoder_conv1 = nn.Conv2d(in_channels=3, out_channels=32, kernel_size=3, padding=1)\n",
    "        self.encoder_conv2 = nn.Conv2d(32, 64, 3, padding=1)\n",
    "        self.encoder_conv3 = nn.Conv2d(64, 128, 3, padding=1)\n",
    "        self.pool = nn.MaxPool2d(2, return_indices=True)\n",
    "\n",
    "        self.decoder_conv1 = nn.ConvTranspose2d(128, 64, 3, padding=1)\n",
    "        self.decoder_conv2 = nn.ConvTranspose2d(64, 32, 3, padding=1)\n",
    "        self.decoder_conv3 = nn.ConvTranspose2d(32, 3, 3, padding=1)\n",
    "        self.unpool = nn.MaxUnpool2d(2)\n",
    "\n",
    "        self.encoder_fc1 = nn.Linear(128 * 4 * 4, 256)\n",
    "        self.encoder_fc2 = nn.Linear(256, 64)\n",
    "        self.encoder_fc3 = nn.Linear(64, 10)\n",
    "\n",
    "        self.relu = nn.ReLU()\n",
    "\n",
    "    def forward(self, x):\n",
    "        x = self.relu(self.encoder_conv1(x))\n",
    "        x, indices1 = self.pool(x)\n",
    "\n",
    "        x = self.relu(self.encoder_conv2(x))\n",
    "        x, indices2 = self.pool(x)  # 16->8\n",
    "\n",
    "        x = self.relu(self.encoder_conv3(x))\n",
    "        encoded, indices3 = self.pool(x)\n",
    "\n",
    "        x = self.unpool(encoded, indices3)  # 4->8\n",
    "        x = self.relu(self.decoder_conv1(x))  # 8->8\n",
    "\n",
    "        x = self.unpool(x, indices2)  # 8->16\n",
    "        x = self.relu(self.decoder_conv2(x))  # 16->16\n",
    "\n",
    "        x = self.unpool(x, indices1)  # 16->32  ==>3*32*32\n",
    "        decoded = self.relu(self.decoder_conv3(x))  # 32->32\n",
    "\n",
    "        encoded = encoded.view(-1, 128 * 4 * 4)\n",
    "        encoded = self.relu(self.encoder_fc1(encoded))\n",
    "        encoded = self.relu(self.encoder_fc2(encoded))\n",
    "        encoded = self.encoder_fc3(encoded)\n",
    "\n",
    "        return encoded, decoded\n",
    "\n",
    "model = Architecture()\n",
    "model.to(device)\n",
    "\n",
    "CE = nn.CrossEntropyLoss()\n",
    "MSE = nn.MSELoss()\n",
    "optimizer = optim.Adagrad(model.parameters(), lr=0.02)"
   ]
  },
  {
   "cell_type": "markdown",
   "metadata": {
    "colab_type": "text",
    "id": "hVQHWI7IJfeU"
   },
   "source": [
    "### Training, Testing and train,valid-loss, test-accuracy"
   ]
  },
  {
   "cell_type": "code",
   "execution_count": 10,
   "metadata": {
    "colab": {
     "base_uri": "https://localhost:8080/",
     "height": 1000
    },
    "colab_type": "code",
    "id": "t9sBOPXo8Jwa",
    "outputId": "d8690cda-b21c-4015-8f3e-b352454ec638"
   },
   "outputs": [
    {
     "name": "stdout",
     "output_type": "stream",
     "text": [
      "Epoch: 1 \tTrain MSELoss: 0.17000585839033128  | Train CELoss: 1.607294767074585  | Test Loss: 1.4115949542999267  Test Accuracy: 46.82\n",
      "Epoch: 2 \tTrain MSELoss: 0.15603245544195174  | Train CELoss: 1.1671999194335938  | Test Loss: 1.166077950668335  Test Accuracy: 58.04\n",
      "Epoch: 3 \tTrain MSELoss: 0.15433473869085312  | Train CELoss: 0.9990653388977051  | Test Loss: 1.016939252090454  Test Accuracy: 64.21\n",
      "Epoch: 4 \tTrain MSELoss: 0.15331913217782975  | Train CELoss: 0.8907336264801026  | Test Loss: 0.936101914024353  Test Accuracy: 67.13\n",
      "Epoch: 5 \tTrain MSELoss: 0.15260012696504593  | Train CELoss: 0.8157016567993164  | Test Loss: 0.9033882164955139  Test Accuracy: 68.36\n",
      "Epoch: 6 \tTrain MSELoss: 0.15203326902151107  | Train CELoss: 0.7574558624076844  | Test Loss: 0.8727810871124267  Test Accuracy: 69.78\n",
      "Epoch: 7 \tTrain MSELoss: 0.1515632546710968  | Train CELoss: 0.7097197657775879  | Test Loss: 0.853812021446228  Test Accuracy: 70.75\n",
      "Epoch: 8 \tTrain MSELoss: 0.15113413756132127  | Train CELoss: 0.6679534701538086  | Test Loss: 0.8348380658149719  Test Accuracy: 71.36\n",
      "Epoch: 9 \tTrain MSELoss: 0.15079263302564622  | Train CELoss: 0.630467170829773  | Test Loss: 0.8213111044883729  Test Accuracy: 72.21\n",
      "Epoch: 10 \tTrain MSELoss: 0.15048477767705917  | Train CELoss: 0.5966849378299713  | Test Loss: 0.815740807723999  Test Accuracy: 72.49\n",
      "Epoch: 11 \tTrain MSELoss: 0.1502433119893074  | Train CELoss: 0.5651801131248474  | Test Loss: 0.8074590291023255  Test Accuracy: 72.97\n",
      "Epoch: 12 \tTrain MSELoss: 0.15003760224342347  | Train CELoss: 0.5363537867641449  | Test Loss: 0.810092322731018  Test Accuracy: 73.02\n",
      "Epoch: 13 \tTrain MSELoss: 0.14986187522172928  | Train CELoss: 0.5093629370307923  | Test Loss: 0.8144911497116089  Test Accuracy: 72.96\n",
      "Epoch: 14 \tTrain MSELoss: 0.14971238439798354  | Train CELoss: 0.4836913656425476  | Test Loss: 0.8113709115028381  Test Accuracy: 73.38\n",
      "Epoch: 15 \tTrain MSELoss: 0.14957956175804138  | Train CELoss: 0.4595809386348724  | Test Loss: 0.81762457113266  Test Accuracy: 73.56\n",
      "Epoch: 16 \tTrain MSELoss: 0.14946290991544722  | Train CELoss: 0.4359195988750458  | Test Loss: 0.8226303812980652  Test Accuracy: 73.58\n",
      "Epoch: 17 \tTrain MSELoss: 0.14936010158777238  | Train CELoss: 0.4128686529159546  | Test Loss: 0.8287966268539428  Test Accuracy: 73.88\n",
      "Epoch: 18 \tTrain MSELoss: 0.14925130782842636  | Train CELoss: 0.3910627555656433  | Test Loss: 0.8398165499687195  Test Accuracy: 74.03\n",
      "Epoch: 19 \tTrain MSELoss: 0.1491621182513237  | Train CELoss: 0.370345474524498  | Test Loss: 0.8532117599487304  Test Accuracy: 74.09\n",
      "Epoch: 20 \tTrain MSELoss: 0.14907442240953445  | Train CELoss: 0.3502345015382767  | Test Loss: 0.8643991567611694  Test Accuracy: 74.08\n",
      "Epoch: 21 \tTrain MSELoss: 0.1489900525403023  | Train CELoss: 0.3307782295846939  | Test Loss: 0.8815344541549682  Test Accuracy: 74.02\n",
      "Epoch: 22 \tTrain MSELoss: 0.14891647933244706  | Train CELoss: 0.3118678877830505  | Test Loss: 0.90320625  Test Accuracy: 74.12\n",
      "Epoch: 23 \tTrain MSELoss: 0.14885139269828795  | Train CELoss: 0.29370123053550723  | Test Loss: 0.9209553492546082  Test Accuracy: 74.01\n",
      "Epoch: 24 \tTrain MSELoss: 0.14879159463882446  | Train CELoss: 0.27564912688732146  | Test Loss: 0.9429315010070801  Test Accuracy: 73.98\n",
      "Epoch: 25 \tTrain MSELoss: 0.14873644795417787  | Train CELoss: 0.2583043245124817  | Test Loss: 0.9668571392059326  Test Accuracy: 73.95\n",
      "Epoch: 26 \tTrain MSELoss: 0.1486817523765564  | Train CELoss: 0.24171782442092896  | Test Loss: 0.9899479915618896  Test Accuracy: 73.71\n",
      "Epoch: 27 \tTrain MSELoss: 0.14862842459440231  | Train CELoss: 0.22572596784591675  | Test Loss: 1.0211219833374023  Test Accuracy: 73.66\n",
      "Epoch: 28 \tTrain MSELoss: 0.14857913674116136  | Train CELoss: 0.21025163060188293  | Test Loss: 1.0481681774139404  Test Accuracy: 73.73\n",
      "Epoch: 29 \tTrain MSELoss: 0.14853331724882127  | Train CELoss: 0.19531919018745422  | Test Loss: 1.0804312379837036  Test Accuracy: 73.56\n",
      "Epoch: 30 \tTrain MSELoss: 0.1484888170647621  | Train CELoss: 0.18099605201721192  | Test Loss: 1.1104797918319702  Test Accuracy: 73.42\n",
      "Epoch: 31 \tTrain MSELoss: 0.14844340874433518  | Train CELoss: 0.16713795236110687  | Test Loss: 1.1453008584976196  Test Accuracy: 73.47\n",
      "Epoch: 32 \tTrain MSELoss: 0.1484009502863884  | Train CELoss: 0.1540758938884735  | Test Loss: 1.1799052774429322  Test Accuracy: 73.41\n",
      "Epoch: 33 \tTrain MSELoss: 0.1483624715256691  | Train CELoss: 0.1414360059118271  | Test Loss: 1.2144851581573486  Test Accuracy: 73.38\n",
      "Epoch: 34 \tTrain MSELoss: 0.14832723026514053  | Train CELoss: 0.129491698012352  | Test Loss: 1.2521615804672241  Test Accuracy: 73.36\n",
      "Epoch: 35 \tTrain MSELoss: 0.14828983085870742  | Train CELoss: 0.11836764299869537  | Test Loss: 1.291090337562561  Test Accuracy: 73.31\n",
      "Epoch: 36 \tTrain MSELoss: 0.14825335522413255  | Train CELoss: 0.10771868655204773  | Test Loss: 1.333836125946045  Test Accuracy: 73.27\n",
      "Epoch: 37 \tTrain MSELoss: 0.14821674822807313  | Train CELoss: 0.0979845548582077  | Test Loss: 1.3764619663238526  Test Accuracy: 73.21\n",
      "Epoch: 38 \tTrain MSELoss: 0.14818230480194092  | Train CELoss: 0.08865857617378235  | Test Loss: 1.4205868957519532  Test Accuracy: 73.17\n",
      "Epoch: 39 \tTrain MSELoss: 0.14814898259162904  | Train CELoss: 0.07999228237628937  | Test Loss: 1.4651723663330078  Test Accuracy: 73.13\n",
      "Epoch: 40 \tTrain MSELoss: 0.14811418678283692  | Train CELoss: 0.07220522230625152  | Test Loss: 1.5077774280548095  Test Accuracy: 73.2\n",
      "Epoch: 41 \tTrain MSELoss: 0.14808245161771774  | Train CELoss: 0.06491795902729035  | Test Loss: 1.5517136611938476  Test Accuracy: 73.2\n",
      "Epoch: 42 \tTrain MSELoss: 0.14805133187532424  | Train CELoss: 0.05819688134908676  | Test Loss: 1.597859828567505  Test Accuracy: 73.29\n",
      "Epoch: 43 \tTrain MSELoss: 0.14801712620973587  | Train CELoss: 0.05206353957176209  | Test Loss: 1.6455709594726562  Test Accuracy: 73.12\n",
      "Epoch: 44 \tTrain MSELoss: 0.1479819581055641  | Train CELoss: 0.04648188790559769  | Test Loss: 1.6934751884460448  Test Accuracy: 73.17\n",
      "Epoch: 45 \tTrain MSELoss: 0.1479424285387993  | Train CELoss: 0.04152308060407638  | Test Loss: 1.7357083518981933  Test Accuracy: 73.2\n",
      "Epoch: 46 \tTrain MSELoss: 0.14789142938375474  | Train CELoss: 0.03691309367179871  | Test Loss: 1.7872529678344726  Test Accuracy: 73.1\n",
      "Epoch: 47 \tTrain MSELoss: 0.14783774711847306  | Train CELoss: 0.0329325682425499  | Test Loss: 1.8339259399414063  Test Accuracy: 73.0\n",
      "Epoch: 48 \tTrain MSELoss: 0.1477906522154808  | Train CELoss: 0.029320247042179108  | Test Loss: 1.877800524520874  Test Accuracy: 72.97\n",
      "Epoch: 49 \tTrain MSELoss: 0.14775130759239197  | Train CELoss: 0.026156156399250032  | Test Loss: 1.923321563720703  Test Accuracy: 72.95\n",
      "Epoch: 50 \tTrain MSELoss: 0.14771403163671493  | Train CELoss: 0.023361306064128874  | Test Loss: 1.9632148277282715  Test Accuracy: 72.86\n",
      "Epoch: 51 \tTrain MSELoss: 0.1476785930132866  | Train CELoss: 0.020909473173618316  | Test Loss: 2.0048910846710206  Test Accuracy: 72.76\n",
      "Epoch: 52 \tTrain MSELoss: 0.14764406579256056  | Train CELoss: 0.01883499823331833  | Test Loss: 2.039362487792969  Test Accuracy: 72.72\n",
      "Epoch: 53 \tTrain MSELoss: 0.14761141671419142  | Train CELoss: 0.016993086824417115  | Test Loss: 2.074494930648804  Test Accuracy: 72.7\n",
      "Epoch: 54 \tTrain MSELoss: 0.1475801674771309  | Train CELoss: 0.01539595351934433  | Test Loss: 2.1124151733398437  Test Accuracy: 72.63\n",
      "Epoch: 55 \tTrain MSELoss: 0.1475500442504883  | Train CELoss: 0.013964105844497681  | Test Loss: 2.1464406246185304  Test Accuracy: 72.53\n",
      "Epoch: 56 \tTrain MSELoss: 0.14752105192899703  | Train CELoss: 0.012715336859226227  | Test Loss: 2.1810974365234377  Test Accuracy: 72.67\n",
      "Epoch: 57 \tTrain MSELoss: 0.14749389107465743  | Train CELoss: 0.01164776780128479  | Test Loss: 2.2129571727752686  Test Accuracy: 72.57\n",
      "Epoch: 58 \tTrain MSELoss: 0.14746670127153397  | Train CELoss: 0.010706118850708008  | Test Loss: 2.2423187866210936  Test Accuracy: 72.61\n",
      "Epoch: 59 \tTrain MSELoss: 0.14743972890853882  | Train CELoss: 0.009891049394607544  | Test Loss: 2.2716040687561034  Test Accuracy: 72.61\n",
      "Epoch: 60 \tTrain MSELoss: 0.1474115245079994  | Train CELoss: 0.009150220611095428  | Test Loss: 2.299216524887085  Test Accuracy: 72.65\n",
      "Epoch: 61 \tTrain MSELoss: 0.14738318440437317  | Train CELoss: 0.00848742730140686  | Test Loss: 2.3256577255249025  Test Accuracy: 72.69\n",
      "Epoch: 62 \tTrain MSELoss: 0.14735483738660812  | Train CELoss: 0.007893353481292725  | Test Loss: 2.3505158630371095  Test Accuracy: 72.68\n",
      "Epoch: 63 \tTrain MSELoss: 0.14732709286689757  | Train CELoss: 0.007340260660648346  | Test Loss: 2.3768577018737793  Test Accuracy: 72.57\n",
      "Epoch: 64 \tTrain MSELoss: 0.14729991563558578  | Train CELoss: 0.00685537379026413  | Test Loss: 2.3991331619262697  Test Accuracy: 72.6\n",
      "Epoch: 65 \tTrain MSELoss: 0.1472735369849205  | Train CELoss: 0.006390075488090515  | Test Loss: 2.4230860191345216  Test Accuracy: 72.67\n",
      "Epoch: 66 \tTrain MSELoss: 0.14724754180192948  | Train CELoss: 0.00596933557510376  | Test Loss: 2.445688547515869  Test Accuracy: 72.7\n",
      "Epoch: 67 \tTrain MSELoss: 0.14722094436645508  | Train CELoss: 0.005589075212478638  | Test Loss: 2.4668270408630373  Test Accuracy: 72.65\n",
      "Epoch: 68 \tTrain MSELoss: 0.14719309731245042  | Train CELoss: 0.005255230357646942  | Test Loss: 2.48772018661499  Test Accuracy: 72.69\n",
      "Epoch: 69 \tTrain MSELoss: 0.14716648622512818  | Train CELoss: 0.004942071158885956  | Test Loss: 2.50691675491333  Test Accuracy: 72.71\n",
      "Epoch: 70 \tTrain MSELoss: 0.1471407734847069  | Train CELoss: 0.004664154231548309  | Test Loss: 2.526505847167969  Test Accuracy: 72.7\n",
      "Epoch: 71 \tTrain MSELoss: 0.14711608832359313  | Train CELoss: 0.004407905514240265  | Test Loss: 2.5451742401123045  Test Accuracy: 72.73\n",
      "Epoch: 72 \tTrain MSELoss: 0.14709245389699935  | Train CELoss: 0.004178430829048157  | Test Loss: 2.5630963302612306  Test Accuracy: 72.65\n",
      "Epoch: 73 \tTrain MSELoss: 0.14706949660301208  | Train CELoss: 0.00396398223400116  | Test Loss: 2.580815400695801  Test Accuracy: 72.69\n",
      "Epoch: 74 \tTrain MSELoss: 0.14704564962148667  | Train CELoss: 0.003767568051815033  | Test Loss: 2.5972671798706055  Test Accuracy: 72.8\n",
      "Epoch: 75 \tTrain MSELoss: 0.14702217273950577  | Train CELoss: 0.003586363923549652  | Test Loss: 2.613956652069092  Test Accuracy: 72.84\n",
      "Epoch: 76 \tTrain MSELoss: 0.1469999289536476  | Train CELoss: 0.003417082397937775  | Test Loss: 2.629938200378418  Test Accuracy: 72.81\n",
      "Epoch: 77 \tTrain MSELoss: 0.14697962272644044  | Train CELoss: 0.0032618995785713197  | Test Loss: 2.644854857635498  Test Accuracy: 72.8\n",
      "Epoch: 78 \tTrain MSELoss: 0.14696103840112687  | Train CELoss: 0.0031168082880973814  | Test Loss: 2.659495251464844  Test Accuracy: 72.79\n",
      "Epoch: 79 \tTrain MSELoss: 0.1469433957695961  | Train CELoss: 0.0029809533405303957  | Test Loss: 2.674049521636963  Test Accuracy: 72.81\n",
      "Epoch: 80 \tTrain MSELoss: 0.1469265584015846  | Train CELoss: 0.0028543364310264587  | Test Loss: 2.6881202995300293  Test Accuracy: 72.8\n",
      "Epoch: 81 \tTrain MSELoss: 0.1469109785580635  | Train CELoss: 0.002734453523159027  | Test Loss: 2.7022571464538574  Test Accuracy: 72.81\n",
      "Epoch: 82 \tTrain MSELoss: 0.14689573161840438  | Train CELoss: 0.002623034598827362  | Test Loss: 2.7162148147583007  Test Accuracy: 72.88\n",
      "Epoch: 83 \tTrain MSELoss: 0.14688088749170303  | Train CELoss: 0.0025194245195388795  | Test Loss: 2.7299560997009276  Test Accuracy: 72.93\n",
      "Epoch: 84 \tTrain MSELoss: 0.14686644542932512  | Train CELoss: 0.002416903395652771  | Test Loss: 2.7426157791137697  Test Accuracy: 72.91\n",
      "Epoch: 85 \tTrain MSELoss: 0.14685275863647462  | Train CELoss: 0.002319447331428528  | Test Loss: 2.7586956352233885  Test Accuracy: 72.87\n",
      "Epoch: 86 \tTrain MSELoss: 0.14683890739679337  | Train CELoss: 0.002228661527633667  | Test Loss: 2.7728592613220213  Test Accuracy: 72.85\n",
      "Epoch: 87 \tTrain MSELoss: 0.1468252469944954  | Train CELoss: 0.0021444899129867555  | Test Loss: 2.787688829803467  Test Accuracy: 72.83\n",
      "Epoch: 88 \tTrain MSELoss: 0.1468112254166603  | Train CELoss: 0.0020675892305374146  | Test Loss: 2.8020461837768553  Test Accuracy: 72.79\n",
      "Epoch: 89 \tTrain MSELoss: 0.14679736016511918  | Train CELoss: 0.001992048008441925  | Test Loss: 2.815121346282959  Test Accuracy: 72.76\n",
      "Epoch: 90 \tTrain MSELoss: 0.14678358674287795  | Train CELoss: 0.0019203827023506165  | Test Loss: 2.827713415527344  Test Accuracy: 72.72\n",
      "Epoch: 91 \tTrain MSELoss: 0.1467703351044655  | Train CELoss: 0.0018531061148643493  | Test Loss: 2.8400031867980955  Test Accuracy: 72.73\n",
      "Epoch: 92 \tTrain MSELoss: 0.14675718195915222  | Train CELoss: 0.0017898185443878175  | Test Loss: 2.8514193840026856  Test Accuracy: 72.75\n",
      "Epoch: 93 \tTrain MSELoss: 0.14674436148881911  | Train CELoss: 0.0017332310485839843  | Test Loss: 2.862816940307617  Test Accuracy: 72.77\n",
      "Epoch: 94 \tTrain MSELoss: 0.14673126233816147  | Train CELoss: 0.001676971378326416  | Test Loss: 2.873605827331543  Test Accuracy: 72.78\n",
      "Epoch: 95 \tTrain MSELoss: 0.14671828397512435  | Train CELoss: 0.0016266438603401185  | Test Loss: 2.8836298789978025  Test Accuracy: 72.79\n",
      "Epoch: 96 \tTrain MSELoss: 0.14670467116355895  | Train CELoss: 0.0015767016482353211  | Test Loss: 2.893672966766357  Test Accuracy: 72.81\n",
      "Epoch: 97 \tTrain MSELoss: 0.14669068788766862  | Train CELoss: 0.0015306668305397034  | Test Loss: 2.903139695739746  Test Accuracy: 72.8\n",
      "Epoch: 98 \tTrain MSELoss: 0.14667691595077514  | Train CELoss: 0.001486998634338379  | Test Loss: 2.9127234619140623  Test Accuracy: 72.87\n",
      "Epoch: 99 \tTrain MSELoss: 0.1466628249335289  | Train CELoss: 0.0014460962772369385  | Test Loss: 2.9225175750732424  Test Accuracy: 72.87\n",
      "Epoch: 100 \tTrain MSELoss: 0.1466482208418846  | Train CELoss: 0.0014068090772628784  | Test Loss: 2.9318404541015624  Test Accuracy: 72.87\n"
     ]
    }
   ],
   "source": [
    "train_mse_loss_plt = []\n",
    "train_ce_loss_plt = []\n",
    "test_accuracy_plt = []\n",
    "test_loss_plt = []\n",
    "\n",
    "n_epochs = 100\n",
    "for epoch in range(n_epochs):\n",
    "    train_ce_loss = 0\n",
    "    train_mse_loss = 0\n",
    "    test_loss = 0\n",
    "\n",
    "    model.train()\n",
    "    for images, labels in train_loader:\n",
    "        images, labels = images.to(device), labels.to(device)\n",
    "\n",
    "        optimizer.zero_grad()\n",
    "        en, de = model(images)\n",
    "\n",
    "        classification_loss = CE(en, labels)\n",
    "        reconstruction_loss = MSE(de, images)\n",
    "\n",
    "        classification_loss.backward(retain_graph=True)\n",
    "        reconstruction_loss.backward(retain_graph=True)\n",
    "\n",
    "        optimizer.step()\n",
    "\n",
    "        train_ce_loss += classification_loss.item() * images.size(0)\n",
    "        train_mse_loss += reconstruction_loss.item() * images.size(0)\n",
    "\n",
    "    train_ce_loss /= len(train_loader.dataset)\n",
    "    train_mse_loss /= len(train_loader.dataset)\n",
    "    \n",
    "    train_mse_loss_plt.append(train_mse_loss)\n",
    "    train_ce_loss_plt.append(train_ce_loss)\n",
    "\n",
    "    class_correct = list(0. for i in range(10))\n",
    "    class_total = list(0. for i in range(10))\n",
    "\n",
    "    model.eval()\n",
    "    with torch.no_grad():\n",
    "        for data, target in test_loader:\n",
    "            data, target = data.cuda(), target.cuda()\n",
    "            en, de = model(data)\n",
    "            loss = CE(en, target)\n",
    "\n",
    "            test_loss += loss.item() * data.size(0)\n",
    "            _, pred = torch.max(en, 1)\n",
    "            correct = np.squeeze(pred.eq(target.data.view_as(pred)))\n",
    "            for i in range(len(target)):\n",
    "                label = target.data[i]\n",
    "                class_correct[label] += correct[i].item()\n",
    "                class_total[label] += 1\n",
    "\n",
    "    test_loss = test_loss / len(test_loader.dataset)\n",
    "    test_loss_plt.append(test_loss)\n",
    "    test_accuracy = 100. * np.sum(class_correct) / np.sum(class_total)\n",
    "    test_accuracy_plt.append(test_accuracy)\n",
    "    print('Epoch:',(epoch + 1),'\\tTrain MSELoss:',train_mse_loss,' | Train CELoss:', train_ce_loss,' | Test Loss:',test_loss,' Test Accuracy:', test_accuracy)"
   ]
  },
  {
   "cell_type": "markdown",
   "metadata": {
    "colab_type": "text",
    "id": "yNNI7hPGJfeW"
   },
   "source": [
    "### Saving"
   ]
  },
  {
   "cell_type": "code",
   "execution_count": 0,
   "metadata": {
    "colab": {},
    "colab_type": "code",
    "id": "syHe9j0iDTgt"
   },
   "outputs": [],
   "source": [
    "joblib.dump(train_ce_loss_plt, 'train_ce_loss_plt_q1.sav')\n",
    "joblib.dump(train_mse_loss_plt, 'train_mse_loss_plt_q1.sav')\n",
    "joblib.dump(test_loss_plt, 'test_loss_plt_q1.sav')\n",
    "joblib.dump(test_accuracy_plt, 'test_accuracy_plt_q1.sav')\n",
    "torch.save(model.state_dict(), \"model_q1.pt\")"
   ]
  },
  {
   "cell_type": "code",
   "execution_count": 13,
   "metadata": {
    "colab": {
     "base_uri": "https://localhost:8080/",
     "height": 282
    },
    "colab_type": "code",
    "id": "rvGSNzFvJji0",
    "outputId": "b943be32-c6df-4870-a468-aa93caed2e6d"
   },
   "outputs": [
    {
     "data": {
      "text/plain": [
       "[<matplotlib.lines.Line2D at 0x7f6e550931d0>]"
      ]
     },
     "execution_count": 13,
     "metadata": {
      "tags": []
     },
     "output_type": "execute_result"
    },
    {
     "data": {
      "image/png": "[encoded data removed]",
      "text/plain": [
       "<Figure size 432x288 with 1 Axes>"
      ]
     },
     "metadata": {
      "tags": []
     },
     "output_type": "display_data"
    }
   ],
   "source": [
    "plt.plot(np.arange(len(train_ce_loss_plt)),train_ce_loss_plt)"
   ]
  },
  {
   "cell_type": "code",
   "execution_count": 14,
   "metadata": {
    "colab": {
     "base_uri": "https://localhost:8080/",
     "height": 282
    },
    "colab_type": "code",
    "id": "fqnHn_32XUXp",
    "outputId": "b8bc54f3-4741-4a15-b034-af20f58df849"
   },
   "outputs": [
    {
     "data": {
      "text/plain": [
       "[<matplotlib.lines.Line2D at 0x7f6e5506ea58>]"
      ]
     },
     "execution_count": 14,
     "metadata": {
      "tags": []
     },
     "output_type": "execute_result"
    },
    {
     "data": {
      "image/png": "[encoded data removed]",
      "text/plain": [
       "<Figure size 432x288 with 1 Axes>"
      ]
     },
     "metadata": {
      "tags": []
     },
     "output_type": "display_data"
    }
   ],
   "source": [
    "plt.plot(np.arange(len(train_mse_loss_plt)),train_mse_loss_plt)"
   ]
  },
  {
   "cell_type": "code",
   "execution_count": 15,
   "metadata": {
    "colab": {
     "base_uri": "https://localhost:8080/",
     "height": 283
    },
    "colab_type": "code",
    "id": "uHPEzwBQXhF6",
    "outputId": "92734d68-cdaa-4f50-d392-5c4223e9aeaf"
   },
   "outputs": [
    {
     "data": {
      "text/plain": [
       "[<matplotlib.lines.Line2D at 0x7f6e5504b7b8>]"
      ]
     },
     "execution_count": 15,
     "metadata": {
      "tags": []
     },
     "output_type": "execute_result"
    },
    {
     "data": {
      "image/png": "[encoded data removed]",
      "text/plain": [
       "<Figure size 432x288 with 1 Axes>"
      ]
     },
     "metadata": {
      "tags": []
     },
     "output_type": "display_data"
    }
   ],
   "source": [
    "plt.plot(np.arange(len(test_accuracy_plt)),test_accuracy_plt)"
   ]
  },
  {
   "cell_type": "code",
   "execution_count": 16,
   "metadata": {
    "colab": {
     "base_uri": "https://localhost:8080/",
     "height": 283
    },
    "colab_type": "code",
    "id": "bR832f-lXofO",
    "outputId": "5eab412f-aeff-49ed-9072-894b732e4cac"
   },
   "outputs": [
    {
     "data": {
      "text/plain": [
       "[<matplotlib.lines.Line2D at 0x7f6e54a52e48>]"
      ]
     },
     "execution_count": 16,
     "metadata": {
      "tags": []
     },
     "output_type": "execute_result"
    },
    {
     "data": {
      "image/png": "[encoded data removed]",
      "text/plain": [
       "<Figure size 432x288 with 1 Axes>"
      ]
     },
     "metadata": {
      "tags": []
     },
     "output_type": "display_data"
    }
   ],
   "source": [
    "plt.plot(np.arange(len(test_loss_plt)),test_loss_plt)"
   ]
  },
  {
   "cell_type": "code",
   "execution_count": null,
   "metadata": {},
   "outputs": [],
   "source": []
  },
  {
   "cell_type": "code",
   "execution_count": 29,
   "metadata": {},
   "outputs": [],
   "source": [
    "train_ce_loss_plt = joblib.load('train_ce_loss_plt_q1.sav')\n",
    "train_mse_loss_plt = joblib.load('train_mse_loss_plt_q1.sav')\n",
    "test_accuracy_plt = joblib.load('test_accuracy_plt_q1.sav')\n",
    "test_loss_plt = joblib.load('test_loss_plt_q1.sav')"
   ]
  },
  {
   "cell_type": "code",
   "execution_count": 30,
   "metadata": {},
   "outputs": [
    {
     "data": {
      "image/png": "[encoded data removed]",
      "text/plain": [
       "<Figure size 432x288 with 1 Axes>"
      ]
     },
     "metadata": {
      "needs_background": "light"
     },
     "output_type": "display_data"
    }
   ],
   "source": [
    "plt.title('Training Classification loss')\n",
    "plt.plot(np.arange(len(train_ce_loss_plt)),train_ce_loss_plt,label = 'Train CE Loss')\n",
    "plt.xlabel('Epochs')\n",
    "plt.ylabel('Loss')\n",
    "plt.legend()\n",
    "plt.show()"
   ]
  },
  {
   "cell_type": "code",
   "execution_count": 31,
   "metadata": {},
   "outputs": [
    {
     "data": {
      "image/png": "[encoded data removed]",
      "text/plain": [
       "<Figure size 432x288 with 1 Axes>"
      ]
     },
     "metadata": {
      "needs_background": "light"
     },
     "output_type": "display_data"
    }
   ],
   "source": [
    "plt.title('Training Reconstruction loss')\n",
    "plt.plot(np.arange(len(train_mse_loss_plt)),train_mse_loss_plt,color='b',label = 'Train MSE Loss')\n",
    "plt.xlabel('Epochs')\n",
    "plt.ylabel('Loss')\n",
    "plt.legend()\n",
    "plt.show()"
   ]
  },
  {
   "cell_type": "code",
   "execution_count": 40,
   "metadata": {},
   "outputs": [
    {
     "data": {
      "image/png": "[encoded data removed]",
      "text/plain": [
       "<Figure size 432x288 with 1 Axes>"
      ]
     },
     "metadata": {
      "needs_background": "light"
     },
     "output_type": "display_data"
    }
   ],
   "source": [
    "plt.title('Test classification loss')\n",
    "plt.plot(np.arange(len(test_loss_plt)),test_loss_plt,color='r',label = 'Test CE Loss')\n",
    "plt.xlabel('Epochs')\n",
    "plt.ylabel('Loss')\n",
    "plt.legend()\n",
    "plt.show()"
   ]
  },
  {
   "cell_type": "code",
   "execution_count": 38,
   "metadata": {},
   "outputs": [
    {
     "data": {
      "image/png": "[encoded data removed]",
      "text/plain": [
       "<Figure size 432x288 with 1 Axes>"
      ]
     },
     "metadata": {
      "needs_background": "light"
     },
     "output_type": "display_data"
    }
   ],
   "source": [
    "plt.title('Test Accuracy')\n",
    "plt.plot(np.arange(len(test_accuracy_plt)),test_accuracy_plt,color='g',label = 'Test Accuracy')\n",
    "plt.xlabel('Epochs')\n",
    "plt.ylabel('Accuracy')\n",
    "plt.legend()\n",
    "plt.show()"
   ]
  }
 ],
 "metadata": {
  "accelerator": "GPU",
  "colab": {
   "collapsed_sections": [],
   "name": "AML_A4_Q1.ipynb",
   "provenance": [],
   "toc_visible": true
  },
  "kernelspec": {
   "display_name": "Python 3",
   "language": "python",
   "name": "python3"
  },
  "language_info": {
   "codemirror_mode": {
    "name": "ipython",
    "version": 3
   },
   "file_extension": ".py",
   "mimetype": "text/x-python",
   "name": "python",
   "nbconvert_exporter": "python",
   "pygments_lexer": "ipython3",
   "version": "3.7.1"
  }
 },
 "nbformat": 4,
 "nbformat_minor": 1
}
