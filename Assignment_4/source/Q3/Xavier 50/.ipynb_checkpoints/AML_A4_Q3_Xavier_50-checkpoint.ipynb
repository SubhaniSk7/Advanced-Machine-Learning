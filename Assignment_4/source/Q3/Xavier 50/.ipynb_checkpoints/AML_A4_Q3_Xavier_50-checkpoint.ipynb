{
 "cells": [
  {
   "cell_type": "code",
   "execution_count": 0,
   "metadata": {
    "colab": {},
    "colab_type": "code",
    "id": "ZShQLuGyVT9K"
   },
   "outputs": [],
   "source": [
    "import torch\n",
    "from torchvision import datasets, transforms\n",
    "import torch.nn as nn\n",
    "import torch.nn.functional as F\n",
    "import torch.optim as optim\n",
    "from torch.utils.data import DataLoader\n",
    "from torch.utils.data.sampler import SubsetRandomSampler\n",
    "import matplotlib.pyplot as plt\n",
    "import numpy as np\n",
    "import joblib\n",
    "from torch.autograd import Variable"
   ]
  },
  {
   "cell_type": "markdown",
   "metadata": {
    "colab_type": "text",
    "id": "mVUE3Y4HVT9M"
   },
   "source": [
    "### Data loading"
   ]
  },
  {
   "cell_type": "code",
   "execution_count": 2,
   "metadata": {
    "colab": {
     "base_uri": "https://localhost:8080/",
     "height": 87
    },
    "colab_type": "code",
    "id": "EAf9gYX8VT9N",
    "outputId": "720ccbff-681e-4704-d238-6c2a694e711b"
   },
   "outputs": [
    {
     "name": "stderr",
     "output_type": "stream",
     "text": [
      "  0%|          | 0/2640397119 [00:00<?, ?it/s]"
     ]
    },
    {
     "name": "stdout",
     "output_type": "stream",
     "text": [
      "Downloading http://ai.stanford.edu/~acoates/stl10/stl10_binary.tar.gz to ./Datasets/STL10_data/stl10_binary.tar.gz\n"
     ]
    },
    {
     "name": "stderr",
     "output_type": "stream",
     "text": [
      "100%|█████████▉| 2638757888/2640397119 [00:40<00:00, 68580501.59it/s]"
     ]
    },
    {
     "name": "stdout",
     "output_type": "stream",
     "text": [
      "Extracting ./Datasets/STL10_data/stl10_binary.tar.gz to ./Datasets/STL10_data/\n"
     ]
    },
    {
     "name": "stderr",
     "output_type": "stream",
     "text": [
      "\r",
      "2640404480it [01:00, 68580501.59it/s]                                "
     ]
    },
    {
     "name": "stdout",
     "output_type": "stream",
     "text": [
      "Files already downloaded and verified\n"
     ]
    }
   ],
   "source": [
    "path = \"./Datasets/STL10_data/\"\n",
    "# path = \"E:/Datasets/STL10_data/\"\n",
    "\n",
    "device = 'cuda'\n",
    "num_workers = 0\n",
    "batch_size = 64\n",
    "\n",
    "transform = transforms.Compose([transforms.ToTensor(), transforms.Normalize((0.5, 0.5, 0.5), (0.5, 0.5, 0.5))])\n",
    "\n",
    "train_data = datasets.STL10(path, split='train', download=True, transform=transform)\n",
    "test_data = datasets.STL10(path, split='test', download=True, transform=transform)\n",
    "\n",
    "train_loader = DataLoader(train_data, batch_size=batch_size, num_workers=num_workers)\n",
    "test_loader = DataLoader(test_data, batch_size=batch_size, num_workers=num_workers)\n",
    "# classes = [\"plane\", \"car\", \"bird\", \"cat\", \"deer\", \"dog\", \"frog\", \"horse\", \"ship\", \"truck\"]"
   ]
  },
  {
   "cell_type": "markdown",
   "metadata": {
    "colab_type": "text",
    "id": "rC3AVpplVT9P"
   },
   "source": [
    "### Network"
   ]
  },
  {
   "cell_type": "code",
   "execution_count": 0,
   "metadata": {
    "colab": {},
    "colab_type": "code",
    "id": "A0LpB7EhVT9Q"
   },
   "outputs": [],
   "source": [
    "device='cuda'\n",
    "class Architecture(nn.Module):\n",
    "\n",
    "    def __init__(self):\n",
    "        super(Architecture, self).__init__()\n",
    "\n",
    "#         torch.nn.init.xavier_normal_(tensor, gain=1.0)\n",
    "        # init.xavier_uniform(self.lin1.weight, gain=init.calculate_gain('relu'))\n",
    "        \n",
    "        self.b_1 = nn.Sequential(nn.Conv2d(3, 16, kernel_size=3, padding=1),\n",
    "                                nn.BatchNorm2d(16),\n",
    "                                nn.ReLU())\n",
    "        \n",
    "        self.b_2 = nn.Sequential(nn.Conv2d(16, 32, kernel_size=3, padding=1),\n",
    "                                nn.BatchNorm2d(32),\n",
    "                                nn.ReLU())\n",
    "        \n",
    "        self.b_3 = nn.Sequential(nn.Conv2d(32, 32, kernel_size=3, padding=1),\n",
    "                                nn.BatchNorm2d(32),\n",
    "                                nn.ReLU())\n",
    "        \n",
    "        self.b_4 = nn.Sequential(nn.Conv2d(32, 16, kernel_size=3, padding=1),\n",
    "                                nn.BatchNorm2d(16),\n",
    "                                nn.ReLU())\n",
    "        \n",
    "        self.b_5 = nn.Sequential(nn.Conv2d(16, 3, kernel_size=3, padding=1),\n",
    "                                nn.BatchNorm2d(3),\n",
    "                                nn.ReLU())\n",
    "        \n",
    "        self.pool = nn.MaxPool2d(2)\n",
    "\n",
    "        self.fc_1 = nn.Linear(3 * 3 * 3, 256)\n",
    "        self.fc_2 = nn.Linear(256, 10)\n",
    "\n",
    "        self.relu = nn.ReLU()\n",
    "\n",
    "    def forward(self, x):\n",
    "        x = self.pool(self.b_1(x))\n",
    "        x = self.pool(self.b_2(x))\n",
    "        x = self.pool(self.b_3(x))\n",
    "        x = self.pool(self.b_4(x))\n",
    "        x = self.pool(self.b_5(x))\n",
    "        # print(x.shape)\n",
    "        \n",
    "        x = x.view(-1, 3 * 3 * 3)\n",
    "        x = self.relu(self.fc_1(x))\n",
    "        # x = self.relu(self.fc_2(x))\n",
    "        x = self.fc_2(x)\n",
    "        return x\n",
    "\n",
    "def init_weights(m):\n",
    "    if isinstance(m, nn.Conv2d):\n",
    "        torch.nn.init.xavier_normal_(m.weight.data)\n",
    "    if(isinstance(m, nn.Linear)):\n",
    "        torch.nn.init.xavier_normal_(m.weight.data)\n",
    "        \n",
    "model = Architecture()\n",
    "model.apply(init_weights)\n",
    "\n",
    "model.to(device)\n",
    "\n",
    "CE = nn.CrossEntropyLoss()\n",
    "optimizer = optim.Adagrad(model.parameters(), lr=0.02)"
   ]
  },
  {
   "cell_type": "code",
   "execution_count": 19,
   "metadata": {
    "colab": {
     "base_uri": "https://localhost:8080/",
     "height": 857
    },
    "colab_type": "code",
    "id": "mm7LDkMrVT9S",
    "outputId": "181c818d-d906-41e8-9961-a7640b6ada46"
   },
   "outputs": [
    {
     "name": "stdout",
     "output_type": "stream",
     "text": [
      "Epoch: 1 \tTrain Loss: 1.7909284591674806  | Test Loss: 2.012082841873169  | Test Acc.: 25.3125\n",
      "Epoch: 2 \tTrain Loss: 1.5430554256439208  | Test Loss: 1.8284044694900512  | Test Acc.: 30.7875\n",
      "Epoch: 3 \tTrain Loss: 1.43858510761261  | Test Loss: 1.8386300745010375  | Test Acc.: 33.9375\n",
      "Epoch: 4 \tTrain Loss: 1.3509584804534913  | Test Loss: 1.757804362297058  | Test Acc.: 36.2125\n",
      "Epoch: 5 \tTrain Loss: 1.2684492235183715  | Test Loss: 1.549607361793518  | Test Acc.: 42.2125\n",
      "Epoch: 6 \tTrain Loss: 1.1921829881668091  | Test Loss: 1.6683519296646119  | Test Acc.: 39.175\n",
      "Epoch: 7 \tTrain Loss: 1.1244520864486693  | Test Loss: 1.4777219104766846  | Test Acc.: 45.1125\n",
      "Epoch: 8 \tTrain Loss: 1.054336957168579  | Test Loss: 1.4358719816207886  | Test Acc.: 47.425\n",
      "Epoch: 9 \tTrain Loss: 0.985779704618454  | Test Loss: 1.4177515144348145  | Test Acc.: 48.5125\n",
      "Epoch: 10 \tTrain Loss: 0.9227268201828003  | Test Loss: 1.5056050968170167  | Test Acc.: 47.7125\n",
      "Epoch: 11 \tTrain Loss: 0.8653335541725159  | Test Loss: 1.4896741428375244  | Test Acc.: 48.475\n",
      "Epoch: 12 \tTrain Loss: 0.8061677244186402  | Test Loss: 1.5250482969284058  | Test Acc.: 48.6125\n",
      "Epoch: 13 \tTrain Loss: 0.7472932862281799  | Test Loss: 1.5666089696884156  | Test Acc.: 48.9375\n",
      "Epoch: 14 \tTrain Loss: 0.6941135020732879  | Test Loss: 1.5902377004623414  | Test Acc.: 48.9\n",
      "Epoch: 15 \tTrain Loss: 0.6461334029197693  | Test Loss: 1.665785798072815  | Test Acc.: 48.7\n",
      "Epoch: 16 \tTrain Loss: 0.5937780011177063  | Test Loss: 1.7278216104507447  | Test Acc.: 48.7875\n",
      "Epoch: 17 \tTrain Loss: 0.5498083745479584  | Test Loss: 1.7535222530364991  | Test Acc.: 48.9625\n",
      "Epoch: 18 \tTrain Loss: 0.5011838882923126  | Test Loss: 1.8298695974349977  | Test Acc.: 48.225\n",
      "Epoch: 19 \tTrain Loss: 0.4612212847709656  | Test Loss: 1.8763217754364014  | Test Acc.: 48.3875\n",
      "Epoch: 20 \tTrain Loss: 0.4200799117565155  | Test Loss: 1.9967726049423218  | Test Acc.: 47.525\n",
      "Epoch: 21 \tTrain Loss: 0.38662008714675905  | Test Loss: 2.0126417713165283  | Test Acc.: 47.6625\n",
      "Epoch: 22 \tTrain Loss: 0.35382128257751466  | Test Loss: 2.1115335750579836  | Test Acc.: 47.7625\n",
      "Epoch: 23 \tTrain Loss: 0.3207360773086548  | Test Loss: 2.1920223007202146  | Test Acc.: 47.125\n",
      "Epoch: 24 \tTrain Loss: 0.2839209297180176  | Test Loss: 2.2858265075683595  | Test Acc.: 47.2875\n",
      "Epoch: 25 \tTrain Loss: 0.2533397713899612  | Test Loss: 2.269170670509338  | Test Acc.: 47.65\n",
      "Epoch: 26 \tTrain Loss: 0.22357224259376526  | Test Loss: 2.4006355295181274  | Test Acc.: 47.175\n",
      "Epoch: 27 \tTrain Loss: 0.19247968368530274  | Test Loss: 2.486330975532532  | Test Acc.: 47.225\n",
      "Epoch: 28 \tTrain Loss: 0.1732405406475067  | Test Loss: 2.5549127349853515  | Test Acc.: 47.0875\n",
      "Epoch: 29 \tTrain Loss: 0.1513436951637268  | Test Loss: 2.620103632926941  | Test Acc.: 47.45\n",
      "Epoch: 30 \tTrain Loss: 0.13031510252952574  | Test Loss: 2.6788071422576905  | Test Acc.: 47.4375\n",
      "Epoch: 31 \tTrain Loss: 0.1117017231464386  | Test Loss: 2.7958978118896485  | Test Acc.: 47.375\n",
      "Epoch: 32 \tTrain Loss: 0.09684035077095032  | Test Loss: 2.849751887321472  | Test Acc.: 47.45\n",
      "Epoch: 33 \tTrain Loss: 0.08455066885948181  | Test Loss: 2.9122264976501464  | Test Acc.: 47.7875\n",
      "Epoch: 34 \tTrain Loss: 0.07495149173736572  | Test Loss: 2.996843318939209  | Test Acc.: 47.7125\n",
      "Epoch: 35 \tTrain Loss: 0.06570063335895539  | Test Loss: 3.059748327255249  | Test Acc.: 47.6875\n",
      "Epoch: 36 \tTrain Loss: 0.05741419339179993  | Test Loss: 3.121151020050049  | Test Acc.: 48.125\n",
      "Epoch: 37 \tTrain Loss: 0.05104809770584107  | Test Loss: 3.193367149353027  | Test Acc.: 47.8\n",
      "Epoch: 38 \tTrain Loss: 0.04569948098659515  | Test Loss: 3.2549770698547364  | Test Acc.: 47.85\n",
      "Epoch: 39 \tTrain Loss: 0.039793883299827575  | Test Loss: 3.3262782096862793  | Test Acc.: 47.7125\n",
      "Epoch: 40 \tTrain Loss: 0.03580051906108856  | Test Loss: 3.3717199821472166  | Test Acc.: 47.75\n",
      "Epoch: 41 \tTrain Loss: 0.0323753470659256  | Test Loss: 3.4338718318939208  | Test Acc.: 47.6625\n",
      "Epoch: 42 \tTrain Loss: 0.028733698964118957  | Test Loss: 3.48868257522583  | Test Acc.: 47.6375\n",
      "Epoch: 43 \tTrain Loss: 0.025924853134155275  | Test Loss: 3.530489274978638  | Test Acc.: 47.675\n",
      "Epoch: 44 \tTrain Loss: 0.023211832809448243  | Test Loss: 3.57204093170166  | Test Acc.: 47.9\n",
      "Epoch: 45 \tTrain Loss: 0.02117211400270462  | Test Loss: 3.626126239776611  | Test Acc.: 47.8375\n",
      "Epoch: 46 \tTrain Loss: 0.019374645936489104  | Test Loss: 3.669120325088501  | Test Acc.: 47.875\n",
      "Epoch: 47 \tTrain Loss: 0.017783722138404845  | Test Loss: 3.711242296218872  | Test Acc.: 47.8\n",
      "Epoch: 48 \tTrain Loss: 0.016391778218746184  | Test Loss: 3.7544241561889646  | Test Acc.: 47.8125\n",
      "Epoch: 49 \tTrain Loss: 0.015219042992591858  | Test Loss: 3.792560390472412  | Test Acc.: 47.7\n",
      "Epoch: 50 \tTrain Loss: 0.014126333379745483  | Test Loss: 3.827983757019043  | Test Acc.: 47.8125\n"
     ]
    }
   ],
   "source": [
    "train_loss_plt, valid_loss_plt = [], []\n",
    "test_accuracy_plt = []\n",
    "test_loss_plt = []\n",
    "n_epochs = 50\n",
    "for epoch in range(n_epochs):\n",
    "    train_loss, test_loss = 0, 0\n",
    "    model.train()\n",
    "    for images, labels in train_loader:\n",
    "        images, labels = images.to(device), labels.to(device)\n",
    "\n",
    "        optimizer.zero_grad()\n",
    "        output = model(images)\n",
    "        loss = CE(output, labels)\n",
    "        loss.backward()\n",
    "        optimizer.step()\n",
    "        \n",
    "        train_loss += loss.item() * images.size(0)\n",
    "\n",
    "    train_loss = train_loss / len(train_loader.dataset)\n",
    "    train_loss_plt.append(train_loss)\n",
    "\n",
    "    class_correct = list(0. for i in range(10))\n",
    "    class_total = list(0. for i in range(10))\n",
    "    model.eval()\n",
    "    with torch.no_grad():\n",
    "        for data, target in test_loader:\n",
    "            data, target = data.cuda(), target.cuda()\n",
    "            output = model(data)\n",
    "            loss = CE(output, target)\n",
    "\n",
    "            test_loss += loss.item() * data.size(0)\n",
    "            _, pred = torch.max(output, 1)\n",
    "            correct = np.squeeze(pred.eq(target.data.view_as(pred)))\n",
    "            for i in range(len(target)):\n",
    "                label = target.data[i]\n",
    "                class_correct[label] += correct[i].item()\n",
    "                class_total[label] += 1\n",
    "\n",
    "    test_loss = test_loss / len(test_loader.dataset)\n",
    "    test_loss_plt.append(test_loss)\n",
    "    \n",
    "    test_accuracy = 100. * np.sum(class_correct) / np.sum(class_total)\n",
    "    test_accuracy_plt.append(test_accuracy)\n",
    "\n",
    "    print('Epoch:', (epoch + 1), '\\tTrain Loss:', train_loss,' | Test Loss:', test_loss,' | Test Acc.:',test_accuracy)"
   ]
  },
  {
   "cell_type": "markdown",
   "metadata": {
    "colab_type": "text",
    "id": "lhVSKbxWVT9T"
   },
   "source": [
    "### Saving"
   ]
  },
  {
   "cell_type": "code",
   "execution_count": 0,
   "metadata": {
    "colab": {},
    "colab_type": "code",
    "id": "wm5QvSLiVT9U"
   },
   "outputs": [],
   "source": [
    "joblib.dump(train_loss_plt, 'train_loss_plt_q3_Xavier_50.sav')\n",
    "joblib.dump(test_loss_plt, 'test_loss_plt_q3_Xavier_50.sav')\n",
    "joblib.dump(test_accuracy_plt, 'test_accuracy_plt_q3_Xavier_50.sav')\n",
    "torch.save(model.state_dict(), \"model_q3_Xavier_50.pt\")"
   ]
  },
  {
   "cell_type": "code",
   "execution_count": 21,
   "metadata": {
    "colab": {
     "base_uri": "https://localhost:8080/",
     "height": 282
    },
    "colab_type": "code",
    "id": "uCcZ0RWuVT9V",
    "outputId": "682b758a-44ab-41ac-bf84-7058e477cacf"
   },
   "outputs": [
    {
     "data": {
      "text/plain": [
       "[<matplotlib.lines.Line2D at 0x7f9984015668>]"
      ]
     },
     "execution_count": 21,
     "metadata": {
      "tags": []
     },
     "output_type": "execute_result"
    },
    {
     "data": {
      "image/png": "[encoded data removed]",
      "text/plain": [
       "<Figure size 432x288 with 1 Axes>"
      ]
     },
     "metadata": {
      "tags": []
     },
     "output_type": "display_data"
    }
   ],
   "source": [
    "plt.plot(np.arange(len(train_loss_plt)),train_loss_plt)"
   ]
  },
  {
   "cell_type": "code",
   "execution_count": 24,
   "metadata": {
    "colab": {
     "base_uri": "https://localhost:8080/",
     "height": 282
    },
    "colab_type": "code",
    "id": "V4clRFDX4Ee6",
    "outputId": "0db7edf7-88a0-4add-e502-11d19cb4127f"
   },
   "outputs": [
    {
     "data": {
      "text/plain": [
       "[<matplotlib.lines.Line2D at 0x7f998510dba8>]"
      ]
     },
     "execution_count": 24,
     "metadata": {
      "tags": []
     },
     "output_type": "execute_result"
    },
    {
     "data": {
      "image/png": "[encoded data removed]",
      "text/plain": [
       "<Figure size 432x288 with 1 Axes>"
      ]
     },
     "metadata": {
      "tags": []
     },
     "output_type": "display_data"
    }
   ],
   "source": [
    "plt.plot(np.arange(len(test_loss_plt)),test_loss_plt)"
   ]
  },
  {
   "cell_type": "code",
   "execution_count": 23,
   "metadata": {
    "colab": {
     "base_uri": "https://localhost:8080/",
     "height": 285
    },
    "colab_type": "code",
    "id": "YaOTD5OjVT9Y",
    "outputId": "13197ee5-7b19-46d5-c073-3f2aa8d3197d"
   },
   "outputs": [
    {
     "data": {
      "text/plain": [
       "[<matplotlib.lines.Line2D at 0x7f9987682f60>]"
      ]
     },
     "execution_count": 23,
     "metadata": {
      "tags": []
     },
     "output_type": "execute_result"
    },
    {
     "data": {
      "image/png": "[encoded data removed]",
      "text/plain": [
       "<Figure size 432x288 with 1 Axes>"
      ]
     },
     "metadata": {
      "tags": []
     },
     "output_type": "display_data"
    }
   ],
   "source": [
    "plt.plot(np.arange(len(test_accuracy_plt)),test_accuracy_plt)"
   ]
  },
  {
   "cell_type": "code",
   "execution_count": 0,
   "metadata": {
    "colab": {},
    "colab_type": "code",
    "id": "HYZO_WmXx9pE"
   },
   "outputs": [],
   "source": []
  },
  {
   "cell_type": "code",
   "execution_count": 2,
   "metadata": {},
   "outputs": [
    {
     "data": {
      "image/png": "[encoded data removed]",
      "text/plain": [
       "<Figure size 432x288 with 1 Axes>"
      ]
     },
     "metadata": {
      "needs_background": "light"
     },
     "output_type": "display_data"
    },
    {
     "data": {
      "image/png": "[encoded data removed]",
      "text/plain": [
       "<Figure size 432x288 with 1 Axes>"
      ]
     },
     "metadata": {
      "needs_background": "light"
     },
     "output_type": "display_data"
    },
    {
     "data": {
      "image/png": "[encoded data removed]",
      "text/plain": [
       "<Figure size 432x288 with 1 Axes>"
      ]
     },
     "metadata": {
      "needs_background": "light"
     },
     "output_type": "display_data"
    }
   ],
   "source": [
    "import joblib\n",
    "import matplotlib.pyplot as plt\n",
    "import numpy as np\n",
    "\n",
    "train_loss_plt = joblib.load('train_loss_plt_q3_Xavier_50.sav')\n",
    "test_loss_plt = joblib.load('test_loss_plt_q3_Xavier_50.sav')\n",
    "test_accuracy_plt = joblib.load('test_accuracy_plt_q3_Xavier_50.sav')\n",
    "\n",
    "plt.title('Xavier epochs=50 Train loss')\n",
    "plt.plot(np.arange(len(train_loss_plt)),train_loss_plt,label = 'Train Loss')\n",
    "plt.xlabel('Epochs')\n",
    "plt.ylabel('Loss')\n",
    "plt.legend()\n",
    "plt.show()\n",
    "\n",
    "plt.title('Xavier epochs=50 Test Loss')\n",
    "plt.plot(np.arange(len(test_loss_plt)),test_loss_plt,color='r',label = 'Test Loss')\n",
    "plt.xlabel('Epochs')\n",
    "plt.ylabel('Loss')\n",
    "plt.legend()\n",
    "plt.show()\n",
    "\n",
    "plt.title('Xavier epochs=50 Test Accuracy')\n",
    "plt.plot(np.arange(len(test_accuracy_plt)),test_accuracy_plt,color='g',label = 'Test Accuracy')\n",
    "plt.xlabel('Epochs')\n",
    "plt.ylabel('Accuracy')\n",
    "plt.legend()\n",
    "plt.show()"
   ]
  },
  {
   "cell_type": "code",
   "execution_count": null,
   "metadata": {},
   "outputs": [],
   "source": []
  }
 ],
 "metadata": {
  "accelerator": "GPU",
  "colab": {
   "collapsed_sections": [],
   "name": "AML_A4_Q3_Xavier_50.ipynb",
   "provenance": [],
   "toc_visible": true
  },
  "kernelspec": {
   "display_name": "Python 3",
   "language": "python",
   "name": "python3"
  },
  "language_info": {
   "codemirror_mode": {
    "name": "ipython",
    "version": 3
   },
   "file_extension": ".py",
   "mimetype": "text/x-python",
   "name": "python",
   "nbconvert_exporter": "python",
   "pygments_lexer": "ipython3",
   "version": "3.7.1"
  }
 },
 "nbformat": 4,
 "nbformat_minor": 1
}
