{
 "cells": [
  {
   "cell_type": "code",
   "execution_count": 0,
   "metadata": {
    "colab": {},
    "colab_type": "code",
    "id": "AMc_zaeV2Xxz"
   },
   "outputs": [],
   "source": [
    "import torch\n",
    "from torchvision import datasets, transforms\n",
    "import torch.nn as nn\n",
    "import torch.nn.functional as F\n",
    "import torch.optim as optim\n",
    "from torch.utils.data import DataLoader\n",
    "from torch.utils.data.sampler import SubsetRandomSampler\n",
    "import matplotlib.pyplot as plt\n",
    "import numpy as np\n",
    "import joblib\n",
    "from torch.autograd import Variable"
   ]
  },
  {
   "cell_type": "code",
   "execution_count": 2,
   "metadata": {
    "colab": {
     "base_uri": "https://localhost:8080/",
     "height": 87
    },
    "colab_type": "code",
    "id": "DqkY0goW2ezq",
    "outputId": "ce72ba93-b555-4d70-f0ae-122fbb46d4b9"
   },
   "outputs": [
    {
     "name": "stderr",
     "output_type": "stream",
     "text": [
      "\r",
      "0it [00:00, ?it/s]"
     ]
    },
    {
     "name": "stdout",
     "output_type": "stream",
     "text": [
      "Downloading http://ai.stanford.edu/~acoates/stl10/stl10_binary.tar.gz to ./Datasets/STL10_data/stl10_binary.tar.gz\n"
     ]
    },
    {
     "name": "stderr",
     "output_type": "stream",
     "text": [
      "100%|█████████▉| 2640019456/2640397119 [02:52<00:00, 21008690.66it/s]"
     ]
    },
    {
     "name": "stdout",
     "output_type": "stream",
     "text": [
      "Extracting ./Datasets/STL10_data/stl10_binary.tar.gz to ./Datasets/STL10_data/\n"
     ]
    },
    {
     "name": "stderr",
     "output_type": "stream",
     "text": [
      "\r",
      "2640404480it [03:10, 21008690.66it/s]                                "
     ]
    },
    {
     "name": "stdout",
     "output_type": "stream",
     "text": [
      "Files already downloaded and verified\n"
     ]
    }
   ],
   "source": [
    "path = \"./Datasets/STL10_data/\"\n",
    "# path = \"E:/Datasets/STL10_data/\"\n",
    "\n",
    "device = 'cuda'\n",
    "num_workers = 0\n",
    "batch_size = 64\n",
    "\n",
    "transform = transforms.Compose([transforms.ToTensor(), transforms.Normalize((0.5, 0.5, 0.5), (0.5, 0.5, 0.5))])\n",
    "\n",
    "train_data = datasets.STL10(path, split='train', download=True, transform=transform)\n",
    "test_data = datasets.STL10(path, split='test', download=True, transform=transform)\n",
    "\n",
    "train_loader = DataLoader(train_data, batch_size=batch_size, num_workers=num_workers)\n",
    "test_loader = DataLoader(test_data, batch_size=batch_size, num_workers=num_workers)\n",
    "# classes = [\"plane\", \"car\", \"bird\", \"cat\", \"deer\", \"dog\", \"frog\", \"horse\", \"ship\", \"truck\"]"
   ]
  },
  {
   "cell_type": "code",
   "execution_count": 0,
   "metadata": {
    "colab": {},
    "colab_type": "code",
    "id": "muplnodH2grQ"
   },
   "outputs": [],
   "source": [
    "device='cuda'\n",
    "class Architecture(nn.Module):\n",
    "\n",
    "    def __init__(self):\n",
    "        super(Architecture, self).__init__()\n",
    "        \n",
    "        self.b_1 = nn.Sequential(nn.Conv2d(3, 16, kernel_size=3, padding=1),\n",
    "                                nn.BatchNorm2d(16),\n",
    "                                nn.ReLU())\n",
    "        \n",
    "        self.b_2 = nn.Sequential(nn.Conv2d(16, 32, kernel_size=3, padding=1),\n",
    "                                nn.BatchNorm2d(32),\n",
    "                                nn.ReLU())\n",
    "        \n",
    "        self.b_3 = nn.Sequential(nn.Conv2d(32, 32, kernel_size=3, padding=1),\n",
    "                                nn.BatchNorm2d(32),\n",
    "                                nn.ReLU())\n",
    "        \n",
    "        self.b_4 = nn.Sequential(nn.Conv2d(32, 16, kernel_size=3, padding=1),\n",
    "                                nn.BatchNorm2d(16),\n",
    "                                nn.ReLU())\n",
    "        \n",
    "        self.b_5 = nn.Sequential(nn.Conv2d(16, 3, kernel_size=3, padding=1),\n",
    "                                nn.BatchNorm2d(3),\n",
    "                                nn.ReLU())\n",
    "        \n",
    "        self.pool = nn.MaxPool2d(2)\n",
    "\n",
    "        self.fc_1 = nn.Linear(3 * 3 * 3, 256)\n",
    "        self.fc_2 = nn.Linear(256, 10)\n",
    "\n",
    "        self.relu = nn.ReLU()\n",
    "\n",
    "    def forward(self, x):\n",
    "        x = self.pool(self.b_1(x))\n",
    "        x = self.pool(self.b_2(x))\n",
    "        x = self.pool(self.b_3(x))\n",
    "        x = self.pool(self.b_4(x))\n",
    "        x = self.pool(self.b_5(x))\n",
    "        # print(x.shape)\n",
    "        \n",
    "        x = x.view(-1, 3 * 3 * 3)\n",
    "        x = self.relu(self.fc_1(x))\n",
    "        # x = self.relu(self.fc_2(x))\n",
    "        x = self.fc_2(x)\n",
    "        return x\n",
    "\n",
    "def init_weights(m):\n",
    "    if isinstance(m, nn.Conv2d):\n",
    "        torch.nn.init.kaiming_uniform_(m.weight.data)\n",
    "    if(isinstance(m, nn.Linear)):\n",
    "        torch.nn.init.kaiming_uniform_(m.weight.data)\n",
    "        \n",
    "model = Architecture()\n",
    "model.apply(init_weights)\n",
    "\n",
    "model.to(device)\n",
    "\n",
    "CE = nn.CrossEntropyLoss()\n",
    "optimizer = optim.Adagrad(model.parameters(), lr=0.02)"
   ]
  },
  {
   "cell_type": "code",
   "execution_count": 4,
   "metadata": {
    "colab": {
     "base_uri": "https://localhost:8080/",
     "height": 1000
    },
    "colab_type": "code",
    "id": "-Da_1kvy2pC-",
    "outputId": "7f2217fe-04ac-492c-945d-9e705303a669"
   },
   "outputs": [
    {
     "name": "stdout",
     "output_type": "stream",
     "text": [
      "Epoch: 1 \tTrain Loss: 1.9254971084594728  | Test Loss: 2.235311061859131  | Test Acc.: 23.1125\n",
      "Epoch: 2 \tTrain Loss: 1.5397382932662964  | Test Loss: 1.8995106000900268  | Test Acc.: 28.925\n",
      "Epoch: 3 \tTrain Loss: 1.4024003316879272  | Test Loss: 1.5361880111694335  | Test Acc.: 41.1875\n",
      "Epoch: 4 \tTrain Loss: 1.2956846793174743  | Test Loss: 1.4987029333114623  | Test Acc.: 43.4125\n",
      "Epoch: 5 \tTrain Loss: 1.2085205862522126  | Test Loss: 1.470007342338562  | Test Acc.: 45.3125\n",
      "Epoch: 6 \tTrain Loss: 1.12826922621727  | Test Loss: 1.4171828413009644  | Test Acc.: 46.9\n",
      "Epoch: 7 \tTrain Loss: 1.052421709060669  | Test Loss: 1.4152515907287597  | Test Acc.: 47.6125\n",
      "Epoch: 8 \tTrain Loss: 0.9819677969455719  | Test Loss: 1.4302329597473145  | Test Acc.: 47.5125\n",
      "Epoch: 9 \tTrain Loss: 0.91136927318573  | Test Loss: 1.4509200420379638  | Test Acc.: 48.3\n",
      "Epoch: 10 \tTrain Loss: 0.845218952512741  | Test Loss: 1.4827644910812379  | Test Acc.: 47.7875\n",
      "Epoch: 11 \tTrain Loss: 0.7818732192039489  | Test Loss: 1.5282969055175781  | Test Acc.: 47.825\n",
      "Epoch: 12 \tTrain Loss: 0.7182377634048462  | Test Loss: 1.6287272129058838  | Test Acc.: 46.4125\n",
      "Epoch: 13 \tTrain Loss: 0.6613592590332031  | Test Loss: 1.6801725635528564  | Test Acc.: 46.675\n",
      "Epoch: 14 \tTrain Loss: 0.6063235958099366  | Test Loss: 1.7644719514846803  | Test Acc.: 45.6125\n",
      "Epoch: 15 \tTrain Loss: 0.5557971459388733  | Test Loss: 1.7987592105865478  | Test Acc.: 45.75\n",
      "Epoch: 16 \tTrain Loss: 0.502018001461029  | Test Loss: 1.8714236879348756  | Test Acc.: 46.05\n",
      "Epoch: 17 \tTrain Loss: 0.45398673515319826  | Test Loss: 1.911923005104065  | Test Acc.: 46.275\n",
      "Epoch: 18 \tTrain Loss: 0.41218946237564086  | Test Loss: 2.017350748062134  | Test Acc.: 45.8375\n",
      "Epoch: 19 \tTrain Loss: 0.3722576133728027  | Test Loss: 2.0104937515258787  | Test Acc.: 46.45\n",
      "Epoch: 20 \tTrain Loss: 0.3339195485115051  | Test Loss: 2.0845971641540526  | Test Acc.: 46.675\n",
      "Epoch: 21 \tTrain Loss: 0.2984962896347046  | Test Loss: 2.1445941400527953  | Test Acc.: 46.4625\n",
      "Epoch: 22 \tTrain Loss: 0.2678522936820984  | Test Loss: 2.1960552082061766  | Test Acc.: 46.85\n",
      "Epoch: 23 \tTrain Loss: 0.2348833357810974  | Test Loss: 2.246917658805847  | Test Acc.: 46.7125\n",
      "Epoch: 24 \tTrain Loss: 0.20449098224639892  | Test Loss: 2.324931039810181  | Test Acc.: 46.7875\n",
      "Epoch: 25 \tTrain Loss: 0.1776933253288269  | Test Loss: 2.429772503852844  | Test Acc.: 46.375\n",
      "Epoch: 26 \tTrain Loss: 0.15538000230789184  | Test Loss: 2.529447338104248  | Test Acc.: 46.05\n",
      "Epoch: 27 \tTrain Loss: 0.13414229583740234  | Test Loss: 2.5641609897613526  | Test Acc.: 46.7\n",
      "Epoch: 28 \tTrain Loss: 0.11667536745071411  | Test Loss: 2.633287633895874  | Test Acc.: 46.5125\n",
      "Epoch: 29 \tTrain Loss: 0.10113679184913635  | Test Loss: 2.726787474632263  | Test Acc.: 46.325\n",
      "Epoch: 30 \tTrain Loss: 0.0879513870716095  | Test Loss: 2.810681541442871  | Test Acc.: 46.2125\n",
      "Epoch: 31 \tTrain Loss: 0.07707688102722168  | Test Loss: 2.876513010978699  | Test Acc.: 46.3375\n",
      "Epoch: 32 \tTrain Loss: 0.06771743426322938  | Test Loss: 2.9506109380722045  | Test Acc.: 46.475\n",
      "Epoch: 33 \tTrain Loss: 0.059601854610443115  | Test Loss: 3.021298493385315  | Test Acc.: 46.3625\n",
      "Epoch: 34 \tTrain Loss: 0.05274965395927429  | Test Loss: 3.0797058210372925  | Test Acc.: 46.1375\n",
      "Epoch: 35 \tTrain Loss: 0.047010979175567624  | Test Loss: 3.147358539581299  | Test Acc.: 46.175\n",
      "Epoch: 36 \tTrain Loss: 0.041982907032966615  | Test Loss: 3.2140243701934814  | Test Acc.: 46.15\n",
      "Epoch: 37 \tTrain Loss: 0.03791195342540741  | Test Loss: 3.270069414138794  | Test Acc.: 46.3\n",
      "Epoch: 38 \tTrain Loss: 0.03407389595508575  | Test Loss: 3.3192266216278075  | Test Acc.: 46.3375\n",
      "Epoch: 39 \tTrain Loss: 0.030762190961837767  | Test Loss: 3.376735294342041  | Test Acc.: 46.275\n",
      "Epoch: 40 \tTrain Loss: 0.027935382604598998  | Test Loss: 3.428410604476929  | Test Acc.: 46.225\n",
      "Epoch: 41 \tTrain Loss: 0.025331875896453856  | Test Loss: 3.4686544246673585  | Test Acc.: 46.2875\n",
      "Epoch: 42 \tTrain Loss: 0.023051188731193543  | Test Loss: 3.5169818534851074  | Test Acc.: 46.125\n",
      "Epoch: 43 \tTrain Loss: 0.021212074303627013  | Test Loss: 3.560538255691528  | Test Acc.: 46.0875\n",
      "Epoch: 44 \tTrain Loss: 0.01948920919895172  | Test Loss: 3.5986441535949707  | Test Acc.: 46.0875\n",
      "Epoch: 45 \tTrain Loss: 0.01793353891372681  | Test Loss: 3.640829204559326  | Test Acc.: 46.2125\n",
      "Epoch: 46 \tTrain Loss: 0.01668691391944885  | Test Loss: 3.6726683139801026  | Test Acc.: 46.2875\n",
      "Epoch: 47 \tTrain Loss: 0.015435111832618713  | Test Loss: 3.712239870071411  | Test Acc.: 46.2625\n",
      "Epoch: 48 \tTrain Loss: 0.0144959242105484  | Test Loss: 3.7471194648742676  | Test Acc.: 46.2625\n",
      "Epoch: 49 \tTrain Loss: 0.013542398190498352  | Test Loss: 3.7794540138244628  | Test Acc.: 46.1625\n",
      "Epoch: 50 \tTrain Loss: 0.012667580437660217  | Test Loss: 3.811613338470459  | Test Acc.: 46.2875\n",
      "Epoch: 51 \tTrain Loss: 0.011954582071304322  | Test Loss: 3.842444185256958  | Test Acc.: 46.2625\n",
      "Epoch: 52 \tTrain Loss: 0.011271308612823487  | Test Loss: 3.874471092224121  | Test Acc.: 46.5\n",
      "Epoch: 53 \tTrain Loss: 0.010668942034244537  | Test Loss: 3.9042494468688966  | Test Acc.: 46.4625\n",
      "Epoch: 54 \tTrain Loss: 0.010094293355941773  | Test Loss: 3.9299885120391846  | Test Acc.: 46.575\n",
      "Epoch: 55 \tTrain Loss: 0.009563834643363953  | Test Loss: 3.954025503158569  | Test Acc.: 46.4875\n",
      "Epoch: 56 \tTrain Loss: 0.009128485941886902  | Test Loss: 3.9843382968902588  | Test Acc.: 46.65\n",
      "Epoch: 57 \tTrain Loss: 0.00864746254682541  | Test Loss: 4.007697481155396  | Test Acc.: 46.6375\n",
      "Epoch: 58 \tTrain Loss: 0.008246841585636138  | Test Loss: 4.032868091583252  | Test Acc.: 46.725\n",
      "Epoch: 59 \tTrain Loss: 0.007858884572982788  | Test Loss: 4.05472604560852  | Test Acc.: 46.65\n",
      "Epoch: 60 \tTrain Loss: 0.007508674079179764  | Test Loss: 4.077318046569824  | Test Acc.: 46.6125\n",
      "Epoch: 61 \tTrain Loss: 0.007200863987207413  | Test Loss: 4.098584203720093  | Test Acc.: 46.475\n",
      "Epoch: 62 \tTrain Loss: 0.006878293520212173  | Test Loss: 4.120933599472046  | Test Acc.: 46.4625\n",
      "Epoch: 63 \tTrain Loss: 0.006593757140636444  | Test Loss: 4.142100280761719  | Test Acc.: 46.4375\n",
      "Epoch: 64 \tTrain Loss: 0.006316147381067276  | Test Loss: 4.160947202682495  | Test Acc.: 46.5125\n",
      "Epoch: 65 \tTrain Loss: 0.006061915212869644  | Test Loss: 4.18357248878479  | Test Acc.: 46.5625\n",
      "Epoch: 66 \tTrain Loss: 0.005819551348686218  | Test Loss: 4.200896877288819  | Test Acc.: 46.55\n",
      "Epoch: 67 \tTrain Loss: 0.0055889634490013124  | Test Loss: 4.220667680740356  | Test Acc.: 46.5625\n",
      "Epoch: 68 \tTrain Loss: 0.005370019471645355  | Test Loss: 4.238625717163086  | Test Acc.: 46.5625\n",
      "Epoch: 69 \tTrain Loss: 0.005155913525819778  | Test Loss: 4.255749174118042  | Test Acc.: 46.5375\n",
      "Epoch: 70 \tTrain Loss: 0.004971513313055039  | Test Loss: 4.273838766098023  | Test Acc.: 46.55\n",
      "Epoch: 71 \tTrain Loss: 0.004787017178535462  | Test Loss: 4.2901893291473385  | Test Acc.: 46.6125\n",
      "Epoch: 72 \tTrain Loss: 0.004624466806650161  | Test Loss: 4.305990070343017  | Test Acc.: 46.575\n",
      "Epoch: 73 \tTrain Loss: 0.004450577628612519  | Test Loss: 4.320950239181519  | Test Acc.: 46.5625\n",
      "Epoch: 74 \tTrain Loss: 0.0043135889649391175  | Test Loss: 4.337498516082763  | Test Acc.: 46.5\n",
      "Epoch: 75 \tTrain Loss: 0.004161890411376953  | Test Loss: 4.352265794754028  | Test Acc.: 46.5375\n",
      "Epoch: 76 \tTrain Loss: 0.004023748314380645  | Test Loss: 4.3673942756652835  | Test Acc.: 46.4875\n",
      "Epoch: 77 \tTrain Loss: 0.003898889780044556  | Test Loss: 4.380540119171142  | Test Acc.: 46.5\n",
      "Epoch: 78 \tTrain Loss: 0.0037779358088970184  | Test Loss: 4.395167720794678  | Test Acc.: 46.425\n",
      "Epoch: 79 \tTrain Loss: 0.0036570961534976958  | Test Loss: 4.408293041229248  | Test Acc.: 46.5875\n",
      "Epoch: 80 \tTrain Loss: 0.00354642972946167  | Test Loss: 4.422044425964356  | Test Acc.: 46.4625\n",
      "Epoch: 81 \tTrain Loss: 0.0034392415165901183  | Test Loss: 4.435620485305786  | Test Acc.: 46.4625\n",
      "Epoch: 82 \tTrain Loss: 0.0033416542291641233  | Test Loss: 4.447224884033203  | Test Acc.: 46.425\n",
      "Epoch: 83 \tTrain Loss: 0.0032524635076522828  | Test Loss: 4.459478784561157  | Test Acc.: 46.475\n",
      "Epoch: 84 \tTrain Loss: 0.0031596641182899477  | Test Loss: 4.472564250946045  | Test Acc.: 46.4125\n",
      "Epoch: 85 \tTrain Loss: 0.0030719452738761904  | Test Loss: 4.484082260131836  | Test Acc.: 46.4\n",
      "Epoch: 86 \tTrain Loss: 0.002992202138900757  | Test Loss: 4.496226764678955  | Test Acc.: 46.3625\n",
      "Epoch: 87 \tTrain Loss: 0.0029116182327270507  | Test Loss: 4.506830755233764  | Test Acc.: 46.35\n",
      "Epoch: 88 \tTrain Loss: 0.0028380064129829405  | Test Loss: 4.518934568405151  | Test Acc.: 46.3125\n",
      "Epoch: 89 \tTrain Loss: 0.0027675501108169556  | Test Loss: 4.530300729751587  | Test Acc.: 46.3375\n",
      "Epoch: 90 \tTrain Loss: 0.002695321989059448  | Test Loss: 4.540749393463135  | Test Acc.: 46.3\n",
      "Epoch: 91 \tTrain Loss: 0.002631903266906738  | Test Loss: 4.550669702529907  | Test Acc.: 46.3375\n",
      "Epoch: 92 \tTrain Loss: 0.0025680890560150146  | Test Loss: 4.562246673583984  | Test Acc.: 46.3375\n",
      "Epoch: 93 \tTrain Loss: 0.002506646478176117  | Test Loss: 4.572668649673462  | Test Acc.: 46.3625\n",
      "Epoch: 94 \tTrain Loss: 0.0024487457871437074  | Test Loss: 4.582471460342407  | Test Acc.: 46.35\n",
      "Epoch: 95 \tTrain Loss: 0.0023963578820228575  | Test Loss: 4.5927816600799565  | Test Acc.: 46.3375\n",
      "Epoch: 96 \tTrain Loss: 0.002340809941291809  | Test Loss: 4.602006429672241  | Test Acc.: 46.375\n",
      "Epoch: 97 \tTrain Loss: 0.002288305985927582  | Test Loss: 4.611735048294068  | Test Acc.: 46.325\n",
      "Epoch: 98 \tTrain Loss: 0.002241319012641907  | Test Loss: 4.62077765083313  | Test Acc.: 46.325\n",
      "Epoch: 99 \tTrain Loss: 0.0021898604273796083  | Test Loss: 4.6305569114685055  | Test Acc.: 46.225\n",
      "Epoch: 100 \tTrain Loss: 0.002145296323299408  | Test Loss: 4.639415946960449  | Test Acc.: 46.275\n"
     ]
    }
   ],
   "source": [
    "train_loss_plt = []\n",
    "test_accuracy_plt = []\n",
    "test_loss_plt = []\n",
    "n_epochs = 100\n",
    "for epoch in range(n_epochs):\n",
    "    train_loss, test_loss = 0, 0\n",
    "    model.train()\n",
    "    for images, labels in train_loader:\n",
    "        images, labels = images.to(device), labels.to(device)\n",
    "\n",
    "        optimizer.zero_grad()\n",
    "        output = model(images)\n",
    "        loss = CE(output, labels)\n",
    "        loss.backward()\n",
    "        optimizer.step()\n",
    "        \n",
    "        train_loss += loss.item() * images.size(0)\n",
    "\n",
    "    train_loss = train_loss / len(train_loader.dataset)\n",
    "    train_loss_plt.append(train_loss)\n",
    "\n",
    "    class_correct = list(0. for i in range(10))\n",
    "    class_total = list(0. for i in range(10))\n",
    "    model.eval()\n",
    "    with torch.no_grad():\n",
    "        for data, target in test_loader:\n",
    "            data, target = data.cuda(), target.cuda()\n",
    "            output = model(data)\n",
    "            loss = CE(output, target)\n",
    "\n",
    "            test_loss += loss.item() * data.size(0)\n",
    "            _, pred = torch.max(output, 1)\n",
    "            correct = np.squeeze(pred.eq(target.data.view_as(pred)))\n",
    "            for i in range(len(target)):\n",
    "                label = target.data[i]\n",
    "                class_correct[label] += correct[i].item()\n",
    "                class_total[label] += 1\n",
    "\n",
    "    test_loss = test_loss / len(test_loader.dataset)\n",
    "    test_loss_plt.append(test_loss)\n",
    "    \n",
    "    test_accuracy = 100. * np.sum(class_correct) / np.sum(class_total)\n",
    "    test_accuracy_plt.append(test_accuracy)\n",
    "\n",
    "    print('Epoch:', (epoch + 1), '\\tTrain Loss:', train_loss,' | Test Loss:', test_loss,' | Test Acc.:',test_accuracy)"
   ]
  },
  {
   "cell_type": "code",
   "execution_count": 0,
   "metadata": {
    "colab": {},
    "colab_type": "code",
    "id": "j6jdc6Wg2uY-"
   },
   "outputs": [],
   "source": [
    "joblib.dump(train_loss_plt, 'train_loss_plt_q3_Kaiming_100.sav')\n",
    "joblib.dump(test_loss_plt, 'test_loss_plt_q3_Kaiming_100.sav')\n",
    "joblib.dump(test_accuracy_plt, 'test_accuracy_plt_q3_Kaiming_100.sav')\n",
    "torch.save(model.state_dict(), \"model_q3_Kaiming_100.pt\")"
   ]
  },
  {
   "cell_type": "code",
   "execution_count": 10,
   "metadata": {
    "colab": {
     "base_uri": "https://localhost:8080/",
     "height": 284
    },
    "colab_type": "code",
    "id": "81Q7Eab_2vbG",
    "outputId": "951a0bc4-c7d2-4b2b-8f0e-6856463a3de4"
   },
   "outputs": [
    {
     "data": {
      "text/plain": [
       "[<matplotlib.lines.Line2D at 0x7f8819b31be0>]"
      ]
     },
     "execution_count": 10,
     "metadata": {
      "tags": []
     },
     "output_type": "execute_result"
    },
    {
     "data": {
      "image/png": "[encoded data removed]",
      "text/plain": [
       "<Figure size 432x288 with 1 Axes>"
      ]
     },
     "metadata": {
      "tags": []
     },
     "output_type": "display_data"
    }
   ],
   "source": [
    "plt.plot(np.arange(len(train_loss_plt)),train_loss_plt)"
   ]
  },
  {
   "cell_type": "code",
   "execution_count": 11,
   "metadata": {
    "colab": {
     "base_uri": "https://localhost:8080/",
     "height": 282
    },
    "colab_type": "code",
    "id": "t5y1osb72xgK",
    "outputId": "2948b6c7-fd9e-4c95-ba15-b5bdf2b45f51"
   },
   "outputs": [
    {
     "data": {
      "text/plain": [
       "[<matplotlib.lines.Line2D at 0x7f8819a95eb8>]"
      ]
     },
     "execution_count": 11,
     "metadata": {
      "tags": []
     },
     "output_type": "execute_result"
    },
    {
     "data": {
      "image/png": "[encoded data removed]",
      "text/plain": [
       "<Figure size 432x288 with 1 Axes>"
      ]
     },
     "metadata": {
      "tags": []
     },
     "output_type": "display_data"
    }
   ],
   "source": [
    "plt.plot(np.arange(len(test_loss_plt)),test_loss_plt)"
   ]
  },
  {
   "cell_type": "code",
   "execution_count": 12,
   "metadata": {
    "colab": {
     "base_uri": "https://localhost:8080/",
     "height": 282
    },
    "colab_type": "code",
    "id": "iMZ2fMn42xUd",
    "outputId": "af2c96fd-414a-48f6-9d88-4c8712e172e3"
   },
   "outputs": [
    {
     "data": {
      "text/plain": [
       "[<matplotlib.lines.Line2D at 0x7f8819a7b668>]"
      ]
     },
     "execution_count": 12,
     "metadata": {
      "tags": []
     },
     "output_type": "execute_result"
    },
    {
     "data": {
      "image/png": "[encoded data removed]",
      "text/plain": [
       "<Figure size 432x288 with 1 Axes>"
      ]
     },
     "metadata": {
      "tags": []
     },
     "output_type": "display_data"
    }
   ],
   "source": [
    "plt.plot(np.arange(len(test_accuracy_plt)),test_accuracy_plt)"
   ]
  },
  {
   "cell_type": "code",
   "execution_count": 0,
   "metadata": {
    "colab": {},
    "colab_type": "code",
    "id": "9_sujqZ95nmb"
   },
   "outputs": [],
   "source": []
  },
  {
   "cell_type": "code",
   "execution_count": 2,
   "metadata": {},
   "outputs": [
    {
     "data": {
      "image/png": "[encoded data removed]",
      "text/plain": [
       "<Figure size 432x288 with 1 Axes>"
      ]
     },
     "metadata": {
      "needs_background": "light"
     },
     "output_type": "display_data"
    },
    {
     "data": {
      "image/png": "[encoded data removed]",
      "text/plain": [
       "<Figure size 432x288 with 1 Axes>"
      ]
     },
     "metadata": {
      "needs_background": "light"
     },
     "output_type": "display_data"
    },
    {
     "data": {
      "image/png": "[encoded data removed]",
      "text/plain": [
       "<Figure size 432x288 with 1 Axes>"
      ]
     },
     "metadata": {
      "needs_background": "light"
     },
     "output_type": "display_data"
    }
   ],
   "source": [
    "import joblib\n",
    "import matplotlib.pyplot as plt\n",
    "import numpy as np\n",
    "\n",
    "train_loss_plt = joblib.load('train_loss_plt_q3_Kaiming_100.sav')\n",
    "test_loss_plt = joblib.load('test_loss_plt_q3_Kaiming_100.sav')\n",
    "test_accuracy_plt = joblib.load('test_accuracy_plt_q3_Kaiming_100.sav')\n",
    "\n",
    "plt.title('Kaiming epochs=100 Train loss')\n",
    "plt.plot(np.arange(len(train_loss_plt)),train_loss_plt,label = 'Train Loss')\n",
    "plt.xlabel('Epochs')\n",
    "plt.ylabel('Loss')\n",
    "plt.legend()\n",
    "plt.show()\n",
    "\n",
    "plt.title('Kaiming epochs=100 Test Loss')\n",
    "plt.plot(np.arange(len(test_loss_plt)),test_loss_plt,color='r',label = 'Test Loss')\n",
    "plt.xlabel('Epochs')\n",
    "plt.ylabel('Loss')\n",
    "plt.legend()\n",
    "plt.show()\n",
    "\n",
    "plt.title('Kaiming epochs=100 Test Accuracy')\n",
    "plt.plot(np.arange(len(test_accuracy_plt)),test_accuracy_plt,color='g',label = 'Test Accuracy')\n",
    "plt.xlabel('Epochs')\n",
    "plt.ylabel('Accuracy')\n",
    "plt.legend()\n",
    "plt.show()"
   ]
  },
  {
   "cell_type": "code",
   "execution_count": null,
   "metadata": {},
   "outputs": [],
   "source": []
  }
 ],
 "metadata": {
  "accelerator": "GPU",
  "colab": {
   "collapsed_sections": [],
   "name": "AML_A4_Q3_Kaiming_100.ipynb",
   "provenance": []
  },
  "kernelspec": {
   "display_name": "Python 3",
   "language": "python",
   "name": "python3"
  },
  "language_info": {
   "codemirror_mode": {
    "name": "ipython",
    "version": 3
   },
   "file_extension": ".py",
   "mimetype": "text/x-python",
   "name": "python",
   "nbconvert_exporter": "python",
   "pygments_lexer": "ipython3",
   "version": "3.7.1"
  }
 },
 "nbformat": 4,
 "nbformat_minor": 1
}
