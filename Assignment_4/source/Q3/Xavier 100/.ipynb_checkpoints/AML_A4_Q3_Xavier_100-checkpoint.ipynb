{
 "cells": [
  {
   "cell_type": "code",
   "execution_count": 0,
   "metadata": {
    "colab": {},
    "colab_type": "code",
    "id": "ZShQLuGyVT9K"
   },
   "outputs": [],
   "source": [
    "import torch\n",
    "from torchvision import datasets, transforms\n",
    "import torch.nn as nn\n",
    "import torch.nn.functional as F\n",
    "import torch.optim as optim\n",
    "from torch.utils.data import DataLoader\n",
    "from torch.utils.data.sampler import SubsetRandomSampler\n",
    "import matplotlib.pyplot as plt\n",
    "import numpy as np\n",
    "import joblib\n",
    "from torch.autograd import Variable"
   ]
  },
  {
   "cell_type": "markdown",
   "metadata": {
    "colab_type": "text",
    "id": "mVUE3Y4HVT9M"
   },
   "source": [
    "### Data loading"
   ]
  },
  {
   "cell_type": "code",
   "execution_count": 2,
   "metadata": {
    "colab": {
     "base_uri": "https://localhost:8080/",
     "height": 87
    },
    "colab_type": "code",
    "id": "EAf9gYX8VT9N",
    "outputId": "28d1b2d9-c0ff-4b6e-b5ce-a95a8b91d649"
   },
   "outputs": [
    {
     "name": "stderr",
     "output_type": "stream",
     "text": [
      "\r",
      "0it [00:00, ?it/s]"
     ]
    },
    {
     "name": "stdout",
     "output_type": "stream",
     "text": [
      "Downloading http://ai.stanford.edu/~acoates/stl10/stl10_binary.tar.gz to ./Datasets/STL10_data/stl10_binary.tar.gz\n"
     ]
    },
    {
     "name": "stderr",
     "output_type": "stream",
     "text": [
      "100%|█████████▉| 2639904768/2640397119 [03:34<00:00, 13032806.01it/s]"
     ]
    },
    {
     "name": "stdout",
     "output_type": "stream",
     "text": [
      "Extracting ./Datasets/STL10_data/stl10_binary.tar.gz to ./Datasets/STL10_data/\n"
     ]
    },
    {
     "name": "stderr",
     "output_type": "stream",
     "text": [
      "\r",
      "2640404480it [03:50, 13032806.01it/s]                                "
     ]
    },
    {
     "name": "stdout",
     "output_type": "stream",
     "text": [
      "Files already downloaded and verified\n"
     ]
    }
   ],
   "source": [
    "path = \"./Datasets/STL10_data/\"\n",
    "# path = \"E:/Datasets/STL10_data/\"\n",
    "\n",
    "device = 'cuda'\n",
    "num_workers = 0\n",
    "batch_size = 64\n",
    "\n",
    "transform = transforms.Compose([transforms.ToTensor(), transforms.Normalize((0.5, 0.5, 0.5), (0.5, 0.5, 0.5))])\n",
    "\n",
    "train_data = datasets.STL10(path, split='train', download=True, transform=transform)\n",
    "test_data = datasets.STL10(path, split='test', download=True, transform=transform)\n",
    "\n",
    "train_loader = DataLoader(train_data, batch_size=batch_size, num_workers=num_workers)\n",
    "test_loader = DataLoader(test_data, batch_size=batch_size, num_workers=num_workers)"
   ]
  },
  {
   "cell_type": "markdown",
   "metadata": {
    "colab_type": "text",
    "id": "rC3AVpplVT9P"
   },
   "source": [
    "### Network"
   ]
  },
  {
   "cell_type": "code",
   "execution_count": 0,
   "metadata": {
    "colab": {},
    "colab_type": "code",
    "id": "A0LpB7EhVT9Q"
   },
   "outputs": [],
   "source": [
    "device='cuda'\n",
    "class Architecture(nn.Module):\n",
    "\n",
    "    def __init__(self):\n",
    "        super(Architecture, self).__init__()\n",
    "\n",
    "#         torch.nn.init.xavier_normal_(tensor, gain=1.0)\n",
    "        # init.xavier_uniform(self.lin1.weight, gain=init.calculate_gain('relu'))\n",
    "        \n",
    "        self.b_1 = nn.Sequential(nn.Conv2d(3, 16, kernel_size=3, padding=1),\n",
    "                                nn.BatchNorm2d(16),\n",
    "                                nn.ReLU())\n",
    "        \n",
    "        self.b_2 = nn.Sequential(nn.Conv2d(16, 32, kernel_size=3, padding=1),\n",
    "                                nn.BatchNorm2d(32),\n",
    "                                nn.ReLU())\n",
    "        \n",
    "        self.b_3 = nn.Sequential(nn.Conv2d(32, 32, kernel_size=3, padding=1),\n",
    "                                nn.BatchNorm2d(32),\n",
    "                                nn.ReLU())\n",
    "        \n",
    "        self.b_4 = nn.Sequential(nn.Conv2d(32, 16, kernel_size=3, padding=1),\n",
    "                                nn.BatchNorm2d(16),\n",
    "                                nn.ReLU())\n",
    "        \n",
    "        self.b_5 = nn.Sequential(nn.Conv2d(16, 3, kernel_size=3, padding=1),\n",
    "                                nn.BatchNorm2d(3),\n",
    "                                nn.ReLU())\n",
    "        \n",
    "        self.pool = nn.MaxPool2d(2)\n",
    "\n",
    "        self.fc_1 = nn.Linear(3 * 3 * 3, 256)\n",
    "        self.fc_2 = nn.Linear(256, 10)\n",
    "\n",
    "        self.relu = nn.ReLU()\n",
    "\n",
    "    def forward(self, x):\n",
    "        x = self.pool(self.b_1(x))\n",
    "        x = self.pool(self.b_2(x))\n",
    "        x = self.pool(self.b_3(x))\n",
    "        x = self.pool(self.b_4(x))\n",
    "        x = self.pool(self.b_5(x))\n",
    "        # print(x.shape)\n",
    "        \n",
    "        x = x.view(-1, 3 * 3 * 3)\n",
    "        x = self.relu(self.fc_1(x))\n",
    "        # x = self.relu(self.fc_2(x))\n",
    "        x = self.fc_2(x)\n",
    "        return x\n",
    "\n",
    "def init_weights(m):\n",
    "    if isinstance(m, nn.Conv2d):\n",
    "        torch.nn.init.xavier_normal_(m.weight.data)\n",
    "    if(isinstance(m, nn.Linear)):\n",
    "        torch.nn.init.xavier_normal_(m.weight.data)\n",
    "        \n",
    "model = Architecture()\n",
    "model.apply(init_weights)\n",
    "\n",
    "model.to(device)\n",
    "\n",
    "CE = nn.CrossEntropyLoss()\n",
    "optimizer = optim.Adagrad(model.parameters(), lr=0.02)"
   ]
  },
  {
   "cell_type": "code",
   "execution_count": 4,
   "metadata": {
    "colab": {
     "base_uri": "https://localhost:8080/",
     "height": 1000
    },
    "colab_type": "code",
    "id": "mm7LDkMrVT9S",
    "outputId": "7a34aba0-2c4f-41cc-bc14-fd1d4cf6870f"
   },
   "outputs": [
    {
     "name": "stdout",
     "output_type": "stream",
     "text": [
      "Epoch: 1 \tTrain Loss: 1.8278275991439819  | Test Loss: 2.6928399906158447  | Test Acc.: 15.6625\n",
      "Epoch: 2 \tTrain Loss: 1.502691895866394  | Test Loss: 1.9932207221984863  | Test Acc.: 28.4125\n",
      "Epoch: 3 \tTrain Loss: 1.3734987854003906  | Test Loss: 1.9013843641281127  | Test Acc.: 32.8375\n",
      "Epoch: 4 \tTrain Loss: 1.2722373168945313  | Test Loss: 1.6872151384353637  | Test Acc.: 37.7625\n",
      "Epoch: 5 \tTrain Loss: 1.183385404777527  | Test Loss: 1.599569833755493  | Test Acc.: 40.8875\n",
      "Epoch: 6 \tTrain Loss: 1.1107411826133728  | Test Loss: 1.6531460390090942  | Test Acc.: 40.525\n",
      "Epoch: 7 \tTrain Loss: 1.0400943936824798  | Test Loss: 1.4848341035842896  | Test Acc.: 45.8875\n",
      "Epoch: 8 \tTrain Loss: 0.9789487833499908  | Test Loss: 1.4215354614257814  | Test Acc.: 49.0\n",
      "Epoch: 9 \tTrain Loss: 0.9190759358406067  | Test Loss: 1.4157287158966065  | Test Acc.: 49.7875\n",
      "Epoch: 10 \tTrain Loss: 0.8663444493055343  | Test Loss: 1.4406650791168212  | Test Acc.: 49.475\n",
      "Epoch: 11 \tTrain Loss: 0.8111170721530915  | Test Loss: 1.4194725427627564  | Test Acc.: 51.2125\n",
      "Epoch: 12 \tTrain Loss: 0.7622892757892609  | Test Loss: 1.4422123556137085  | Test Acc.: 51.0625\n",
      "Epoch: 13 \tTrain Loss: 0.7146957424640655  | Test Loss: 1.4569144258499145  | Test Acc.: 51.4125\n",
      "Epoch: 14 \tTrain Loss: 0.6686463317394257  | Test Loss: 1.5088849954605104  | Test Acc.: 51.3125\n",
      "Epoch: 15 \tTrain Loss: 0.6252877090454102  | Test Loss: 1.5515491275787354  | Test Acc.: 50.825\n",
      "Epoch: 16 \tTrain Loss: 0.5840553349494934  | Test Loss: 1.6127128610610961  | Test Acc.: 50.925\n",
      "Epoch: 17 \tTrain Loss: 0.5442412497520447  | Test Loss: 1.6667871084213257  | Test Acc.: 51.0875\n",
      "Epoch: 18 \tTrain Loss: 0.5026575418949127  | Test Loss: 1.6836256999969483  | Test Acc.: 51.6125\n",
      "Epoch: 19 \tTrain Loss: 0.46548822083473207  | Test Loss: 1.763916898727417  | Test Acc.: 51.475\n",
      "Epoch: 20 \tTrain Loss: 0.4299325355529785  | Test Loss: 1.8574089365005493  | Test Acc.: 50.5375\n",
      "Epoch: 21 \tTrain Loss: 0.39391018409729006  | Test Loss: 1.8860689010620117  | Test Acc.: 51.1\n",
      "Epoch: 22 \tTrain Loss: 0.3602614675521851  | Test Loss: 1.98070867729187  | Test Acc.: 50.7375\n",
      "Epoch: 23 \tTrain Loss: 0.3317604217529297  | Test Loss: 2.0412790651321413  | Test Acc.: 50.3625\n",
      "Epoch: 24 \tTrain Loss: 0.30336538701057436  | Test Loss: 2.1279942674636843  | Test Acc.: 49.875\n",
      "Epoch: 25 \tTrain Loss: 0.2715953165054321  | Test Loss: 2.272120782852173  | Test Acc.: 48.65\n",
      "Epoch: 26 \tTrain Loss: 0.2420741178035736  | Test Loss: 2.2359170093536376  | Test Acc.: 49.7375\n",
      "Epoch: 27 \tTrain Loss: 0.219988441324234  | Test Loss: 2.3657101583480835  | Test Acc.: 48.75\n",
      "Epoch: 28 \tTrain Loss: 0.19678004245758057  | Test Loss: 2.481082808494568  | Test Acc.: 48.5\n",
      "Epoch: 29 \tTrain Loss: 0.17721523704528808  | Test Loss: 2.5105828800201415  | Test Acc.: 49.2625\n",
      "Epoch: 30 \tTrain Loss: 0.15593225431442262  | Test Loss: 2.5991425676345825  | Test Acc.: 49.25\n",
      "Epoch: 31 \tTrain Loss: 0.13804051084518432  | Test Loss: 2.638154134750366  | Test Acc.: 49.025\n",
      "Epoch: 32 \tTrain Loss: 0.12361027050018311  | Test Loss: 2.741849720954895  | Test Acc.: 49.275\n",
      "Epoch: 33 \tTrain Loss: 0.10852570824623108  | Test Loss: 2.841472599029541  | Test Acc.: 48.525\n",
      "Epoch: 34 \tTrain Loss: 0.09756756186485291  | Test Loss: 2.9270272789001464  | Test Acc.: 48.7375\n",
      "Epoch: 35 \tTrain Loss: 0.08427509646415711  | Test Loss: 2.888641411781311  | Test Acc.: 49.3375\n",
      "Epoch: 36 \tTrain Loss: 0.07418070662021636  | Test Loss: 2.9553123207092287  | Test Acc.: 49.0375\n",
      "Epoch: 37 \tTrain Loss: 0.06449608590602875  | Test Loss: 2.993552317619324  | Test Acc.: 49.575\n",
      "Epoch: 38 \tTrain Loss: 0.0572907817363739  | Test Loss: 3.0458514909744263  | Test Acc.: 49.6125\n",
      "Epoch: 39 \tTrain Loss: 0.05051032290458679  | Test Loss: 3.0972097396850584  | Test Acc.: 49.5375\n",
      "Epoch: 40 \tTrain Loss: 0.045501290941238406  | Test Loss: 3.140317777633667  | Test Acc.: 49.425\n",
      "Epoch: 41 \tTrain Loss: 0.04010984013080597  | Test Loss: 3.20454674911499  | Test Acc.: 49.3875\n",
      "Epoch: 42 \tTrain Loss: 0.03592767133712769  | Test Loss: 3.253675124168396  | Test Acc.: 49.125\n",
      "Epoch: 43 \tTrain Loss: 0.03280984842777252  | Test Loss: 3.282744221687317  | Test Acc.: 49.1875\n",
      "Epoch: 44 \tTrain Loss: 0.028681038331985473  | Test Loss: 3.342033863067627  | Test Acc.: 49.1875\n",
      "Epoch: 45 \tTrain Loss: 0.025993953800201416  | Test Loss: 3.3744247846603392  | Test Acc.: 49.325\n",
      "Epoch: 46 \tTrain Loss: 0.023479542684555054  | Test Loss: 3.425284852027893  | Test Acc.: 49.1375\n",
      "Epoch: 47 \tTrain Loss: 0.021333534717559815  | Test Loss: 3.467120814323425  | Test Acc.: 49.1625\n",
      "Epoch: 48 \tTrain Loss: 0.019617685222625733  | Test Loss: 3.5031627073287965  | Test Acc.: 49.1125\n",
      "Epoch: 49 \tTrain Loss: 0.017873687267303467  | Test Loss: 3.547212770462036  | Test Acc.: 49.05\n",
      "Epoch: 50 \tTrain Loss: 0.016475460398197174  | Test Loss: 3.5895823612213134  | Test Acc.: 49.025\n",
      "Epoch: 51 \tTrain Loss: 0.015205406296253204  | Test Loss: 3.6179077091217042  | Test Acc.: 49.1125\n",
      "Epoch: 52 \tTrain Loss: 0.014166864371299744  | Test Loss: 3.656901777267456  | Test Acc.: 49.175\n",
      "Epoch: 53 \tTrain Loss: 0.013230678606033325  | Test Loss: 3.6873614501953127  | Test Acc.: 49.025\n",
      "Epoch: 54 \tTrain Loss: 0.012355133640766144  | Test Loss: 3.721067463874817  | Test Acc.: 49.075\n",
      "Epoch: 55 \tTrain Loss: 0.011598170804977418  | Test Loss: 3.7553459014892576  | Test Acc.: 49.0125\n",
      "Epoch: 56 \tTrain Loss: 0.010919663810729981  | Test Loss: 3.7827956495285036  | Test Acc.: 49.0125\n",
      "Epoch: 57 \tTrain Loss: 0.010296676331758499  | Test Loss: 3.8132905826568604  | Test Acc.: 49.025\n",
      "Epoch: 58 \tTrain Loss: 0.009698576885461807  | Test Loss: 3.843129265785217  | Test Acc.: 49.025\n",
      "Epoch: 59 \tTrain Loss: 0.009177738308906554  | Test Loss: 3.8664490423202516  | Test Acc.: 49.1125\n",
      "Epoch: 60 \tTrain Loss: 0.008714455211162568  | Test Loss: 3.8956640129089357  | Test Acc.: 48.9375\n",
      "Epoch: 61 \tTrain Loss: 0.008259148865938187  | Test Loss: 3.9205074653625487  | Test Acc.: 48.9875\n",
      "Epoch: 62 \tTrain Loss: 0.007878569304943085  | Test Loss: 3.946262788772583  | Test Acc.: 48.95\n",
      "Epoch: 63 \tTrain Loss: 0.007474683427810669  | Test Loss: 3.9705916290283203  | Test Acc.: 49.0625\n",
      "Epoch: 64 \tTrain Loss: 0.007162684559822083  | Test Loss: 3.9936456642150877  | Test Acc.: 48.9625\n",
      "Epoch: 65 \tTrain Loss: 0.006828463321924209  | Test Loss: 4.0163439331054684  | Test Acc.: 48.9\n",
      "Epoch: 66 \tTrain Loss: 0.006510311454534531  | Test Loss: 4.03733793258667  | Test Acc.: 48.9125\n",
      "Epoch: 67 \tTrain Loss: 0.006233052289485931  | Test Loss: 4.058268817901611  | Test Acc.: 48.9875\n",
      "Epoch: 68 \tTrain Loss: 0.005976749366521835  | Test Loss: 4.08023201751709  | Test Acc.: 48.925\n",
      "Epoch: 69 \tTrain Loss: 0.005739182949066162  | Test Loss: 4.094657218933105  | Test Acc.: 48.85\n",
      "Epoch: 70 \tTrain Loss: 0.005517418658733368  | Test Loss: 4.114250680923462  | Test Acc.: 48.825\n",
      "Epoch: 71 \tTrain Loss: 0.005302424365282059  | Test Loss: 4.134679616928101  | Test Acc.: 48.825\n",
      "Epoch: 72 \tTrain Loss: 0.005103794866800309  | Test Loss: 4.153666595458985  | Test Acc.: 48.825\n",
      "Epoch: 73 \tTrain Loss: 0.004938148009777069  | Test Loss: 4.17145532989502  | Test Acc.: 48.8\n",
      "Epoch: 74 \tTrain Loss: 0.004757395985722542  | Test Loss: 4.188134885787964  | Test Acc.: 48.7625\n",
      "Epoch: 75 \tTrain Loss: 0.004590364915132522  | Test Loss: 4.2053020992279055  | Test Acc.: 48.75\n",
      "Epoch: 76 \tTrain Loss: 0.0044447050422430035  | Test Loss: 4.222346069335938  | Test Acc.: 48.875\n",
      "Epoch: 77 \tTrain Loss: 0.004297166368365288  | Test Loss: 4.239135799407959  | Test Acc.: 48.85\n",
      "Epoch: 78 \tTrain Loss: 0.004164255848526955  | Test Loss: 4.255485279083252  | Test Acc.: 48.825\n",
      "Epoch: 79 \tTrain Loss: 0.004031743666529655  | Test Loss: 4.269020708084106  | Test Acc.: 48.8375\n",
      "Epoch: 80 \tTrain Loss: 0.003912696552276611  | Test Loss: 4.283997295379638  | Test Acc.: 48.7625\n",
      "Epoch: 81 \tTrain Loss: 0.0037963537007570268  | Test Loss: 4.299145696640014  | Test Acc.: 48.7875\n",
      "Epoch: 82 \tTrain Loss: 0.003685431206226349  | Test Loss: 4.312485807418823  | Test Acc.: 48.8125\n",
      "Epoch: 83 \tTrain Loss: 0.0035821002870798113  | Test Loss: 4.3253750953674315  | Test Acc.: 48.8625\n",
      "Epoch: 84 \tTrain Loss: 0.003483695450425148  | Test Loss: 4.340466306686402  | Test Acc.: 48.8875\n",
      "Epoch: 85 \tTrain Loss: 0.003384422406554222  | Test Loss: 4.3532540893554685  | Test Acc.: 48.925\n",
      "Epoch: 86 \tTrain Loss: 0.0032954923272132874  | Test Loss: 4.3667086353302  | Test Acc.: 48.9\n",
      "Epoch: 87 \tTrain Loss: 0.003215351113677025  | Test Loss: 4.3800823135375975  | Test Acc.: 48.9125\n",
      "Epoch: 88 \tTrain Loss: 0.0031267843306064607  | Test Loss: 4.39171590423584  | Test Acc.: 48.925\n",
      "Epoch: 89 \tTrain Loss: 0.0030524942129850387  | Test Loss: 4.404344476699829  | Test Acc.: 48.925\n",
      "Epoch: 90 \tTrain Loss: 0.002971708071231842  | Test Loss: 4.416961246490478  | Test Acc.: 48.8625\n",
      "Epoch: 91 \tTrain Loss: 0.002901101329922676  | Test Loss: 4.429560110092163  | Test Acc.: 48.875\n",
      "Epoch: 92 \tTrain Loss: 0.002830203577876091  | Test Loss: 4.442416711807251  | Test Acc.: 48.8\n",
      "Epoch: 93 \tTrain Loss: 0.002764542219042778  | Test Loss: 4.452305414199829  | Test Acc.: 48.75\n",
      "Epoch: 94 \tTrain Loss: 0.0026984967648983  | Test Loss: 4.464560430526733  | Test Acc.: 48.8\n",
      "Epoch: 95 \tTrain Loss: 0.0026393848776817322  | Test Loss: 4.474641736984253  | Test Acc.: 48.8375\n",
      "Epoch: 96 \tTrain Loss: 0.002577804088592529  | Test Loss: 4.486367073059082  | Test Acc.: 48.825\n",
      "Epoch: 97 \tTrain Loss: 0.002524813586473465  | Test Loss: 4.496866331100464  | Test Acc.: 48.85\n",
      "Epoch: 98 \tTrain Loss: 0.0024700466945767404  | Test Loss: 4.507871538162232  | Test Acc.: 48.8375\n",
      "Epoch: 99 \tTrain Loss: 0.002415952402353287  | Test Loss: 4.517554899215698  | Test Acc.: 48.85\n",
      "Epoch: 100 \tTrain Loss: 0.0023668718099594116  | Test Loss: 4.5275298042297365  | Test Acc.: 48.8625\n"
     ]
    }
   ],
   "source": [
    "train_loss_plt, valid_loss_plt = [], []\n",
    "test_accuracy_plt = []\n",
    "test_loss_plt = []\n",
    "n_epochs = 100\n",
    "for epoch in range(n_epochs):\n",
    "    train_loss, test_loss = 0, 0\n",
    "    model.train()\n",
    "    for images, labels in train_loader:\n",
    "        images, labels = images.to(device), labels.to(device)\n",
    "\n",
    "        optimizer.zero_grad()\n",
    "        output = model(images)\n",
    "        loss = CE(output, labels)\n",
    "        loss.backward()\n",
    "        optimizer.step()\n",
    "        \n",
    "        train_loss += loss.item() * images.size(0)\n",
    "\n",
    "    train_loss = train_loss / len(train_loader.dataset)\n",
    "    train_loss_plt.append(train_loss)\n",
    "\n",
    "    class_correct = list(0. for i in range(10))\n",
    "    class_total = list(0. for i in range(10))\n",
    "    model.eval()\n",
    "    with torch.no_grad():\n",
    "        for data, target in test_loader:\n",
    "            data, target = data.cuda(), target.cuda()\n",
    "            output = model(data)\n",
    "            loss = CE(output, target)\n",
    "\n",
    "            test_loss += loss.item() * data.size(0)\n",
    "            _, pred = torch.max(output, 1)\n",
    "            correct = np.squeeze(pred.eq(target.data.view_as(pred)))\n",
    "            for i in range(len(target)):\n",
    "                label = target.data[i]\n",
    "                class_correct[label] += correct[i].item()\n",
    "                class_total[label] += 1\n",
    "\n",
    "    test_loss = test_loss / len(test_loader.dataset)\n",
    "    test_loss_plt.append(test_loss)\n",
    "    \n",
    "    test_accuracy = 100. * np.sum(class_correct) / np.sum(class_total)\n",
    "    test_accuracy_plt.append(test_accuracy)\n",
    "\n",
    "    print('Epoch:', (epoch + 1), '\\tTrain Loss:', train_loss,' | Test Loss:', test_loss,' | Test Acc.:',test_accuracy)"
   ]
  },
  {
   "cell_type": "markdown",
   "metadata": {
    "colab_type": "text",
    "id": "lhVSKbxWVT9T"
   },
   "source": [
    "### Saving"
   ]
  },
  {
   "cell_type": "code",
   "execution_count": 0,
   "metadata": {
    "colab": {},
    "colab_type": "code",
    "id": "wm5QvSLiVT9U"
   },
   "outputs": [],
   "source": [
    "joblib.dump(train_loss_plt, 'train_loss_plt_q3_Xavier_100.sav')\n",
    "joblib.dump(test_loss_plt, 'test_loss_plt_q3_Xavier_100.sav')\n",
    "joblib.dump(test_accuracy_plt, 'test_accuracy_plt_q3_Xavier_100.sav')\n",
    "torch.save(model.state_dict(), \"model_q3_Xavier_100.pt\")"
   ]
  },
  {
   "cell_type": "code",
   "execution_count": 6,
   "metadata": {
    "colab": {
     "base_uri": "https://localhost:8080/",
     "height": 282
    },
    "colab_type": "code",
    "id": "uCcZ0RWuVT9V",
    "outputId": "4c468a2e-8b1d-4cf6-8b17-ed2bac06574a"
   },
   "outputs": [
    {
     "data": {
      "text/plain": [
       "[<matplotlib.lines.Line2D at 0x7fd5b81ae518>]"
      ]
     },
     "execution_count": 6,
     "metadata": {
      "tags": []
     },
     "output_type": "execute_result"
    },
    {
     "data": {
      "image/png": "[encoded data removed]",
      "text/plain": [
       "<Figure size 432x288 with 1 Axes>"
      ]
     },
     "metadata": {
      "tags": []
     },
     "output_type": "display_data"
    }
   ],
   "source": [
    "plt.plot(np.arange(len(train_loss_plt)),train_loss_plt)"
   ]
  },
  {
   "cell_type": "code",
   "execution_count": 7,
   "metadata": {
    "colab": {
     "base_uri": "https://localhost:8080/",
     "height": 282
    },
    "colab_type": "code",
    "id": "V4clRFDX4Ee6",
    "outputId": "80b67acf-3e34-491d-b176-a6f5a5d87032"
   },
   "outputs": [
    {
     "data": {
      "text/plain": [
       "[<matplotlib.lines.Line2D at 0x7fd5b8144cc0>]"
      ]
     },
     "execution_count": 7,
     "metadata": {
      "tags": []
     },
     "output_type": "execute_result"
    },
    {
     "data": {
      "image/png": "[encoded data removed]",
      "text/plain": [
       "<Figure size 432x288 with 1 Axes>"
      ]
     },
     "metadata": {
      "tags": []
     },
     "output_type": "display_data"
    }
   ],
   "source": [
    "plt.plot(np.arange(len(test_loss_plt)),test_loss_plt)"
   ]
  },
  {
   "cell_type": "code",
   "execution_count": 8,
   "metadata": {
    "colab": {
     "base_uri": "https://localhost:8080/",
     "height": 282
    },
    "colab_type": "code",
    "id": "YaOTD5OjVT9Y",
    "outputId": "0cceeb10-fefd-4e41-a776-ced77bbf2604"
   },
   "outputs": [
    {
     "data": {
      "text/plain": [
       "[<matplotlib.lines.Line2D at 0x7fd5b80b09e8>]"
      ]
     },
     "execution_count": 8,
     "metadata": {
      "tags": []
     },
     "output_type": "execute_result"
    },
    {
     "data": {
      "image/png": "[encoded data removed]",
      "text/plain": [
       "<Figure size 432x288 with 1 Axes>"
      ]
     },
     "metadata": {
      "tags": []
     },
     "output_type": "display_data"
    }
   ],
   "source": [
    "plt.plot(np.arange(len(test_accuracy_plt)),test_accuracy_plt)"
   ]
  },
  {
   "cell_type": "code",
   "execution_count": 0,
   "metadata": {
    "colab": {},
    "colab_type": "code",
    "id": "FAH_9DqdzYww"
   },
   "outputs": [],
   "source": []
  },
  {
   "cell_type": "code",
   "execution_count": 2,
   "metadata": {},
   "outputs": [
    {
     "data": {
      "image/png": "[encoded data removed]",
      "text/plain": [
       "<Figure size 432x288 with 1 Axes>"
      ]
     },
     "metadata": {
      "needs_background": "light"
     },
     "output_type": "display_data"
    },
    {
     "data": {
      "image/png": "[encoded data removed]",
      "text/plain": [
       "<Figure size 432x288 with 1 Axes>"
      ]
     },
     "metadata": {
      "needs_background": "light"
     },
     "output_type": "display_data"
    },
    {
     "data": {
      "image/png": "[encoded data removed]",
      "text/plain": [
       "<Figure size 432x288 with 1 Axes>"
      ]
     },
     "metadata": {
      "needs_background": "light"
     },
     "output_type": "display_data"
    }
   ],
   "source": [
    "import joblib\n",
    "import matplotlib.pyplot as plt\n",
    "import numpy as np\n",
    "\n",
    "train_loss_plt = joblib.load('train_loss_plt_q3_Xavier_100.sav')\n",
    "test_loss_plt = joblib.load('test_loss_plt_q3_Xavier_100.sav')\n",
    "test_accuracy_plt = joblib.load('test_accuracy_plt_q3_Xavier_100.sav')\n",
    "\n",
    "plt.title('Xavier epochs=100 Train loss')\n",
    "plt.plot(np.arange(len(train_loss_plt)),train_loss_plt,label = 'Train Loss')\n",
    "plt.xlabel('Epochs')\n",
    "plt.ylabel('Loss')\n",
    "plt.legend()\n",
    "plt.show()\n",
    "\n",
    "plt.title('Xavier epochs=100 Test Loss')\n",
    "plt.plot(np.arange(len(test_loss_plt)),test_loss_plt,color='r',label = 'Test Loss')\n",
    "plt.xlabel('Epochs')\n",
    "plt.ylabel('Loss')\n",
    "plt.legend()\n",
    "plt.show()\n",
    "\n",
    "plt.title('Xavier epochs=100 Test Accuracy')\n",
    "plt.plot(np.arange(len(test_accuracy_plt)),test_accuracy_plt,color='g',label = 'Test Accuracy')\n",
    "plt.xlabel('Epochs')\n",
    "plt.ylabel('Accuracy')\n",
    "plt.legend()\n",
    "plt.show()"
   ]
  },
  {
   "cell_type": "code",
   "execution_count": null,
   "metadata": {},
   "outputs": [],
   "source": []
  }
 ],
 "metadata": {
  "accelerator": "GPU",
  "colab": {
   "collapsed_sections": [],
   "name": "AML_A4_Q3_Xavier_100.ipynb",
   "provenance": [],
   "toc_visible": true
  },
  "kernelspec": {
   "display_name": "Python 3",
   "language": "python",
   "name": "python3"
  },
  "language_info": {
   "codemirror_mode": {
    "name": "ipython",
    "version": 3
   },
   "file_extension": ".py",
   "mimetype": "text/x-python",
   "name": "python",
   "nbconvert_exporter": "python",
   "pygments_lexer": "ipython3",
   "version": "3.7.1"
  }
 },
 "nbformat": 4,
 "nbformat_minor": 1
}
