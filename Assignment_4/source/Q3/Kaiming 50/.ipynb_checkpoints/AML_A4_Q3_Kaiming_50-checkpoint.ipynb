{
 "cells": [
  {
   "cell_type": "code",
   "execution_count": 0,
   "metadata": {
    "colab": {},
    "colab_type": "code",
    "id": "AMc_zaeV2Xxz"
   },
   "outputs": [],
   "source": [
    "import torch\n",
    "from torchvision import datasets, transforms\n",
    "import torch.nn as nn\n",
    "import torch.nn.functional as F\n",
    "import torch.optim as optim\n",
    "from torch.utils.data import DataLoader\n",
    "from torch.utils.data.sampler import SubsetRandomSampler\n",
    "import matplotlib.pyplot as plt\n",
    "import numpy as np\n",
    "import joblib\n",
    "from torch.autograd import Variable"
   ]
  },
  {
   "cell_type": "code",
   "execution_count": 2,
   "metadata": {
    "colab": {
     "base_uri": "https://localhost:8080/",
     "height": 87
    },
    "colab_type": "code",
    "id": "DqkY0goW2ezq",
    "outputId": "6366d7c5-c6fb-4662-8c5d-53945b0f8245"
   },
   "outputs": [
    {
     "name": "stderr",
     "output_type": "stream",
     "text": [
      "\r",
      "0it [00:00, ?it/s]"
     ]
    },
    {
     "name": "stdout",
     "output_type": "stream",
     "text": [
      "Downloading http://ai.stanford.edu/~acoates/stl10/stl10_binary.tar.gz to ./Datasets/STL10_data/stl10_binary.tar.gz\n"
     ]
    },
    {
     "name": "stderr",
     "output_type": "stream",
     "text": [
      "100%|█████████▉| 2637602816/2640397119 [04:06<00:00, 19627406.81it/s]"
     ]
    },
    {
     "name": "stdout",
     "output_type": "stream",
     "text": [
      "Extracting ./Datasets/STL10_data/stl10_binary.tar.gz to ./Datasets/STL10_data/\n"
     ]
    },
    {
     "name": "stderr",
     "output_type": "stream",
     "text": [
      "\r",
      "2640404480it [04:20, 19627406.81it/s]                                "
     ]
    },
    {
     "name": "stdout",
     "output_type": "stream",
     "text": [
      "Files already downloaded and verified\n"
     ]
    }
   ],
   "source": [
    "path = \"./Datasets/STL10_data/\"\n",
    "# path = \"E:/Datasets/STL10_data/\"\n",
    "\n",
    "device = 'cuda'\n",
    "num_workers = 0\n",
    "batch_size = 64\n",
    "\n",
    "transform = transforms.Compose([transforms.ToTensor(), transforms.Normalize((0.5, 0.5, 0.5), (0.5, 0.5, 0.5))])\n",
    "\n",
    "train_data = datasets.STL10(path, split='train', download=True, transform=transform)\n",
    "test_data = datasets.STL10(path, split='test', download=True, transform=transform)\n",
    "\n",
    "train_loader = DataLoader(train_data, batch_size=batch_size, num_workers=num_workers)\n",
    "test_loader = DataLoader(test_data, batch_size=batch_size, num_workers=num_workers)\n",
    "# classes = [\"plane\", \"car\", \"bird\", \"cat\", \"deer\", \"dog\", \"frog\", \"horse\", \"ship\", \"truck\"]"
   ]
  },
  {
   "cell_type": "code",
   "execution_count": 0,
   "metadata": {
    "colab": {},
    "colab_type": "code",
    "id": "muplnodH2grQ"
   },
   "outputs": [],
   "source": [
    "device='cuda'\n",
    "class Architecture(nn.Module):\n",
    "\n",
    "    def __init__(self):\n",
    "        super(Architecture, self).__init__()\n",
    "        \n",
    "        self.b_1 = nn.Sequential(nn.Conv2d(3, 16, kernel_size=3, padding=1),\n",
    "                                nn.BatchNorm2d(16),\n",
    "                                nn.ReLU())\n",
    "        \n",
    "        self.b_2 = nn.Sequential(nn.Conv2d(16, 32, kernel_size=3, padding=1),\n",
    "                                nn.BatchNorm2d(32),\n",
    "                                nn.ReLU())\n",
    "        \n",
    "        self.b_3 = nn.Sequential(nn.Conv2d(32, 32, kernel_size=3, padding=1),\n",
    "                                nn.BatchNorm2d(32),\n",
    "                                nn.ReLU())\n",
    "        \n",
    "        self.b_4 = nn.Sequential(nn.Conv2d(32, 16, kernel_size=3, padding=1),\n",
    "                                nn.BatchNorm2d(16),\n",
    "                                nn.ReLU())\n",
    "        \n",
    "        self.b_5 = nn.Sequential(nn.Conv2d(16, 3, kernel_size=3, padding=1),\n",
    "                                nn.BatchNorm2d(3),\n",
    "                                nn.ReLU())\n",
    "        \n",
    "        self.pool = nn.MaxPool2d(2)\n",
    "\n",
    "        self.fc_1 = nn.Linear(3 * 3 * 3, 256)\n",
    "        self.fc_2 = nn.Linear(256, 10)\n",
    "\n",
    "        self.relu = nn.ReLU()\n",
    "\n",
    "    def forward(self, x):\n",
    "        x = self.pool(self.b_1(x))\n",
    "        x = self.pool(self.b_2(x))\n",
    "        x = self.pool(self.b_3(x))\n",
    "        x = self.pool(self.b_4(x))\n",
    "        x = self.pool(self.b_5(x))\n",
    "        # print(x.shape)\n",
    "        \n",
    "        x = x.view(-1, 3 * 3 * 3)\n",
    "        x = self.relu(self.fc_1(x))\n",
    "        # x = self.relu(self.fc_2(x))\n",
    "        x = self.fc_2(x)\n",
    "        return x\n",
    "\n",
    "def init_weights(m):\n",
    "    if isinstance(m, nn.Conv2d):\n",
    "        torch.nn.init.uniform_(m.weight.data)\n",
    "    if(isinstance(m, nn.Linear)):\n",
    "        torch.nn.init.uniform_(m.weight.data)\n",
    "        \n",
    "model = Architecture()\n",
    "model.apply(init_weights)\n",
    "\n",
    "model.to(device)\n",
    "\n",
    "CE = nn.CrossEntropyLoss()\n",
    "optimizer = optim.Adagrad(model.parameters(), lr=0.02)"
   ]
  },
  {
   "cell_type": "code",
   "execution_count": 4,
   "metadata": {
    "colab": {
     "base_uri": "https://localhost:8080/",
     "height": 857
    },
    "colab_type": "code",
    "id": "-Da_1kvy2pC-",
    "outputId": "c97adaec-5e37-42db-8f77-71312f507e68"
   },
   "outputs": [
    {
     "name": "stdout",
     "output_type": "stream",
     "text": [
      "Epoch: 1 \tTrain Loss: 11.170883840942382  | Test Loss: 11.69369766998291  | Test Acc.: 12.45\n",
      "Epoch: 2 \tTrain Loss: 4.402288116455078  | Test Loss: 3.748342643737793  | Test Acc.: 14.1\n",
      "Epoch: 3 \tTrain Loss: 3.51554671459198  | Test Loss: 5.393734437942505  | Test Acc.: 12.45\n",
      "Epoch: 4 \tTrain Loss: 3.2206054580688477  | Test Loss: 5.39701678276062  | Test Acc.: 12.6625\n",
      "Epoch: 5 \tTrain Loss: 2.9914832876205444  | Test Loss: 3.7028741912841796  | Test Acc.: 12.9375\n",
      "Epoch: 6 \tTrain Loss: 2.7709458515167236  | Test Loss: 3.636558431625366  | Test Acc.: 13.025\n",
      "Epoch: 7 \tTrain Loss: 2.694792531204224  | Test Loss: 3.464863485336304  | Test Acc.: 12.9375\n",
      "Epoch: 8 \tTrain Loss: 2.6044596015930175  | Test Loss: 3.236834379196167  | Test Acc.: 12.975\n",
      "Epoch: 9 \tTrain Loss: 2.545693439102173  | Test Loss: 3.1911444568634035  | Test Acc.: 12.9125\n",
      "Epoch: 10 \tTrain Loss: 2.5014395042419433  | Test Loss: 3.0888329582214356  | Test Acc.: 13.0125\n",
      "Epoch: 11 \tTrain Loss: 2.4711409503936768  | Test Loss: 3.0386556148529054  | Test Acc.: 13.0\n",
      "Epoch: 12 \tTrain Loss: 2.447729341125488  | Test Loss: 2.983215700149536  | Test Acc.: 13.05\n",
      "Epoch: 13 \tTrain Loss: 2.428294490814209  | Test Loss: 2.9349131870269773  | Test Acc.: 13.0625\n",
      "Epoch: 14 \tTrain Loss: 2.4123700635910033  | Test Loss: 2.8970621509552004  | Test Acc.: 13.025\n",
      "Epoch: 15 \tTrain Loss: 2.399795196342468  | Test Loss: 2.8613656959533693  | Test Acc.: 13.0125\n",
      "Epoch: 16 \tTrain Loss: 2.3879329418182373  | Test Loss: 2.8322617168426514  | Test Acc.: 13.075\n",
      "Epoch: 17 \tTrain Loss: 2.376001082611084  | Test Loss: 2.8076980934143068  | Test Acc.: 13.075\n",
      "Epoch: 18 \tTrain Loss: 2.3640792137145996  | Test Loss: 2.7828151512145998  | Test Acc.: 13.0375\n",
      "Epoch: 19 \tTrain Loss: 2.352854786300659  | Test Loss: 2.7601602725982666  | Test Acc.: 13.05\n",
      "Epoch: 20 \tTrain Loss: 2.342513919067383  | Test Loss: 2.7365619258880614  | Test Acc.: 13.0625\n",
      "Epoch: 21 \tTrain Loss: 2.333480899620056  | Test Loss: 2.7121419429779055  | Test Acc.: 13.125\n",
      "Epoch: 22 \tTrain Loss: 2.3254071584701537  | Test Loss: 2.6878372192382813  | Test Acc.: 13.225\n",
      "Epoch: 23 \tTrain Loss: 2.31802045173645  | Test Loss: 2.665536993026733  | Test Acc.: 13.3625\n",
      "Epoch: 24 \tTrain Loss: 2.3112160778045654  | Test Loss: 2.6442181282043458  | Test Acc.: 13.325\n",
      "Epoch: 25 \tTrain Loss: 2.3050527742385865  | Test Loss: 2.6212197303771974  | Test Acc.: 13.325\n",
      "Epoch: 26 \tTrain Loss: 2.2992959857940676  | Test Loss: 2.602159673690796  | Test Acc.: 13.3875\n",
      "Epoch: 27 \tTrain Loss: 2.2937913482666015  | Test Loss: 2.5842063808441162  | Test Acc.: 13.4625\n",
      "Epoch: 28 \tTrain Loss: 2.2885259071350097  | Test Loss: 2.567971548080444  | Test Acc.: 13.5\n",
      "Epoch: 29 \tTrain Loss: 2.2837109699249267  | Test Loss: 2.5450403861999513  | Test Acc.: 13.675\n",
      "Epoch: 30 \tTrain Loss: 2.278269268798828  | Test Loss: 2.5210129890441895  | Test Acc.: 13.7625\n",
      "Epoch: 31 \tTrain Loss: 2.2727600383758544  | Test Loss: 2.494143178939819  | Test Acc.: 13.85\n",
      "Epoch: 32 \tTrain Loss: 2.2674165063858034  | Test Loss: 2.4753049736022947  | Test Acc.: 13.975\n",
      "Epoch: 33 \tTrain Loss: 2.2625397773742675  | Test Loss: 2.4578670082092287  | Test Acc.: 14.2125\n",
      "Epoch: 34 \tTrain Loss: 2.257515749359131  | Test Loss: 2.4367081699371336  | Test Acc.: 14.7375\n",
      "Epoch: 35 \tTrain Loss: 2.2516619297027587  | Test Loss: 2.4173391246795655  | Test Acc.: 14.8875\n",
      "Epoch: 36 \tTrain Loss: 2.243458260345459  | Test Loss: 2.3789983882904053  | Test Acc.: 15.3875\n",
      "Epoch: 37 \tTrain Loss: 2.234311306762695  | Test Loss: 2.3473524227142333  | Test Acc.: 16.6375\n",
      "Epoch: 38 \tTrain Loss: 2.2229645935058593  | Test Loss: 2.3365463981628416  | Test Acc.: 17.4125\n",
      "Epoch: 39 \tTrain Loss: 2.2149251316070555  | Test Loss: 2.351805410385132  | Test Acc.: 16.925\n",
      "Epoch: 40 \tTrain Loss: 2.2081349075317385  | Test Loss: 2.366966697692871  | Test Acc.: 17.1875\n",
      "Epoch: 41 \tTrain Loss: 2.202556715774536  | Test Loss: 2.3775492267608644  | Test Acc.: 17.1625\n",
      "Epoch: 42 \tTrain Loss: 2.1979121616363524  | Test Loss: 2.3769100131988528  | Test Acc.: 17.2625\n",
      "Epoch: 43 \tTrain Loss: 2.1942251865386964  | Test Loss: 2.3705261249542238  | Test Acc.: 17.3625\n",
      "Epoch: 44 \tTrain Loss: 2.190829808807373  | Test Loss: 2.3651495819091797  | Test Acc.: 17.3625\n",
      "Epoch: 45 \tTrain Loss: 2.1878900566101076  | Test Loss: 2.365936115264893  | Test Acc.: 17.55\n",
      "Epoch: 46 \tTrain Loss: 2.185232995605469  | Test Loss: 2.364484811782837  | Test Acc.: 17.7125\n",
      "Epoch: 47 \tTrain Loss: 2.1825136402130125  | Test Loss: 2.3602749862670898  | Test Acc.: 17.9125\n",
      "Epoch: 48 \tTrain Loss: 2.180041866874695  | Test Loss: 2.355717224121094  | Test Acc.: 17.925\n",
      "Epoch: 49 \tTrain Loss: 2.1774425149917604  | Test Loss: 2.348711172103882  | Test Acc.: 18.15\n",
      "Epoch: 50 \tTrain Loss: 2.175003179168701  | Test Loss: 2.345786912918091  | Test Acc.: 18.15\n"
     ]
    }
   ],
   "source": [
    "train_loss_plt, valid_loss_plt = [], []\n",
    "test_accuracy_plt = []\n",
    "test_loss_plt = []\n",
    "n_epochs = 50\n",
    "for epoch in range(n_epochs):\n",
    "    train_loss, test_loss = 0, 0\n",
    "    model.train()\n",
    "    for images, labels in train_loader:\n",
    "        images, labels = images.to(device), labels.to(device)\n",
    "\n",
    "        optimizer.zero_grad()\n",
    "        output = model(images)\n",
    "        loss = CE(output, labels)\n",
    "        loss.backward()\n",
    "        optimizer.step()\n",
    "        \n",
    "        train_loss += loss.item() * images.size(0)\n",
    "\n",
    "    train_loss = train_loss / len(train_loader.dataset)\n",
    "    train_loss_plt.append(train_loss)\n",
    "\n",
    "    class_correct = list(0. for i in range(10))\n",
    "    class_total = list(0. for i in range(10))\n",
    "    model.eval()\n",
    "    with torch.no_grad():\n",
    "        for data, target in test_loader:\n",
    "            data, target = data.cuda(), target.cuda()\n",
    "            output = model(data)\n",
    "            loss = CE(output, target)\n",
    "\n",
    "            test_loss += loss.item() * data.size(0)\n",
    "            _, pred = torch.max(output, 1)\n",
    "            correct = np.squeeze(pred.eq(target.data.view_as(pred)))\n",
    "            for i in range(len(target)):\n",
    "                label = target.data[i]\n",
    "                class_correct[label] += correct[i].item()\n",
    "                class_total[label] += 1\n",
    "\n",
    "    test_loss = test_loss / len(test_loader.dataset)\n",
    "    test_loss_plt.append(test_loss)\n",
    "    \n",
    "    test_accuracy = 100. * np.sum(class_correct) / np.sum(class_total)\n",
    "    test_accuracy_plt.append(test_accuracy)\n",
    "\n",
    "    print('Epoch:', (epoch + 1), '\\tTrain Loss:', train_loss,' | Test Loss:', test_loss,' | Test Acc.:',test_accuracy)"
   ]
  },
  {
   "cell_type": "code",
   "execution_count": 0,
   "metadata": {
    "colab": {},
    "colab_type": "code",
    "id": "j6jdc6Wg2uY-"
   },
   "outputs": [],
   "source": [
    "joblib.dump(train_loss_plt, 'train_loss_plt_q3_Kaiming_50.sav')\n",
    "joblib.dump(test_loss_plt, 'test_loss_plt_q3_Kaiming_50.sav')\n",
    "joblib.dump(test_accuracy_plt, 'test_accuracy_plt_q3_Kaiming_50.sav')\n",
    "torch.save(model.state_dict(), \"model_q3_Kaiming_50.pt\")"
   ]
  },
  {
   "cell_type": "code",
   "execution_count": 10,
   "metadata": {
    "colab": {
     "base_uri": "https://localhost:8080/",
     "height": 282
    },
    "colab_type": "code",
    "id": "81Q7Eab_2vbG",
    "outputId": "3dccef28-7ad2-4f2a-d86a-7730795c9e26"
   },
   "outputs": [
    {
     "data": {
      "text/plain": [
       "[<matplotlib.lines.Line2D at 0x7f9ef00fb518>]"
      ]
     },
     "execution_count": 10,
     "metadata": {
      "tags": []
     },
     "output_type": "execute_result"
    },
    {
     "data": {
      "image/png": "[encoded data removed]",
      "text/plain": [
       "<Figure size 432x288 with 1 Axes>"
      ]
     },
     "metadata": {
      "tags": []
     },
     "output_type": "display_data"
    }
   ],
   "source": [
    "plt.plot(np.arange(len(train_loss_plt)),train_loss_plt)"
   ]
  },
  {
   "cell_type": "code",
   "execution_count": 11,
   "metadata": {
    "colab": {
     "base_uri": "https://localhost:8080/",
     "height": 283
    },
    "colab_type": "code",
    "id": "t5y1osb72xgK",
    "outputId": "5b7c05d8-068c-4d58-e47b-50cc11b20858"
   },
   "outputs": [
    {
     "data": {
      "text/plain": [
       "[<matplotlib.lines.Line2D at 0x7f9ef00d7160>]"
      ]
     },
     "execution_count": 11,
     "metadata": {
      "tags": []
     },
     "output_type": "execute_result"
    },
    {
     "data": {
      "image/png": "[encoded data removed]",
      "text/plain": [
       "<Figure size 432x288 with 1 Axes>"
      ]
     },
     "metadata": {
      "tags": []
     },
     "output_type": "display_data"
    }
   ],
   "source": [
    "plt.plot(np.arange(len(test_loss_plt)),test_loss_plt)"
   ]
  },
  {
   "cell_type": "code",
   "execution_count": 12,
   "metadata": {
    "colab": {
     "base_uri": "https://localhost:8080/",
     "height": 282
    },
    "colab_type": "code",
    "id": "iMZ2fMn42xUd",
    "outputId": "f6c3ff1b-4c57-4cd3-ab93-a01f59dbf490"
   },
   "outputs": [
    {
     "data": {
      "text/plain": [
       "[<matplotlib.lines.Line2D at 0x7f9ef0035320>]"
      ]
     },
     "execution_count": 12,
     "metadata": {
      "tags": []
     },
     "output_type": "execute_result"
    },
    {
     "data": {
      "image/png": "[encoded data removed]",
      "text/plain": [
       "<Figure size 432x288 with 1 Axes>"
      ]
     },
     "metadata": {
      "tags": []
     },
     "output_type": "display_data"
    }
   ],
   "source": [
    "plt.plot(np.arange(len(test_accuracy_plt)),test_accuracy_plt)"
   ]
  },
  {
   "cell_type": "code",
   "execution_count": 0,
   "metadata": {
    "colab": {},
    "colab_type": "code",
    "id": "9_sujqZ95nmb"
   },
   "outputs": [],
   "source": []
  },
  {
   "cell_type": "code",
   "execution_count": 2,
   "metadata": {},
   "outputs": [
    {
     "data": {
      "image/png": "[encoded data removed]",
      "text/plain": [
       "<Figure size 432x288 with 1 Axes>"
      ]
     },
     "metadata": {
      "needs_background": "light"
     },
     "output_type": "display_data"
    },
    {
     "data": {
      "image/png": "[encoded data removed]",
      "text/plain": [
       "<Figure size 432x288 with 1 Axes>"
      ]
     },
     "metadata": {
      "needs_background": "light"
     },
     "output_type": "display_data"
    },
    {
     "data": {
      "image/png": "[encoded data removed]",
      "text/plain": [
       "<Figure size 432x288 with 1 Axes>"
      ]
     },
     "metadata": {
      "needs_background": "light"
     },
     "output_type": "display_data"
    }
   ],
   "source": [
    "import joblib\n",
    "import matplotlib.pyplot as plt\n",
    "import numpy as np\n",
    "\n",
    "train_loss_plt = joblib.load('train_loss_plt_q3_Kaiming_50.sav')\n",
    "test_loss_plt = joblib.load('test_loss_plt_q3_Kaiming_50.sav')\n",
    "test_accuracy_plt = joblib.load('test_accuracy_plt_q3_Kaiming_50.sav')\n",
    "\n",
    "plt.title('Kaiming epochs=50 Train loss')\n",
    "plt.plot(np.arange(len(train_loss_plt)),train_loss_plt,label = 'Train Loss')\n",
    "plt.xlabel('Epochs')\n",
    "plt.ylabel('Loss')\n",
    "plt.legend()\n",
    "plt.show()\n",
    "\n",
    "plt.title('Kaiming epochs=50 Test Loss')\n",
    "plt.plot(np.arange(len(test_loss_plt)),test_loss_plt,color='r',label = 'Test Loss')\n",
    "plt.xlabel('Epochs')\n",
    "plt.ylabel('Loss')\n",
    "plt.legend()\n",
    "plt.show()\n",
    "\n",
    "plt.title('Kaiming epochs=50 Test Accuracy')\n",
    "plt.plot(np.arange(len(test_accuracy_plt)),test_accuracy_plt,color='g',label = 'Test Accuracy')\n",
    "plt.xlabel('Epochs')\n",
    "plt.ylabel('Accuracy')\n",
    "plt.legend()\n",
    "plt.show()"
   ]
  },
  {
   "cell_type": "code",
   "execution_count": null,
   "metadata": {},
   "outputs": [],
   "source": []
  },
  {
   "cell_type": "code",
   "execution_count": null,
   "metadata": {},
   "outputs": [],
   "source": []
  }
 ],
 "metadata": {
  "accelerator": "GPU",
  "colab": {
   "collapsed_sections": [],
   "name": "AML_A4_Q3_Kaiming_50.ipynb",
   "provenance": []
  },
  "kernelspec": {
   "display_name": "Python 3",
   "language": "python",
   "name": "python3"
  },
  "language_info": {
   "codemirror_mode": {
    "name": "ipython",
    "version": 3
   },
   "file_extension": ".py",
   "mimetype": "text/x-python",
   "name": "python",
   "nbconvert_exporter": "python",
   "pygments_lexer": "ipython3",
   "version": "3.7.1"
  }
 },
 "nbformat": 4,
 "nbformat_minor": 1
}
