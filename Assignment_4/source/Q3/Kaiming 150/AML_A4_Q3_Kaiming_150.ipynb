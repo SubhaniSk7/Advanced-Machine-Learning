{
 "cells": [
  {
   "cell_type": "code",
   "execution_count": 0,
   "metadata": {
    "colab": {},
    "colab_type": "code",
    "id": "AMc_zaeV2Xxz"
   },
   "outputs": [],
   "source": [
    "import torch\n",
    "from torchvision import datasets, transforms\n",
    "import torch.nn as nn\n",
    "import torch.nn.functional as F\n",
    "import torch.optim as optim\n",
    "from torch.utils.data import DataLoader\n",
    "from torch.utils.data.sampler import SubsetRandomSampler\n",
    "import matplotlib.pyplot as plt\n",
    "import numpy as np\n",
    "import joblib\n",
    "from torch.autograd import Variable"
   ]
  },
  {
   "cell_type": "code",
   "execution_count": 3,
   "metadata": {
    "colab": {
     "base_uri": "https://localhost:8080/",
     "height": 67
    },
    "colab_type": "code",
    "id": "DqkY0goW2ezq",
    "outputId": "22d8a307-821e-480a-aea4-fce80157869e"
   },
   "outputs": [
    {
     "name": "stderr",
     "output_type": "stream",
     "text": [
      "\r",
      "0it [00:00, ?it/s]"
     ]
    },
    {
     "name": "stdout",
     "output_type": "stream",
     "text": [
      "Downloading http://ai.stanford.edu/~acoates/stl10/stl10_binary.tar.gz to ./Datasets/STL10_data/stl10_binary.tar.gz\n"
     ]
    },
    {
     "name": "stderr",
     "output_type": "stream",
     "text": [
      "100%|█████████▉| 2638331904/2640397119 [02:06<00:00, 21923490.99it/s]"
     ]
    },
    {
     "name": "stdout",
     "output_type": "stream",
     "text": [
      "Extracting ./Datasets/STL10_data/stl10_binary.tar.gz to ./Datasets/STL10_data/\n"
     ]
    },
    {
     "name": "stderr",
     "output_type": "stream",
     "text": [
      "\r",
      "2640404480it [02:20, 21923490.99it/s]                                "
     ]
    },
    {
     "name": "stdout",
     "output_type": "stream",
     "text": [
      "Files already downloaded and verified\n"
     ]
    }
   ],
   "source": [
    "path = \"./Datasets/STL10_data/\"\n",
    "# path = \"E:/Datasets/STL10_data/\"\n",
    "\n",
    "device = 'cuda'\n",
    "num_workers = 0\n",
    "batch_size = 64\n",
    "\n",
    "transform = transforms.Compose([transforms.ToTensor(), transforms.Normalize((0.5, 0.5, 0.5), (0.5, 0.5, 0.5))])\n",
    "\n",
    "train_data = datasets.STL10(path, split='train', download=True, transform=transform)\n",
    "test_data = datasets.STL10(path, split='test', download=True, transform=transform)\n",
    "\n",
    "train_loader = DataLoader(train_data, batch_size=batch_size, num_workers=num_workers)\n",
    "test_loader = DataLoader(test_data, batch_size=batch_size, num_workers=num_workers)\n",
    "# classes = [\"plane\", \"car\", \"bird\", \"cat\", \"deer\", \"dog\", \"frog\", \"horse\", \"ship\", \"truck\"]"
   ]
  },
  {
   "cell_type": "code",
   "execution_count": 0,
   "metadata": {
    "colab": {},
    "colab_type": "code",
    "id": "muplnodH2grQ"
   },
   "outputs": [],
   "source": [
    "device='cuda'\n",
    "class Architecture(nn.Module):\n",
    "\n",
    "    def __init__(self):\n",
    "        super(Architecture, self).__init__()\n",
    "        \n",
    "        self.b_1 = nn.Sequential(nn.Conv2d(3, 16, kernel_size=3, padding=1),\n",
    "                                nn.BatchNorm2d(16),\n",
    "                                nn.ReLU())\n",
    "        \n",
    "        self.b_2 = nn.Sequential(nn.Conv2d(16, 32, kernel_size=3, padding=1),\n",
    "                                nn.BatchNorm2d(32),\n",
    "                                nn.ReLU())\n",
    "        \n",
    "        self.b_3 = nn.Sequential(nn.Conv2d(32, 32, kernel_size=3, padding=1),\n",
    "                                nn.BatchNorm2d(32),\n",
    "                                nn.ReLU())\n",
    "        \n",
    "        self.b_4 = nn.Sequential(nn.Conv2d(32, 16, kernel_size=3, padding=1),\n",
    "                                nn.BatchNorm2d(16),\n",
    "                                nn.ReLU())\n",
    "        \n",
    "        self.b_5 = nn.Sequential(nn.Conv2d(16, 3, kernel_size=3, padding=1),\n",
    "                                nn.BatchNorm2d(3),\n",
    "                                nn.ReLU())\n",
    "        \n",
    "        self.pool = nn.MaxPool2d(2)\n",
    "\n",
    "        self.fc_1 = nn.Linear(3 * 3 * 3, 256)\n",
    "        self.fc_2 = nn.Linear(256, 10)\n",
    "\n",
    "        self.relu = nn.ReLU()\n",
    "\n",
    "    def forward(self, x):\n",
    "        x = self.pool(self.b_1(x))\n",
    "        x = self.pool(self.b_2(x))\n",
    "        x = self.pool(self.b_3(x))\n",
    "        x = self.pool(self.b_4(x))\n",
    "        x = self.pool(self.b_5(x))\n",
    "        # print(x.shape)\n",
    "        \n",
    "        x = x.view(-1, 3 * 3 * 3)\n",
    "        x = self.relu(self.fc_1(x))\n",
    "        # x = self.relu(self.fc_2(x))\n",
    "        x = self.fc_2(x)\n",
    "        return x\n",
    "\n",
    "def init_weights(m):\n",
    "    if isinstance(m, nn.Conv2d):\n",
    "        torch.nn.init.kaiming_uniform_(m.weight.data)\n",
    "    if(isinstance(m, nn.Linear)):\n",
    "        torch.nn.init.kaiming_uniform_(m.weight.data)\n",
    "        \n",
    "model = Architecture()\n",
    "model.apply(init_weights)\n",
    "\n",
    "model.to(device)\n",
    "\n",
    "CE = nn.CrossEntropyLoss()\n",
    "optimizer = optim.Adagrad(model.parameters(), lr=0.02)"
   ]
  },
  {
   "cell_type": "code",
   "execution_count": 5,
   "metadata": {
    "colab": {
     "base_uri": "https://localhost:8080/",
     "height": 1000
    },
    "colab_type": "code",
    "id": "-Da_1kvy2pC-",
    "outputId": "d38e39ec-27fc-4873-ee9d-61b478e18614"
   },
   "outputs": [
    {
     "name": "stdout",
     "output_type": "stream",
     "text": [
      "Epoch: 1 \tTrain Loss: 1.8512603660583495  | Test Loss: 1.9625809955596925  | Test Acc.: 30.4\n",
      "Epoch: 2 \tTrain Loss: 1.5173444234848021  | Test Loss: 1.5674140968322754  | Test Acc.: 39.625\n",
      "Epoch: 3 \tTrain Loss: 1.4034012160301208  | Test Loss: 1.5394246425628662  | Test Acc.: 41.9125\n",
      "Epoch: 4 \tTrain Loss: 1.3151131050109863  | Test Loss: 1.457367175102234  | Test Acc.: 45.3\n",
      "Epoch: 5 \tTrain Loss: 1.235749112033844  | Test Loss: 1.4232377452850342  | Test Acc.: 46.475\n",
      "Epoch: 6 \tTrain Loss: 1.1642304599761963  | Test Loss: 1.435311484336853  | Test Acc.: 46.825\n",
      "Epoch: 7 \tTrain Loss: 1.096239936351776  | Test Loss: 1.4221848230361938  | Test Acc.: 47.275\n",
      "Epoch: 8 \tTrain Loss: 1.0349140687942504  | Test Loss: 1.4267732172012328  | Test Acc.: 47.8875\n",
      "Epoch: 9 \tTrain Loss: 0.976187552022934  | Test Loss: 1.4453570499420165  | Test Acc.: 47.9\n",
      "Epoch: 10 \tTrain Loss: 0.924202226448059  | Test Loss: 1.5004404926300048  | Test Acc.: 46.9375\n",
      "Epoch: 11 \tTrain Loss: 0.8666846464157104  | Test Loss: 1.5075716485977173  | Test Acc.: 47.35\n",
      "Epoch: 12 \tTrain Loss: 0.8130747951507569  | Test Loss: 1.5366186380386353  | Test Acc.: 47.3375\n",
      "Epoch: 13 \tTrain Loss: 0.7671665333271026  | Test Loss: 1.5699106073379516  | Test Acc.: 47.25\n",
      "Epoch: 14 \tTrain Loss: 0.7155804023742676  | Test Loss: 1.59685404586792  | Test Acc.: 47.175\n",
      "Epoch: 15 \tTrain Loss: 0.6685389812469482  | Test Loss: 1.6359038934707641  | Test Acc.: 46.725\n",
      "Epoch: 16 \tTrain Loss: 0.6226509966850281  | Test Loss: 1.6908293762207032  | Test Acc.: 46.9875\n",
      "Epoch: 17 \tTrain Loss: 0.5771845561027527  | Test Loss: 1.7451961975097656  | Test Acc.: 46.95\n",
      "Epoch: 18 \tTrain Loss: 0.5361487067222596  | Test Loss: 1.7955826253890992  | Test Acc.: 46.6375\n",
      "Epoch: 19 \tTrain Loss: 0.5003338195800782  | Test Loss: 1.8417718687057496  | Test Acc.: 46.7375\n",
      "Epoch: 20 \tTrain Loss: 0.4625824077606201  | Test Loss: 1.9011673097610473  | Test Acc.: 46.375\n",
      "Epoch: 21 \tTrain Loss: 0.4250655825614929  | Test Loss: 1.9582411384582519  | Test Acc.: 46.4625\n",
      "Epoch: 22 \tTrain Loss: 0.3907892931461334  | Test Loss: 2.015262062072754  | Test Acc.: 46.5625\n",
      "Epoch: 23 \tTrain Loss: 0.35965564050674437  | Test Loss: 2.0837648515701295  | Test Acc.: 46.25\n",
      "Epoch: 24 \tTrain Loss: 0.32863221979141233  | Test Loss: 2.1636784133911133  | Test Acc.: 45.9875\n",
      "Epoch: 25 \tTrain Loss: 0.3000620930671692  | Test Loss: 2.2185407180786134  | Test Acc.: 46.2125\n",
      "Epoch: 26 \tTrain Loss: 0.27461047067642214  | Test Loss: 2.321220891952515  | Test Acc.: 46.175\n",
      "Epoch: 27 \tTrain Loss: 0.2501061908721924  | Test Loss: 2.4091253747940065  | Test Acc.: 45.5875\n",
      "Epoch: 28 \tTrain Loss: 0.2240123378753662  | Test Loss: 2.4820160055160523  | Test Acc.: 45.5625\n",
      "Epoch: 29 \tTrain Loss: 0.2017239983558655  | Test Loss: 2.5460358324050905  | Test Acc.: 45.9875\n",
      "Epoch: 30 \tTrain Loss: 0.18088656072616577  | Test Loss: 2.6229656162261965  | Test Acc.: 46.0125\n",
      "Epoch: 31 \tTrain Loss: 0.1651529713630676  | Test Loss: 2.6998699941635134  | Test Acc.: 45.6625\n",
      "Epoch: 32 \tTrain Loss: 0.14893424644470216  | Test Loss: 2.7855985774993894  | Test Acc.: 45.5125\n",
      "Epoch: 33 \tTrain Loss: 0.13227874946594237  | Test Loss: 2.8413137168884277  | Test Acc.: 45.5\n",
      "Epoch: 34 \tTrain Loss: 0.11801070585250854  | Test Loss: 2.934444416999817  | Test Acc.: 45.6375\n",
      "Epoch: 35 \tTrain Loss: 0.10590034441947938  | Test Loss: 2.9831489686965944  | Test Acc.: 45.65\n",
      "Epoch: 36 \tTrain Loss: 0.0953278872013092  | Test Loss: 3.0561037864685057  | Test Acc.: 45.6125\n",
      "Epoch: 37 \tTrain Loss: 0.0858181478023529  | Test Loss: 3.1345545349121093  | Test Acc.: 45.5\n",
      "Epoch: 38 \tTrain Loss: 0.07713926749229431  | Test Loss: 3.2040695676803588  | Test Acc.: 45.7125\n",
      "Epoch: 39 \tTrain Loss: 0.06891193418502807  | Test Loss: 3.262768593788147  | Test Acc.: 45.6125\n",
      "Epoch: 40 \tTrain Loss: 0.06315137042999268  | Test Loss: 3.3300898723602295  | Test Acc.: 45.5\n",
      "Epoch: 41 \tTrain Loss: 0.05693641138076782  | Test Loss: 3.395258785247803  | Test Acc.: 45.4\n",
      "Epoch: 42 \tTrain Loss: 0.05160893135070801  | Test Loss: 3.444710922241211  | Test Acc.: 45.525\n",
      "Epoch: 43 \tTrain Loss: 0.046960419654846194  | Test Loss: 3.502628559112549  | Test Acc.: 45.6375\n",
      "Epoch: 44 \tTrain Loss: 0.04278175814151764  | Test Loss: 3.5493194732666016  | Test Acc.: 45.6\n",
      "Epoch: 45 \tTrain Loss: 0.03902732586860657  | Test Loss: 3.6027372169494627  | Test Acc.: 45.5375\n",
      "Epoch: 46 \tTrain Loss: 0.03565688366889953  | Test Loss: 3.647632230758667  | Test Acc.: 45.4125\n",
      "Epoch: 47 \tTrain Loss: 0.03275449147224426  | Test Loss: 3.7006642017364504  | Test Acc.: 45.5125\n",
      "Epoch: 48 \tTrain Loss: 0.030400363850593567  | Test Loss: 3.7316732597351074  | Test Acc.: 45.5625\n",
      "Epoch: 49 \tTrain Loss: 0.02812391746044159  | Test Loss: 3.7726036319732668  | Test Acc.: 45.6625\n",
      "Epoch: 50 \tTrain Loss: 0.025711857295036316  | Test Loss: 3.8113937492370606  | Test Acc.: 45.725\n",
      "Epoch: 51 \tTrain Loss: 0.023729652547836304  | Test Loss: 3.846254457473755  | Test Acc.: 45.6875\n",
      "Epoch: 52 \tTrain Loss: 0.021920066952705382  | Test Loss: 3.8900450859069826  | Test Acc.: 45.7\n",
      "Epoch: 53 \tTrain Loss: 0.020310931849479675  | Test Loss: 3.9206658630371094  | Test Acc.: 45.7\n",
      "Epoch: 54 \tTrain Loss: 0.01914111168384552  | Test Loss: 3.961162504196167  | Test Acc.: 45.6875\n",
      "Epoch: 55 \tTrain Loss: 0.017856801080703734  | Test Loss: 3.996577796936035  | Test Acc.: 45.6375\n",
      "Epoch: 56 \tTrain Loss: 0.01679642586708069  | Test Loss: 4.022947694778442  | Test Acc.: 45.75\n",
      "Epoch: 57 \tTrain Loss: 0.015785207557678222  | Test Loss: 4.059245496749878  | Test Acc.: 45.65\n",
      "Epoch: 58 \tTrain Loss: 0.014931276023387908  | Test Loss: 4.093471529006958  | Test Acc.: 45.7\n",
      "Epoch: 59 \tTrain Loss: 0.014147593688964843  | Test Loss: 4.1222857570648195  | Test Acc.: 45.675\n",
      "Epoch: 60 \tTrain Loss: 0.013303105449676514  | Test Loss: 4.15455705833435  | Test Acc.: 45.5\n",
      "Epoch: 61 \tTrain Loss: 0.012650196254253388  | Test Loss: 4.185507411956787  | Test Acc.: 45.6125\n",
      "Epoch: 62 \tTrain Loss: 0.01205344444513321  | Test Loss: 4.212113143920899  | Test Acc.: 45.5375\n",
      "Epoch: 63 \tTrain Loss: 0.011429457294940949  | Test Loss: 4.239418092727661  | Test Acc.: 45.425\n",
      "Epoch: 64 \tTrain Loss: 0.010889660847187042  | Test Loss: 4.267197250366211  | Test Acc.: 45.4375\n",
      "Epoch: 65 \tTrain Loss: 0.010429243540763855  | Test Loss: 4.291907493591308  | Test Acc.: 45.55\n",
      "Epoch: 66 \tTrain Loss: 0.009914898431301116  | Test Loss: 4.3216043453216555  | Test Acc.: 45.4125\n",
      "Epoch: 67 \tTrain Loss: 0.009499168837070466  | Test Loss: 4.345834997177124  | Test Acc.: 45.3875\n",
      "Epoch: 68 \tTrain Loss: 0.009080782091617584  | Test Loss: 4.36990651512146  | Test Acc.: 45.3625\n",
      "Epoch: 69 \tTrain Loss: 0.00871572037935257  | Test Loss: 4.396364044189453  | Test Acc.: 45.3625\n",
      "Epoch: 70 \tTrain Loss: 0.008361325287818909  | Test Loss: 4.421085412979126  | Test Acc.: 45.3\n",
      "Epoch: 71 \tTrain Loss: 0.007982892918586731  | Test Loss: 4.445704061508179  | Test Acc.: 45.3125\n",
      "Epoch: 72 \tTrain Loss: 0.007704450786113739  | Test Loss: 4.466484830856324  | Test Acc.: 45.1625\n",
      "Epoch: 73 \tTrain Loss: 0.007390303444862366  | Test Loss: 4.490456428527832  | Test Acc.: 45.225\n",
      "Epoch: 74 \tTrain Loss: 0.007111629223823548  | Test Loss: 4.5100796508789065  | Test Acc.: 45.225\n",
      "Epoch: 75 \tTrain Loss: 0.006843692612648011  | Test Loss: 4.533555669784546  | Test Acc.: 45.2375\n",
      "Epoch: 76 \tTrain Loss: 0.006608317160606384  | Test Loss: 4.554141305923462  | Test Acc.: 45.2\n",
      "Epoch: 77 \tTrain Loss: 0.006365895044803619  | Test Loss: 4.577542598724365  | Test Acc.: 45.2125\n",
      "Epoch: 78 \tTrain Loss: 0.006145389533042908  | Test Loss: 4.594460233688355  | Test Acc.: 45.1625\n",
      "Epoch: 79 \tTrain Loss: 0.00593912615776062  | Test Loss: 4.6176317577362065  | Test Acc.: 45.0625\n",
      "Epoch: 80 \tTrain Loss: 0.005731467187404632  | Test Loss: 4.6340389099121095  | Test Acc.: 44.9875\n",
      "Epoch: 81 \tTrain Loss: 0.005564796459674835  | Test Loss: 4.65422371673584  | Test Acc.: 44.9875\n",
      "Epoch: 82 \tTrain Loss: 0.005377789103984833  | Test Loss: 4.671365760803223  | Test Acc.: 45.0375\n",
      "Epoch: 83 \tTrain Loss: 0.005223239815235138  | Test Loss: 4.691749900817871  | Test Acc.: 45.0625\n",
      "Epoch: 84 \tTrain Loss: 0.0050576525092124935  | Test Loss: 4.708922325134277  | Test Acc.: 45.0875\n",
      "Epoch: 85 \tTrain Loss: 0.0048968397259712216  | Test Loss: 4.725980310440064  | Test Acc.: 45.125\n",
      "Epoch: 86 \tTrain Loss: 0.0047719004333019255  | Test Loss: 4.742881971359253  | Test Acc.: 45.05\n",
      "Epoch: 87 \tTrain Loss: 0.004618836468458175  | Test Loss: 4.759453998565673  | Test Acc.: 45.175\n",
      "Epoch: 88 \tTrain Loss: 0.004498056924343109  | Test Loss: 4.7761612949371335  | Test Acc.: 45.1\n",
      "Epoch: 89 \tTrain Loss: 0.004367597633600235  | Test Loss: 4.793246194839478  | Test Acc.: 45.15\n",
      "Epoch: 90 \tTrain Loss: 0.004247787719964981  | Test Loss: 4.80642391204834  | Test Acc.: 45.1625\n",
      "Epoch: 91 \tTrain Loss: 0.004133821880817413  | Test Loss: 4.822868469238281  | Test Acc.: 45.2\n",
      "Epoch: 92 \tTrain Loss: 0.004019599616527558  | Test Loss: 4.837060907363892  | Test Acc.: 45.1875\n",
      "Epoch: 93 \tTrain Loss: 0.003926652520895004  | Test Loss: 4.851278331756592  | Test Acc.: 45.15\n",
      "Epoch: 94 \tTrain Loss: 0.0038223013997077944  | Test Loss: 4.864789337158203  | Test Acc.: 45.125\n",
      "Epoch: 95 \tTrain Loss: 0.003725556313991547  | Test Loss: 4.87845283126831  | Test Acc.: 45.125\n",
      "Epoch: 96 \tTrain Loss: 0.0036328418254852296  | Test Loss: 4.893526399612427  | Test Acc.: 45.1\n",
      "Epoch: 97 \tTrain Loss: 0.0035447655081748963  | Test Loss: 4.90672936630249  | Test Acc.: 45.1375\n",
      "Epoch: 98 \tTrain Loss: 0.0034599937796592714  | Test Loss: 4.919847320556641  | Test Acc.: 45.125\n",
      "Epoch: 99 \tTrain Loss: 0.003374931448698044  | Test Loss: 4.934014465332031  | Test Acc.: 45.05\n",
      "Epoch: 100 \tTrain Loss: 0.0033006622195243837  | Test Loss: 4.946217872619629  | Test Acc.: 45.0875\n",
      "Epoch: 101 \tTrain Loss: 0.0032179235935211182  | Test Loss: 4.959048942565918  | Test Acc.: 45.0625\n",
      "Epoch: 102 \tTrain Loss: 0.0031489901661872865  | Test Loss: 4.970023048400879  | Test Acc.: 45.075\n",
      "Epoch: 103 \tTrain Loss: 0.0030792225033044814  | Test Loss: 4.982259220123291  | Test Acc.: 45.05\n",
      "Epoch: 104 \tTrain Loss: 0.00301395925283432  | Test Loss: 4.993648029327392  | Test Acc.: 45.025\n",
      "Epoch: 105 \tTrain Loss: 0.002949485903978348  | Test Loss: 5.005198642730713  | Test Acc.: 45.0375\n",
      "Epoch: 106 \tTrain Loss: 0.002886608439683914  | Test Loss: 5.015904258728027  | Test Acc.: 45.025\n",
      "Epoch: 107 \tTrain Loss: 0.0028248519748449324  | Test Loss: 5.028069034576416  | Test Acc.: 45.0375\n",
      "Epoch: 108 \tTrain Loss: 0.0027651800721883776  | Test Loss: 5.03857186126709  | Test Acc.: 45.025\n",
      "Epoch: 109 \tTrain Loss: 0.002706838044524193  | Test Loss: 5.0498503074646  | Test Acc.: 44.9625\n",
      "Epoch: 110 \tTrain Loss: 0.002651499989628792  | Test Loss: 5.061892665863037  | Test Acc.: 45.05\n",
      "Epoch: 111 \tTrain Loss: 0.0026010708838701247  | Test Loss: 5.073386985778809  | Test Acc.: 45.0125\n",
      "Epoch: 112 \tTrain Loss: 0.0025460894167423248  | Test Loss: 5.083119668960571  | Test Acc.: 45.0375\n",
      "Epoch: 113 \tTrain Loss: 0.0024970051378011703  | Test Loss: 5.092934955596924  | Test Acc.: 45.025\n",
      "Epoch: 114 \tTrain Loss: 0.0024484137773513794  | Test Loss: 5.104138339996338  | Test Acc.: 45.1125\n",
      "Epoch: 115 \tTrain Loss: 0.002395947214961052  | Test Loss: 5.113116226196289  | Test Acc.: 45.0875\n",
      "Epoch: 116 \tTrain Loss: 0.002358351621031761  | Test Loss: 5.1226592502593995  | Test Acc.: 45.025\n",
      "Epoch: 117 \tTrain Loss: 0.0023121215641498565  | Test Loss: 5.133419929504394  | Test Acc.: 45.1125\n",
      "Epoch: 118 \tTrain Loss: 0.0022660514026880264  | Test Loss: 5.142352861404419  | Test Acc.: 45.1\n",
      "Epoch: 119 \tTrain Loss: 0.002223264905810356  | Test Loss: 5.153195100784302  | Test Acc.: 45.0375\n",
      "Epoch: 120 \tTrain Loss: 0.002186463862657547  | Test Loss: 5.162010818481446  | Test Acc.: 45.1125\n",
      "Epoch: 121 \tTrain Loss: 0.0021500138849020003  | Test Loss: 5.16973646736145  | Test Acc.: 45.125\n",
      "Epoch: 122 \tTrain Loss: 0.0021075573176145552  | Test Loss: 5.179262302398682  | Test Acc.: 45.1125\n",
      "Epoch: 123 \tTrain Loss: 0.002070011430978775  | Test Loss: 5.189800827026367  | Test Acc.: 45.125\n",
      "Epoch: 124 \tTrain Loss: 0.0020333067268133165  | Test Loss: 5.19819510269165  | Test Acc.: 45.0625\n",
      "Epoch: 125 \tTrain Loss: 0.0020006617486476898  | Test Loss: 5.207634460449219  | Test Acc.: 45.1\n",
      "Epoch: 126 \tTrain Loss: 0.0019649079501628877  | Test Loss: 5.21639580154419  | Test Acc.: 45.1625\n",
      "Epoch: 127 \tTrain Loss: 0.0019295813858509064  | Test Loss: 5.223804336547851  | Test Acc.: 45.1375\n",
      "Epoch: 128 \tTrain Loss: 0.0018989624321460723  | Test Loss: 5.232779991149902  | Test Acc.: 45.1875\n",
      "Epoch: 129 \tTrain Loss: 0.001868716987967491  | Test Loss: 5.241802177429199  | Test Acc.: 45.175\n",
      "Epoch: 130 \tTrain Loss: 0.0018372982442378999  | Test Loss: 5.250299728393554  | Test Acc.: 45.1625\n",
      "Epoch: 131 \tTrain Loss: 0.0018089983940124512  | Test Loss: 5.259287614822387  | Test Acc.: 45.2\n",
      "Epoch: 132 \tTrain Loss: 0.0017801515251398086  | Test Loss: 5.265702699661255  | Test Acc.: 45.2\n",
      "Epoch: 133 \tTrain Loss: 0.001752120879292488  | Test Loss: 5.273899806976319  | Test Acc.: 45.225\n",
      "Epoch: 134 \tTrain Loss: 0.0017283021807670592  | Test Loss: 5.281604658126831  | Test Acc.: 45.2375\n",
      "Epoch: 135 \tTrain Loss: 0.0016979460388422012  | Test Loss: 5.289885734558106  | Test Acc.: 45.2125\n",
      "Epoch: 136 \tTrain Loss: 0.001674480727314949  | Test Loss: 5.297889005661011  | Test Acc.: 45.2125\n",
      "Epoch: 137 \tTrain Loss: 0.001646399250626564  | Test Loss: 5.306017635345459  | Test Acc.: 45.2375\n",
      "Epoch: 138 \tTrain Loss: 0.001625120735168457  | Test Loss: 5.313660408020019  | Test Acc.: 45.15\n",
      "Epoch: 139 \tTrain Loss: 0.0015993924975395203  | Test Loss: 5.320732257843018  | Test Acc.: 45.2125\n",
      "Epoch: 140 \tTrain Loss: 0.001576847878098488  | Test Loss: 5.327830024719239  | Test Acc.: 45.1625\n",
      "Epoch: 141 \tTrain Loss: 0.0015525747552514076  | Test Loss: 5.33589735031128  | Test Acc.: 45.15\n",
      "Epoch: 142 \tTrain Loss: 0.0015305810168385506  | Test Loss: 5.341783666610718  | Test Acc.: 45.175\n",
      "Epoch: 143 \tTrain Loss: 0.001511693635582924  | Test Loss: 5.348870389938354  | Test Acc.: 45.2\n",
      "Epoch: 144 \tTrain Loss: 0.001487607365846634  | Test Loss: 5.356796760559082  | Test Acc.: 45.15\n",
      "Epoch: 145 \tTrain Loss: 0.0014661830261349677  | Test Loss: 5.3640418682098385  | Test Acc.: 45.15\n",
      "Epoch: 146 \tTrain Loss: 0.0014477675542235375  | Test Loss: 5.368993297576904  | Test Acc.: 45.175\n",
      "Epoch: 147 \tTrain Loss: 0.0014283808156847955  | Test Loss: 5.377528612136841  | Test Acc.: 45.125\n",
      "Epoch: 148 \tTrain Loss: 0.0014085860282182694  | Test Loss: 5.3840139198303225  | Test Acc.: 45.1125\n",
      "Epoch: 149 \tTrain Loss: 0.0013903294280171394  | Test Loss: 5.3912207126617435  | Test Acc.: 45.1\n",
      "Epoch: 150 \tTrain Loss: 0.001370422537624836  | Test Loss: 5.397094867706299  | Test Acc.: 45.0875\n"
     ]
    }
   ],
   "source": [
    "train_loss_plt, valid_loss_plt = [], []\n",
    "test_accuracy_plt = []\n",
    "test_loss_plt = []\n",
    "n_epochs = 150\n",
    "for epoch in range(n_epochs):\n",
    "    train_loss, test_loss = 0, 0\n",
    "    model.train()\n",
    "    for images, labels in train_loader:\n",
    "        images, labels = images.to(device), labels.to(device)\n",
    "\n",
    "        optimizer.zero_grad()\n",
    "        output = model(images)\n",
    "        loss = CE(output, labels)\n",
    "        loss.backward()\n",
    "        optimizer.step()\n",
    "        \n",
    "        train_loss += loss.item() * images.size(0)\n",
    "\n",
    "    train_loss = train_loss / len(train_loader.dataset)\n",
    "    train_loss_plt.append(train_loss)\n",
    "\n",
    "    class_correct = list(0. for i in range(10))\n",
    "    class_total = list(0. for i in range(10))\n",
    "    model.eval()\n",
    "    with torch.no_grad():\n",
    "        for data, target in test_loader:\n",
    "            data, target = data.cuda(), target.cuda()\n",
    "            output = model(data)\n",
    "            loss = CE(output, target)\n",
    "\n",
    "            test_loss += loss.item() * data.size(0)\n",
    "            _, pred = torch.max(output, 1)\n",
    "            correct = np.squeeze(pred.eq(target.data.view_as(pred)))\n",
    "            for i in range(len(target)):\n",
    "                label = target.data[i]\n",
    "                class_correct[label] += correct[i].item()\n",
    "                class_total[label] += 1\n",
    "\n",
    "    test_loss = test_loss / len(test_loader.dataset)\n",
    "    test_loss_plt.append(test_loss)\n",
    "    \n",
    "    test_accuracy = 100. * np.sum(class_correct) / np.sum(class_total)\n",
    "    test_accuracy_plt.append(test_accuracy)\n",
    "\n",
    "    print('Epoch:', (epoch + 1), '\\tTrain Loss:', train_loss,' | Test Loss:', test_loss,' | Test Acc.:',test_accuracy)"
   ]
  },
  {
   "cell_type": "code",
   "execution_count": 0,
   "metadata": {
    "colab": {},
    "colab_type": "code",
    "id": "j6jdc6Wg2uY-"
   },
   "outputs": [],
   "source": [
    "joblib.dump(train_loss_plt, 'train_loss_plt_q3_Kaiming_150.sav')\n",
    "joblib.dump(test_loss_plt, 'test_loss_plt_q3_Kaiming_150.sav')\n",
    "joblib.dump(test_accuracy_plt, 'test_accuracy_plt_q3_Kaiming_150.sav')\n",
    "torch.save(model.state_dict(), \"model_q3_Kaiming_150.pt\")"
   ]
  },
  {
   "cell_type": "code",
   "execution_count": 11,
   "metadata": {
    "colab": {
     "base_uri": "https://localhost:8080/",
     "height": 282
    },
    "colab_type": "code",
    "id": "81Q7Eab_2vbG",
    "outputId": "d701e5aa-5337-4b91-e8ea-d2f02d0ee1fe"
   },
   "outputs": [
    {
     "data": {
      "text/plain": [
       "[<matplotlib.lines.Line2D at 0x7f06e03b77b8>]"
      ]
     },
     "execution_count": 11,
     "metadata": {
      "tags": []
     },
     "output_type": "execute_result"
    },
    {
     "data": {
      "image/png": "[encoded data removed]",
      "text/plain": [
       "<Figure size 432x288 with 1 Axes>"
      ]
     },
     "metadata": {
      "tags": []
     },
     "output_type": "display_data"
    }
   ],
   "source": [
    "plt.plot(np.arange(len(train_loss_plt)),train_loss_plt)"
   ]
  },
  {
   "cell_type": "code",
   "execution_count": 12,
   "metadata": {
    "colab": {
     "base_uri": "https://localhost:8080/",
     "height": 282
    },
    "colab_type": "code",
    "id": "t5y1osb72xgK",
    "outputId": "b8f13bf9-009d-4e8c-eff0-a52a1719feb3"
   },
   "outputs": [
    {
     "data": {
      "text/plain": [
       "[<matplotlib.lines.Line2D at 0x7f06e031b9e8>]"
      ]
     },
     "execution_count": 12,
     "metadata": {
      "tags": []
     },
     "output_type": "execute_result"
    },
    {
     "data": {
      "image/png": "[encoded data removed]",
      "text/plain": [
       "<Figure size 432x288 with 1 Axes>"
      ]
     },
     "metadata": {
      "tags": []
     },
     "output_type": "display_data"
    }
   ],
   "source": [
    "plt.plot(np.arange(len(test_loss_plt)),test_loss_plt)"
   ]
  },
  {
   "cell_type": "code",
   "execution_count": 13,
   "metadata": {
    "colab": {
     "base_uri": "https://localhost:8080/",
     "height": 282
    },
    "colab_type": "code",
    "id": "iMZ2fMn42xUd",
    "outputId": "136eb017-7077-4590-914d-cd97f7c78adc"
   },
   "outputs": [
    {
     "data": {
      "text/plain": [
       "[<matplotlib.lines.Line2D at 0x7f06e03056d8>]"
      ]
     },
     "execution_count": 13,
     "metadata": {
      "tags": []
     },
     "output_type": "execute_result"
    },
    {
     "data": {
      "image/png": "[encoded data removed]",
      "text/plain": [
       "<Figure size 432x288 with 1 Axes>"
      ]
     },
     "metadata": {
      "tags": []
     },
     "output_type": "display_data"
    }
   ],
   "source": [
    "plt.plot(np.arange(len(test_accuracy_plt)),test_accuracy_plt)"
   ]
  },
  {
   "cell_type": "code",
   "execution_count": 0,
   "metadata": {
    "colab": {},
    "colab_type": "code",
    "id": "9_sujqZ95nmb"
   },
   "outputs": [],
   "source": []
  },
  {
   "cell_type": "code",
   "execution_count": 2,
   "metadata": {},
   "outputs": [
    {
     "data": {
      "image/png": "[encoded data removed]",
      "text/plain": [
       "<Figure size 432x288 with 1 Axes>"
      ]
     },
     "metadata": {
      "needs_background": "light"
     },
     "output_type": "display_data"
    },
    {
     "data": {
      "image/png": "[encoded data removed]",
      "text/plain": [
       "<Figure size 432x288 with 1 Axes>"
      ]
     },
     "metadata": {
      "needs_background": "light"
     },
     "output_type": "display_data"
    },
    {
     "data": {
      "image/png": "[encoded data removed]",
      "text/plain": [
       "<Figure size 432x288 with 1 Axes>"
      ]
     },
     "metadata": {
      "needs_background": "light"
     },
     "output_type": "display_data"
    }
   ],
   "source": [
    "import joblib\n",
    "import matplotlib.pyplot as plt\n",
    "import numpy as np\n",
    "\n",
    "train_loss_plt = joblib.load('train_loss_plt_q3_Kaiming_150.sav')\n",
    "test_loss_plt = joblib.load('test_loss_plt_q3_Kaiming_150.sav')\n",
    "test_accuracy_plt = joblib.load('test_accuracy_plt_q3_Kaiming_150.sav')\n",
    "\n",
    "plt.title('Kaiming epochs=150 Train loss')\n",
    "plt.plot(np.arange(len(train_loss_plt)),train_loss_plt,label = 'Train Loss')\n",
    "plt.xlabel('Epochs')\n",
    "plt.ylabel('Loss')\n",
    "plt.legend()\n",
    "plt.show()\n",
    "\n",
    "plt.title('Kaiming epochs=150 Test Loss')\n",
    "plt.plot(np.arange(len(test_loss_plt)),test_loss_plt,color='r',label = 'Test Loss')\n",
    "plt.xlabel('Epochs')\n",
    "plt.ylabel('Loss')\n",
    "plt.legend()\n",
    "plt.show()\n",
    "\n",
    "plt.title('Kaiming epochs=150 Test Accuracy')\n",
    "plt.plot(np.arange(len(test_accuracy_plt)),test_accuracy_plt,color='g',label = 'Test Accuracy')\n",
    "plt.xlabel('Epochs')\n",
    "plt.ylabel('Accuracy')\n",
    "plt.legend()\n",
    "plt.show()"
   ]
  },
  {
   "cell_type": "code",
   "execution_count": null,
   "metadata": {},
   "outputs": [],
   "source": []
  }
 ],
 "metadata": {
  "accelerator": "GPU",
  "colab": {
   "collapsed_sections": [],
   "name": "AML_A4_Q3_Kaiming_150.ipynb",
   "provenance": []
  },
  "kernelspec": {
   "display_name": "Python 3",
   "language": "python",
   "name": "python3"
  },
  "language_info": {
   "codemirror_mode": {
    "name": "ipython",
    "version": 3
   },
   "file_extension": ".py",
   "mimetype": "text/x-python",
   "name": "python",
   "nbconvert_exporter": "python",
   "pygments_lexer": "ipython3",
   "version": "3.7.1"
  }
 },
 "nbformat": 4,
 "nbformat_minor": 1
}
