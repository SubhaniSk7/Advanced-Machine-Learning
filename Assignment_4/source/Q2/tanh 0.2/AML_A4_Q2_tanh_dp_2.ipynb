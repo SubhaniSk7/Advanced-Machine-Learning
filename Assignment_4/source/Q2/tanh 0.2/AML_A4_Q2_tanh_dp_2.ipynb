{
 "cells": [
  {
   "cell_type": "code",
   "execution_count": 0,
   "metadata": {
    "colab": {},
    "colab_type": "code",
    "id": "ZShQLuGyVT9K"
   },
   "outputs": [],
   "source": [
    "import torch\n",
    "from torchvision import datasets, transforms\n",
    "import torch.nn as nn\n",
    "import torch.nn.functional as F\n",
    "import torch.optim as optim\n",
    "from torch.utils.data import DataLoader\n",
    "from torch.utils.data.sampler import SubsetRandomSampler\n",
    "import matplotlib.pyplot as plt\n",
    "import numpy as np\n",
    "import joblib"
   ]
  },
  {
   "cell_type": "markdown",
   "metadata": {
    "colab_type": "text",
    "id": "mVUE3Y4HVT9M"
   },
   "source": [
    "### Data loading"
   ]
  },
  {
   "cell_type": "code",
   "execution_count": 2,
   "metadata": {
    "colab": {
     "base_uri": "https://localhost:8080/",
     "height": 104
    },
    "colab_type": "code",
    "id": "EAf9gYX8VT9N",
    "outputId": "973b7269-89a3-4ef4-c71f-40dbf20c69ea"
   },
   "outputs": [
    {
     "name": "stderr",
     "output_type": "stream",
     "text": [
      "  0%|          | 0/170498071 [00:00<?, ?it/s]"
     ]
    },
    {
     "name": "stdout",
     "output_type": "stream",
     "text": [
      "Downloading https://www.cs.toronto.edu/~kriz/cifar-10-python.tar.gz to ./Datasets/CIFAR10_data/cifar-10-python.tar.gz\n"
     ]
    },
    {
     "name": "stderr",
     "output_type": "stream",
     "text": [
      "170500096it [00:02, 72786201.60it/s]                               \n"
     ]
    },
    {
     "name": "stdout",
     "output_type": "stream",
     "text": [
      "Extracting ./Datasets/CIFAR10_data/cifar-10-python.tar.gz to ./Datasets/CIFAR10_data/\n",
      "Files already downloaded and verified\n"
     ]
    }
   ],
   "source": [
    "path = \"./Datasets/CIFAR10_data/\"\n",
    "# path = \"E:/Datasets/CIFAR10_data/\"\n",
    "\n",
    "device = 'cuda'\n",
    "num_workers = 0\n",
    "batch_size = 64\n",
    "\n",
    "transform = transforms.Compose([transforms.ToTensor(), transforms.Normalize((0.5, 0.5, 0.5), (0.5, 0.5, 0.5))])\n",
    "\n",
    "train_data = datasets.CIFAR10(path, train=True, download=True, transform=transform)\n",
    "test_data = datasets.CIFAR10(path, train=False, download=True, transform=transform)\n",
    "\n",
    "train_loader = DataLoader(train_data, batch_size=batch_size, num_workers=num_workers)\n",
    "test_loader = DataLoader(test_data, batch_size=batch_size, num_workers=num_workers)\n",
    "# classes = [\"plane\", \"car\", \"bird\", \"cat\", \"deer\", \"dog\", \"frog\", \"horse\", \"ship\", \"truck\"]"
   ]
  },
  {
   "cell_type": "markdown",
   "metadata": {
    "colab_type": "text",
    "id": "rC3AVpplVT9P"
   },
   "source": [
    "### Network"
   ]
  },
  {
   "cell_type": "code",
   "execution_count": 0,
   "metadata": {
    "colab": {},
    "colab_type": "code",
    "id": "A0LpB7EhVT9Q"
   },
   "outputs": [],
   "source": [
    "class Architecture(nn.Module):\n",
    "\n",
    "    def __init__(self):\n",
    "        super(Architecture, self).__init__()\n",
    "\n",
    "        self.conv1 = nn.Conv2d(3, 16, kernel_size=3, padding=2)\n",
    "        self.conv2 = nn.Conv2d(16, 16, kernel_size=3, padding=2)\n",
    "        self.conv3 = nn.Conv2d(16, 32, kernel_size=3, padding=2)\n",
    "        self.conv4 = nn.Conv2d(32, 32, kernel_size=3, padding=2)\n",
    "        self.conv5 = nn.Conv2d(32, 64, kernel_size=3, padding=2)\n",
    "        self.conv6 = nn.Conv2d(64, 64, kernel_size=3, padding=2)\n",
    "\n",
    "        self.pool = nn.MaxPool2d(2)\n",
    "\n",
    "        self.fc_1 = nn.Linear(64 * 2 * 2, 512)\n",
    "        self.fc_2 = nn.Linear(512, 256)\n",
    "        self.fc_3 = nn.Linear(256, 10)\n",
    "\n",
    "        self.tanh = nn.Tanh()\n",
    "        self.dropout = nn.Dropout(0.2)\n",
    "\n",
    "    def forward(self, x):\n",
    "        x = self.pool(self.tanh(self.conv1(x)))\n",
    "        x = self.pool(self.tanh(self.conv2(x)))\n",
    "        x = self.pool(self.tanh(self.conv3(x)))\n",
    "        x = self.pool(self.tanh(self.conv4(x)))\n",
    "        x = self.pool(self.tanh(self.conv5(x)))\n",
    "        x = self.pool(self.tanh(self.conv6(x)))\n",
    "        x = x.view(-1, 64 * 2 * 2)\n",
    "        x = self.dropout(x)\n",
    "        x = self.dropout(self.tanh(self.fc_1(x)))\n",
    "        x = self.dropout(self.tanh(self.fc_2(x)))\n",
    "        x = self.fc_3(x)\n",
    "        return x\n",
    "\n",
    "model = Architecture()\n",
    "model.to(device)\n",
    "\n",
    "CE = nn.CrossEntropyLoss()\n",
    "optimizer = optim.Adagrad(model.parameters(), lr=0.02)"
   ]
  },
  {
   "cell_type": "code",
   "execution_count": 6,
   "metadata": {
    "colab": {
     "base_uri": "https://localhost:8080/",
     "height": 1000
    },
    "colab_type": "code",
    "id": "mm7LDkMrVT9S",
    "outputId": "af591419-5b38-41b0-a64e-0d0d3319d63e"
   },
   "outputs": [
    {
     "name": "stdout",
     "output_type": "stream",
     "text": [
      "Epoch: 1 \tTrain Loss: 2.091557211151123  | Test Loss: 1.9698976844787597  | Test Acc.: 27.87\n",
      "Epoch: 2 \tTrain Loss: 1.836902671585083  | Test Loss: 1.7909920932769776  | Test Acc.: 34.26\n",
      "Epoch: 3 \tTrain Loss: 1.6269919317626953  | Test Loss: 1.5582168342590332  | Test Acc.: 41.82\n",
      "Epoch: 4 \tTrain Loss: 1.4530428386306762  | Test Loss: 1.3826960744857788  | Test Acc.: 48.73\n",
      "Epoch: 5 \tTrain Loss: 1.339401839866638  | Test Loss: 1.3199494297027587  | Test Acc.: 52.03\n",
      "Epoch: 6 \tTrain Loss: 1.2594701252746583  | Test Loss: 1.2385107847213745  | Test Acc.: 54.93\n",
      "Epoch: 7 \tTrain Loss: 1.2007454707717895  | Test Loss: 1.2024803064346314  | Test Acc.: 56.27\n",
      "Epoch: 8 \tTrain Loss: 1.1493510804748535  | Test Loss: 1.1659243284225465  | Test Acc.: 57.76\n",
      "Epoch: 9 \tTrain Loss: 1.1051922258758544  | Test Loss: 1.1518141826629638  | Test Acc.: 59.11\n",
      "Epoch: 10 \tTrain Loss: 1.0659019247436523  | Test Loss: 1.129812895011902  | Test Acc.: 59.96\n",
      "Epoch: 11 \tTrain Loss: 1.0325032932281495  | Test Loss: 1.1461046684265137  | Test Acc.: 59.1\n",
      "Epoch: 12 \tTrain Loss: 1.0015601008605957  | Test Loss: 1.110572866821289  | Test Acc.: 60.73\n",
      "Epoch: 13 \tTrain Loss: 0.9750182838439941  | Test Loss: 1.0989861141204833  | Test Acc.: 61.17\n",
      "Epoch: 14 \tTrain Loss: 0.9475610388183594  | Test Loss: 1.0857794401168823  | Test Acc.: 61.53\n",
      "Epoch: 15 \tTrain Loss: 0.9229939421081543  | Test Loss: 1.0853374347686768  | Test Acc.: 61.73\n",
      "Epoch: 16 \tTrain Loss: 0.900752606048584  | Test Loss: 1.0786825317382813  | Test Acc.: 61.86\n",
      "Epoch: 17 \tTrain Loss: 0.8777027121353149  | Test Loss: 1.0967695945739746  | Test Acc.: 62.31\n",
      "Epoch: 18 \tTrain Loss: 0.8606135253143311  | Test Loss: 1.0779712976455689  | Test Acc.: 62.83\n",
      "Epoch: 19 \tTrain Loss: 0.8411066867446899  | Test Loss: 1.0683417701721192  | Test Acc.: 62.98\n",
      "Epoch: 20 \tTrain Loss: 0.8244963068008423  | Test Loss: 1.0537312878608704  | Test Acc.: 63.85\n",
      "Epoch: 21 \tTrain Loss: 0.8061113949203491  | Test Loss: 1.0505151800155639  | Test Acc.: 63.73\n",
      "Epoch: 22 \tTrain Loss: 0.7942758047103882  | Test Loss: 1.081813847351074  | Test Acc.: 63.19\n",
      "Epoch: 23 \tTrain Loss: 0.7757203519248962  | Test Loss: 1.0538690567016602  | Test Acc.: 63.79\n",
      "Epoch: 24 \tTrain Loss: 0.7621342506408691  | Test Loss: 1.0534502195835114  | Test Acc.: 64.31\n",
      "Epoch: 25 \tTrain Loss: 0.750021132183075  | Test Loss: 1.0677687806129457  | Test Acc.: 63.78\n",
      "Epoch: 26 \tTrain Loss: 0.7349752438735961  | Test Loss: 1.0998988962173462  | Test Acc.: 63.26\n",
      "Epoch: 27 \tTrain Loss: 0.7231834829711914  | Test Loss: 1.0905302217960358  | Test Acc.: 63.79\n",
      "Epoch: 28 \tTrain Loss: 0.7112969323348999  | Test Loss: 1.07645998878479  | Test Acc.: 64.46\n",
      "Epoch: 29 \tTrain Loss: 0.699354984703064  | Test Loss: 1.0909101126194  | Test Acc.: 63.95\n",
      "Epoch: 30 \tTrain Loss: 0.6891695301818848  | Test Loss: 1.094244455909729  | Test Acc.: 64.64\n",
      "Epoch: 31 \tTrain Loss: 0.6800146369743347  | Test Loss: 1.0912346640586854  | Test Acc.: 64.35\n",
      "Epoch: 32 \tTrain Loss: 0.6651909481811523  | Test Loss: 1.1224635831832885  | Test Acc.: 63.87\n",
      "Epoch: 33 \tTrain Loss: 0.6548810535621643  | Test Loss: 1.0962655653953552  | Test Acc.: 64.72\n",
      "Epoch: 34 \tTrain Loss: 0.6451798927688599  | Test Loss: 1.1117631210327148  | Test Acc.: 64.67\n",
      "Epoch: 35 \tTrain Loss: 0.6362016589736939  | Test Loss: 1.1358222332954406  | Test Acc.: 64.07\n",
      "Epoch: 36 \tTrain Loss: 0.6275058622741699  | Test Loss: 1.1344945494651795  | Test Acc.: 64.41\n",
      "Epoch: 37 \tTrain Loss: 0.6175766719436645  | Test Loss: 1.1357656479358673  | Test Acc.: 64.51\n",
      "Epoch: 38 \tTrain Loss: 0.6092423114395141  | Test Loss: 1.1581785787582397  | Test Acc.: 64.47\n",
      "Epoch: 39 \tTrain Loss: 0.6004256350421906  | Test Loss: 1.1515604008674623  | Test Acc.: 64.51\n",
      "Epoch: 40 \tTrain Loss: 0.5912009318828583  | Test Loss: 1.143184659099579  | Test Acc.: 65.08\n",
      "Epoch: 41 \tTrain Loss: 0.5849234591484069  | Test Loss: 1.1521056436061858  | Test Acc.: 64.81\n",
      "Epoch: 42 \tTrain Loss: 0.5780069731044769  | Test Loss: 1.1668135785102844  | Test Acc.: 64.75\n",
      "Epoch: 43 \tTrain Loss: 0.5701585991191864  | Test Loss: 1.1821606879234314  | Test Acc.: 64.49\n",
      "Epoch: 44 \tTrain Loss: 0.5629803414726258  | Test Loss: 1.1874015731334686  | Test Acc.: 64.06\n",
      "Epoch: 45 \tTrain Loss: 0.5561745456027984  | Test Loss: 1.1814607998371125  | Test Acc.: 64.56\n",
      "Epoch: 46 \tTrain Loss: 0.5465801650333405  | Test Loss: 1.1865729432582854  | Test Acc.: 64.6\n",
      "Epoch: 47 \tTrain Loss: 0.5405229002952575  | Test Loss: 1.2119478434562683  | Test Acc.: 64.05\n",
      "Epoch: 48 \tTrain Loss: 0.5360745676898956  | Test Loss: 1.2358783641815185  | Test Acc.: 63.49\n",
      "Epoch: 49 \tTrain Loss: 0.5260994698143006  | Test Loss: 1.19777135014534  | Test Acc.: 64.72\n",
      "Epoch: 50 \tTrain Loss: 0.5234918212127686  | Test Loss: 1.2198431153297424  | Test Acc.: 64.52\n",
      "Epoch: 51 \tTrain Loss: 0.5155977836036683  | Test Loss: 1.211020800304413  | Test Acc.: 64.88\n",
      "Epoch: 52 \tTrain Loss: 0.507496190443039  | Test Loss: 1.2415620141983033  | Test Acc.: 64.44\n",
      "Epoch: 53 \tTrain Loss: 0.5007560840129852  | Test Loss: 1.23204514169693  | Test Acc.: 64.32\n",
      "Epoch: 54 \tTrain Loss: 0.496378757724762  | Test Loss: 1.2506953815460204  | Test Acc.: 64.56\n",
      "Epoch: 55 \tTrain Loss: 0.4891923863315582  | Test Loss: 1.3010225178718566  | Test Acc.: 63.18\n",
      "Epoch: 56 \tTrain Loss: 0.4847935647630692  | Test Loss: 1.2455896574020386  | Test Acc.: 64.6\n",
      "Epoch: 57 \tTrain Loss: 0.47969095970630643  | Test Loss: 1.271635058784485  | Test Acc.: 64.12\n",
      "Epoch: 58 \tTrain Loss: 0.47626083837509153  | Test Loss: 1.2933398766517639  | Test Acc.: 63.85\n",
      "Epoch: 59 \tTrain Loss: 0.47125228549957277  | Test Loss: 1.263436794757843  | Test Acc.: 64.4\n",
      "Epoch: 60 \tTrain Loss: 0.4654779249191284  | Test Loss: 1.2814511756896974  | Test Acc.: 64.48\n",
      "Epoch: 61 \tTrain Loss: 0.45936903898239134  | Test Loss: 1.3168499859809875  | Test Acc.: 63.8\n",
      "Epoch: 62 \tTrain Loss: 0.4543902655982971  | Test Loss: 1.3194378047943116  | Test Acc.: 63.53\n",
      "Epoch: 63 \tTrain Loss: 0.45140713134765625  | Test Loss: 1.289072712135315  | Test Acc.: 64.09\n",
      "Epoch: 64 \tTrain Loss: 0.4443776971960068  | Test Loss: 1.2968209990501405  | Test Acc.: 64.1\n",
      "Epoch: 65 \tTrain Loss: 0.4400574004840851  | Test Loss: 1.303600083732605  | Test Acc.: 64.07\n",
      "Epoch: 66 \tTrain Loss: 0.4384263661670685  | Test Loss: 1.2999776905059814  | Test Acc.: 64.44\n",
      "Epoch: 67 \tTrain Loss: 0.4291973538780212  | Test Loss: 1.3607710250854492  | Test Acc.: 63.75\n",
      "Epoch: 68 \tTrain Loss: 0.4286959991168976  | Test Loss: 1.3157973785877228  | Test Acc.: 64.42\n",
      "Epoch: 69 \tTrain Loss: 0.42304545432090757  | Test Loss: 1.326126990556717  | Test Acc.: 64.57\n",
      "Epoch: 70 \tTrain Loss: 0.42159005732536314  | Test Loss: 1.3434313385009766  | Test Acc.: 63.89\n",
      "Epoch: 71 \tTrain Loss: 0.41472502872467043  | Test Loss: 1.3345176889419557  | Test Acc.: 64.29\n",
      "Epoch: 72 \tTrain Loss: 0.4106425232410431  | Test Loss: 1.3340465514183044  | Test Acc.: 64.35\n",
      "Epoch: 73 \tTrain Loss: 0.4054921864795685  | Test Loss: 1.3458811597824096  | Test Acc.: 64.56\n",
      "Epoch: 74 \tTrain Loss: 0.4001171628665924  | Test Loss: 1.3563950476646423  | Test Acc.: 64.06\n",
      "Epoch: 75 \tTrain Loss: 0.4009360864782333  | Test Loss: 1.3602801364898682  | Test Acc.: 64.1\n",
      "Epoch: 76 \tTrain Loss: 0.3933448841714859  | Test Loss: 1.3612942595481872  | Test Acc.: 64.39\n",
      "Epoch: 77 \tTrain Loss: 0.3942143683385849  | Test Loss: 1.361502976512909  | Test Acc.: 64.5\n",
      "Epoch: 78 \tTrain Loss: 0.3884501158332825  | Test Loss: 1.38177119846344  | Test Acc.: 64.0\n",
      "Epoch: 79 \tTrain Loss: 0.38317745817661286  | Test Loss: 1.377098644065857  | Test Acc.: 64.23\n",
      "Epoch: 80 \tTrain Loss: 0.38171847147464755  | Test Loss: 1.386818588733673  | Test Acc.: 64.19\n",
      "Epoch: 81 \tTrain Loss: 0.38030349909782407  | Test Loss: 1.3871955574035644  | Test Acc.: 64.54\n",
      "Epoch: 82 \tTrain Loss: 0.37436733597755434  | Test Loss: 1.3882869689941406  | Test Acc.: 64.45\n",
      "Epoch: 83 \tTrain Loss: 0.37222718215465544  | Test Loss: 1.405480334186554  | Test Acc.: 64.12\n",
      "Epoch: 84 \tTrain Loss: 0.3706207117080689  | Test Loss: 1.4030569272994995  | Test Acc.: 64.29\n",
      "Epoch: 85 \tTrain Loss: 0.3627660441827774  | Test Loss: 1.4315828562736512  | Test Acc.: 64.02\n",
      "Epoch: 86 \tTrain Loss: 0.3593882936859131  | Test Loss: 1.4081765661239625  | Test Acc.: 64.43\n",
      "Epoch: 87 \tTrain Loss: 0.36138821568489077  | Test Loss: 1.405895375442505  | Test Acc.: 64.42\n",
      "Epoch: 88 \tTrain Loss: 0.35340622765541074  | Test Loss: 1.4204792725086213  | Test Acc.: 64.64\n",
      "Epoch: 89 \tTrain Loss: 0.35387851582527163  | Test Loss: 1.4340155018806457  | Test Acc.: 64.34\n",
      "Epoch: 90 \tTrain Loss: 0.3495807830286026  | Test Loss: 1.445581997489929  | Test Acc.: 64.03\n",
      "Epoch: 91 \tTrain Loss: 0.34642890226364137  | Test Loss: 1.4458767866134643  | Test Acc.: 64.32\n",
      "Epoch: 92 \tTrain Loss: 0.3453004103565216  | Test Loss: 1.44180864443779  | Test Acc.: 64.69\n",
      "Epoch: 93 \tTrain Loss: 0.34063644948482513  | Test Loss: 1.4565145376205444  | Test Acc.: 64.4\n",
      "Epoch: 94 \tTrain Loss: 0.33902081835746767  | Test Loss: 1.466924905729294  | Test Acc.: 64.15\n",
      "Epoch: 95 \tTrain Loss: 0.3368945852279663  | Test Loss: 1.4660313917636871  | Test Acc.: 64.13\n",
      "Epoch: 96 \tTrain Loss: 0.33420072226047515  | Test Loss: 1.475621827697754  | Test Acc.: 64.13\n",
      "Epoch: 97 \tTrain Loss: 0.33160453395843503  | Test Loss: 1.4815538895130158  | Test Acc.: 64.24\n",
      "Epoch: 98 \tTrain Loss: 0.32942693006515505  | Test Loss: 1.4772836599349977  | Test Acc.: 64.37\n",
      "Epoch: 99 \tTrain Loss: 0.3275966289806366  | Test Loss: 1.4832777510643005  | Test Acc.: 64.3\n",
      "Epoch: 100 \tTrain Loss: 0.3223579330921173  | Test Loss: 1.494314061164856  | Test Acc.: 64.37\n"
     ]
    }
   ],
   "source": [
    "train_loss_plt, valid_loss_plt = [], []\n",
    "test_accuracy_plt = []\n",
    "test_loss_plt = []\n",
    "n_epochs = 100\n",
    "for epoch in range(n_epochs):\n",
    "    train_loss, test_loss = 0, 0\n",
    "    model.train()\n",
    "    for images, labels in train_loader:\n",
    "        images, labels = images.to(device), labels.to(device)\n",
    "\n",
    "        optimizer.zero_grad()\n",
    "        output = model(images)\n",
    "        loss = CE(output, labels)\n",
    "        loss.backward()\n",
    "        optimizer.step()\n",
    "        \n",
    "        train_loss += loss.item() * images.size(0)\n",
    "\n",
    "    train_loss = train_loss / len(train_loader.dataset)\n",
    "    train_loss_plt.append(train_loss)\n",
    "\n",
    "    class_correct = list(0. for i in range(10))\n",
    "    class_total = list(0. for i in range(10))\n",
    "    model.eval()\n",
    "    with torch.no_grad():\n",
    "        for data, target in test_loader:\n",
    "            data, target = data.cuda(), target.cuda()\n",
    "            output = model(data)\n",
    "            loss = CE(output, target)\n",
    "\n",
    "            test_loss += loss.item() * data.size(0)\n",
    "            _, pred = torch.max(output, 1)\n",
    "            correct = np.squeeze(pred.eq(target.data.view_as(pred)))\n",
    "            for i in range(len(target)):\n",
    "                label = target.data[i]\n",
    "                class_correct[label] += correct[i].item()\n",
    "                class_total[label] += 1\n",
    "\n",
    "    test_loss = test_loss / len(test_loader.dataset)\n",
    "    test_loss_plt.append(test_loss)\n",
    "    \n",
    "    test_accuracy = 100. * np.sum(class_correct) / np.sum(class_total)\n",
    "    test_accuracy_plt.append(test_accuracy)\n",
    "\n",
    "    print('Epoch:', (epoch + 1), '\\tTrain Loss:', train_loss,' | Test Loss:', test_loss,' | Test Acc.:',test_accuracy)"
   ]
  },
  {
   "cell_type": "markdown",
   "metadata": {
    "colab_type": "text",
    "id": "lhVSKbxWVT9T"
   },
   "source": [
    "### Saving"
   ]
  },
  {
   "cell_type": "code",
   "execution_count": 0,
   "metadata": {
    "colab": {},
    "colab_type": "code",
    "id": "wm5QvSLiVT9U"
   },
   "outputs": [],
   "source": [
    "joblib.dump(train_loss_plt, 'train_loss_plt_q2_tanh_dp_2.sav')\n",
    "joblib.dump(test_loss_plt, 'test_loss_plt_q2_tan_dp_2.sav')\n",
    "joblib.dump(test_accuracy_plt, 'test_accuracy_plt_q2_dp_2.sav')\n",
    "torch.save(model.state_dict(), \"model_q2_tanh_dp_2.pt\")"
   ]
  },
  {
   "cell_type": "code",
   "execution_count": 10,
   "metadata": {
    "colab": {
     "base_uri": "https://localhost:8080/",
     "height": 282
    },
    "colab_type": "code",
    "id": "uCcZ0RWuVT9V",
    "outputId": "650733c0-0690-4ea4-b738-e0cff3a7a141"
   },
   "outputs": [
    {
     "data": {
      "text/plain": [
       "[<matplotlib.lines.Line2D at 0x7f073c2a8f60>]"
      ]
     },
     "execution_count": 10,
     "metadata": {
      "tags": []
     },
     "output_type": "execute_result"
    },
    {
     "data": {
      "image/png": "[encoded data removed]",
      "text/plain": [
       "<Figure size 432x288 with 1 Axes>"
      ]
     },
     "metadata": {
      "tags": []
     },
     "output_type": "display_data"
    }
   ],
   "source": [
    "plt.plot(np.arange(len(train_loss_plt)),train_loss_plt)"
   ]
  },
  {
   "cell_type": "code",
   "execution_count": 13,
   "metadata": {
    "colab": {
     "base_uri": "https://localhost:8080/",
     "height": 283
    },
    "colab_type": "code",
    "id": "V4clRFDX4Ee6",
    "outputId": "5c9e1ae5-0e9a-41f4-969a-ed5253f1cae7"
   },
   "outputs": [
    {
     "data": {
      "text/plain": [
       "[<matplotlib.lines.Line2D at 0x7f073f3b3128>]"
      ]
     },
     "execution_count": 13,
     "metadata": {
      "tags": []
     },
     "output_type": "execute_result"
    },
    {
     "data": {
      "image/png": "[encoded data removed]",
      "text/plain": [
       "<Figure size 432x288 with 1 Axes>"
      ]
     },
     "metadata": {
      "tags": []
     },
     "output_type": "display_data"
    }
   ],
   "source": [
    "plt.plot(np.arange(len(test_loss_plt)),test_loss_plt)"
   ]
  },
  {
   "cell_type": "code",
   "execution_count": 12,
   "metadata": {
    "colab": {
     "base_uri": "https://localhost:8080/",
     "height": 282
    },
    "colab_type": "code",
    "id": "YaOTD5OjVT9Y",
    "outputId": "7601e044-bd40-4034-8696-88bbb33577ba"
   },
   "outputs": [
    {
     "data": {
      "text/plain": [
       "[<matplotlib.lines.Line2D at 0x7f073c2292b0>]"
      ]
     },
     "execution_count": 12,
     "metadata": {
      "tags": []
     },
     "output_type": "execute_result"
    },
    {
     "data": {
      "image/png": "[encoded data removed]",
      "text/plain": [
       "<Figure size 432x288 with 1 Axes>"
      ]
     },
     "metadata": {
      "tags": []
     },
     "output_type": "display_data"
    }
   ],
   "source": [
    "plt.plot(np.arange(len(test_accuracy_plt)),test_accuracy_plt)"
   ]
  },
  {
   "cell_type": "code",
   "execution_count": 0,
   "metadata": {
    "colab": {},
    "colab_type": "code",
    "id": "xHDNLGATq8mP"
   },
   "outputs": [],
   "source": []
  },
  {
   "cell_type": "code",
   "execution_count": 2,
   "metadata": {},
   "outputs": [
    {
     "data": {
      "image/png": "[encoded data removed]",
      "text/plain": [
       "<Figure size 432x288 with 1 Axes>"
      ]
     },
     "metadata": {
      "needs_background": "light"
     },
     "output_type": "display_data"
    },
    {
     "data": {
      "image/png": "[encoded data removed]",
      "text/plain": [
       "<Figure size 432x288 with 1 Axes>"
      ]
     },
     "metadata": {
      "needs_background": "light"
     },
     "output_type": "display_data"
    },
    {
     "data": {
      "image/png": "[encoded data removed]",
      "text/plain": [
       "<Figure size 432x288 with 1 Axes>"
      ]
     },
     "metadata": {
      "needs_background": "light"
     },
     "output_type": "display_data"
    }
   ],
   "source": [
    "import joblib\n",
    "import matplotlib.pyplot as plt\n",
    "import numpy as np\n",
    "\n",
    "train_loss_plt = joblib.load('train_loss_plt_q2_tanh_dp_2.sav')\n",
    "test_loss_plt = joblib.load('test_loss_plt_q2_tanh_dp_2.sav')\n",
    "test_accuracy_plt = joblib.load('test_accuracy_plt_q2_tanh_dp_2.sav')\n",
    "\n",
    "plt.title('Tanh with dropout=0.2 Train loss')\n",
    "plt.plot(np.arange(len(train_loss_plt)),train_loss_plt,label = 'Train Loss')\n",
    "plt.xlabel('Epochs')\n",
    "plt.ylabel('Loss')\n",
    "plt.legend()\n",
    "plt.show()\n",
    "\n",
    "plt.title('Tanh with dropout=0.2 Test Loss')\n",
    "plt.plot(np.arange(len(test_loss_plt)),test_loss_plt,color='r',label = 'Test Loss')\n",
    "plt.xlabel('Epochs')\n",
    "plt.ylabel('Loss')\n",
    "plt.legend()\n",
    "plt.show()\n",
    "\n",
    "plt.title('Tanh with dropout=0.2 Test Accuracy')\n",
    "plt.plot(np.arange(len(test_accuracy_plt)),test_accuracy_plt,color='g',label = 'Test Accuracy')\n",
    "plt.xlabel('Epochs')\n",
    "plt.ylabel('Accuracy')\n",
    "plt.legend()\n",
    "plt.show()"
   ]
  },
  {
   "cell_type": "code",
   "execution_count": null,
   "metadata": {},
   "outputs": [],
   "source": []
  }
 ],
 "metadata": {
  "accelerator": "GPU",
  "colab": {
   "collapsed_sections": [],
   "name": "AML_A4_Q2_tanh_dp_2.ipynb",
   "provenance": [],
   "toc_visible": true
  },
  "kernelspec": {
   "display_name": "Python 3",
   "language": "python",
   "name": "python3"
  },
  "language_info": {
   "codemirror_mode": {
    "name": "ipython",
    "version": 3
   },
   "file_extension": ".py",
   "mimetype": "text/x-python",
   "name": "python",
   "nbconvert_exporter": "python",
   "pygments_lexer": "ipython3",
   "version": "3.7.1"
  }
 },
 "nbformat": 4,
 "nbformat_minor": 1
}
