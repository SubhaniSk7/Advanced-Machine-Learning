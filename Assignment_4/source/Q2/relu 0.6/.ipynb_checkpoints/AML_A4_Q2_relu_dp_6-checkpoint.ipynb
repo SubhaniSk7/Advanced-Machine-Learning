{
 "cells": [
  {
   "cell_type": "code",
   "execution_count": 0,
   "metadata": {
    "colab": {},
    "colab_type": "code",
    "id": "ZShQLuGyVT9K"
   },
   "outputs": [],
   "source": [
    "import torch\n",
    "from torchvision import datasets, transforms\n",
    "import torch.nn as nn\n",
    "import torch.nn.functional as F\n",
    "import torch.optim as optim\n",
    "from torch.utils.data import DataLoader\n",
    "from torch.utils.data.sampler import SubsetRandomSampler\n",
    "import matplotlib.pyplot as plt\n",
    "import numpy as np\n",
    "import joblib"
   ]
  },
  {
   "cell_type": "markdown",
   "metadata": {
    "colab_type": "text",
    "id": "mVUE3Y4HVT9M"
   },
   "source": [
    "### Data loading"
   ]
  },
  {
   "cell_type": "code",
   "execution_count": 2,
   "metadata": {
    "colab": {
     "base_uri": "https://localhost:8080/",
     "height": 87
    },
    "colab_type": "code",
    "id": "EAf9gYX8VT9N",
    "outputId": "174d3607-5e16-49a6-9df3-62ca73fcf239"
   },
   "outputs": [
    {
     "name": "stderr",
     "output_type": "stream",
     "text": [
      "\r",
      "0it [00:00, ?it/s]"
     ]
    },
    {
     "name": "stdout",
     "output_type": "stream",
     "text": [
      "Downloading https://www.cs.toronto.edu/~kriz/cifar-10-python.tar.gz to ./Datasets/CIFAR10_data/cifar-10-python.tar.gz\n"
     ]
    },
    {
     "name": "stderr",
     "output_type": "stream",
     "text": [
      " 99%|█████████▉| 169205760/170498071 [00:14<00:00, 14453027.48it/s]"
     ]
    },
    {
     "name": "stdout",
     "output_type": "stream",
     "text": [
      "Extracting ./Datasets/CIFAR10_data/cifar-10-python.tar.gz to ./Datasets/CIFAR10_data/\n",
      "Files already downloaded and verified\n"
     ]
    }
   ],
   "source": [
    "path = \"./Datasets/CIFAR10_data/\"\n",
    "# path = \"E:/Datasets/CIFAR10_data/\"\n",
    "\n",
    "device = 'cuda'\n",
    "num_workers = 0\n",
    "batch_size = 64\n",
    "\n",
    "transform = transforms.Compose([transforms.ToTensor(), transforms.Normalize((0.5, 0.5, 0.5), (0.5, 0.5, 0.5))])\n",
    "\n",
    "train_data = datasets.CIFAR10(path, train=True, download=True, transform=transform)\n",
    "test_data = datasets.CIFAR10(path, train=False, download=True, transform=transform)\n",
    "\n",
    "train_loader = DataLoader(train_data, batch_size=batch_size, num_workers=num_workers)\n",
    "test_loader = DataLoader(test_data, batch_size=batch_size, num_workers=num_workers)\n",
    "# classes = [\"plane\", \"car\", \"bird\", \"cat\", \"deer\", \"dog\", \"frog\", \"horse\", \"ship\", \"truck\"]"
   ]
  },
  {
   "cell_type": "markdown",
   "metadata": {
    "colab_type": "text",
    "id": "rC3AVpplVT9P"
   },
   "source": [
    "### Network"
   ]
  },
  {
   "cell_type": "code",
   "execution_count": 0,
   "metadata": {
    "colab": {},
    "colab_type": "code",
    "id": "A0LpB7EhVT9Q"
   },
   "outputs": [],
   "source": [
    "class Architecture(nn.Module):\n",
    "\n",
    "    def __init__(self):\n",
    "        super(Architecture, self).__init__()\n",
    "\n",
    "        self.conv1 = nn.Conv2d(3, 16, kernel_size=3, padding=2)\n",
    "        self.conv2 = nn.Conv2d(16, 16, kernel_size=3, padding=2)\n",
    "        self.conv3 = nn.Conv2d(16, 32, kernel_size=3, padding=2)\n",
    "        self.conv4 = nn.Conv2d(32, 32, kernel_size=3, padding=2)\n",
    "        self.conv5 = nn.Conv2d(32, 64, kernel_size=3, padding=2)\n",
    "        self.conv6 = nn.Conv2d(64, 64, kernel_size=3, padding=2)\n",
    "\n",
    "        self.pool = nn.MaxPool2d(2)\n",
    "\n",
    "        self.fc_1 = nn.Linear(64 * 2 * 2, 512)\n",
    "        self.fc_2 = nn.Linear(512, 256)\n",
    "        self.fc_3 = nn.Linear(256, 10)\n",
    "\n",
    "        self.relu = nn.ReLU()\n",
    "        self.dropout = nn.Dropout(0.6)\n",
    "\n",
    "    def forward(self, x):\n",
    "        x = self.pool(self.relu(self.conv1(x)))\n",
    "        x = self.pool(self.relu(self.conv2(x)))\n",
    "        x = self.pool(self.relu(self.conv3(x)))\n",
    "        x = self.pool(self.relu(self.conv4(x)))\n",
    "        x = self.pool(self.relu(self.conv5(x)))\n",
    "        x = self.pool(self.relu(self.conv6(x)))\n",
    "        x = x.view(-1, 64 * 2 * 2)\n",
    "        x = self.dropout(x)\n",
    "        x = self.dropout(self.relu(self.fc_1(x)))\n",
    "        x = self.dropout(self.relu(self.fc_2(x)))\n",
    "        x = self.fc_3(x)\n",
    "        return x\n",
    "\n",
    "\n",
    "model = Architecture()\n",
    "model.to(device)\n",
    "\n",
    "CE = nn.CrossEntropyLoss()\n",
    "optimizer = optim.Adagrad(model.parameters(), lr=0.02)"
   ]
  },
  {
   "cell_type": "code",
   "execution_count": 4,
   "metadata": {
    "colab": {
     "base_uri": "https://localhost:8080/",
     "height": 1000
    },
    "colab_type": "code",
    "id": "mm7LDkMrVT9S",
    "outputId": "6731422d-f29c-4b55-bc61-97484778235f"
   },
   "outputs": [
    {
     "name": "stderr",
     "output_type": "stream",
     "text": [
      "\r",
      "170500096it [00:30, 14453027.48it/s]                               "
     ]
    },
    {
     "name": "stdout",
     "output_type": "stream",
     "text": [
      "Epoch: 1 \tTrain Loss: 2.019284434738159  | Test Loss: 1.7314233085632325  | Test Acc.: 31.09\n",
      "Epoch: 2 \tTrain Loss: 1.661303004989624  | Test Loss: 1.5341130561828613  | Test Acc.: 39.14\n",
      "Epoch: 3 \tTrain Loss: 1.5027625371170044  | Test Loss: 1.4103654430389405  | Test Acc.: 46.97\n",
      "Epoch: 4 \tTrain Loss: 1.3918778884124756  | Test Loss: 1.348289909553528  | Test Acc.: 49.4\n",
      "Epoch: 5 \tTrain Loss: 1.3165150395965577  | Test Loss: 1.3127911918640136  | Test Acc.: 50.69\n",
      "Epoch: 6 \tTrain Loss: 1.2632455559921265  | Test Loss: 1.26047169342041  | Test Acc.: 54.11\n",
      "Epoch: 7 \tTrain Loss: 1.214046552848816  | Test Loss: 1.2327783575057984  | Test Acc.: 55.42\n",
      "Epoch: 8 \tTrain Loss: 1.1803614474868775  | Test Loss: 1.2079150758743287  | Test Acc.: 56.46\n",
      "Epoch: 9 \tTrain Loss: 1.1424313354492188  | Test Loss: 1.2032598865509032  | Test Acc.: 56.81\n",
      "Epoch: 10 \tTrain Loss: 1.1140729034423829  | Test Loss: 1.1608320579528808  | Test Acc.: 57.95\n",
      "Epoch: 11 \tTrain Loss: 1.086603294467926  | Test Loss: 1.133932222366333  | Test Acc.: 59.41\n",
      "Epoch: 12 \tTrain Loss: 1.0636714274215697  | Test Loss: 1.1258958051681518  | Test Acc.: 59.92\n",
      "Epoch: 13 \tTrain Loss: 1.0417756963348388  | Test Loss: 1.1109874410629272  | Test Acc.: 60.49\n",
      "Epoch: 14 \tTrain Loss: 1.025315184135437  | Test Loss: 1.1074066818237305  | Test Acc.: 60.95\n",
      "Epoch: 15 \tTrain Loss: 1.0025509358024598  | Test Loss: 1.1003565467834473  | Test Acc.: 61.52\n",
      "Epoch: 16 \tTrain Loss: 0.9867245201873779  | Test Loss: 1.1114029097557068  | Test Acc.: 61.49\n",
      "Epoch: 17 \tTrain Loss: 0.9672667978096008  | Test Loss: 1.086274610900879  | Test Acc.: 62.03\n",
      "Epoch: 18 \tTrain Loss: 0.9564807527160645  | Test Loss: 1.1007613435745238  | Test Acc.: 61.95\n",
      "Epoch: 19 \tTrain Loss: 0.941361557598114  | Test Loss: 1.0795699190139771  | Test Acc.: 62.31\n",
      "Epoch: 20 \tTrain Loss: 0.9265364827346801  | Test Loss: 1.086495630645752  | Test Acc.: 62.61\n",
      "Epoch: 21 \tTrain Loss: 0.9150191179466247  | Test Loss: 1.0735013325691223  | Test Acc.: 63.03\n",
      "Epoch: 22 \tTrain Loss: 0.9006649813270569  | Test Loss: 1.085113335800171  | Test Acc.: 62.8\n",
      "Epoch: 23 \tTrain Loss: 0.8918151369094849  | Test Loss: 1.0777719948768616  | Test Acc.: 63.21\n",
      "Epoch: 24 \tTrain Loss: 0.8803809659957885  | Test Loss: 1.078657496070862  | Test Acc.: 63.29\n",
      "Epoch: 25 \tTrain Loss: 0.8690210520744324  | Test Loss: 1.08063700466156  | Test Acc.: 63.13\n",
      "Epoch: 26 \tTrain Loss: 0.8573896016311645  | Test Loss: 1.0836553460121154  | Test Acc.: 63.45\n",
      "Epoch: 27 \tTrain Loss: 0.84875605178833  | Test Loss: 1.0888201286315917  | Test Acc.: 63.19\n",
      "Epoch: 28 \tTrain Loss: 0.8409909781455993  | Test Loss: 1.0886521923065187  | Test Acc.: 63.24\n",
      "Epoch: 29 \tTrain Loss: 0.8319954913520813  | Test Loss: 1.0943031785964965  | Test Acc.: 63.25\n",
      "Epoch: 30 \tTrain Loss: 0.8222835432624817  | Test Loss: 1.08844951505661  | Test Acc.: 63.7\n",
      "Epoch: 31 \tTrain Loss: 0.8157953568077088  | Test Loss: 1.1039512409210206  | Test Acc.: 63.76\n",
      "Epoch: 32 \tTrain Loss: 0.8095319231033326  | Test Loss: 1.1182148635864257  | Test Acc.: 63.21\n",
      "Epoch: 33 \tTrain Loss: 0.7981361415290833  | Test Loss: 1.1000387714385986  | Test Acc.: 63.99\n",
      "Epoch: 34 \tTrain Loss: 0.7971196039199829  | Test Loss: 1.0994275550842285  | Test Acc.: 64.0\n",
      "Epoch: 35 \tTrain Loss: 0.7850545757770538  | Test Loss: 1.1124425565719605  | Test Acc.: 63.86\n",
      "Epoch: 36 \tTrain Loss: 0.7780700433444977  | Test Loss: 1.1073756617546082  | Test Acc.: 63.69\n",
      "Epoch: 37 \tTrain Loss: 0.7731157893562317  | Test Loss: 1.1173201490402223  | Test Acc.: 64.03\n",
      "Epoch: 38 \tTrain Loss: 0.7652714500617981  | Test Loss: 1.1179352398872375  | Test Acc.: 64.01\n",
      "Epoch: 39 \tTrain Loss: 0.7626193817901611  | Test Loss: 1.120721730518341  | Test Acc.: 63.8\n",
      "Epoch: 40 \tTrain Loss: 0.7538005275535583  | Test Loss: 1.1281668844223023  | Test Acc.: 63.83\n",
      "Epoch: 41 \tTrain Loss: 0.7471429788970947  | Test Loss: 1.1384460828781129  | Test Acc.: 63.87\n",
      "Epoch: 42 \tTrain Loss: 0.7460879427337647  | Test Loss: 1.1366205183029174  | Test Acc.: 64.02\n",
      "Epoch: 43 \tTrain Loss: 0.7382229087638855  | Test Loss: 1.13605452709198  | Test Acc.: 64.02\n",
      "Epoch: 44 \tTrain Loss: 0.7319435239982605  | Test Loss: 1.1448624373435974  | Test Acc.: 64.11\n",
      "Epoch: 45 \tTrain Loss: 0.7257322360038757  | Test Loss: 1.1494558378219604  | Test Acc.: 63.95\n",
      "Epoch: 46 \tTrain Loss: 0.7238812264728546  | Test Loss: 1.147084274482727  | Test Acc.: 63.66\n",
      "Epoch: 47 \tTrain Loss: 0.7171234358596802  | Test Loss: 1.1557706050872802  | Test Acc.: 64.0\n",
      "Epoch: 48 \tTrain Loss: 0.7087779309082032  | Test Loss: 1.1512192768096925  | Test Acc.: 64.14\n",
      "Epoch: 49 \tTrain Loss: 0.706963652420044  | Test Loss: 1.1542185956954956  | Test Acc.: 64.09\n",
      "Epoch: 50 \tTrain Loss: 0.7034072218036651  | Test Loss: 1.1516651092529298  | Test Acc.: 64.1\n",
      "Epoch: 51 \tTrain Loss: 0.6974185539436341  | Test Loss: 1.1639711141586304  | Test Acc.: 63.86\n",
      "Epoch: 52 \tTrain Loss: 0.6931674216270447  | Test Loss: 1.1654198240280151  | Test Acc.: 63.87\n",
      "Epoch: 53 \tTrain Loss: 0.6876638075351715  | Test Loss: 1.1718209854125976  | Test Acc.: 64.13\n",
      "Epoch: 54 \tTrain Loss: 0.6867488570308685  | Test Loss: 1.178986542892456  | Test Acc.: 64.0\n",
      "Epoch: 55 \tTrain Loss: 0.6816466168785095  | Test Loss: 1.1830300565719605  | Test Acc.: 64.1\n",
      "Epoch: 56 \tTrain Loss: 0.6755496356105805  | Test Loss: 1.184775606918335  | Test Acc.: 63.89\n",
      "Epoch: 57 \tTrain Loss: 0.6701783495140076  | Test Loss: 1.19360392370224  | Test Acc.: 63.75\n",
      "Epoch: 58 \tTrain Loss: 0.6708158194541931  | Test Loss: 1.1880257926940918  | Test Acc.: 63.89\n",
      "Epoch: 59 \tTrain Loss: 0.664896814031601  | Test Loss: 1.1931837274551391  | Test Acc.: 63.9\n",
      "Epoch: 60 \tTrain Loss: 0.6624544670581818  | Test Loss: 1.1950626279830932  | Test Acc.: 64.11\n",
      "Epoch: 61 \tTrain Loss: 0.6591764407730103  | Test Loss: 1.204770251274109  | Test Acc.: 63.98\n",
      "Epoch: 62 \tTrain Loss: 0.6531894226646423  | Test Loss: 1.218955324935913  | Test Acc.: 63.96\n",
      "Epoch: 63 \tTrain Loss: 0.6506335581493378  | Test Loss: 1.2069930945396423  | Test Acc.: 64.15\n",
      "Epoch: 64 \tTrain Loss: 0.6440780533027649  | Test Loss: 1.2138725709915161  | Test Acc.: 64.04\n",
      "Epoch: 65 \tTrain Loss: 0.6460462863731384  | Test Loss: 1.2264495880126953  | Test Acc.: 64.01\n",
      "Epoch: 66 \tTrain Loss: 0.6401684196281433  | Test Loss: 1.2236432209968566  | Test Acc.: 64.15\n",
      "Epoch: 67 \tTrain Loss: 0.636381035823822  | Test Loss: 1.2404756826400758  | Test Acc.: 63.82\n",
      "Epoch: 68 \tTrain Loss: 0.6310102354383469  | Test Loss: 1.2360588129997254  | Test Acc.: 63.89\n",
      "Epoch: 69 \tTrain Loss: 0.631109423828125  | Test Loss: 1.239747096157074  | Test Acc.: 63.91\n",
      "Epoch: 70 \tTrain Loss: 0.6316471544265747  | Test Loss: 1.246238728904724  | Test Acc.: 63.72\n",
      "Epoch: 71 \tTrain Loss: 0.6222033675479889  | Test Loss: 1.2379776006698608  | Test Acc.: 63.85\n",
      "Epoch: 72 \tTrain Loss: 0.6203745994377137  | Test Loss: 1.2568405363082886  | Test Acc.: 63.97\n",
      "Epoch: 73 \tTrain Loss: 0.619022875289917  | Test Loss: 1.252012519454956  | Test Acc.: 63.81\n",
      "Epoch: 74 \tTrain Loss: 0.6097327822971343  | Test Loss: 1.2582038880348205  | Test Acc.: 63.93\n",
      "Epoch: 75 \tTrain Loss: 0.6107911971092224  | Test Loss: 1.2634811160087585  | Test Acc.: 63.91\n",
      "Epoch: 76 \tTrain Loss: 0.6101433032608032  | Test Loss: 1.2684406783103943  | Test Acc.: 63.58\n",
      "Epoch: 77 \tTrain Loss: 0.6103342500114441  | Test Loss: 1.2689746879577637  | Test Acc.: 63.86\n",
      "Epoch: 78 \tTrain Loss: 0.6059960032081604  | Test Loss: 1.2653599622726441  | Test Acc.: 63.77\n",
      "Epoch: 79 \tTrain Loss: 0.5992716893768311  | Test Loss: 1.2800037997245788  | Test Acc.: 64.12\n",
      "Epoch: 80 \tTrain Loss: 0.5973064713096619  | Test Loss: 1.2851836498260498  | Test Acc.: 63.54\n",
      "Epoch: 81 \tTrain Loss: 0.5964964142322541  | Test Loss: 1.2870295887947083  | Test Acc.: 63.95\n",
      "Epoch: 82 \tTrain Loss: 0.5924827290439606  | Test Loss: 1.2936063879013062  | Test Acc.: 63.78\n",
      "Epoch: 83 \tTrain Loss: 0.592590842871666  | Test Loss: 1.3015725960731506  | Test Acc.: 63.47\n",
      "Epoch: 84 \tTrain Loss: 0.5885110338115692  | Test Loss: 1.3071743543624879  | Test Acc.: 63.58\n",
      "Epoch: 85 \tTrain Loss: 0.5861167438793182  | Test Loss: 1.3011662249565124  | Test Acc.: 63.76\n",
      "Epoch: 86 \tTrain Loss: 0.5850240203762055  | Test Loss: 1.3060837726593018  | Test Acc.: 63.78\n",
      "Epoch: 87 \tTrain Loss: 0.5816893560504913  | Test Loss: 1.3054286304473877  | Test Acc.: 63.97\n",
      "Epoch: 88 \tTrain Loss: 0.5791384494018554  | Test Loss: 1.3124311306953431  | Test Acc.: 63.58\n",
      "Epoch: 89 \tTrain Loss: 0.5756081105899811  | Test Loss: 1.3218729808807372  | Test Acc.: 63.64\n",
      "Epoch: 90 \tTrain Loss: 0.5776198919868469  | Test Loss: 1.3254844935417176  | Test Acc.: 63.32\n",
      "Epoch: 91 \tTrain Loss: 0.5703802954959869  | Test Loss: 1.3254085000991822  | Test Acc.: 63.57\n",
      "Epoch: 92 \tTrain Loss: 0.5703757362365722  | Test Loss: 1.3338237990379334  | Test Acc.: 63.5\n",
      "Epoch: 93 \tTrain Loss: 0.5658771179389953  | Test Loss: 1.3470055850028992  | Test Acc.: 63.43\n",
      "Epoch: 94 \tTrain Loss: 0.5675282674694061  | Test Loss: 1.3328704153060913  | Test Acc.: 63.93\n",
      "Epoch: 95 \tTrain Loss: 0.5628100696706771  | Test Loss: 1.3289183059692382  | Test Acc.: 63.71\n",
      "Epoch: 96 \tTrain Loss: 0.560907183804512  | Test Loss: 1.3373807779312135  | Test Acc.: 63.66\n",
      "Epoch: 97 \tTrain Loss: 0.5578978329658508  | Test Loss: 1.3600203826904298  | Test Acc.: 63.6\n",
      "Epoch: 98 \tTrain Loss: 0.557172592048645  | Test Loss: 1.3582567239761352  | Test Acc.: 63.65\n",
      "Epoch: 99 \tTrain Loss: 0.5515117210626602  | Test Loss: 1.3621477071762085  | Test Acc.: 63.44\n",
      "Epoch: 100 \tTrain Loss: 0.5479935045814515  | Test Loss: 1.356233913230896  | Test Acc.: 63.31\n"
     ]
    }
   ],
   "source": [
    "train_loss_plt, valid_loss_plt = [], []\n",
    "test_accuracy_plt = []\n",
    "test_loss_plt = []\n",
    "n_epochs = 100\n",
    "for epoch in range(n_epochs):\n",
    "    train_loss, test_loss = 0, 0\n",
    "    model.train()\n",
    "    for images, labels in train_loader:\n",
    "        images, labels = images.to(device), labels.to(device)\n",
    "\n",
    "        optimizer.zero_grad()\n",
    "        output = model(images)\n",
    "        loss = CE(output, labels)\n",
    "        loss.backward()\n",
    "        optimizer.step()\n",
    "        \n",
    "        train_loss += loss.item() * images.size(0)\n",
    "\n",
    "    train_loss = train_loss / len(train_loader.dataset)\n",
    "    train_loss_plt.append(train_loss)\n",
    "\n",
    "    class_correct = list(0. for i in range(10))\n",
    "    class_total = list(0. for i in range(10))\n",
    "    model.eval()\n",
    "    with torch.no_grad():\n",
    "        for data, target in test_loader:\n",
    "            data, target = data.cuda(), target.cuda()\n",
    "            output = model(data)\n",
    "            loss = CE(output, target)\n",
    "\n",
    "            test_loss += loss.item() * data.size(0)\n",
    "            _, pred = torch.max(output, 1)\n",
    "            correct = np.squeeze(pred.eq(target.data.view_as(pred)))\n",
    "            for i in range(len(target)):\n",
    "                label = target.data[i]\n",
    "                class_correct[label] += correct[i].item()\n",
    "                class_total[label] += 1\n",
    "\n",
    "    test_loss = test_loss / len(test_loader.dataset)\n",
    "    test_loss_plt.append(test_loss)\n",
    "    \n",
    "    test_accuracy = 100. * np.sum(class_correct) / np.sum(class_total)\n",
    "    test_accuracy_plt.append(test_accuracy)\n",
    "\n",
    "    print('Epoch:', (epoch + 1), '\\tTrain Loss:', train_loss,' | Test Loss:', test_loss,' | Test Acc.:',test_accuracy)"
   ]
  },
  {
   "cell_type": "markdown",
   "metadata": {
    "colab_type": "text",
    "id": "lhVSKbxWVT9T"
   },
   "source": [
    "### Saving"
   ]
  },
  {
   "cell_type": "code",
   "execution_count": 0,
   "metadata": {
    "colab": {},
    "colab_type": "code",
    "id": "wm5QvSLiVT9U"
   },
   "outputs": [],
   "source": [
    "joblib.dump(train_loss_plt, 'train_loss_plt_q2_relu_dp_6.sav')\n",
    "joblib.dump(test_loss_plt, 'test_loss_plt_q2_relu_dp_6.sav')\n",
    "joblib.dump(test_accuracy_plt, 'test_accuracy_plt_q2_relu_dp_6.sav')\n",
    "torch.save(model.state_dict(), \"model_q2_relu_dp_6.pt\")"
   ]
  },
  {
   "cell_type": "code",
   "execution_count": 8,
   "metadata": {
    "colab": {
     "base_uri": "https://localhost:8080/",
     "height": 282
    },
    "colab_type": "code",
    "id": "uCcZ0RWuVT9V",
    "outputId": "d1471ea9-aab2-48ef-bed0-99ff2b5e7500"
   },
   "outputs": [
    {
     "data": {
      "text/plain": [
       "[<matplotlib.lines.Line2D at 0x7f3d16141780>]"
      ]
     },
     "execution_count": 8,
     "metadata": {
      "tags": []
     },
     "output_type": "execute_result"
    },
    {
     "data": {
      "image/png": "[encoded data removed]",
      "text/plain": [
       "<Figure size 432x288 with 1 Axes>"
      ]
     },
     "metadata": {
      "tags": []
     },
     "output_type": "display_data"
    }
   ],
   "source": [
    "plt.plot(np.arange(len(train_loss_plt)),train_loss_plt)"
   ]
  },
  {
   "cell_type": "code",
   "execution_count": 10,
   "metadata": {
    "colab": {
     "base_uri": "https://localhost:8080/",
     "height": 282
    },
    "colab_type": "code",
    "id": "V4clRFDX4Ee6",
    "outputId": "6fd8c398-e2d4-4d84-c271-c70d0b551bfe"
   },
   "outputs": [
    {
     "data": {
      "text/plain": [
       "[<matplotlib.lines.Line2D at 0x7f3d1607cef0>]"
      ]
     },
     "execution_count": 10,
     "metadata": {
      "tags": []
     },
     "output_type": "execute_result"
    },
    {
     "data": {
      "image/png": "[encoded data removed]",
      "text/plain": [
       "<Figure size 432x288 with 1 Axes>"
      ]
     },
     "metadata": {
      "tags": []
     },
     "output_type": "display_data"
    }
   ],
   "source": [
    "plt.plot(np.arange(len(test_loss_plt)),test_loss_plt)"
   ]
  },
  {
   "cell_type": "code",
   "execution_count": 11,
   "metadata": {
    "colab": {
     "base_uri": "https://localhost:8080/",
     "height": 282
    },
    "colab_type": "code",
    "id": "YaOTD5OjVT9Y",
    "outputId": "8dc742c4-b05d-4a12-ddf6-fc6f38205f59"
   },
   "outputs": [
    {
     "data": {
      "text/plain": [
       "[<matplotlib.lines.Line2D at 0x7f3d1611c710>]"
      ]
     },
     "execution_count": 11,
     "metadata": {
      "tags": []
     },
     "output_type": "execute_result"
    },
    {
     "data": {
      "image/png": "[encoded data removed]",
      "text/plain": [
       "<Figure size 432x288 with 1 Axes>"
      ]
     },
     "metadata": {
      "tags": []
     },
     "output_type": "display_data"
    }
   ],
   "source": [
    "plt.plot(np.arange(len(test_accuracy_plt)),test_accuracy_plt)"
   ]
  },
  {
   "cell_type": "code",
   "execution_count": 0,
   "metadata": {
    "colab": {},
    "colab_type": "code",
    "id": "7jazCysen_yU"
   },
   "outputs": [],
   "source": []
  },
  {
   "cell_type": "code",
   "execution_count": 2,
   "metadata": {},
   "outputs": [
    {
     "data": {
      "image/png": "[encoded data removed]",
      "text/plain": [
       "<Figure size 432x288 with 1 Axes>"
      ]
     },
     "metadata": {
      "needs_background": "light"
     },
     "output_type": "display_data"
    },
    {
     "data": {
      "image/png": "[encoded data removed]",
      "text/plain": [
       "<Figure size 432x288 with 1 Axes>"
      ]
     },
     "metadata": {
      "needs_background": "light"
     },
     "output_type": "display_data"
    },
    {
     "data": {
      "image/png": "[encoded data removed]",
      "text/plain": [
       "<Figure size 432x288 with 1 Axes>"
      ]
     },
     "metadata": {
      "needs_background": "light"
     },
     "output_type": "display_data"
    }
   ],
   "source": [
    "import joblib\n",
    "import matplotlib.pyplot as plt\n",
    "import numpy as np\n",
    "\n",
    "train_loss_plt = joblib.load('train_loss_plt_q2_relu_dp_6.sav')\n",
    "test_loss_plt = joblib.load('test_loss_plt_q2_relu_dp_6.sav')\n",
    "test_accuracy_plt = joblib.load('test_accuracy_plt_q2_relu_dp_6.sav')\n",
    "\n",
    "plt.title('ReLU with dropout=0.6 Train loss')\n",
    "plt.plot(np.arange(len(train_loss_plt)),train_loss_plt,label = 'Train Loss')\n",
    "plt.xlabel('Epochs')\n",
    "plt.ylabel('Loss')\n",
    "plt.legend()\n",
    "plt.show()\n",
    "\n",
    "plt.title('ReLU with dropout=0.6 Test Loss')\n",
    "plt.plot(np.arange(len(test_loss_plt)),test_loss_plt,color='r',label = 'Test Loss')\n",
    "plt.xlabel('Epochs')\n",
    "plt.ylabel('Loss')\n",
    "plt.legend()\n",
    "plt.show()\n",
    "\n",
    "plt.title('ReLU with dropout=0.6 Test Accuracy')\n",
    "plt.plot(np.arange(len(test_accuracy_plt)),test_accuracy_plt,color='g',label = 'Test Accuracy')\n",
    "plt.xlabel('Epochs')\n",
    "plt.ylabel('Accuracy')\n",
    "plt.legend()\n",
    "plt.show()"
   ]
  },
  {
   "cell_type": "code",
   "execution_count": null,
   "metadata": {},
   "outputs": [],
   "source": []
  }
 ],
 "metadata": {
  "accelerator": "GPU",
  "colab": {
   "collapsed_sections": [],
   "name": "AML_A4_Q2_relu_dp_6.ipynb",
   "provenance": [],
   "toc_visible": true
  },
  "kernelspec": {
   "display_name": "Python 3",
   "language": "python",
   "name": "python3"
  },
  "language_info": {
   "codemirror_mode": {
    "name": "ipython",
    "version": 3
   },
   "file_extension": ".py",
   "mimetype": "text/x-python",
   "name": "python",
   "nbconvert_exporter": "python",
   "pygments_lexer": "ipython3",
   "version": "3.7.1"
  }
 },
 "nbformat": 4,
 "nbformat_minor": 1
}
