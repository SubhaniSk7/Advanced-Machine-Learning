{
 "cells": [
  {
   "cell_type": "code",
   "execution_count": 0,
   "metadata": {
    "colab": {},
    "colab_type": "code",
    "id": "ZShQLuGyVT9K"
   },
   "outputs": [],
   "source": [
    "import torch\n",
    "from torchvision import datasets, transforms\n",
    "import torch.nn as nn\n",
    "import torch.nn.functional as F\n",
    "import torch.optim as optim\n",
    "from torch.utils.data import DataLoader\n",
    "from torch.utils.data.sampler import SubsetRandomSampler\n",
    "import matplotlib.pyplot as plt\n",
    "import numpy as np\n",
    "import joblib"
   ]
  },
  {
   "cell_type": "markdown",
   "metadata": {
    "colab_type": "text",
    "id": "mVUE3Y4HVT9M"
   },
   "source": [
    "### Data loading"
   ]
  },
  {
   "cell_type": "code",
   "execution_count": 2,
   "metadata": {
    "colab": {
     "base_uri": "https://localhost:8080/",
     "height": 84
    },
    "colab_type": "code",
    "id": "EAf9gYX8VT9N",
    "outputId": "ecbead6f-19f3-45f3-99e8-afaa014c8948"
   },
   "outputs": [
    {
     "name": "stderr",
     "output_type": "stream",
     "text": [
      "\r",
      "0it [00:00, ?it/s]"
     ]
    },
    {
     "name": "stdout",
     "output_type": "stream",
     "text": [
      "Downloading https://www.cs.toronto.edu/~kriz/cifar-10-python.tar.gz to ./Datasets/CIFAR10_data/cifar-10-python.tar.gz\n"
     ]
    },
    {
     "name": "stderr",
     "output_type": "stream",
     "text": [
      "170500096it [00:06, 26015952.52it/s]                               \n"
     ]
    },
    {
     "name": "stdout",
     "output_type": "stream",
     "text": [
      "Extracting ./Datasets/CIFAR10_data/cifar-10-python.tar.gz to ./Datasets/CIFAR10_data/\n",
      "Files already downloaded and verified\n"
     ]
    }
   ],
   "source": [
    "path = \"./Datasets/CIFAR10_data/\"\n",
    "# path = \"E:/Datasets/CIFAR10_data/\"\n",
    "\n",
    "device = 'cuda'\n",
    "num_workers = 0\n",
    "batch_size = 64\n",
    "\n",
    "transform = transforms.Compose([transforms.ToTensor(), transforms.Normalize((0.5, 0.5, 0.5), (0.5, 0.5, 0.5))])\n",
    "\n",
    "train_data = datasets.CIFAR10(path, train=True, download=True, transform=transform)\n",
    "test_data = datasets.CIFAR10(path, train=False, download=True, transform=transform)\n",
    "\n",
    "train_loader = DataLoader(train_data, batch_size=batch_size, num_workers=num_workers)\n",
    "test_loader = DataLoader(test_data, batch_size=batch_size, num_workers=num_workers)\n",
    "# classes = [\"plane\", \"car\", \"bird\", \"cat\", \"deer\", \"dog\", \"frog\", \"horse\", \"ship\", \"truck\"]"
   ]
  },
  {
   "cell_type": "markdown",
   "metadata": {
    "colab_type": "text",
    "id": "rC3AVpplVT9P"
   },
   "source": [
    "### Network"
   ]
  },
  {
   "cell_type": "code",
   "execution_count": 0,
   "metadata": {
    "colab": {},
    "colab_type": "code",
    "id": "A0LpB7EhVT9Q"
   },
   "outputs": [],
   "source": [
    "class Architecture(nn.Module):\n",
    "\n",
    "    def __init__(self):\n",
    "        super(Architecture, self).__init__()\n",
    "\n",
    "        self.conv1 = nn.Conv2d(3, 16, kernel_size=3, padding=2)\n",
    "        self.conv2 = nn.Conv2d(16, 16, kernel_size=3, padding=2)\n",
    "        self.conv3 = nn.Conv2d(16, 32, kernel_size=3, padding=2)\n",
    "        self.conv4 = nn.Conv2d(32, 32, kernel_size=3, padding=2)\n",
    "        self.conv5 = nn.Conv2d(32, 64, kernel_size=3, padding=2)\n",
    "        self.conv6 = nn.Conv2d(64, 64, kernel_size=3, padding=2)\n",
    "\n",
    "        self.pool = nn.MaxPool2d(2)\n",
    "\n",
    "        self.fc_1 = nn.Linear(64 * 2 * 2, 512)\n",
    "        self.fc_2 = nn.Linear(512, 256)\n",
    "        self.fc_3 = nn.Linear(256, 10)\n",
    "\n",
    "        self.tanh = nn.Tanh()\n",
    "        self.dropout = nn.Dropout(0.4)\n",
    "\n",
    "    def forward(self, x):\n",
    "        x = self.pool(self.tanh(self.conv1(x)))\n",
    "        x = self.pool(self.tanh(self.conv2(x)))\n",
    "        x = self.pool(self.tanh(self.conv3(x)))\n",
    "        x = self.pool(self.tanh(self.conv4(x)))\n",
    "        x = self.pool(self.tanh(self.conv5(x)))\n",
    "        x = self.pool(self.tanh(self.conv6(x)))\n",
    "        x = x.view(-1, 64 * 2 * 2)\n",
    "        x = self.dropout(x)\n",
    "        x = self.dropout(self.tanh(self.fc_1(x)))\n",
    "        x = self.dropout(self.tanh(self.fc_2(x)))\n",
    "        x = self.fc_3(x)\n",
    "        return x\n",
    "\n",
    "model = Architecture()\n",
    "model.to(device)\n",
    "\n",
    "CE = nn.CrossEntropyLoss()\n",
    "optimizer = optim.Adagrad(model.parameters(), lr=0.02)"
   ]
  },
  {
   "cell_type": "code",
   "execution_count": 4,
   "metadata": {
    "colab": {
     "base_uri": "https://localhost:8080/",
     "height": 1000
    },
    "colab_type": "code",
    "id": "mm7LDkMrVT9S",
    "outputId": "bf05fe6b-3068-4450-ff6c-3c12c4475706"
   },
   "outputs": [
    {
     "name": "stdout",
     "output_type": "stream",
     "text": [
      "Epoch: 1 \tTrain Loss: 2.1410370935058594  | Test Loss: 1.9316035305023194  | Test Acc.: 25.73\n",
      "Epoch: 2 \tTrain Loss: 1.8499633808135987  | Test Loss: 1.7896106481552123  | Test Acc.: 32.37\n",
      "Epoch: 3 \tTrain Loss: 1.6470632398223877  | Test Loss: 1.4978770908355712  | Test Acc.: 44.06\n",
      "Epoch: 4 \tTrain Loss: 1.5014435954284668  | Test Loss: 1.4740794269561768  | Test Acc.: 45.23\n",
      "Epoch: 5 \tTrain Loss: 1.3987360121917725  | Test Loss: 1.3633017181396485  | Test Acc.: 50.06\n",
      "Epoch: 6 \tTrain Loss: 1.3264053799438476  | Test Loss: 1.3144468505859375  | Test Acc.: 52.07\n",
      "Epoch: 7 \tTrain Loss: 1.2661658814239503  | Test Loss: 1.2621189453125  | Test Acc.: 54.45\n",
      "Epoch: 8 \tTrain Loss: 1.2199625380706787  | Test Loss: 1.2349712703704834  | Test Acc.: 55.64\n",
      "Epoch: 9 \tTrain Loss: 1.1796458444595337  | Test Loss: 1.2219881052017212  | Test Acc.: 56.49\n",
      "Epoch: 10 \tTrain Loss: 1.1394987850952147  | Test Loss: 1.1775574577331542  | Test Acc.: 58.29\n",
      "Epoch: 11 \tTrain Loss: 1.109061386680603  | Test Loss: 1.1701294483184814  | Test Acc.: 58.37\n",
      "Epoch: 12 \tTrain Loss: 1.0800752117538452  | Test Loss: 1.1233395793914795  | Test Acc.: 59.99\n",
      "Epoch: 13 \tTrain Loss: 1.0500421088027954  | Test Loss: 1.1129557947158812  | Test Acc.: 60.1\n",
      "Epoch: 14 \tTrain Loss: 1.02744227809906  | Test Loss: 1.0939848917007446  | Test Acc.: 61.48\n",
      "Epoch: 15 \tTrain Loss: 1.0079952577209472  | Test Loss: 1.1033894453048707  | Test Acc.: 61.3\n",
      "Epoch: 16 \tTrain Loss: 0.982710877494812  | Test Loss: 1.0879700569152833  | Test Acc.: 61.86\n",
      "Epoch: 17 \tTrain Loss: 0.9664344362068177  | Test Loss: 1.1100900859832763  | Test Acc.: 61.5\n",
      "Epoch: 18 \tTrain Loss: 0.9499282753753662  | Test Loss: 1.099802350997925  | Test Acc.: 62.03\n",
      "Epoch: 19 \tTrain Loss: 0.9297828704452514  | Test Loss: 1.083046780014038  | Test Acc.: 62.46\n",
      "Epoch: 20 \tTrain Loss: 0.9130812038230895  | Test Loss: 1.0971845846176147  | Test Acc.: 62.27\n",
      "Epoch: 21 \tTrain Loss: 0.8979922068786621  | Test Loss: 1.0557912422180176  | Test Acc.: 63.69\n",
      "Epoch: 22 \tTrain Loss: 0.8868884575843811  | Test Loss: 1.0623762930870055  | Test Acc.: 63.65\n",
      "Epoch: 23 \tTrain Loss: 0.8709376955795288  | Test Loss: 1.0560138971328736  | Test Acc.: 63.94\n",
      "Epoch: 24 \tTrain Loss: 0.8574383713150024  | Test Loss: 1.0595324573516847  | Test Acc.: 64.25\n",
      "Epoch: 25 \tTrain Loss: 0.84406345703125  | Test Loss: 1.0534761533737182  | Test Acc.: 63.76\n",
      "Epoch: 26 \tTrain Loss: 0.8341971607589722  | Test Loss: 1.061498308944702  | Test Acc.: 64.03\n",
      "Epoch: 27 \tTrain Loss: 0.8211046095657348  | Test Loss: 1.0544727981567383  | Test Acc.: 64.33\n",
      "Epoch: 28 \tTrain Loss: 0.8110400059890747  | Test Loss: 1.0703722031593323  | Test Acc.: 64.19\n",
      "Epoch: 29 \tTrain Loss: 0.8014153814315796  | Test Loss: 1.0724445360183716  | Test Acc.: 64.0\n",
      "Epoch: 30 \tTrain Loss: 0.7893797057723999  | Test Loss: 1.0596832891464234  | Test Acc.: 65.19\n",
      "Epoch: 31 \tTrain Loss: 0.7822485013198852  | Test Loss: 1.0614143995285035  | Test Acc.: 64.63\n",
      "Epoch: 32 \tTrain Loss: 0.7680873963356019  | Test Loss: 1.0526162761688231  | Test Acc.: 65.21\n",
      "Epoch: 33 \tTrain Loss: 0.7635023651885986  | Test Loss: 1.0643932720184326  | Test Acc.: 64.78\n",
      "Epoch: 34 \tTrain Loss: 0.7513413234329224  | Test Loss: 1.0681049531936646  | Test Acc.: 64.78\n",
      "Epoch: 35 \tTrain Loss: 0.7460183094787598  | Test Loss: 1.0596400888442994  | Test Acc.: 65.02\n",
      "Epoch: 36 \tTrain Loss: 0.7358395906448364  | Test Loss: 1.0757584615707398  | Test Acc.: 65.01\n",
      "Epoch: 37 \tTrain Loss: 0.7260856742858887  | Test Loss: 1.068440912437439  | Test Acc.: 65.14\n",
      "Epoch: 38 \tTrain Loss: 0.720294006433487  | Test Loss: 1.0671705841064454  | Test Acc.: 65.43\n",
      "Epoch: 39 \tTrain Loss: 0.7107744470024109  | Test Loss: 1.0899652594566345  | Test Acc.: 65.36\n",
      "Epoch: 40 \tTrain Loss: 0.704288939704895  | Test Loss: 1.0782979345321655  | Test Acc.: 65.37\n",
      "Epoch: 41 \tTrain Loss: 0.6950814918518067  | Test Loss: 1.1118841760635376  | Test Acc.: 64.35\n",
      "Epoch: 42 \tTrain Loss: 0.6913832844638824  | Test Loss: 1.084839494895935  | Test Acc.: 65.2\n",
      "Epoch: 43 \tTrain Loss: 0.6841297478485108  | Test Loss: 1.0847664310455323  | Test Acc.: 65.59\n",
      "Epoch: 44 \tTrain Loss: 0.6761747987174987  | Test Loss: 1.0960428005218505  | Test Acc.: 65.47\n",
      "Epoch: 45 \tTrain Loss: 0.6679349353027344  | Test Loss: 1.0903663848876952  | Test Acc.: 65.58\n",
      "Epoch: 46 \tTrain Loss: 0.6621285767173767  | Test Loss: 1.0937946895599364  | Test Acc.: 65.6\n",
      "Epoch: 47 \tTrain Loss: 0.6585210483360291  | Test Loss: 1.0983760299682617  | Test Acc.: 65.45\n",
      "Epoch: 48 \tTrain Loss: 0.6523743532562256  | Test Loss: 1.0985530101776122  | Test Acc.: 65.63\n",
      "Epoch: 49 \tTrain Loss: 0.648626329755783  | Test Loss: 1.1028553268432617  | Test Acc.: 65.33\n",
      "Epoch: 50 \tTrain Loss: 0.6419694011306762  | Test Loss: 1.1015187141418457  | Test Acc.: 65.49\n",
      "Epoch: 51 \tTrain Loss: 0.6335703337192535  | Test Loss: 1.1138682285308839  | Test Acc.: 65.17\n",
      "Epoch: 52 \tTrain Loss: 0.6321778137683869  | Test Loss: 1.1169869834899901  | Test Acc.: 65.49\n",
      "Epoch: 53 \tTrain Loss: 0.6251223003196716  | Test Loss: 1.1206015209197997  | Test Acc.: 65.41\n",
      "Epoch: 54 \tTrain Loss: 0.6196089227104187  | Test Loss: 1.1161537475585936  | Test Acc.: 65.26\n",
      "Epoch: 55 \tTrain Loss: 0.6107139790344238  | Test Loss: 1.1372529933929443  | Test Acc.: 65.49\n",
      "Epoch: 56 \tTrain Loss: 0.6107166680908203  | Test Loss: 1.121492303466797  | Test Acc.: 65.65\n",
      "Epoch: 57 \tTrain Loss: 0.6039808861541748  | Test Loss: 1.1365709424972534  | Test Acc.: 65.16\n",
      "Epoch: 58 \tTrain Loss: 0.5941159824752807  | Test Loss: 1.1441686056137086  | Test Acc.: 65.52\n",
      "Epoch: 59 \tTrain Loss: 0.5943038545084  | Test Loss: 1.1405969297409058  | Test Acc.: 65.41\n",
      "Epoch: 60 \tTrain Loss: 0.5881686683177948  | Test Loss: 1.13582557182312  | Test Acc.: 65.17\n",
      "Epoch: 61 \tTrain Loss: 0.583969142332077  | Test Loss: 1.14297762298584  | Test Acc.: 65.32\n",
      "Epoch: 62 \tTrain Loss: 0.5807773979473114  | Test Loss: 1.150200842666626  | Test Acc.: 65.36\n",
      "Epoch: 63 \tTrain Loss: 0.5754263549041748  | Test Loss: 1.1455200855255128  | Test Acc.: 65.33\n",
      "Epoch: 64 \tTrain Loss: 0.5717866290664673  | Test Loss: 1.1510451862335205  | Test Acc.: 65.22\n",
      "Epoch: 65 \tTrain Loss: 0.5684945091247559  | Test Loss: 1.1612791357040406  | Test Acc.: 65.2\n",
      "Epoch: 66 \tTrain Loss: 0.5618624667930603  | Test Loss: 1.1907669828414917  | Test Acc.: 65.13\n",
      "Epoch: 67 \tTrain Loss: 0.5603372388267517  | Test Loss: 1.1760877838134767  | Test Acc.: 65.38\n",
      "Epoch: 68 \tTrain Loss: 0.5555599356079102  | Test Loss: 1.1693324947357178  | Test Acc.: 65.04\n",
      "Epoch: 69 \tTrain Loss: 0.5484370014381409  | Test Loss: 1.1826935958862306  | Test Acc.: 65.31\n",
      "Epoch: 70 \tTrain Loss: 0.5486686724185944  | Test Loss: 1.1854511169433595  | Test Acc.: 65.4\n",
      "Epoch: 71 \tTrain Loss: 0.5446136202335358  | Test Loss: 1.1815945964813233  | Test Acc.: 65.16\n",
      "Epoch: 72 \tTrain Loss: 0.540571182384491  | Test Loss: 1.1800074871063233  | Test Acc.: 65.37\n",
      "Epoch: 73 \tTrain Loss: 0.5404942197227478  | Test Loss: 1.1919357864379883  | Test Acc.: 65.09\n",
      "Epoch: 74 \tTrain Loss: 0.5333784699249268  | Test Loss: 1.196227593612671  | Test Acc.: 65.23\n",
      "Epoch: 75 \tTrain Loss: 0.5310807445049286  | Test Loss: 1.1915913698196412  | Test Acc.: 65.52\n",
      "Epoch: 76 \tTrain Loss: 0.5260748894071579  | Test Loss: 1.2106099326133728  | Test Acc.: 65.59\n",
      "Epoch: 77 \tTrain Loss: 0.520962768239975  | Test Loss: 1.205128568458557  | Test Acc.: 65.67\n",
      "Epoch: 78 \tTrain Loss: 0.5177236333608627  | Test Loss: 1.2081317834854126  | Test Acc.: 65.39\n",
      "Epoch: 79 \tTrain Loss: 0.5162477968025208  | Test Loss: 1.2168179008483886  | Test Acc.: 65.11\n",
      "Epoch: 80 \tTrain Loss: 0.5129123807907104  | Test Loss: 1.2094048301696778  | Test Acc.: 65.58\n",
      "Epoch: 81 \tTrain Loss: 0.5086888505554199  | Test Loss: 1.2051051082611084  | Test Acc.: 65.7\n",
      "Epoch: 82 \tTrain Loss: 0.5026500671863556  | Test Loss: 1.2261847373962402  | Test Acc.: 65.53\n",
      "Epoch: 83 \tTrain Loss: 0.5046493880939483  | Test Loss: 1.227706181716919  | Test Acc.: 65.28\n",
      "Epoch: 84 \tTrain Loss: 0.4994187873649597  | Test Loss: 1.2255514526367188  | Test Acc.: 65.67\n",
      "Epoch: 85 \tTrain Loss: 0.49827663660049437  | Test Loss: 1.2309952587127686  | Test Acc.: 65.51\n",
      "Epoch: 86 \tTrain Loss: 0.4919153381443024  | Test Loss: 1.2391005393981933  | Test Acc.: 65.73\n",
      "Epoch: 87 \tTrain Loss: 0.4920542824792862  | Test Loss: 1.2450561290740967  | Test Acc.: 65.02\n",
      "Epoch: 88 \tTrain Loss: 0.4891740888786316  | Test Loss: 1.2401836654663085  | Test Acc.: 65.71\n",
      "Epoch: 89 \tTrain Loss: 0.48672713464260103  | Test Loss: 1.2528251428604127  | Test Acc.: 65.57\n",
      "Epoch: 90 \tTrain Loss: 0.4836490877771378  | Test Loss: 1.255246322631836  | Test Acc.: 65.44\n",
      "Epoch: 91 \tTrain Loss: 0.4802501059341431  | Test Loss: 1.2566859060287476  | Test Acc.: 65.33\n",
      "Epoch: 92 \tTrain Loss: 0.4756089157962799  | Test Loss: 1.266238221359253  | Test Acc.: 65.47\n",
      "Epoch: 93 \tTrain Loss: 0.47424981287002566  | Test Loss: 1.2573625961303712  | Test Acc.: 65.65\n",
      "Epoch: 94 \tTrain Loss: 0.47196737209320067  | Test Loss: 1.2592409635543824  | Test Acc.: 65.32\n",
      "Epoch: 95 \tTrain Loss: 0.4709012666988373  | Test Loss: 1.2667329950332642  | Test Acc.: 65.25\n",
      "Epoch: 96 \tTrain Loss: 0.463338777551651  | Test Loss: 1.2886640598297119  | Test Acc.: 65.35\n",
      "Epoch: 97 \tTrain Loss: 0.46207424058914187  | Test Loss: 1.2830305633544923  | Test Acc.: 65.7\n",
      "Epoch: 98 \tTrain Loss: 0.46506400208473203  | Test Loss: 1.2730230251312256  | Test Acc.: 65.65\n",
      "Epoch: 99 \tTrain Loss: 0.4633590417766571  | Test Loss: 1.2817810890197754  | Test Acc.: 65.54\n",
      "Epoch: 100 \tTrain Loss: 0.46055555074691773  | Test Loss: 1.2832578157424928  | Test Acc.: 65.39\n"
     ]
    }
   ],
   "source": [
    "train_loss_plt, valid_loss_plt = [], []\n",
    "test_accuracy_plt = []\n",
    "test_loss_plt = []\n",
    "n_epochs = 100\n",
    "for epoch in range(n_epochs):\n",
    "    train_loss, test_loss = 0, 0\n",
    "    model.train()\n",
    "    for images, labels in train_loader:\n",
    "        images, labels = images.to(device), labels.to(device)\n",
    "\n",
    "        optimizer.zero_grad()\n",
    "        output = model(images)\n",
    "        loss = CE(output, labels)\n",
    "        loss.backward()\n",
    "        optimizer.step()\n",
    "        \n",
    "        train_loss += loss.item() * images.size(0)\n",
    "\n",
    "    train_loss = train_loss / len(train_loader.dataset)\n",
    "    train_loss_plt.append(train_loss)\n",
    "\n",
    "    class_correct = list(0. for i in range(10))\n",
    "    class_total = list(0. for i in range(10))\n",
    "    model.eval()\n",
    "    with torch.no_grad():\n",
    "        for data, target in test_loader:\n",
    "            data, target = data.cuda(), target.cuda()\n",
    "            output = model(data)\n",
    "            loss = CE(output, target)\n",
    "\n",
    "            test_loss += loss.item() * data.size(0)\n",
    "            _, pred = torch.max(output, 1)\n",
    "            correct = np.squeeze(pred.eq(target.data.view_as(pred)))\n",
    "            for i in range(len(target)):\n",
    "                label = target.data[i]\n",
    "                class_correct[label] += correct[i].item()\n",
    "                class_total[label] += 1\n",
    "\n",
    "    test_loss = test_loss / len(test_loader.dataset)\n",
    "    test_loss_plt.append(test_loss)\n",
    "    \n",
    "    test_accuracy = 100. * np.sum(class_correct) / np.sum(class_total)\n",
    "    test_accuracy_plt.append(test_accuracy)\n",
    "\n",
    "    print('Epoch:', (epoch + 1), '\\tTrain Loss:', train_loss,' | Test Loss:', test_loss,' | Test Acc.:',test_accuracy)"
   ]
  },
  {
   "cell_type": "markdown",
   "metadata": {
    "colab_type": "text",
    "id": "lhVSKbxWVT9T"
   },
   "source": [
    "### Saving"
   ]
  },
  {
   "cell_type": "code",
   "execution_count": 0,
   "metadata": {
    "colab": {},
    "colab_type": "code",
    "id": "wm5QvSLiVT9U"
   },
   "outputs": [],
   "source": [
    "joblib.dump(train_loss_plt, 'train_loss_plt_q2_tanh_dp_4.sav')\n",
    "joblib.dump(test_loss_plt, 'test_loss_plt_q2_tan_dp_4.sav')\n",
    "joblib.dump(test_accuracy_plt, 'test_accuracy_plt_q2_dp_4.sav')\n",
    "torch.save(model.state_dict(), \"model_q2_tanh_dp_4.pt\")"
   ]
  },
  {
   "cell_type": "code",
   "execution_count": 8,
   "metadata": {
    "colab": {
     "base_uri": "https://localhost:8080/",
     "height": 282
    },
    "colab_type": "code",
    "id": "uCcZ0RWuVT9V",
    "outputId": "3bcc7c6c-743d-465a-ae12-283751dc5e25"
   },
   "outputs": [
    {
     "data": {
      "text/plain": [
       "[<matplotlib.lines.Line2D at 0x7f3ec6079fd0>]"
      ]
     },
     "execution_count": 8,
     "metadata": {
      "tags": []
     },
     "output_type": "execute_result"
    },
    {
     "data": {
      "image/png": "[encoded data removed]",
      "text/plain": [
       "<Figure size 432x288 with 1 Axes>"
      ]
     },
     "metadata": {
      "tags": []
     },
     "output_type": "display_data"
    }
   ],
   "source": [
    "plt.plot(np.arange(len(train_loss_plt)),train_loss_plt)"
   ]
  },
  {
   "cell_type": "code",
   "execution_count": 10,
   "metadata": {
    "colab": {
     "base_uri": "https://localhost:8080/",
     "height": 282
    },
    "colab_type": "code",
    "id": "V4clRFDX4Ee6",
    "outputId": "b0969ac1-6145-43bd-9261-e61979df9854"
   },
   "outputs": [
    {
     "data": {
      "text/plain": [
       "[<matplotlib.lines.Line2D at 0x7f3ec2b49518>]"
      ]
     },
     "execution_count": 10,
     "metadata": {
      "tags": []
     },
     "output_type": "execute_result"
    },
    {
     "data": {
      "image/png": "[encoded data removed]",
      "text/plain": [
       "<Figure size 432x288 with 1 Axes>"
      ]
     },
     "metadata": {
      "tags": []
     },
     "output_type": "display_data"
    }
   ],
   "source": [
    "plt.plot(np.arange(len(test_loss_plt)),test_loss_plt)"
   ]
  },
  {
   "cell_type": "code",
   "execution_count": 11,
   "metadata": {
    "colab": {
     "base_uri": "https://localhost:8080/",
     "height": 282
    },
    "colab_type": "code",
    "id": "YaOTD5OjVT9Y",
    "outputId": "3709b9eb-b6f1-44b4-8019-db5c0d35ddfb"
   },
   "outputs": [
    {
     "data": {
      "text/plain": [
       "[<matplotlib.lines.Line2D at 0x7f3ec6058c50>]"
      ]
     },
     "execution_count": 11,
     "metadata": {
      "tags": []
     },
     "output_type": "execute_result"
    },
    {
     "data": {
      "image/png": "[encoded data removed]",
      "text/plain": [
       "<Figure size 432x288 with 1 Axes>"
      ]
     },
     "metadata": {
      "tags": []
     },
     "output_type": "display_data"
    }
   ],
   "source": [
    "plt.plot(np.arange(len(test_accuracy_plt)),test_accuracy_plt)"
   ]
  },
  {
   "cell_type": "code",
   "execution_count": 0,
   "metadata": {
    "colab": {},
    "colab_type": "code",
    "id": "lvVQkRc4nO-H"
   },
   "outputs": [],
   "source": []
  },
  {
   "cell_type": "code",
   "execution_count": 3,
   "metadata": {},
   "outputs": [
    {
     "data": {
      "image/png": "[encoded data removed]",
      "text/plain": [
       "<Figure size 432x288 with 1 Axes>"
      ]
     },
     "metadata": {
      "needs_background": "light"
     },
     "output_type": "display_data"
    },
    {
     "data": {
      "image/png": "[encoded data removed]",
      "text/plain": [
       "<Figure size 432x288 with 1 Axes>"
      ]
     },
     "metadata": {
      "needs_background": "light"
     },
     "output_type": "display_data"
    },
    {
     "data": {
      "image/png": "[encoded data removed]",
      "text/plain": [
       "<Figure size 432x288 with 1 Axes>"
      ]
     },
     "metadata": {
      "needs_background": "light"
     },
     "output_type": "display_data"
    }
   ],
   "source": [
    "import joblib\n",
    "import matplotlib.pyplot as plt\n",
    "import numpy as np\n",
    "\n",
    "train_loss_plt = joblib.load('train_loss_plt_q2_tanh_dp_4.sav')\n",
    "test_loss_plt = joblib.load('test_loss_plt_q2_tanh_dp_4.sav')\n",
    "test_accuracy_plt = joblib.load('test_accuracy_plt_q2_tanh_dp_4.sav')\n",
    "\n",
    "plt.title('Tanh with dropout=0.4 Train loss')\n",
    "plt.plot(np.arange(len(train_loss_plt)),train_loss_plt,label = 'Train Loss')\n",
    "plt.xlabel('Epochs')\n",
    "plt.ylabel('Loss')\n",
    "plt.legend()\n",
    "plt.show()\n",
    "\n",
    "plt.title('Tanh with dropout=0.4 Test Loss')\n",
    "plt.plot(np.arange(len(test_loss_plt)),test_loss_plt,color='r',label = 'Test Loss')\n",
    "plt.xlabel('Epochs')\n",
    "plt.ylabel('Loss')\n",
    "plt.legend()\n",
    "plt.show()\n",
    "\n",
    "plt.title('Tanh with dropout=0.4 Test Accuracy')\n",
    "plt.plot(np.arange(len(test_accuracy_plt)),test_accuracy_plt,color='g',label = 'Test Accuracy')\n",
    "plt.xlabel('Epochs')\n",
    "plt.ylabel('Accuracy')\n",
    "plt.legend()\n",
    "plt.show()"
   ]
  },
  {
   "cell_type": "code",
   "execution_count": null,
   "metadata": {},
   "outputs": [],
   "source": []
  }
 ],
 "metadata": {
  "accelerator": "GPU",
  "colab": {
   "collapsed_sections": [],
   "name": "AML_A4_Q2_tanh_dp_4.ipynb",
   "provenance": [],
   "toc_visible": true
  },
  "kernelspec": {
   "display_name": "Python 3",
   "language": "python",
   "name": "python3"
  },
  "language_info": {
   "codemirror_mode": {
    "name": "ipython",
    "version": 3
   },
   "file_extension": ".py",
   "mimetype": "text/x-python",
   "name": "python",
   "nbconvert_exporter": "python",
   "pygments_lexer": "ipython3",
   "version": "3.7.1"
  }
 },
 "nbformat": 4,
 "nbformat_minor": 1
}
