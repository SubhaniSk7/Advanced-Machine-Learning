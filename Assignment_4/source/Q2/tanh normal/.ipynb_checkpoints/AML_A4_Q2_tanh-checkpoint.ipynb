{
 "cells": [
  {
   "cell_type": "code",
   "execution_count": 0,
   "metadata": {
    "colab": {},
    "colab_type": "code",
    "id": "ZShQLuGyVT9K"
   },
   "outputs": [],
   "source": [
    "import torch\n",
    "from torchvision import datasets, transforms\n",
    "import torch.nn as nn\n",
    "import torch.nn.functional as F\n",
    "import torch.optim as optim\n",
    "from torch.utils.data import DataLoader\n",
    "from torch.utils.data.sampler import SubsetRandomSampler\n",
    "import matplotlib.pyplot as plt\n",
    "import numpy as np\n",
    "import joblib"
   ]
  },
  {
   "cell_type": "markdown",
   "metadata": {
    "colab_type": "text",
    "id": "mVUE3Y4HVT9M"
   },
   "source": [
    "### Data loading"
   ]
  },
  {
   "cell_type": "code",
   "execution_count": 2,
   "metadata": {
    "colab": {
     "base_uri": "https://localhost:8080/",
     "height": 87
    },
    "colab_type": "code",
    "id": "EAf9gYX8VT9N",
    "outputId": "8124a5a8-c8e5-429f-9c39-7a7a0a2c8ff0"
   },
   "outputs": [
    {
     "name": "stderr",
     "output_type": "stream",
     "text": [
      "\r",
      "0it [00:00, ?it/s]"
     ]
    },
    {
     "name": "stdout",
     "output_type": "stream",
     "text": [
      "Downloading https://www.cs.toronto.edu/~kriz/cifar-10-python.tar.gz to ./Datasets/CIFAR10_data/cifar-10-python.tar.gz\n"
     ]
    },
    {
     "name": "stderr",
     "output_type": "stream",
     "text": [
      "100%|█████████▉| 170188800/170498071 [00:11<00:00, 17772642.68it/s]"
     ]
    },
    {
     "name": "stdout",
     "output_type": "stream",
     "text": [
      "Extracting ./Datasets/CIFAR10_data/cifar-10-python.tar.gz to ./Datasets/CIFAR10_data/\n",
      "Files already downloaded and verified\n"
     ]
    }
   ],
   "source": [
    "path = \"./Datasets/CIFAR10_data/\"\n",
    "# path = \"E:/Datasets/CIFAR10_data/\"\n",
    "\n",
    "device = 'cuda'\n",
    "num_workers = 0\n",
    "batch_size = 20\n",
    "\n",
    "transform = transforms.Compose([transforms.ToTensor(), transforms.Normalize((0.5, 0.5, 0.5), (0.5, 0.5, 0.5))])\n",
    "\n",
    "train_data = datasets.CIFAR10(path, train=True, download=True, transform=transform)\n",
    "test_data = datasets.CIFAR10(path, train=False, download=True, transform=transform)\n",
    "\n",
    "train_loader = DataLoader(train_data, batch_size=batch_size, num_workers=num_workers)\n",
    "test_loader = DataLoader(test_data, batch_size=batch_size, num_workers=num_workers)\n",
    "# classes = [\"plane\", \"car\", \"bird\", \"cat\", \"deer\", \"dog\", \"frog\", \"horse\", \"ship\", \"truck\"]"
   ]
  },
  {
   "cell_type": "markdown",
   "metadata": {
    "colab_type": "text",
    "id": "rC3AVpplVT9P"
   },
   "source": [
    "### Network"
   ]
  },
  {
   "cell_type": "code",
   "execution_count": 0,
   "metadata": {
    "colab": {},
    "colab_type": "code",
    "id": "A0LpB7EhVT9Q"
   },
   "outputs": [],
   "source": [
    "class Architecture(nn.Module):\n",
    "\n",
    "    def __init__(self):\n",
    "        super(Architecture, self).__init__()\n",
    "\n",
    "        self.conv1 = nn.Conv2d(3, 16, kernel_size=3, padding=2)\n",
    "        self.conv2 = nn.Conv2d(16, 16, kernel_size=3, padding=2)\n",
    "        self.conv3 = nn.Conv2d(16, 32, kernel_size=3, padding=2)\n",
    "        self.conv4 = nn.Conv2d(32, 32, kernel_size=3, padding=2)\n",
    "        self.conv5 = nn.Conv2d(32, 64, kernel_size=3, padding=2)\n",
    "        self.conv6 = nn.Conv2d(64, 64, kernel_size=3, padding=2)\n",
    "\n",
    "        self.pool = nn.MaxPool2d(2)\n",
    "\n",
    "        self.fc_1 = nn.Linear(64 * 2 * 2, 256)\n",
    "        self.fc_2 = nn.Linear(256, 10)\n",
    "\n",
    "        self.tanh = nn.Tanh()\n",
    "\n",
    "    def forward(self, x):\n",
    "        x = self.pool(self.tanh(self.conv1(x)))\n",
    "        x = self.pool(self.tanh(self.conv2(x)))\n",
    "        x = self.pool(self.tanh(self.conv3(x)))\n",
    "        x = self.pool(self.tanh(self.conv4(x)))\n",
    "        x = self.pool(self.tanh(self.conv5(x)))\n",
    "        x = self.pool(self.tanh(self.conv6(x)))\n",
    "        x = x.view(-1, 64 * 2 * 2)\n",
    "        x = self.tanh(self.fc_1(x))\n",
    "        x = self.fc_2(x)\n",
    "        return x\n",
    "\n",
    "model = Architecture()\n",
    "model.to(device)\n",
    "\n",
    "CE = nn.CrossEntropyLoss()\n",
    "optimizer = optim.Adagrad(model.parameters(), lr=0.02)"
   ]
  },
  {
   "cell_type": "code",
   "execution_count": 4,
   "metadata": {
    "colab": {
     "base_uri": "https://localhost:8080/",
     "height": 1000
    },
    "colab_type": "code",
    "id": "mm7LDkMrVT9S",
    "outputId": "9f40a6cf-7f19-49f3-d7da-c41ce7970fb2"
   },
   "outputs": [
    {
     "name": "stderr",
     "output_type": "stream",
     "text": [
      "\r",
      "170500096it [00:30, 17772642.68it/s]                               "
     ]
    },
    {
     "name": "stdout",
     "output_type": "stream",
     "text": [
      "Epoch: 1 \tTrain Loss: 1.7136026488780975  | Test Loss: 1.3780939165353776  | Test Acc.: 48.87\n",
      "Epoch: 2 \tTrain Loss: 1.2934689541339874  | Test Loss: 1.1932801386117935  | Test Acc.: 56.66\n",
      "Epoch: 3 \tTrain Loss: 1.1269749299287797  | Test Loss: 1.1133525326251983  | Test Acc.: 59.89\n",
      "Epoch: 4 \tTrain Loss: 1.023576014983654  | Test Loss: 1.0658209847211837  | Test Acc.: 61.91\n",
      "Epoch: 5 \tTrain Loss: 0.9482072125673294  | Test Loss: 1.0383855511546134  | Test Acc.: 63.09\n",
      "Epoch: 6 \tTrain Loss: 0.8870006301522255  | Test Loss: 1.0253390951156616  | Test Acc.: 63.88\n",
      "Epoch: 7 \tTrain Loss: 0.8351006459116935  | Test Loss: 1.0202298134565353  | Test Acc.: 63.99\n",
      "Epoch: 8 \tTrain Loss: 0.7899089081048966  | Test Loss: 1.0224459275603295  | Test Acc.: 64.1\n",
      "Epoch: 9 \tTrain Loss: 0.748813375133276  | Test Loss: 1.0271416900753976  | Test Acc.: 64.46\n",
      "Epoch: 10 \tTrain Loss: 0.7106996516346932  | Test Loss: 1.0343672831058501  | Test Acc.: 64.99\n",
      "Epoch: 11 \tTrain Loss: 0.6754823635876179  | Test Loss: 1.0471641630530357  | Test Acc.: 64.97\n",
      "Epoch: 12 \tTrain Loss: 0.6426689185857772  | Test Loss: 1.0610322071611882  | Test Acc.: 65.34\n",
      "Epoch: 13 \tTrain Loss: 0.6113429469704628  | Test Loss: 1.0788608169853686  | Test Acc.: 65.19\n",
      "Epoch: 14 \tTrain Loss: 0.581977567589283  | Test Loss: 1.0985212287902832  | Test Acc.: 64.93\n",
      "Epoch: 15 \tTrain Loss: 0.5534094990432262  | Test Loss: 1.1196008526086807  | Test Acc.: 65.08\n",
      "Epoch: 16 \tTrain Loss: 0.5259498163044453  | Test Loss: 1.1448529250323773  | Test Acc.: 64.79\n",
      "Epoch: 17 \tTrain Loss: 0.5000056495547295  | Test Loss: 1.1698428747653962  | Test Acc.: 64.67\n",
      "Epoch: 18 \tTrain Loss: 0.47519479411542415  | Test Loss: 1.1988838506937027  | Test Acc.: 64.61\n",
      "Epoch: 19 \tTrain Loss: 0.4513304483473301  | Test Loss: 1.229522851973772  | Test Acc.: 64.48\n",
      "Epoch: 20 \tTrain Loss: 0.42859039816856387  | Test Loss: 1.2597326740324497  | Test Acc.: 64.39\n",
      "Epoch: 21 \tTrain Loss: 0.40611862528920173  | Test Loss: 1.2922979173660278  | Test Acc.: 64.12\n",
      "Epoch: 22 \tTrain Loss: 0.38437050895690916  | Test Loss: 1.3293444368839265  | Test Acc.: 63.98\n",
      "Epoch: 23 \tTrain Loss: 0.36370589649379254  | Test Loss: 1.3661871618628503  | Test Acc.: 63.84\n",
      "Epoch: 24 \tTrain Loss: 0.34371550229638814  | Test Loss: 1.4012050524055957  | Test Acc.: 63.73\n",
      "Epoch: 25 \tTrain Loss: 0.3246879143893719  | Test Loss: 1.44207633253932  | Test Acc.: 63.7\n",
      "Epoch: 26 \tTrain Loss: 0.306251014624536  | Test Loss: 1.481742193043232  | Test Acc.: 63.58\n",
      "Epoch: 27 \tTrain Loss: 0.28898742896318436  | Test Loss: 1.5225209304690361  | Test Acc.: 63.42\n",
      "Epoch: 28 \tTrain Loss: 0.27207476430386307  | Test Loss: 1.5679154698848725  | Test Acc.: 63.23\n",
      "Epoch: 29 \tTrain Loss: 0.2557334738202393  | Test Loss: 1.6123883324861525  | Test Acc.: 63.17\n",
      "Epoch: 30 \tTrain Loss: 0.24019369913339614  | Test Loss: 1.6562978063821792  | Test Acc.: 63.04\n",
      "Epoch: 31 \tTrain Loss: 0.22509327224865555  | Test Loss: 1.700906922340393  | Test Acc.: 63.05\n",
      "Epoch: 32 \tTrain Loss: 0.21056259003654124  | Test Loss: 1.7466807432174682  | Test Acc.: 62.93\n",
      "Epoch: 33 \tTrain Loss: 0.19673544409647584  | Test Loss: 1.7946091738939285  | Test Acc.: 62.94\n",
      "Epoch: 34 \tTrain Loss: 0.18321675281748176  | Test Loss: 1.8414621752500535  | Test Acc.: 62.76\n",
      "Epoch: 35 \tTrain Loss: 0.1706096562691033  | Test Loss: 1.8912993062734604  | Test Acc.: 62.77\n",
      "Epoch: 36 \tTrain Loss: 0.1585993264529854  | Test Loss: 1.9366721581220627  | Test Acc.: 62.77\n",
      "Epoch: 37 \tTrain Loss: 0.14704275460839272  | Test Loss: 1.9874735398292542  | Test Acc.: 62.77\n",
      "Epoch: 38 \tTrain Loss: 0.13635260356292128  | Test Loss: 2.0345773364305497  | Test Acc.: 62.77\n",
      "Epoch: 39 \tTrain Loss: 0.12602003473155202  | Test Loss: 2.0851518942713736  | Test Acc.: 62.5\n",
      "Epoch: 40 \tTrain Loss: 0.11615220670998097  | Test Loss: 2.137956113219261  | Test Acc.: 62.32\n",
      "Epoch: 41 \tTrain Loss: 0.10719472983069718  | Test Loss: 2.187159721493721  | Test Acc.: 62.17\n",
      "Epoch: 42 \tTrain Loss: 0.09856760783288628  | Test Loss: 2.2337275107502936  | Test Acc.: 62.04\n",
      "Epoch: 43 \tTrain Loss: 0.09033253816440702  | Test Loss: 2.2800494510531424  | Test Acc.: 62.08\n",
      "Epoch: 44 \tTrain Loss: 0.08292969662994146  | Test Loss: 2.327339059412479  | Test Acc.: 62.03\n",
      "Epoch: 45 \tTrain Loss: 0.07594071551281958  | Test Loss: 2.3733149674534797  | Test Acc.: 61.95\n",
      "Epoch: 46 \tTrain Loss: 0.06946123416684567  | Test Loss: 2.417235391438007  | Test Acc.: 61.82\n",
      "Epoch: 47 \tTrain Loss: 0.0635853755325079  | Test Loss: 2.462371143043041  | Test Acc.: 61.97\n",
      "Epoch: 48 \tTrain Loss: 0.05822137606106698  | Test Loss: 2.507041476845741  | Test Acc.: 61.69\n",
      "Epoch: 49 \tTrain Loss: 0.05323769509186968  | Test Loss: 2.552482186496258  | Test Acc.: 61.82\n",
      "Epoch: 50 \tTrain Loss: 0.04904490644168109  | Test Loss: 2.598098505139351  | Test Acc.: 61.65\n",
      "Epoch: 51 \tTrain Loss: 0.04512214526645839  | Test Loss: 2.6365310374498367  | Test Acc.: 61.67\n",
      "Epoch: 52 \tTrain Loss: 0.04157781020188704  | Test Loss: 2.6775152443647383  | Test Acc.: 61.63\n",
      "Epoch: 53 \tTrain Loss: 0.03839956977469847  | Test Loss: 2.7152664464712144  | Test Acc.: 61.54\n",
      "Epoch: 54 \tTrain Loss: 0.03558311861157417  | Test Loss: 2.7517556124925613  | Test Acc.: 61.54\n",
      "Epoch: 55 \tTrain Loss: 0.03302595404842869  | Test Loss: 2.7868558511734007  | Test Acc.: 61.6\n",
      "Epoch: 56 \tTrain Loss: 0.030647805229295045  | Test Loss: 2.8212668647170065  | Test Acc.: 61.62\n",
      "Epoch: 57 \tTrain Loss: 0.028577324247639625  | Test Loss: 2.853229722380638  | Test Acc.: 61.66\n",
      "Epoch: 58 \tTrain Loss: 0.026736438542883843  | Test Loss: 2.8830729109048843  | Test Acc.: 61.63\n",
      "Epoch: 59 \tTrain Loss: 0.025046515832282602  | Test Loss: 2.9137954038977623  | Test Acc.: 61.62\n",
      "Epoch: 60 \tTrain Loss: 0.023539368814136832  | Test Loss: 2.9433365046977995  | Test Acc.: 61.71\n",
      "Epoch: 61 \tTrain Loss: 0.022172309507476166  | Test Loss: 2.97178998953104  | Test Acc.: 61.72\n",
      "Epoch: 62 \tTrain Loss: 0.020888552031014116  | Test Loss: 2.9982532068490984  | Test Acc.: 61.85\n",
      "Epoch: 63 \tTrain Loss: 0.01973015537345782  | Test Loss: 3.0242909148335455  | Test Acc.: 61.9\n",
      "Epoch: 64 \tTrain Loss: 0.018669866795418783  | Test Loss: 3.048424306809902  | Test Acc.: 61.96\n",
      "Epoch: 65 \tTrain Loss: 0.017708891979046164  | Test Loss: 3.072170340359211  | Test Acc.: 61.94\n",
      "Epoch: 66 \tTrain Loss: 0.01683626360800117  | Test Loss: 3.0948098964095117  | Test Acc.: 61.89\n",
      "Epoch: 67 \tTrain Loss: 0.016034882229194046  | Test Loss: 3.116991828083992  | Test Acc.: 61.81\n",
      "Epoch: 68 \tTrain Loss: 0.015286565317446366  | Test Loss: 3.1386079484820364  | Test Acc.: 61.74\n",
      "Epoch: 69 \tTrain Loss: 0.014596702876128256  | Test Loss: 3.1602669008374216  | Test Acc.: 61.73\n",
      "Epoch: 70 \tTrain Loss: 0.013948899667244405  | Test Loss: 3.179660835444927  | Test Acc.: 61.7\n",
      "Epoch: 71 \tTrain Loss: 0.013356469809543341  | Test Loss: 3.198850032269955  | Test Acc.: 61.74\n",
      "Epoch: 72 \tTrain Loss: 0.012786393369128927  | Test Loss: 3.2183133615255355  | Test Acc.: 61.7\n",
      "Epoch: 73 \tTrain Loss: 0.012273122623795643  | Test Loss: 3.23628663700819  | Test Acc.: 61.81\n",
      "Epoch: 74 \tTrain Loss: 0.011795659062406047  | Test Loss: 3.254328191161156  | Test Acc.: 61.82\n",
      "Epoch: 75 \tTrain Loss: 0.011336712464271113  | Test Loss: 3.27074494022131  | Test Acc.: 61.85\n",
      "Epoch: 76 \tTrain Loss: 0.010920982373971492  | Test Loss: 3.287347474336624  | Test Acc.: 61.87\n",
      "Epoch: 77 \tTrain Loss: 0.010522668735822662  | Test Loss: 3.3035865387916563  | Test Acc.: 61.91\n",
      "Epoch: 78 \tTrain Loss: 0.010144251025747508  | Test Loss: 3.319426168680191  | Test Acc.: 61.9\n",
      "Epoch: 79 \tTrain Loss: 0.009789535445836373  | Test Loss: 3.3348568365573885  | Test Acc.: 61.9\n",
      "Epoch: 80 \tTrain Loss: 0.009457020227052271  | Test Loss: 3.3501697335243223  | Test Acc.: 61.94\n",
      "Epoch: 81 \tTrain Loss: 0.00914042882823851  | Test Loss: 3.36493490588665  | Test Acc.: 62.02\n",
      "Epoch: 82 \tTrain Loss: 0.008844934637774714  | Test Loss: 3.37898651778698  | Test Acc.: 62.07\n",
      "Epoch: 83 \tTrain Loss: 0.008565637921495364  | Test Loss: 3.393085380911827  | Test Acc.: 61.98\n",
      "Epoch: 84 \tTrain Loss: 0.008295879520033486  | Test Loss: 3.4072148389816284  | Test Acc.: 62.05\n",
      "Epoch: 85 \tTrain Loss: 0.00804437813933473  | Test Loss: 3.4210321719646455  | Test Acc.: 62.09\n",
      "Epoch: 86 \tTrain Loss: 0.007803996139811352  | Test Loss: 3.4342365403175354  | Test Acc.: 62.04\n",
      "Epoch: 87 \tTrain Loss: 0.0075702232094015925  | Test Loss: 3.4471811727285386  | Test Acc.: 62.03\n",
      "Epoch: 88 \tTrain Loss: 0.007353631035308354  | Test Loss: 3.4596945177316667  | Test Acc.: 62.08\n",
      "Epoch: 89 \tTrain Loss: 0.0071497407983290035  | Test Loss: 3.4722939469814302  | Test Acc.: 62.1\n",
      "Epoch: 90 \tTrain Loss: 0.0069494760576984844  | Test Loss: 3.484352989912033  | Test Acc.: 62.14\n",
      "Epoch: 91 \tTrain Loss: 0.00676512117232196  | Test Loss: 3.496537395477295  | Test Acc.: 62.08\n",
      "Epoch: 92 \tTrain Loss: 0.006585681179957464  | Test Loss: 3.5079089390039444  | Test Acc.: 62.17\n",
      "Epoch: 93 \tTrain Loss: 0.006414105682738591  | Test Loss: 3.519269440174103  | Test Acc.: 62.18\n",
      "Epoch: 94 \tTrain Loss: 0.006250460031745024  | Test Loss: 3.5308284953832625  | Test Acc.: 62.19\n",
      "Epoch: 95 \tTrain Loss: 0.0060952627107035365  | Test Loss: 3.5418593561649323  | Test Acc.: 62.18\n",
      "Epoch: 96 \tTrain Loss: 0.005942355477635283  | Test Loss: 3.5528034710884095  | Test Acc.: 62.21\n",
      "Epoch: 97 \tTrain Loss: 0.005796991789445747  | Test Loss: 3.5634014369249343  | Test Acc.: 62.18\n",
      "Epoch: 98 \tTrain Loss: 0.005658985794160981  | Test Loss: 3.5738137571811674  | Test Acc.: 62.25\n",
      "Epoch: 99 \tTrain Loss: 0.005525414819049184  | Test Loss: 3.584116731405258  | Test Acc.: 62.21\n",
      "Epoch: 100 \tTrain Loss: 0.005396720889001154  | Test Loss: 3.594101933002472  | Test Acc.: 62.2\n"
     ]
    }
   ],
   "source": [
    "train_loss_plt, valid_loss_plt = [], []\n",
    "test_accuracy_plt = []\n",
    "test_loss_plt = []\n",
    "n_epochs = 100\n",
    "for epoch in range(n_epochs):\n",
    "    train_loss, test_loss = 0, 0\n",
    "    model.train()\n",
    "    for images, labels in train_loader:\n",
    "        images, labels = images.to(device), labels.to(device)\n",
    "\n",
    "        optimizer.zero_grad()\n",
    "        output = model(images)\n",
    "        loss = CE(output, labels)\n",
    "        loss.backward()\n",
    "        optimizer.step()\n",
    "        \n",
    "        train_loss += loss.item() * images.size(0)\n",
    "\n",
    "    train_loss = train_loss / len(train_loader.dataset)\n",
    "    train_loss_plt.append(train_loss)\n",
    "\n",
    "    class_correct = list(0. for i in range(10))\n",
    "    class_total = list(0. for i in range(10))\n",
    "    model.eval()\n",
    "    with torch.no_grad():\n",
    "        for data, target in test_loader:\n",
    "            data, target = data.cuda(), target.cuda()\n",
    "            output = model(data)\n",
    "            loss = CE(output, target)\n",
    "\n",
    "            test_loss += loss.item() * data.size(0)\n",
    "            _, pred = torch.max(output, 1)\n",
    "            correct = np.squeeze(pred.eq(target.data.view_as(pred)))\n",
    "            for i in range(len(target)):\n",
    "                label = target.data[i]\n",
    "                class_correct[label] += correct[i].item()\n",
    "                class_total[label] += 1\n",
    "\n",
    "    test_loss = test_loss / len(test_loader.dataset)\n",
    "    test_loss_plt.append(test_loss)\n",
    "    \n",
    "    test_accuracy = 100. * np.sum(class_correct) / np.sum(class_total)\n",
    "    test_accuracy_plt.append(test_accuracy)\n",
    "\n",
    "    print('Epoch:', (epoch + 1), '\\tTrain Loss:', train_loss,' | Test Loss:', test_loss,' | Test Acc.:',test_accuracy)"
   ]
  },
  {
   "cell_type": "markdown",
   "metadata": {
    "colab_type": "text",
    "id": "lhVSKbxWVT9T"
   },
   "source": [
    "### Saving"
   ]
  },
  {
   "cell_type": "code",
   "execution_count": 0,
   "metadata": {
    "colab": {},
    "colab_type": "code",
    "id": "wm5QvSLiVT9U"
   },
   "outputs": [],
   "source": [
    "joblib.dump(train_loss_plt, 'train_loss_plt_q2_tanh.sav')\n",
    "joblib.dump(test_loss_plt, 'test_loss_plt_q2_tanh.sav')\n",
    "joblib.dump(test_accuracy_plt, 'test_accuracy_plt_q2_tanh.sav')\n",
    "torch.save(model.state_dict(), \"model_q2_tanh.pt\")"
   ]
  },
  {
   "cell_type": "code",
   "execution_count": 6,
   "metadata": {
    "colab": {
     "base_uri": "https://localhost:8080/",
     "height": 282
    },
    "colab_type": "code",
    "id": "uCcZ0RWuVT9V",
    "outputId": "4aa451a7-1dab-4858-c36c-ed6f717e85a5"
   },
   "outputs": [
    {
     "data": {
      "text/plain": [
       "[<matplotlib.lines.Line2D at 0x7fb4016d8e10>]"
      ]
     },
     "execution_count": 6,
     "metadata": {
      "tags": []
     },
     "output_type": "execute_result"
    },
    {
     "data": {
      "image/png": "[encoded data removed]",
      "text/plain": [
       "<Figure size 432x288 with 1 Axes>"
      ]
     },
     "metadata": {
      "tags": []
     },
     "output_type": "display_data"
    }
   ],
   "source": [
    "plt.plot(np.arange(len(train_loss_plt)),train_loss_plt)"
   ]
  },
  {
   "cell_type": "code",
   "execution_count": 7,
   "metadata": {
    "colab": {
     "base_uri": "https://localhost:8080/",
     "height": 282
    },
    "colab_type": "code",
    "id": "V4clRFDX4Ee6",
    "outputId": "3a668e22-84a8-4176-f669-0d6b23756761"
   },
   "outputs": [
    {
     "data": {
      "text/plain": [
       "[<matplotlib.lines.Line2D at 0x7fb400029550>]"
      ]
     },
     "execution_count": 7,
     "metadata": {
      "tags": []
     },
     "output_type": "execute_result"
    },
    {
     "data": {
      "image/png": "[encoded data removed]",
      "text/plain": [
       "<Figure size 432x288 with 1 Axes>"
      ]
     },
     "metadata": {
      "tags": []
     },
     "output_type": "display_data"
    }
   ],
   "source": [
    "plt.plot(np.arange(len(test_loss_plt)),test_loss_plt)"
   ]
  },
  {
   "cell_type": "code",
   "execution_count": 8,
   "metadata": {
    "colab": {
     "base_uri": "https://localhost:8080/",
     "height": 282
    },
    "colab_type": "code",
    "id": "YaOTD5OjVT9Y",
    "outputId": "0a17047c-8b6a-4bbd-d6ff-6921d9128426"
   },
   "outputs": [
    {
     "data": {
      "text/plain": [
       "[<matplotlib.lines.Line2D at 0x7fb3eddaacc0>]"
      ]
     },
     "execution_count": 8,
     "metadata": {
      "tags": []
     },
     "output_type": "execute_result"
    },
    {
     "data": {
      "image/png": "[encoded data removed]",
      "text/plain": [
       "<Figure size 432x288 with 1 Axes>"
      ]
     },
     "metadata": {
      "tags": []
     },
     "output_type": "display_data"
    }
   ],
   "source": [
    "plt.plot(np.arange(len(test_accuracy_plt)),test_accuracy_plt)"
   ]
  },
  {
   "cell_type": "code",
   "execution_count": 0,
   "metadata": {
    "colab": {},
    "colab_type": "code",
    "id": "PULY43_HUaCH"
   },
   "outputs": [],
   "source": []
  },
  {
   "cell_type": "code",
   "execution_count": 2,
   "metadata": {},
   "outputs": [
    {
     "data": {
      "image/png": "[encoded data removed]",
      "text/plain": [
       "<Figure size 432x288 with 1 Axes>"
      ]
     },
     "metadata": {
      "needs_background": "light"
     },
     "output_type": "display_data"
    },
    {
     "data": {
      "image/png": "[encoded data removed]",
      "text/plain": [
       "<Figure size 432x288 with 1 Axes>"
      ]
     },
     "metadata": {
      "needs_background": "light"
     },
     "output_type": "display_data"
    },
    {
     "data": {
      "image/png": "[encoded data removed]",
      "text/plain": [
       "<Figure size 432x288 with 1 Axes>"
      ]
     },
     "metadata": {
      "needs_background": "light"
     },
     "output_type": "display_data"
    }
   ],
   "source": [
    "import joblib\n",
    "import matplotlib.pyplot as plt\n",
    "import numpy as np\n",
    "\n",
    "train_loss_plt = joblib.load('train_loss_plt_q2_tanh.sav')\n",
    "test_loss_plt = joblib.load('test_loss_plt_q2_tanh.sav')\n",
    "test_accuracy_plt = joblib.load('test_accuracy_plt_q2_tanh.sav')\n",
    "\n",
    "plt.title('Tanh without dropout Train loss')\n",
    "plt.plot(np.arange(len(train_loss_plt)),train_loss_plt,label = 'Train Loss')\n",
    "plt.xlabel('Epochs')\n",
    "plt.ylabel('Loss')\n",
    "plt.legend()\n",
    "plt.show()\n",
    "\n",
    "plt.title('Tanh without dropout Test Loss')\n",
    "plt.plot(np.arange(len(test_loss_plt)),test_loss_plt,color='r',label = 'Test Loss')\n",
    "plt.xlabel('Epochs')\n",
    "plt.ylabel('Loss')\n",
    "plt.legend()\n",
    "plt.show()\n",
    "\n",
    "plt.title('Tanh without dropout Test Accuracy')\n",
    "plt.plot(np.arange(len(test_accuracy_plt)),test_accuracy_plt,color='g',label = 'Test Accuracy')\n",
    "plt.xlabel('Epochs')\n",
    "plt.ylabel('Accuracy')\n",
    "plt.legend()\n",
    "plt.show()"
   ]
  },
  {
   "cell_type": "code",
   "execution_count": null,
   "metadata": {},
   "outputs": [],
   "source": []
  }
 ],
 "metadata": {
  "accelerator": "GPU",
  "colab": {
   "collapsed_sections": [],
   "name": "AML_A4_Q2_tanh.ipynb",
   "provenance": [],
   "toc_visible": true
  },
  "kernelspec": {
   "display_name": "Python 3",
   "language": "python",
   "name": "python3"
  },
  "language_info": {
   "codemirror_mode": {
    "name": "ipython",
    "version": 3
   },
   "file_extension": ".py",
   "mimetype": "text/x-python",
   "name": "python",
   "nbconvert_exporter": "python",
   "pygments_lexer": "ipython3",
   "version": "3.7.1"
  }
 },
 "nbformat": 4,
 "nbformat_minor": 1
}
