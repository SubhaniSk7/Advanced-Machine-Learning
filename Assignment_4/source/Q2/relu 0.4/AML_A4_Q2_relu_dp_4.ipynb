{
 "cells": [
  {
   "cell_type": "code",
   "execution_count": 0,
   "metadata": {
    "colab": {},
    "colab_type": "code",
    "id": "ZShQLuGyVT9K"
   },
   "outputs": [],
   "source": [
    "import torch\n",
    "from torchvision import datasets, transforms\n",
    "import torch.nn as nn\n",
    "import torch.nn.functional as F\n",
    "import torch.optim as optim\n",
    "from torch.utils.data import DataLoader\n",
    "from torch.utils.data.sampler import SubsetRandomSampler\n",
    "import matplotlib.pyplot as plt\n",
    "import numpy as np\n",
    "import joblib"
   ]
  },
  {
   "cell_type": "markdown",
   "metadata": {
    "colab_type": "text",
    "id": "mVUE3Y4HVT9M"
   },
   "source": [
    "### Data loading"
   ]
  },
  {
   "cell_type": "code",
   "execution_count": 2,
   "metadata": {
    "colab": {
     "base_uri": "https://localhost:8080/",
     "height": 84
    },
    "colab_type": "code",
    "id": "EAf9gYX8VT9N",
    "outputId": "645e326f-89a6-4816-91b8-838845cb8cb4"
   },
   "outputs": [
    {
     "name": "stderr",
     "output_type": "stream",
     "text": [
      "\r",
      "0it [00:00, ?it/s]"
     ]
    },
    {
     "name": "stdout",
     "output_type": "stream",
     "text": [
      "Downloading https://www.cs.toronto.edu/~kriz/cifar-10-python.tar.gz to ./Datasets/CIFAR10_data/cifar-10-python.tar.gz\n"
     ]
    },
    {
     "name": "stderr",
     "output_type": "stream",
     "text": [
      "170500096it [00:04, 41018452.37it/s]                               \n"
     ]
    },
    {
     "name": "stdout",
     "output_type": "stream",
     "text": [
      "Extracting ./Datasets/CIFAR10_data/cifar-10-python.tar.gz to ./Datasets/CIFAR10_data/\n",
      "Files already downloaded and verified\n"
     ]
    }
   ],
   "source": [
    "path = \"./Datasets/CIFAR10_data/\"\n",
    "# path = \"E:/Datasets/CIFAR10_data/\"\n",
    "\n",
    "device = 'cuda'\n",
    "num_workers = 0\n",
    "batch_size = 64\n",
    "\n",
    "transform = transforms.Compose([transforms.ToTensor(), transforms.Normalize((0.5, 0.5, 0.5), (0.5, 0.5, 0.5))])\n",
    "\n",
    "train_data = datasets.CIFAR10(path, train=True, download=True, transform=transform)\n",
    "test_data = datasets.CIFAR10(path, train=False, download=True, transform=transform)\n",
    "\n",
    "train_loader = DataLoader(train_data, batch_size=batch_size, num_workers=num_workers)\n",
    "test_loader = DataLoader(test_data, batch_size=batch_size, num_workers=num_workers)\n",
    "# classes = [\"plane\", \"car\", \"bird\", \"cat\", \"deer\", \"dog\", \"frog\", \"horse\", \"ship\", \"truck\"]"
   ]
  },
  {
   "cell_type": "markdown",
   "metadata": {
    "colab_type": "text",
    "id": "rC3AVpplVT9P"
   },
   "source": [
    "### Network"
   ]
  },
  {
   "cell_type": "code",
   "execution_count": 0,
   "metadata": {
    "colab": {},
    "colab_type": "code",
    "id": "A0LpB7EhVT9Q"
   },
   "outputs": [],
   "source": [
    "class Architecture(nn.Module):\n",
    "\n",
    "    def __init__(self):\n",
    "        super(Architecture, self).__init__()\n",
    "\n",
    "        self.conv1 = nn.Conv2d(3, 16, kernel_size=3, padding=2)\n",
    "        self.conv2 = nn.Conv2d(16, 16, kernel_size=3, padding=2)\n",
    "        self.conv3 = nn.Conv2d(16, 32, kernel_size=3, padding=2)\n",
    "        self.conv4 = nn.Conv2d(32, 32, kernel_size=3, padding=2)\n",
    "        self.conv5 = nn.Conv2d(32, 64, kernel_size=3, padding=2)\n",
    "        self.conv6 = nn.Conv2d(64, 64, kernel_size=3, padding=2)\n",
    "\n",
    "        self.pool = nn.MaxPool2d(2)\n",
    "\n",
    "        self.fc_1 = nn.Linear(64 * 2 * 2, 512)\n",
    "        self.fc_2 = nn.Linear(512, 256)\n",
    "        self.fc_3 = nn.Linear(256, 10)\n",
    "\n",
    "        self.relu = nn.ReLU()\n",
    "        self.dropout = nn.Dropout(0.4)\n",
    "\n",
    "    def forward(self, x):\n",
    "        x = self.pool(self.relu(self.conv1(x)))\n",
    "        x = self.pool(self.relu(self.conv2(x)))\n",
    "        x = self.pool(self.relu(self.conv3(x)))\n",
    "        x = self.pool(self.relu(self.conv4(x)))\n",
    "        x = self.pool(self.relu(self.conv5(x)))\n",
    "        x = self.pool(self.relu(self.conv6(x)))\n",
    "        x = x.view(-1, 64 * 2 * 2)\n",
    "        x = self.dropout(x)\n",
    "        x = self.dropout(self.relu(self.fc_1(x)))\n",
    "        x = self.dropout(self.relu(self.fc_2(x)))\n",
    "        x = self.fc_3(x)\n",
    "        return x\n",
    "\n",
    "\n",
    "model = Architecture()\n",
    "model.to(device)\n",
    "\n",
    "CE = nn.CrossEntropyLoss()\n",
    "optimizer = optim.Adagrad(model.parameters(), lr=0.02)"
   ]
  },
  {
   "cell_type": "code",
   "execution_count": 4,
   "metadata": {
    "colab": {
     "base_uri": "https://localhost:8080/",
     "height": 1000
    },
    "colab_type": "code",
    "id": "mm7LDkMrVT9S",
    "outputId": "5b62ed0e-ab44-45c7-9f67-17983e50176f"
   },
   "outputs": [
    {
     "name": "stdout",
     "output_type": "stream",
     "text": [
      "Epoch: 1 \tTrain Loss: 2.1182295612716673  | Test Loss: 1.8008891004562377  | Test Acc.: 29.63\n",
      "Epoch: 2 \tTrain Loss: 1.6788396148681641  | Test Loss: 1.576280201148987  | Test Acc.: 40.15\n",
      "Epoch: 3 \tTrain Loss: 1.4952418913650514  | Test Loss: 1.4319264366149902  | Test Acc.: 46.49\n",
      "Epoch: 4 \tTrain Loss: 1.3805060872650146  | Test Loss: 1.3803421073913573  | Test Acc.: 48.92\n",
      "Epoch: 5 \tTrain Loss: 1.2946963409805299  | Test Loss: 1.3244546291351318  | Test Acc.: 51.28\n",
      "Epoch: 6 \tTrain Loss: 1.2347258403778076  | Test Loss: 1.350765241241455  | Test Acc.: 51.15\n",
      "Epoch: 7 \tTrain Loss: 1.1851293740844726  | Test Loss: 1.225133600616455  | Test Acc.: 55.64\n",
      "Epoch: 8 \tTrain Loss: 1.145069772720337  | Test Loss: 1.2924162952423095  | Test Acc.: 53.83\n",
      "Epoch: 9 \tTrain Loss: 1.1091156888580322  | Test Loss: 1.1575213262557984  | Test Acc.: 58.59\n",
      "Epoch: 10 \tTrain Loss: 1.0809291328811645  | Test Loss: 1.1523372434616088  | Test Acc.: 59.49\n",
      "Epoch: 11 \tTrain Loss: 1.054241399116516  | Test Loss: 1.2325473247528076  | Test Acc.: 57.21\n",
      "Epoch: 12 \tTrain Loss: 1.0325970892333984  | Test Loss: 1.0966683078765869  | Test Acc.: 61.33\n",
      "Epoch: 13 \tTrain Loss: 1.0068821062088014  | Test Loss: 1.0723626640319823  | Test Acc.: 62.47\n",
      "Epoch: 14 \tTrain Loss: 0.9892520416450501  | Test Loss: 1.0652574430465698  | Test Acc.: 62.45\n",
      "Epoch: 15 \tTrain Loss: 0.9691650202941895  | Test Loss: 1.0654660599708556  | Test Acc.: 62.56\n",
      "Epoch: 16 \tTrain Loss: 0.9573113557624817  | Test Loss: 1.0538002402305604  | Test Acc.: 62.97\n",
      "Epoch: 17 \tTrain Loss: 0.939987131023407  | Test Loss: 1.0519359775543213  | Test Acc.: 63.19\n",
      "Epoch: 18 \tTrain Loss: 0.9208321625137329  | Test Loss: 1.0543411330223083  | Test Acc.: 63.36\n",
      "Epoch: 19 \tTrain Loss: 0.9072293493270874  | Test Loss: 1.0514488759040832  | Test Acc.: 63.54\n",
      "Epoch: 20 \tTrain Loss: 0.8963958546447753  | Test Loss: 1.0541178543090821  | Test Acc.: 63.73\n",
      "Epoch: 21 \tTrain Loss: 0.8815178182411194  | Test Loss: 1.041866505432129  | Test Acc.: 64.11\n",
      "Epoch: 22 \tTrain Loss: 0.8694709474372864  | Test Loss: 1.0422217453002929  | Test Acc.: 64.14\n",
      "Epoch: 23 \tTrain Loss: 0.858131578464508  | Test Loss: 1.0648436710357665  | Test Acc.: 63.51\n",
      "Epoch: 24 \tTrain Loss: 0.8496644115066528  | Test Loss: 1.04593562374115  | Test Acc.: 64.35\n",
      "Epoch: 25 \tTrain Loss: 0.8362837327957153  | Test Loss: 1.0517289052009582  | Test Acc.: 64.29\n",
      "Epoch: 26 \tTrain Loss: 0.8211967292785645  | Test Loss: 1.0486505980491638  | Test Acc.: 64.59\n",
      "Epoch: 27 \tTrain Loss: 0.8149832875823975  | Test Loss: 1.050287890148163  | Test Acc.: 64.39\n",
      "Epoch: 28 \tTrain Loss: 0.8068724117469788  | Test Loss: 1.0481022521972656  | Test Acc.: 64.37\n",
      "Epoch: 29 \tTrain Loss: 0.7963278281021118  | Test Loss: 1.0618820174217225  | Test Acc.: 64.65\n",
      "Epoch: 30 \tTrain Loss: 0.7916835162734985  | Test Loss: 1.0608328362464905  | Test Acc.: 64.62\n",
      "Epoch: 31 \tTrain Loss: 0.7811598986053466  | Test Loss: 1.061763565349579  | Test Acc.: 64.66\n",
      "Epoch: 32 \tTrain Loss: 0.768885700302124  | Test Loss: 1.0668880254745483  | Test Acc.: 64.25\n",
      "Epoch: 33 \tTrain Loss: 0.7626734840965271  | Test Loss: 1.0688007742881775  | Test Acc.: 64.54\n",
      "Epoch: 34 \tTrain Loss: 0.7560087511444091  | Test Loss: 1.0672248538017273  | Test Acc.: 65.06\n",
      "Epoch: 35 \tTrain Loss: 0.7470933916854858  | Test Loss: 1.0699189101219178  | Test Acc.: 64.81\n",
      "Epoch: 36 \tTrain Loss: 0.7419063636016846  | Test Loss: 1.0823942852020263  | Test Acc.: 64.82\n",
      "Epoch: 37 \tTrain Loss: 0.7343700951957702  | Test Loss: 1.0760062232017518  | Test Acc.: 65.04\n",
      "Epoch: 38 \tTrain Loss: 0.7251698655986786  | Test Loss: 1.0873363557815552  | Test Acc.: 64.91\n",
      "Epoch: 39 \tTrain Loss: 0.7203670569419861  | Test Loss: 1.092755135345459  | Test Acc.: 64.75\n",
      "Epoch: 40 \tTrain Loss: 0.7110332873535157  | Test Loss: 1.0897248768806458  | Test Acc.: 64.88\n",
      "Epoch: 41 \tTrain Loss: 0.7084455200958252  | Test Loss: 1.0869967193603516  | Test Acc.: 65.02\n",
      "Epoch: 42 \tTrain Loss: 0.7018424955749512  | Test Loss: 1.0977171077728272  | Test Acc.: 64.87\n",
      "Epoch: 43 \tTrain Loss: 0.6930249341583252  | Test Loss: 1.0957871351242066  | Test Acc.: 64.93\n",
      "Epoch: 44 \tTrain Loss: 0.6871784755897522  | Test Loss: 1.1018123039245606  | Test Acc.: 64.6\n",
      "Epoch: 45 \tTrain Loss: 0.6834026626968384  | Test Loss: 1.1185653427124023  | Test Acc.: 64.4\n",
      "Epoch: 46 \tTrain Loss: 0.6766126760578155  | Test Loss: 1.1183083003997802  | Test Acc.: 64.62\n",
      "Epoch: 47 \tTrain Loss: 0.6714037232208252  | Test Loss: 1.1216787320137025  | Test Acc.: 64.83\n",
      "Epoch: 48 \tTrain Loss: 0.664468996105194  | Test Loss: 1.1157299280166626  | Test Acc.: 64.85\n",
      "Epoch: 49 \tTrain Loss: 0.6618007031536103  | Test Loss: 1.1269890745162965  | Test Acc.: 64.5\n",
      "Epoch: 50 \tTrain Loss: 0.6559372034263611  | Test Loss: 1.1285414156913758  | Test Acc.: 64.76\n",
      "Epoch: 51 \tTrain Loss: 0.6492042613601685  | Test Loss: 1.126759850692749  | Test Acc.: 64.45\n",
      "Epoch: 52 \tTrain Loss: 0.6429705922412873  | Test Loss: 1.1382338578224183  | Test Acc.: 64.45\n",
      "Epoch: 53 \tTrain Loss: 0.6410393474674225  | Test Loss: 1.138344312763214  | Test Acc.: 64.32\n",
      "Epoch: 54 \tTrain Loss: 0.6349727871322632  | Test Loss: 1.1423831083297729  | Test Acc.: 64.24\n",
      "Epoch: 55 \tTrain Loss: 0.6333623725128174  | Test Loss: 1.1481466428756715  | Test Acc.: 64.47\n",
      "Epoch: 56 \tTrain Loss: 0.6312725940132141  | Test Loss: 1.1673607871055602  | Test Acc.: 64.11\n",
      "Epoch: 57 \tTrain Loss: 0.6207039103794098  | Test Loss: 1.1497547599792481  | Test Acc.: 64.2\n",
      "Epoch: 58 \tTrain Loss: 0.6217419363689423  | Test Loss: 1.1611953914642335  | Test Acc.: 64.58\n",
      "Epoch: 59 \tTrain Loss: 0.6161602328491211  | Test Loss: 1.1632997792243958  | Test Acc.: 64.69\n",
      "Epoch: 60 \tTrain Loss: 0.6121707382678986  | Test Loss: 1.1630384278297425  | Test Acc.: 64.3\n",
      "Epoch: 61 \tTrain Loss: 0.606931401014328  | Test Loss: 1.1685764088630677  | Test Acc.: 64.36\n",
      "Epoch: 62 \tTrain Loss: 0.602848741197586  | Test Loss: 1.167954930114746  | Test Acc.: 64.44\n",
      "Epoch: 63 \tTrain Loss: 0.6001943322181702  | Test Loss: 1.1723578533172607  | Test Acc.: 64.25\n",
      "Epoch: 64 \tTrain Loss: 0.5948871432495118  | Test Loss: 1.1760987975120545  | Test Acc.: 64.43\n",
      "Epoch: 65 \tTrain Loss: 0.5895335983848572  | Test Loss: 1.1959721767425537  | Test Acc.: 64.24\n",
      "Epoch: 66 \tTrain Loss: 0.5864737186527252  | Test Loss: 1.1915955033302308  | Test Acc.: 64.4\n",
      "Epoch: 67 \tTrain Loss: 0.5811898056411743  | Test Loss: 1.2059588523864746  | Test Acc.: 64.08\n",
      "Epoch: 68 \tTrain Loss: 0.5814296943283082  | Test Loss: 1.195772526550293  | Test Acc.: 64.21\n",
      "Epoch: 69 \tTrain Loss: 0.5763987801647187  | Test Loss: 1.2028799839019775  | Test Acc.: 64.28\n",
      "Epoch: 70 \tTrain Loss: 0.571940131521225  | Test Loss: 1.2201169887542724  | Test Acc.: 63.92\n",
      "Epoch: 71 \tTrain Loss: 0.5708281355381012  | Test Loss: 1.2154908224105836  | Test Acc.: 64.28\n",
      "Epoch: 72 \tTrain Loss: 0.5713066167640686  | Test Loss: 1.2175810527801514  | Test Acc.: 64.14\n",
      "Epoch: 73 \tTrain Loss: 0.5617097822856904  | Test Loss: 1.2308247390747071  | Test Acc.: 64.05\n",
      "Epoch: 74 \tTrain Loss: 0.5626147123241425  | Test Loss: 1.2293937812805176  | Test Acc.: 64.03\n",
      "Epoch: 75 \tTrain Loss: 0.557694702386856  | Test Loss: 1.2349025393486024  | Test Acc.: 64.26\n",
      "Epoch: 76 \tTrain Loss: 0.5529919129562378  | Test Loss: 1.2244487900733947  | Test Acc.: 64.5\n",
      "Epoch: 77 \tTrain Loss: 0.5488798042058944  | Test Loss: 1.2497842737197875  | Test Acc.: 63.97\n",
      "Epoch: 78 \tTrain Loss: 0.5483721271133423  | Test Loss: 1.24807413520813  | Test Acc.: 63.95\n",
      "Epoch: 79 \tTrain Loss: 0.5428072757434845  | Test Loss: 1.2483461582183837  | Test Acc.: 63.97\n",
      "Epoch: 80 \tTrain Loss: 0.5432210498332978  | Test Loss: 1.2342646934509278  | Test Acc.: 64.27\n",
      "Epoch: 81 \tTrain Loss: 0.5417757484579087  | Test Loss: 1.241793786239624  | Test Acc.: 63.77\n",
      "Epoch: 82 \tTrain Loss: 0.5395488943195343  | Test Loss: 1.255224365234375  | Test Acc.: 64.14\n",
      "Epoch: 83 \tTrain Loss: 0.5353201256465911  | Test Loss: 1.2610473051071167  | Test Acc.: 64.02\n",
      "Epoch: 84 \tTrain Loss: 0.5327089496135712  | Test Loss: 1.2657514003753663  | Test Acc.: 63.95\n",
      "Epoch: 85 \tTrain Loss: 0.5295617984294891  | Test Loss: 1.267030158996582  | Test Acc.: 63.61\n",
      "Epoch: 86 \tTrain Loss: 0.5276130531215668  | Test Loss: 1.2671977699279786  | Test Acc.: 63.91\n",
      "Epoch: 87 \tTrain Loss: 0.5243105972671509  | Test Loss: 1.2816144584655762  | Test Acc.: 63.7\n",
      "Epoch: 88 \tTrain Loss: 0.5195695408344269  | Test Loss: 1.2774743442535401  | Test Acc.: 64.13\n",
      "Epoch: 89 \tTrain Loss: 0.5231020148849488  | Test Loss: 1.2900609004974366  | Test Acc.: 63.78\n",
      "Epoch: 90 \tTrain Loss: 0.5208836083602906  | Test Loss: 1.274534011077881  | Test Acc.: 64.16\n",
      "Epoch: 91 \tTrain Loss: 0.5160468435287475  | Test Loss: 1.2840354780197143  | Test Acc.: 64.17\n",
      "Epoch: 92 \tTrain Loss: 0.5110065024185181  | Test Loss: 1.298668662261963  | Test Acc.: 64.0\n",
      "Epoch: 93 \tTrain Loss: 0.5100405591964722  | Test Loss: 1.3270347597122192  | Test Acc.: 63.26\n",
      "Epoch: 94 \tTrain Loss: 0.5089346979618072  | Test Loss: 1.3041178691864013  | Test Acc.: 63.98\n",
      "Epoch: 95 \tTrain Loss: 0.502320196056366  | Test Loss: 1.3079873044967651  | Test Acc.: 63.83\n",
      "Epoch: 96 \tTrain Loss: 0.5029579185771942  | Test Loss: 1.2949155029296875  | Test Acc.: 64.14\n",
      "Epoch: 97 \tTrain Loss: 0.5019584855556488  | Test Loss: 1.3069151611328125  | Test Acc.: 63.99\n",
      "Epoch: 98 \tTrain Loss: 0.5026614277458191  | Test Loss: 1.307892762184143  | Test Acc.: 63.9\n",
      "Epoch: 99 \tTrain Loss: 0.49703760021209714  | Test Loss: 1.3183454624176025  | Test Acc.: 63.95\n",
      "Epoch: 100 \tTrain Loss: 0.49565589480400085  | Test Loss: 1.3164401454925536  | Test Acc.: 63.85\n"
     ]
    }
   ],
   "source": [
    "train_loss_plt, valid_loss_plt = [], []\n",
    "test_accuracy_plt = []\n",
    "test_loss_plt = []\n",
    "n_epochs = 100\n",
    "for epoch in range(n_epochs):\n",
    "    train_loss, test_loss = 0, 0\n",
    "    model.train()\n",
    "    for images, labels in train_loader:\n",
    "        images, labels = images.to(device), labels.to(device)\n",
    "\n",
    "        optimizer.zero_grad()\n",
    "        output = model(images)\n",
    "        loss = CE(output, labels)\n",
    "        loss.backward()\n",
    "        optimizer.step()\n",
    "        \n",
    "        train_loss += loss.item() * images.size(0)\n",
    "\n",
    "    train_loss = train_loss / len(train_loader.dataset)\n",
    "    train_loss_plt.append(train_loss)\n",
    "\n",
    "    class_correct = list(0. for i in range(10))\n",
    "    class_total = list(0. for i in range(10))\n",
    "    model.eval()\n",
    "    with torch.no_grad():\n",
    "        for data, target in test_loader:\n",
    "            data, target = data.cuda(), target.cuda()\n",
    "            output = model(data)\n",
    "            loss = CE(output, target)\n",
    "\n",
    "            test_loss += loss.item() * data.size(0)\n",
    "            _, pred = torch.max(output, 1)\n",
    "            correct = np.squeeze(pred.eq(target.data.view_as(pred)))\n",
    "            for i in range(len(target)):\n",
    "                label = target.data[i]\n",
    "                class_correct[label] += correct[i].item()\n",
    "                class_total[label] += 1\n",
    "\n",
    "    test_loss = test_loss / len(test_loader.dataset)\n",
    "    test_loss_plt.append(test_loss)\n",
    "    \n",
    "    test_accuracy = 100. * np.sum(class_correct) / np.sum(class_total)\n",
    "    test_accuracy_plt.append(test_accuracy)\n",
    "\n",
    "    print('Epoch:', (epoch + 1), '\\tTrain Loss:', train_loss,' | Test Loss:', test_loss,' | Test Acc.:',test_accuracy)"
   ]
  },
  {
   "cell_type": "markdown",
   "metadata": {
    "colab_type": "text",
    "id": "lhVSKbxWVT9T"
   },
   "source": [
    "### Saving"
   ]
  },
  {
   "cell_type": "code",
   "execution_count": 0,
   "metadata": {
    "colab": {},
    "colab_type": "code",
    "id": "wm5QvSLiVT9U"
   },
   "outputs": [],
   "source": [
    "joblib.dump(train_loss_plt, 'train_loss_plt_q2_relu_dp_4.sav')\n",
    "joblib.dump(test_loss_plt, 'test_loss_plt_q2_relu_dp_4.sav')\n",
    "joblib.dump(test_accuracy_plt, 'test_accuracy_plt_q2_relu_dp_4.sav')\n",
    "torch.save(model.state_dict(), \"model_q2_relu_dp_4.pt\")"
   ]
  },
  {
   "cell_type": "code",
   "execution_count": 8,
   "metadata": {
    "colab": {
     "base_uri": "https://localhost:8080/",
     "height": 282
    },
    "colab_type": "code",
    "id": "uCcZ0RWuVT9V",
    "outputId": "c4e72fe6-4a9d-4a9f-86c1-87fc669a36b4"
   },
   "outputs": [
    {
     "data": {
      "text/plain": [
       "[<matplotlib.lines.Line2D at 0x7fc2a10b6550>]"
      ]
     },
     "execution_count": 8,
     "metadata": {
      "tags": []
     },
     "output_type": "execute_result"
    },
    {
     "data": {
      "image/png": "[encoded data removed]",
      "text/plain": [
       "<Figure size 432x288 with 1 Axes>"
      ]
     },
     "metadata": {
      "tags": []
     },
     "output_type": "display_data"
    }
   ],
   "source": [
    "plt.plot(np.arange(len(train_loss_plt)),train_loss_plt)"
   ]
  },
  {
   "cell_type": "code",
   "execution_count": 10,
   "metadata": {
    "colab": {
     "base_uri": "https://localhost:8080/",
     "height": 282
    },
    "colab_type": "code",
    "id": "V4clRFDX4Ee6",
    "outputId": "a60217c2-58d0-4b24-944c-bc3c7afc9af4"
   },
   "outputs": [
    {
     "data": {
      "text/plain": [
       "[<matplotlib.lines.Line2D at 0x7fc2a0ff1ef0>]"
      ]
     },
     "execution_count": 10,
     "metadata": {
      "tags": []
     },
     "output_type": "execute_result"
    },
    {
     "data": {
      "image/png": "[encoded data removed]",
      "text/plain": [
       "<Figure size 432x288 with 1 Axes>"
      ]
     },
     "metadata": {
      "tags": []
     },
     "output_type": "display_data"
    }
   ],
   "source": [
    "plt.plot(np.arange(len(test_loss_plt)),test_loss_plt)"
   ]
  },
  {
   "cell_type": "code",
   "execution_count": 11,
   "metadata": {
    "colab": {
     "base_uri": "https://localhost:8080/",
     "height": 282
    },
    "colab_type": "code",
    "id": "YaOTD5OjVT9Y",
    "outputId": "57e2f303-7cb1-4260-b787-46bef0381947"
   },
   "outputs": [
    {
     "data": {
      "text/plain": [
       "[<matplotlib.lines.Line2D at 0x7fc2a108fbe0>]"
      ]
     },
     "execution_count": 11,
     "metadata": {
      "tags": []
     },
     "output_type": "execute_result"
    },
    {
     "data": {
      "image/png": "[encoded data removed]",
      "text/plain": [
       "<Figure size 432x288 with 1 Axes>"
      ]
     },
     "metadata": {
      "tags": []
     },
     "output_type": "display_data"
    }
   ],
   "source": [
    "plt.plot(np.arange(len(test_accuracy_plt)),test_accuracy_plt)"
   ]
  },
  {
   "cell_type": "code",
   "execution_count": 0,
   "metadata": {
    "colab": {},
    "colab_type": "code",
    "id": "gfgm73lkhSyP"
   },
   "outputs": [],
   "source": []
  },
  {
   "cell_type": "code",
   "execution_count": 2,
   "metadata": {},
   "outputs": [
    {
     "data": {
      "image/png": "[encoded data removed]",
      "text/plain": [
       "<Figure size 432x288 with 1 Axes>"
      ]
     },
     "metadata": {
      "needs_background": "light"
     },
     "output_type": "display_data"
    },
    {
     "data": {
      "image/png": "[encoded data removed]",
      "text/plain": [
       "<Figure size 432x288 with 1 Axes>"
      ]
     },
     "metadata": {
      "needs_background": "light"
     },
     "output_type": "display_data"
    },
    {
     "data": {
      "image/png": "[encoded data removed]",
      "text/plain": [
       "<Figure size 432x288 with 1 Axes>"
      ]
     },
     "metadata": {
      "needs_background": "light"
     },
     "output_type": "display_data"
    }
   ],
   "source": [
    "import joblib\n",
    "import matplotlib.pyplot as plt\n",
    "import numpy as np\n",
    "\n",
    "train_loss_plt = joblib.load('train_loss_plt_q2_relu_dp_4.sav')\n",
    "test_loss_plt = joblib.load('test_loss_plt_q2_relu_dp_4.sav')\n",
    "test_accuracy_plt = joblib.load('test_accuracy_plt_q2_relu_dp_4.sav')\n",
    "\n",
    "plt.title('ReLU with dropout=0.4 Train loss')\n",
    "plt.plot(np.arange(len(train_loss_plt)),train_loss_plt,label = 'Train Loss')\n",
    "plt.xlabel('Epochs')\n",
    "plt.ylabel('Loss')\n",
    "plt.legend()\n",
    "plt.show()\n",
    "\n",
    "plt.title('ReLU with dropout=0.4 Test Loss')\n",
    "plt.plot(np.arange(len(test_loss_plt)),test_loss_plt,color='r',label = 'Test Loss')\n",
    "plt.xlabel('Epochs')\n",
    "plt.ylabel('Loss')\n",
    "plt.legend()\n",
    "plt.show()\n",
    "\n",
    "plt.title('ReLU with dropout=0.4 Test Accuracy')\n",
    "plt.plot(np.arange(len(test_accuracy_plt)),test_accuracy_plt,color='g',label = 'Test Accuracy')\n",
    "plt.xlabel('Epochs')\n",
    "plt.ylabel('Accuracy')\n",
    "plt.legend()\n",
    "plt.show()"
   ]
  },
  {
   "cell_type": "code",
   "execution_count": null,
   "metadata": {},
   "outputs": [],
   "source": []
  },
  {
   "cell_type": "code",
   "execution_count": null,
   "metadata": {},
   "outputs": [],
   "source": []
  }
 ],
 "metadata": {
  "accelerator": "GPU",
  "colab": {
   "collapsed_sections": [],
   "name": "AML_A4_Q2_relu_dp_4.ipynb",
   "provenance": [],
   "toc_visible": true
  },
  "kernelspec": {
   "display_name": "Python 3",
   "language": "python",
   "name": "python3"
  },
  "language_info": {
   "codemirror_mode": {
    "name": "ipython",
    "version": 3
   },
   "file_extension": ".py",
   "mimetype": "text/x-python",
   "name": "python",
   "nbconvert_exporter": "python",
   "pygments_lexer": "ipython3",
   "version": "3.7.1"
  }
 },
 "nbformat": 4,
 "nbformat_minor": 1
}
