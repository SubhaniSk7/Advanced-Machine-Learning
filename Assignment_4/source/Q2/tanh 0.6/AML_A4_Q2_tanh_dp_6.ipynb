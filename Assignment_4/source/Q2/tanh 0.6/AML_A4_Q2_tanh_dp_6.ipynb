{
 "cells": [
  {
   "cell_type": "code",
   "execution_count": 0,
   "metadata": {
    "colab": {},
    "colab_type": "code",
    "id": "ZShQLuGyVT9K"
   },
   "outputs": [],
   "source": [
    "import torch\n",
    "from torchvision import datasets, transforms\n",
    "import torch.nn as nn\n",
    "import torch.nn.functional as F\n",
    "import torch.optim as optim\n",
    "from torch.utils.data import DataLoader\n",
    "from torch.utils.data.sampler import SubsetRandomSampler\n",
    "import matplotlib.pyplot as plt\n",
    "import numpy as np\n",
    "import joblib"
   ]
  },
  {
   "cell_type": "markdown",
   "metadata": {
    "colab_type": "text",
    "id": "mVUE3Y4HVT9M"
   },
   "source": [
    "### Data loading"
   ]
  },
  {
   "cell_type": "code",
   "execution_count": 2,
   "metadata": {
    "colab": {
     "base_uri": "https://localhost:8080/",
     "height": 87
    },
    "colab_type": "code",
    "id": "EAf9gYX8VT9N",
    "outputId": "f73b2375-1191-421c-8be7-def08c060065"
   },
   "outputs": [
    {
     "name": "stderr",
     "output_type": "stream",
     "text": [
      "\r",
      "0it [00:00, ?it/s]"
     ]
    },
    {
     "name": "stdout",
     "output_type": "stream",
     "text": [
      "Downloading https://www.cs.toronto.edu/~kriz/cifar-10-python.tar.gz to ./Datasets/CIFAR10_data/cifar-10-python.tar.gz\n"
     ]
    },
    {
     "name": "stderr",
     "output_type": "stream",
     "text": [
      "100%|█████████▉| 170434560/170498071 [00:12<00:00, 16969815.69it/s]"
     ]
    },
    {
     "name": "stdout",
     "output_type": "stream",
     "text": [
      "Extracting ./Datasets/CIFAR10_data/cifar-10-python.tar.gz to ./Datasets/CIFAR10_data/\n",
      "Files already downloaded and verified\n"
     ]
    }
   ],
   "source": [
    "path = \"./Datasets/CIFAR10_data/\"\n",
    "# path = \"E:/Datasets/CIFAR10_data/\"\n",
    "\n",
    "device = 'cuda'\n",
    "num_workers = 0\n",
    "batch_size = 64\n",
    "\n",
    "transform = transforms.Compose([transforms.ToTensor(), transforms.Normalize((0.5, 0.5, 0.5), (0.5, 0.5, 0.5))])\n",
    "\n",
    "train_data = datasets.CIFAR10(path, train=True, download=True, transform=transform)\n",
    "test_data = datasets.CIFAR10(path, train=False, download=True, transform=transform)\n",
    "\n",
    "train_loader = DataLoader(train_data, batch_size=batch_size, num_workers=num_workers)\n",
    "test_loader = DataLoader(test_data, batch_size=batch_size, num_workers=num_workers)\n",
    "# classes = [\"plane\", \"car\", \"bird\", \"cat\", \"deer\", \"dog\", \"frog\", \"horse\", \"ship\", \"truck\"]"
   ]
  },
  {
   "cell_type": "markdown",
   "metadata": {
    "colab_type": "text",
    "id": "rC3AVpplVT9P"
   },
   "source": [
    "### Network"
   ]
  },
  {
   "cell_type": "code",
   "execution_count": 0,
   "metadata": {
    "colab": {},
    "colab_type": "code",
    "id": "A0LpB7EhVT9Q"
   },
   "outputs": [],
   "source": [
    "class Architecture(nn.Module):\n",
    "\n",
    "    def __init__(self):\n",
    "        super(Architecture, self).__init__()\n",
    "\n",
    "        self.conv1 = nn.Conv2d(3, 16, kernel_size=3, padding=2)\n",
    "        self.conv2 = nn.Conv2d(16, 16, kernel_size=3, padding=2)\n",
    "        self.conv3 = nn.Conv2d(16, 32, kernel_size=3, padding=2)\n",
    "        self.conv4 = nn.Conv2d(32, 32, kernel_size=3, padding=2)\n",
    "        self.conv5 = nn.Conv2d(32, 64, kernel_size=3, padding=2)\n",
    "        self.conv6 = nn.Conv2d(64, 64, kernel_size=3, padding=2)\n",
    "\n",
    "        self.pool = nn.MaxPool2d(2)\n",
    "\n",
    "        self.fc_1 = nn.Linear(64 * 2 * 2, 512)\n",
    "        self.fc_2 = nn.Linear(512, 256)\n",
    "        self.fc_3 = nn.Linear(256, 10)\n",
    "\n",
    "        self.tanh = nn.Tanh()\n",
    "        self.dropout = nn.Dropout(0.6)\n",
    "\n",
    "    def forward(self, x):\n",
    "        x = self.pool(self.tanh(self.conv1(x)))\n",
    "        x = self.pool(self.tanh(self.conv2(x)))\n",
    "        x = self.pool(self.tanh(self.conv3(x)))\n",
    "        x = self.pool(self.tanh(self.conv4(x)))\n",
    "        x = self.pool(self.tanh(self.conv5(x)))\n",
    "        x = self.pool(self.tanh(self.conv6(x)))\n",
    "        x = x.view(-1, 64 * 2 * 2)\n",
    "        x = self.dropout(x)\n",
    "        x = self.dropout(self.tanh(self.fc_1(x)))\n",
    "        x = self.dropout(self.tanh(self.fc_2(x)))\n",
    "        x = self.fc_3(x)\n",
    "        return x\n",
    "\n",
    "model = Architecture()\n",
    "model.to(device)\n",
    "\n",
    "CE = nn.CrossEntropyLoss()\n",
    "optimizer = optim.Adagrad(model.parameters(), lr=0.02)"
   ]
  },
  {
   "cell_type": "code",
   "execution_count": 4,
   "metadata": {
    "colab": {
     "base_uri": "https://localhost:8080/",
     "height": 1000
    },
    "colab_type": "code",
    "id": "mm7LDkMrVT9S",
    "outputId": "340fa1a5-2e88-4807-bb8d-7a543a256536"
   },
   "outputs": [
    {
     "name": "stdout",
     "output_type": "stream",
     "text": [
      "Epoch: 1 \tTrain Loss: 2.1079650550842284  | Test Loss: 1.861055908203125  | Test Acc.: 30.12\n",
      "Epoch: 2 \tTrain Loss: 1.7146110090255737  | Test Loss: 1.5882127765655518  | Test Acc.: 41.89\n",
      "Epoch: 3 \tTrain Loss: 1.5065390755462646  | Test Loss: 1.3889844560623168  | Test Acc.: 49.09\n",
      "Epoch: 4 \tTrain Loss: 1.3858699747085572  | Test Loss: 1.3064024715423583  | Test Acc.: 52.81\n",
      "Epoch: 5 \tTrain Loss: 1.3050937023544311  | Test Loss: 1.254027172279358  | Test Acc.: 54.7\n",
      "Epoch: 6 \tTrain Loss: 1.247428790435791  | Test Loss: 1.2120513038635254  | Test Acc.: 56.52\n",
      "Epoch: 7 \tTrain Loss: 1.1961573509216308  | Test Loss: 1.1723886371612549  | Test Acc.: 58.18\n",
      "Epoch: 8 \tTrain Loss: 1.1535651671600342  | Test Loss: 1.145196487236023  | Test Acc.: 59.37\n",
      "Epoch: 9 \tTrain Loss: 1.1170904093170166  | Test Loss: 1.1559444213867187  | Test Acc.: 59.71\n",
      "Epoch: 10 \tTrain Loss: 1.0847526739120483  | Test Loss: 1.1158347942352296  | Test Acc.: 61.26\n",
      "Epoch: 11 \tTrain Loss: 1.055288932647705  | Test Loss: 1.113959828567505  | Test Acc.: 61.71\n",
      "Epoch: 12 \tTrain Loss: 1.0327248294830322  | Test Loss: 1.0978085723876954  | Test Acc.: 62.22\n",
      "Epoch: 13 \tTrain Loss: 1.006034563446045  | Test Loss: 1.091449726486206  | Test Acc.: 62.57\n",
      "Epoch: 14 \tTrain Loss: 0.9796143129348754  | Test Loss: 1.120827734565735  | Test Acc.: 61.86\n",
      "Epoch: 15 \tTrain Loss: 0.9593543649291992  | Test Loss: 1.082697759246826  | Test Acc.: 63.47\n",
      "Epoch: 16 \tTrain Loss: 0.9425648739624023  | Test Loss: 1.0527622867584228  | Test Acc.: 64.03\n",
      "Epoch: 17 \tTrain Loss: 0.9243903159332275  | Test Loss: 1.0756538564682008  | Test Acc.: 64.21\n",
      "Epoch: 18 \tTrain Loss: 0.9077533498764038  | Test Loss: 1.0483669351577758  | Test Acc.: 65.14\n",
      "Epoch: 19 \tTrain Loss: 0.8898399127960205  | Test Loss: 1.1552709089279174  | Test Acc.: 62.05\n",
      "Epoch: 20 \tTrain Loss: 0.8778343174743652  | Test Loss: 1.0423060243606568  | Test Acc.: 65.0\n",
      "Epoch: 21 \tTrain Loss: 0.8643883358764648  | Test Loss: 1.0620745470046997  | Test Acc.: 64.67\n",
      "Epoch: 22 \tTrain Loss: 0.8485349387741089  | Test Loss: 1.065743606376648  | Test Acc.: 64.89\n",
      "Epoch: 23 \tTrain Loss: 0.8337075877571106  | Test Loss: 1.052301833343506  | Test Acc.: 65.43\n",
      "Epoch: 24 \tTrain Loss: 0.8225244326782226  | Test Loss: 1.043422778892517  | Test Acc.: 65.64\n",
      "Epoch: 25 \tTrain Loss: 0.8159247482681274  | Test Loss: 1.0566295036315918  | Test Acc.: 65.49\n",
      "Epoch: 26 \tTrain Loss: 0.8003109150886536  | Test Loss: 1.0497342767715454  | Test Acc.: 65.89\n",
      "Epoch: 27 \tTrain Loss: 0.7909779628372192  | Test Loss: 1.0592286834716798  | Test Acc.: 65.97\n",
      "Epoch: 28 \tTrain Loss: 0.7793749328231812  | Test Loss: 1.0424607671737671  | Test Acc.: 66.27\n",
      "Epoch: 29 \tTrain Loss: 0.7689365759658814  | Test Loss: 1.048465646648407  | Test Acc.: 66.21\n",
      "Epoch: 30 \tTrain Loss: 0.7562760322856903  | Test Loss: 1.0456511838912963  | Test Acc.: 66.7\n",
      "Epoch: 31 \tTrain Loss: 0.7501506269454956  | Test Loss: 1.0490104867935182  | Test Acc.: 66.64\n",
      "Epoch: 32 \tTrain Loss: 0.7402400588321686  | Test Loss: 1.0515507482528688  | Test Acc.: 66.71\n",
      "Epoch: 33 \tTrain Loss: 0.731058343963623  | Test Loss: 1.050076523590088  | Test Acc.: 67.04\n",
      "Epoch: 34 \tTrain Loss: 0.7242439983558655  | Test Loss: 1.0536023111343384  | Test Acc.: 66.82\n",
      "Epoch: 35 \tTrain Loss: 0.7162228894042969  | Test Loss: 1.0685194492340089  | Test Acc.: 66.73\n",
      "Epoch: 36 \tTrain Loss: 0.7077906447601319  | Test Loss: 1.0784698917388915  | Test Acc.: 66.5\n",
      "Epoch: 37 \tTrain Loss: 0.70235478931427  | Test Loss: 1.0629843273162842  | Test Acc.: 67.11\n",
      "Epoch: 38 \tTrain Loss: 0.6960030430412293  | Test Loss: 1.0593066623687744  | Test Acc.: 66.97\n",
      "Epoch: 39 \tTrain Loss: 0.6874856050109863  | Test Loss: 1.0769646757125855  | Test Acc.: 66.76\n",
      "Epoch: 40 \tTrain Loss: 0.6800074049663544  | Test Loss: 1.0809099131584168  | Test Acc.: 66.62\n",
      "Epoch: 41 \tTrain Loss: 0.6714574921035766  | Test Loss: 1.069463433933258  | Test Acc.: 67.38\n",
      "Epoch: 42 \tTrain Loss: 0.6683223971843719  | Test Loss: 1.088483069229126  | Test Acc.: 66.78\n",
      "Epoch: 43 \tTrain Loss: 0.6617546610546112  | Test Loss: 1.0751937411308288  | Test Acc.: 67.09\n",
      "Epoch: 44 \tTrain Loss: 0.6551187542533875  | Test Loss: 1.0654572713851929  | Test Acc.: 67.33\n",
      "Epoch: 45 \tTrain Loss: 0.6475700944614411  | Test Loss: 1.0872511144638062  | Test Acc.: 67.12\n",
      "Epoch: 46 \tTrain Loss: 0.6410887723827362  | Test Loss: 1.0858509232521056  | Test Acc.: 67.15\n",
      "Epoch: 47 \tTrain Loss: 0.6364215325641632  | Test Loss: 1.0898388389587403  | Test Acc.: 67.12\n",
      "Epoch: 48 \tTrain Loss: 0.6329958762931823  | Test Loss: 1.0872487842559815  | Test Acc.: 67.26\n",
      "Epoch: 49 \tTrain Loss: 0.623613523902893  | Test Loss: 1.1038097634315491  | Test Acc.: 67.1\n",
      "Epoch: 50 \tTrain Loss: 0.617702850446701  | Test Loss: 1.0939982780456543  | Test Acc.: 67.25\n",
      "Epoch: 51 \tTrain Loss: 0.6135613746929168  | Test Loss: 1.1049850315093994  | Test Acc.: 67.52\n",
      "Epoch: 52 \tTrain Loss: 0.6114622513771057  | Test Loss: 1.1158343315124513  | Test Acc.: 66.75\n",
      "Epoch: 53 \tTrain Loss: 0.6066948974609375  | Test Loss: 1.1086865076065064  | Test Acc.: 67.27\n",
      "Epoch: 54 \tTrain Loss: 0.5985709162902833  | Test Loss: 1.1202947454452514  | Test Acc.: 66.64\n",
      "Epoch: 55 \tTrain Loss: 0.5929116607952117  | Test Loss: 1.1149462868690492  | Test Acc.: 67.23\n",
      "Epoch: 56 \tTrain Loss: 0.5893408734226226  | Test Loss: 1.1160478132247924  | Test Acc.: 67.34\n",
      "Epoch: 57 \tTrain Loss: 0.5845424960422516  | Test Loss: 1.1314633975982666  | Test Acc.: 66.88\n",
      "Epoch: 58 \tTrain Loss: 0.5814491281986237  | Test Loss: 1.1375929077148437  | Test Acc.: 66.64\n",
      "Epoch: 59 \tTrain Loss: 0.574870241355896  | Test Loss: 1.1298790205001832  | Test Acc.: 67.08\n",
      "Epoch: 60 \tTrain Loss: 0.5698507068061829  | Test Loss: 1.1404772201538087  | Test Acc.: 67.03\n",
      "Epoch: 61 \tTrain Loss: 0.5659858231925964  | Test Loss: 1.1364411815643312  | Test Acc.: 67.39\n",
      "Epoch: 62 \tTrain Loss: 0.5643825535917282  | Test Loss: 1.1344951474189757  | Test Acc.: 67.6\n",
      "Epoch: 63 \tTrain Loss: 0.5600796395587921  | Test Loss: 1.1521381565093993  | Test Acc.: 67.13\n",
      "Epoch: 64 \tTrain Loss: 0.5552515416908265  | Test Loss: 1.1546368013381958  | Test Acc.: 66.94\n",
      "Epoch: 65 \tTrain Loss: 0.5500887301206588  | Test Loss: 1.1529349411964416  | Test Acc.: 67.37\n",
      "Epoch: 66 \tTrain Loss: 0.5486839102840424  | Test Loss: 1.1566420572280884  | Test Acc.: 67.2\n",
      "Epoch: 67 \tTrain Loss: 0.5425235848236084  | Test Loss: 1.1669237476348877  | Test Acc.: 67.07\n",
      "Epoch: 68 \tTrain Loss: 0.5390391120910645  | Test Loss: 1.1769277241230012  | Test Acc.: 66.97\n",
      "Epoch: 69 \tTrain Loss: 0.5369760297489167  | Test Loss: 1.1872143074035644  | Test Acc.: 66.71\n",
      "Epoch: 70 \tTrain Loss: 0.5299038830661774  | Test Loss: 1.1704947355270385  | Test Acc.: 67.25\n",
      "Epoch: 71 \tTrain Loss: 0.5308930148124695  | Test Loss: 1.1685995928287507  | Test Acc.: 67.31\n",
      "Epoch: 72 \tTrain Loss: 0.5277012179946899  | Test Loss: 1.1665211082458495  | Test Acc.: 67.35\n",
      "Epoch: 73 \tTrain Loss: 0.5229994181251526  | Test Loss: 1.180963430404663  | Test Acc.: 67.42\n",
      "Epoch: 74 \tTrain Loss: 0.5203192832231521  | Test Loss: 1.1925239515304566  | Test Acc.: 66.88\n",
      "Epoch: 75 \tTrain Loss: 0.5231615567779541  | Test Loss: 1.179143634223938  | Test Acc.: 67.4\n",
      "Epoch: 76 \tTrain Loss: 0.5148567374324798  | Test Loss: 1.1945246006965637  | Test Acc.: 67.14\n",
      "Epoch: 77 \tTrain Loss: 0.5122826304864884  | Test Loss: 1.1889925226211548  | Test Acc.: 67.35\n",
      "Epoch: 78 \tTrain Loss: 0.506710493516922  | Test Loss: 1.2008951755523682  | Test Acc.: 67.24\n",
      "Epoch: 79 \tTrain Loss: 0.5057109606075287  | Test Loss: 1.203756746339798  | Test Acc.: 67.23\n",
      "Epoch: 80 \tTrain Loss: 0.4978752332305908  | Test Loss: 1.2171329098701478  | Test Acc.: 66.97\n",
      "Epoch: 81 \tTrain Loss: 0.5000823943519592  | Test Loss: 1.2061087352752686  | Test Acc.: 67.1\n",
      "Epoch: 82 \tTrain Loss: 0.49766009063243866  | Test Loss: 1.2075139128684997  | Test Acc.: 67.17\n",
      "Epoch: 83 \tTrain Loss: 0.49457824300289155  | Test Loss: 1.2240337260723113  | Test Acc.: 66.7\n",
      "Epoch: 84 \tTrain Loss: 0.49065737769126894  | Test Loss: 1.2220497568607331  | Test Acc.: 67.3\n",
      "Epoch: 85 \tTrain Loss: 0.4864093080234528  | Test Loss: 1.2241208249092101  | Test Acc.: 66.91\n",
      "Epoch: 86 \tTrain Loss: 0.4836973778438568  | Test Loss: 1.2225360144615174  | Test Acc.: 67.25\n",
      "Epoch: 87 \tTrain Loss: 0.48317580468177795  | Test Loss: 1.2276279680252076  | Test Acc.: 66.84\n",
      "Epoch: 88 \tTrain Loss: 0.4780039051771164  | Test Loss: 1.2385825374603272  | Test Acc.: 66.73\n",
      "Epoch: 89 \tTrain Loss: 0.47598640694618227  | Test Loss: 1.2316033630371093  | Test Acc.: 67.03\n",
      "Epoch: 90 \tTrain Loss: 0.471451938586235  | Test Loss: 1.2356015122413635  | Test Acc.: 66.95\n",
      "Epoch: 91 \tTrain Loss: 0.4727420168972015  | Test Loss: 1.2386182047367096  | Test Acc.: 66.91\n",
      "Epoch: 92 \tTrain Loss: 0.46998934609413145  | Test Loss: 1.248092405319214  | Test Acc.: 67.09\n",
      "Epoch: 93 \tTrain Loss: 0.46703552187919617  | Test Loss: 1.2457714698791504  | Test Acc.: 66.96\n",
      "Epoch: 94 \tTrain Loss: 0.4668971489572525  | Test Loss: 1.2439175805568694  | Test Acc.: 67.04\n",
      "Epoch: 95 \tTrain Loss: 0.4613209764099121  | Test Loss: 1.25409184589386  | Test Acc.: 67.09\n",
      "Epoch: 96 \tTrain Loss: 0.45813027090072633  | Test Loss: 1.2717309309005738  | Test Acc.: 66.46\n",
      "Epoch: 97 \tTrain Loss: 0.4547945042848587  | Test Loss: 1.265685199546814  | Test Acc.: 66.66\n",
      "Epoch: 98 \tTrain Loss: 0.4536542037582397  | Test Loss: 1.2717211035728455  | Test Acc.: 66.91\n",
      "Epoch: 99 \tTrain Loss: 0.4532731716489792  | Test Loss: 1.2678056348323823  | Test Acc.: 66.86\n",
      "Epoch: 100 \tTrain Loss: 0.4516554250860214  | Test Loss: 1.2878925335407256  | Test Acc.: 66.4\n"
     ]
    }
   ],
   "source": [
    "train_loss_plt, valid_loss_plt = [], []\n",
    "test_accuracy_plt = []\n",
    "test_loss_plt = []\n",
    "n_epochs = 100\n",
    "for epoch in range(n_epochs):\n",
    "    train_loss, test_loss = 0, 0\n",
    "    model.train()\n",
    "    for images, labels in train_loader:\n",
    "        images, labels = images.to(device), labels.to(device)\n",
    "\n",
    "        optimizer.zero_grad()\n",
    "        output = model(images)\n",
    "        loss = CE(output, labels)\n",
    "        loss.backward()\n",
    "        optimizer.step()\n",
    "        \n",
    "        train_loss += loss.item() * images.size(0)\n",
    "\n",
    "    train_loss = train_loss / len(train_loader.dataset)\n",
    "    train_loss_plt.append(train_loss)\n",
    "\n",
    "    class_correct = list(0. for i in range(10))\n",
    "    class_total = list(0. for i in range(10))\n",
    "    model.eval()\n",
    "    with torch.no_grad():\n",
    "        for data, target in test_loader:\n",
    "            data, target = data.cuda(), target.cuda()\n",
    "            output = model(data)\n",
    "            loss = CE(output, target)\n",
    "\n",
    "            test_loss += loss.item() * data.size(0)\n",
    "            _, pred = torch.max(output, 1)\n",
    "            correct = np.squeeze(pred.eq(target.data.view_as(pred)))\n",
    "            for i in range(len(target)):\n",
    "                label = target.data[i]\n",
    "                class_correct[label] += correct[i].item()\n",
    "                class_total[label] += 1\n",
    "\n",
    "    test_loss = test_loss / len(test_loader.dataset)\n",
    "    test_loss_plt.append(test_loss)\n",
    "    \n",
    "    test_accuracy = 100. * np.sum(class_correct) / np.sum(class_total)\n",
    "    test_accuracy_plt.append(test_accuracy)\n",
    "\n",
    "    print('Epoch:', (epoch + 1), '\\tTrain Loss:', train_loss,' | Test Loss:', test_loss,' | Test Acc.:',test_accuracy)"
   ]
  },
  {
   "cell_type": "markdown",
   "metadata": {
    "colab_type": "text",
    "id": "lhVSKbxWVT9T"
   },
   "source": [
    "### Saving"
   ]
  },
  {
   "cell_type": "code",
   "execution_count": 0,
   "metadata": {
    "colab": {},
    "colab_type": "code",
    "id": "wm5QvSLiVT9U"
   },
   "outputs": [],
   "source": [
    "joblib.dump(train_loss_plt, 'train_loss_plt_q2_tanh_dp_6.sav')\n",
    "joblib.dump(test_loss_plt, 'test_loss_plt_q2_tanh_dp_6.sav')\n",
    "joblib.dump(test_accuracy_plt, 'test_accuracy_plt_q2_tanh_dp_6.sav')\n",
    "torch.save(model.state_dict(), \"model_q2_tanh_dp_6.pt\")"
   ]
  },
  {
   "cell_type": "code",
   "execution_count": 8,
   "metadata": {
    "colab": {
     "base_uri": "https://localhost:8080/",
     "height": 282
    },
    "colab_type": "code",
    "id": "uCcZ0RWuVT9V",
    "outputId": "e9a2867e-56fc-452a-e438-5e578ab4ca97"
   },
   "outputs": [
    {
     "data": {
      "text/plain": [
       "[<matplotlib.lines.Line2D at 0x7f97a00ef5f8>]"
      ]
     },
     "execution_count": 8,
     "metadata": {
      "tags": []
     },
     "output_type": "execute_result"
    },
    {
     "data": {
      "image/png": "[encoded data removed]",
      "text/plain": [
       "<Figure size 432x288 with 1 Axes>"
      ]
     },
     "metadata": {
      "tags": []
     },
     "output_type": "display_data"
    }
   ],
   "source": [
    "plt.plot(np.arange(len(train_loss_plt)),train_loss_plt)"
   ]
  },
  {
   "cell_type": "code",
   "execution_count": 9,
   "metadata": {
    "colab": {
     "base_uri": "https://localhost:8080/",
     "height": 282
    },
    "colab_type": "code",
    "id": "V4clRFDX4Ee6",
    "outputId": "af663340-f0e8-4704-b6e3-faac36ba1c21"
   },
   "outputs": [
    {
     "data": {
      "text/plain": [
       "[<matplotlib.lines.Line2D at 0x7f97a00d0d68>]"
      ]
     },
     "execution_count": 9,
     "metadata": {
      "tags": []
     },
     "output_type": "execute_result"
    },
    {
     "data": {
      "image/png": "[encoded data removed]",
      "text/plain": [
       "<Figure size 432x288 with 1 Axes>"
      ]
     },
     "metadata": {
      "tags": []
     },
     "output_type": "display_data"
    }
   ],
   "source": [
    "plt.plot(np.arange(len(test_loss_plt)),test_loss_plt)"
   ]
  },
  {
   "cell_type": "code",
   "execution_count": 10,
   "metadata": {
    "colab": {
     "base_uri": "https://localhost:8080/",
     "height": 282
    },
    "colab_type": "code",
    "id": "YaOTD5OjVT9Y",
    "outputId": "2d9feb4a-b973-4063-efe5-627b3202eced"
   },
   "outputs": [
    {
     "data": {
      "text/plain": [
       "[<matplotlib.lines.Line2D at 0x7f97a0030588>]"
      ]
     },
     "execution_count": 10,
     "metadata": {
      "tags": []
     },
     "output_type": "execute_result"
    },
    {
     "data": {
      "image/png": "[encoded data removed]",
      "text/plain": [
       "<Figure size 432x288 with 1 Axes>"
      ]
     },
     "metadata": {
      "tags": []
     },
     "output_type": "display_data"
    }
   ],
   "source": [
    "plt.plot(np.arange(len(test_accuracy_plt)),test_accuracy_plt)"
   ]
  },
  {
   "cell_type": "code",
   "execution_count": 0,
   "metadata": {
    "colab": {},
    "colab_type": "code",
    "id": "R-4xIVtRrwh-"
   },
   "outputs": [],
   "source": []
  },
  {
   "cell_type": "code",
   "execution_count": 2,
   "metadata": {},
   "outputs": [
    {
     "data": {
      "image/png": "[encoded data removed]",
      "text/plain": [
       "<Figure size 432x288 with 1 Axes>"
      ]
     },
     "metadata": {
      "needs_background": "light"
     },
     "output_type": "display_data"
    },
    {
     "data": {
      "image/png": "[encoded data removed]",
      "text/plain": [
       "<Figure size 432x288 with 1 Axes>"
      ]
     },
     "metadata": {
      "needs_background": "light"
     },
     "output_type": "display_data"
    },
    {
     "data": {
      "image/png": "[encoded data removed]",
      "text/plain": [
       "<Figure size 432x288 with 1 Axes>"
      ]
     },
     "metadata": {
      "needs_background": "light"
     },
     "output_type": "display_data"
    }
   ],
   "source": [
    "import joblib\n",
    "import matplotlib.pyplot as plt\n",
    "import numpy as np\n",
    "\n",
    "train_loss_plt = joblib.load('train_loss_plt_q2_tanh_dp_6.sav')\n",
    "test_loss_plt = joblib.load('test_loss_plt_q2_tanh_dp_6.sav')\n",
    "test_accuracy_plt = joblib.load('test_accuracy_plt_q2_tanh_dp_6.sav')\n",
    "\n",
    "plt.title('Tanh with dropout=0.6 Train loss')\n",
    "plt.plot(np.arange(len(train_loss_plt)),train_loss_plt,label = 'Train Loss')\n",
    "plt.xlabel('Epochs')\n",
    "plt.ylabel('Loss')\n",
    "plt.legend()\n",
    "plt.show()\n",
    "\n",
    "plt.title('Tanh with dropout=0.6 Test Loss')\n",
    "plt.plot(np.arange(len(test_loss_plt)),test_loss_plt,color='r',label = 'Test Loss')\n",
    "plt.xlabel('Epochs')\n",
    "plt.ylabel('Loss')\n",
    "plt.legend()\n",
    "plt.show()\n",
    "\n",
    "plt.title('Tanh with dropout=0.6 Test Accuracy')\n",
    "plt.plot(np.arange(len(test_accuracy_plt)),test_accuracy_plt,color='g',label = 'Test Accuracy')\n",
    "plt.xlabel('Epochs')\n",
    "plt.ylabel('Accuracy')\n",
    "plt.legend()\n",
    "plt.show()"
   ]
  },
  {
   "cell_type": "code",
   "execution_count": null,
   "metadata": {},
   "outputs": [],
   "source": []
  }
 ],
 "metadata": {
  "accelerator": "GPU",
  "colab": {
   "collapsed_sections": [],
   "name": "AML_A4_Q2_tanh_dp_6.ipynb",
   "provenance": [],
   "toc_visible": true
  },
  "kernelspec": {
   "display_name": "Python 3",
   "language": "python",
   "name": "python3"
  },
  "language_info": {
   "codemirror_mode": {
    "name": "ipython",
    "version": 3
   },
   "file_extension": ".py",
   "mimetype": "text/x-python",
   "name": "python",
   "nbconvert_exporter": "python",
   "pygments_lexer": "ipython3",
   "version": "3.7.1"
  }
 },
 "nbformat": 4,
 "nbformat_minor": 1
}
