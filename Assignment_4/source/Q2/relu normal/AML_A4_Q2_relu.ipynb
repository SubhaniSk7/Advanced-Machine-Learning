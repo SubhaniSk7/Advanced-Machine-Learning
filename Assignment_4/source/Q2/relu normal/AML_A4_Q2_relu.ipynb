{
 "cells": [
  {
   "cell_type": "code",
   "execution_count": 0,
   "metadata": {
    "colab": {},
    "colab_type": "code",
    "id": "ZShQLuGyVT9K"
   },
   "outputs": [],
   "source": [
    "import torch\n",
    "from torchvision import datasets, transforms\n",
    "import torch.nn as nn\n",
    "import torch.nn.functional as F\n",
    "import torch.optim as optim\n",
    "from torch.utils.data import DataLoader\n",
    "from torch.utils.data.sampler import SubsetRandomSampler\n",
    "import matplotlib.pyplot as plt\n",
    "import numpy as np\n",
    "import joblib"
   ]
  },
  {
   "cell_type": "markdown",
   "metadata": {
    "colab_type": "text",
    "id": "mVUE3Y4HVT9M"
   },
   "source": [
    "### Data loading"
   ]
  },
  {
   "cell_type": "code",
   "execution_count": 2,
   "metadata": {
    "colab": {
     "base_uri": "https://localhost:8080/",
     "height": 84
    },
    "colab_type": "code",
    "id": "EAf9gYX8VT9N",
    "outputId": "107126f2-a9bf-44ae-9147-8f76a475ecba"
   },
   "outputs": [
    {
     "name": "stderr",
     "output_type": "stream",
     "text": [
      "\r",
      "0it [00:00, ?it/s]"
     ]
    },
    {
     "name": "stdout",
     "output_type": "stream",
     "text": [
      "Downloading https://www.cs.toronto.edu/~kriz/cifar-10-python.tar.gz to ./Datasets/CIFAR10_data/cifar-10-python.tar.gz\n"
     ]
    },
    {
     "name": "stderr",
     "output_type": "stream",
     "text": [
      "170500096it [00:04, 41483641.41it/s]                               \n"
     ]
    },
    {
     "name": "stdout",
     "output_type": "stream",
     "text": [
      "Extracting ./Datasets/CIFAR10_data/cifar-10-python.tar.gz to ./Datasets/CIFAR10_data/\n",
      "Files already downloaded and verified\n"
     ]
    }
   ],
   "source": [
    "path = \"./Datasets/CIFAR10_data/\"\n",
    "# path = \"E:/Datasets/CIFAR10_data/\"\n",
    "\n",
    "device = 'cuda'\n",
    "num_workers = 0\n",
    "batch_size = 20\n",
    "\n",
    "transform = transforms.Compose([transforms.ToTensor(), transforms.Normalize((0.5, 0.5, 0.5), (0.5, 0.5, 0.5))])\n",
    "\n",
    "train_data = datasets.CIFAR10(path, train=True, download=True, transform=transform)\n",
    "test_data = datasets.CIFAR10(path, train=False, download=True, transform=transform)\n",
    "\n",
    "train_loader = DataLoader(train_data, batch_size=batch_size, num_workers=num_workers)\n",
    "test_loader = DataLoader(test_data, batch_size=batch_size, num_workers=num_workers)\n",
    "# classes = [\"plane\", \"car\", \"bird\", \"cat\", \"deer\", \"dog\", \"frog\", \"horse\", \"ship\", \"truck\"]"
   ]
  },
  {
   "cell_type": "markdown",
   "metadata": {
    "colab_type": "text",
    "id": "rC3AVpplVT9P"
   },
   "source": [
    "### Network"
   ]
  },
  {
   "cell_type": "code",
   "execution_count": 0,
   "metadata": {
    "colab": {},
    "colab_type": "code",
    "id": "A0LpB7EhVT9Q"
   },
   "outputs": [],
   "source": [
    "class Architecture(nn.Module):\n",
    "\n",
    "    def __init__(self):\n",
    "        super(Architecture, self).__init__()\n",
    "\n",
    "        self.conv1 = nn.Conv2d(3, 16, kernel_size=3, padding=2)\n",
    "        self.conv2 = nn.Conv2d(16, 16, kernel_size=3, padding=2)\n",
    "        self.conv3 = nn.Conv2d(16, 32, kernel_size=3, padding=2)\n",
    "        self.conv4 = nn.Conv2d(32, 32, kernel_size=3, padding=2)\n",
    "        self.conv5 = nn.Conv2d(32, 64, kernel_size=3, padding=2)\n",
    "        self.conv6 = nn.Conv2d(64, 64, kernel_size=3, padding=2)\n",
    "\n",
    "        self.pool = nn.MaxPool2d(2)\n",
    "\n",
    "        self.fc_1 = nn.Linear(64 * 2 * 2, 256)\n",
    "        self.fc_2 = nn.Linear(256, 10)\n",
    "\n",
    "        self.relu = nn.ReLU()\n",
    "\n",
    "    def forward(self, x):\n",
    "        x = self.pool(F.relu(self.conv1(x)))\n",
    "        x = self.pool(F.relu(self.conv2(x)))\n",
    "        x = self.pool(F.relu(self.conv3(x)))\n",
    "        x = self.pool(F.relu(self.conv4(x)))\n",
    "        x = self.pool(F.relu(self.conv5(x)))\n",
    "        x = self.pool(F.relu(self.conv6(x)))\n",
    "        x = x.view(-1, 64 * 2 * 2)\n",
    "        x = F.relu(self.fc_1(x))\n",
    "        x = self.fc_2(x)\n",
    "        return x\n",
    "\n",
    "\n",
    "model = Architecture()\n",
    "model.to(device)\n",
    "\n",
    "CE = nn.CrossEntropyLoss()\n",
    "optimizer = optim.Adagrad(model.parameters(), lr=0.02)"
   ]
  },
  {
   "cell_type": "code",
   "execution_count": 4,
   "metadata": {
    "colab": {
     "base_uri": "https://localhost:8080/",
     "height": 1000
    },
    "colab_type": "code",
    "id": "mm7LDkMrVT9S",
    "outputId": "fd9a8360-4db3-453b-9d22-12fc5a5d892f"
   },
   "outputs": [
    {
     "name": "stdout",
     "output_type": "stream",
     "text": [
      "Epoch: 1 \tTrain Loss: 1.7161269589424133  | Test Loss: 1.4665012077093125  | Test Acc.: 45.33\n",
      "Epoch: 2 \tTrain Loss: 1.3635115525007249  | Test Loss: 1.2820434483289718  | Test Acc.: 51.76\n",
      "Epoch: 3 \tTrain Loss: 1.2395774124860763  | Test Loss: 1.197955477952957  | Test Acc.: 55.87\n",
      "Epoch: 4 \tTrain Loss: 1.1589550613045692  | Test Loss: 1.1461942747831344  | Test Acc.: 58.01\n",
      "Epoch: 5 \tTrain Loss: 1.0979266830205918  | Test Loss: 1.1092244012355805  | Test Acc.: 59.82\n",
      "Epoch: 6 \tTrain Loss: 1.0487997285366057  | Test Loss: 1.0806740552783012  | Test Acc.: 61.15\n",
      "Epoch: 7 \tTrain Loss: 1.0082241266608238  | Test Loss: 1.0629173887968064  | Test Acc.: 62.02\n",
      "Epoch: 8 \tTrain Loss: 0.973797749876976  | Test Loss: 1.0458734900951385  | Test Acc.: 62.58\n",
      "Epoch: 9 \tTrain Loss: 0.9438440683364868  | Test Loss: 1.0330100892186165  | Test Acc.: 63.02\n",
      "Epoch: 10 \tTrain Loss: 0.9166316537022591  | Test Loss: 1.0255461813807487  | Test Acc.: 63.19\n",
      "Epoch: 11 \tTrain Loss: 0.8925026217460632  | Test Loss: 1.0184952647686005  | Test Acc.: 63.62\n",
      "Epoch: 12 \tTrain Loss: 0.8703079432547093  | Test Loss: 1.0110667665004731  | Test Acc.: 64.09\n",
      "Epoch: 13 \tTrain Loss: 0.8500043769359589  | Test Loss: 1.006844728410244  | Test Acc.: 64.19\n",
      "Epoch: 14 \tTrain Loss: 0.8317133500993252  | Test Loss: 1.0050994606018067  | Test Acc.: 64.66\n",
      "Epoch: 15 \tTrain Loss: 0.8143025014400482  | Test Loss: 1.0044145227074623  | Test Acc.: 64.92\n",
      "Epoch: 16 \tTrain Loss: 0.7980213386416435  | Test Loss: 1.0063044648766517  | Test Acc.: 64.79\n",
      "Epoch: 17 \tTrain Loss: 0.7827401115715503  | Test Loss: 1.0038839978575707  | Test Acc.: 65.01\n",
      "Epoch: 18 \tTrain Loss: 0.7679717527508736  | Test Loss: 1.004230928003788  | Test Acc.: 65.24\n",
      "Epoch: 19 \tTrain Loss: 0.7540792406976223  | Test Loss: 1.0047741323113442  | Test Acc.: 65.28\n",
      "Epoch: 20 \tTrain Loss: 0.7412495841503143  | Test Loss: 1.0035153384804725  | Test Acc.: 65.53\n",
      "Epoch: 21 \tTrain Loss: 0.7288783708751202  | Test Loss: 1.0059127061963082  | Test Acc.: 65.43\n",
      "Epoch: 22 \tTrain Loss: 0.7167398185580969  | Test Loss: 1.0064459245800972  | Test Acc.: 65.58\n",
      "Epoch: 23 \tTrain Loss: 0.7051397113084793  | Test Loss: 1.0083374633789062  | Test Acc.: 65.71\n",
      "Epoch: 24 \tTrain Loss: 0.6934816804289817  | Test Loss: 1.01077103215456  | Test Acc.: 65.8\n",
      "Epoch: 25 \tTrain Loss: 0.682232769164443  | Test Loss: 1.0141478307247163  | Test Acc.: 66.0\n",
      "Epoch: 26 \tTrain Loss: 0.6715195037335158  | Test Loss: 1.0194350303411484  | Test Acc.: 65.91\n",
      "Epoch: 27 \tTrain Loss: 0.6607759189099074  | Test Loss: 1.022047592639923  | Test Acc.: 65.98\n",
      "Epoch: 28 \tTrain Loss: 0.6503930808991194  | Test Loss: 1.0279683992266655  | Test Acc.: 65.83\n",
      "Epoch: 29 \tTrain Loss: 0.6402488728135824  | Test Loss: 1.0340300700068474  | Test Acc.: 65.9\n",
      "Epoch: 30 \tTrain Loss: 0.6302657282501459  | Test Loss: 1.0397718724012375  | Test Acc.: 65.77\n",
      "Epoch: 31 \tTrain Loss: 0.6205826398789883  | Test Loss: 1.0467709893584252  | Test Acc.: 65.56\n",
      "Epoch: 32 \tTrain Loss: 0.6107066173046828  | Test Loss: 1.0533614141345025  | Test Acc.: 65.61\n",
      "Epoch: 33 \tTrain Loss: 0.6011988803058863  | Test Loss: 1.0604112490415574  | Test Acc.: 65.62\n",
      "Epoch: 34 \tTrain Loss: 0.5920702264070511  | Test Loss: 1.0683288386464118  | Test Acc.: 65.48\n",
      "Epoch: 35 \tTrain Loss: 0.582974435248971  | Test Loss: 1.0744481491446496  | Test Acc.: 65.44\n",
      "Epoch: 36 \tTrain Loss: 0.5740717555910348  | Test Loss: 1.0838803002238273  | Test Acc.: 65.35\n",
      "Epoch: 37 \tTrain Loss: 0.5649588352650404  | Test Loss: 1.0919611706137657  | Test Acc.: 65.23\n",
      "Epoch: 38 \tTrain Loss: 0.5561036687493325  | Test Loss: 1.1019871011972426  | Test Acc.: 65.15\n",
      "Epoch: 39 \tTrain Loss: 0.5475120848804712  | Test Loss: 1.1105336163640023  | Test Acc.: 65.02\n",
      "Epoch: 40 \tTrain Loss: 0.5387917834669351  | Test Loss: 1.1201486811041832  | Test Acc.: 65.14\n",
      "Epoch: 41 \tTrain Loss: 0.5303563110560179  | Test Loss: 1.1277494573593139  | Test Acc.: 65.29\n",
      "Epoch: 42 \tTrain Loss: 0.5220298883765936  | Test Loss: 1.1388308311104773  | Test Acc.: 65.24\n",
      "Epoch: 43 \tTrain Loss: 0.5136847159713507  | Test Loss: 1.150165379166603  | Test Acc.: 65.11\n",
      "Epoch: 44 \tTrain Loss: 0.5054708011358976  | Test Loss: 1.16010090559721  | Test Acc.: 65.12\n",
      "Epoch: 45 \tTrain Loss: 0.4974784940689802  | Test Loss: 1.1704450681209564  | Test Acc.: 65.09\n",
      "Epoch: 46 \tTrain Loss: 0.4895291913062334  | Test Loss: 1.1824419788122178  | Test Acc.: 65.06\n",
      "Epoch: 47 \tTrain Loss: 0.4814333725273609  | Test Loss: 1.193674567401409  | Test Acc.: 65.04\n",
      "Epoch: 48 \tTrain Loss: 0.4735964122444391  | Test Loss: 1.2060348951220512  | Test Acc.: 65.0\n",
      "Epoch: 49 \tTrain Loss: 0.46590969010442496  | Test Loss: 1.2199587278366089  | Test Acc.: 64.8\n",
      "Epoch: 50 \tTrain Loss: 0.45817312952131034  | Test Loss: 1.2326751764416695  | Test Acc.: 64.94\n",
      "Epoch: 51 \tTrain Loss: 0.45053533794134853  | Test Loss: 1.2463537010550498  | Test Acc.: 64.74\n",
      "Epoch: 52 \tTrain Loss: 0.44307589426636695  | Test Loss: 1.2582839177250862  | Test Acc.: 64.67\n",
      "Epoch: 53 \tTrain Loss: 0.43554653377234936  | Test Loss: 1.2716716420650482  | Test Acc.: 64.68\n",
      "Epoch: 54 \tTrain Loss: 0.42821536747813227  | Test Loss: 1.286119067788124  | Test Acc.: 64.68\n",
      "Epoch: 55 \tTrain Loss: 0.4208169715508819  | Test Loss: 1.2990415813922882  | Test Acc.: 64.72\n",
      "Epoch: 56 \tTrain Loss: 0.41359341116398574  | Test Loss: 1.3149354049563409  | Test Acc.: 64.6\n",
      "Epoch: 57 \tTrain Loss: 0.4063692198574543  | Test Loss: 1.330860352575779  | Test Acc.: 64.57\n",
      "Epoch: 58 \tTrain Loss: 0.39937774661630393  | Test Loss: 1.3469745951294898  | Test Acc.: 64.41\n",
      "Epoch: 59 \tTrain Loss: 0.3921468743830919  | Test Loss: 1.3625573155879975  | Test Acc.: 64.34\n",
      "Epoch: 60 \tTrain Loss: 0.3851180122882128  | Test Loss: 1.3781584891080856  | Test Acc.: 64.32\n",
      "Epoch: 61 \tTrain Loss: 0.37824551451206206  | Test Loss: 1.395215945661068  | Test Acc.: 64.16\n",
      "Epoch: 62 \tTrain Loss: 0.37137740121856333  | Test Loss: 1.4145138474702834  | Test Acc.: 63.92\n",
      "Epoch: 63 \tTrain Loss: 0.36457385391145947  | Test Loss: 1.4308224349617957  | Test Acc.: 63.85\n",
      "Epoch: 64 \tTrain Loss: 0.35788759585618973  | Test Loss: 1.4479441601634027  | Test Acc.: 63.7\n",
      "Epoch: 65 \tTrain Loss: 0.35123235647678375  | Test Loss: 1.4675057045817375  | Test Acc.: 63.72\n",
      "Epoch: 66 \tTrain Loss: 0.34467062833011153  | Test Loss: 1.4860620218515397  | Test Acc.: 63.63\n",
      "Epoch: 67 \tTrain Loss: 0.33817730103209614  | Test Loss: 1.5079662974476815  | Test Acc.: 63.6\n",
      "Epoch: 68 \tTrain Loss: 0.3318510925374925  | Test Loss: 1.525114492893219  | Test Acc.: 63.64\n",
      "Epoch: 69 \tTrain Loss: 0.32540364927947524  | Test Loss: 1.5470735185146332  | Test Acc.: 63.53\n",
      "Epoch: 70 \tTrain Loss: 0.318983437679708  | Test Loss: 1.5655441839694977  | Test Acc.: 63.3\n",
      "Epoch: 71 \tTrain Loss: 0.312863682153821  | Test Loss: 1.5857513488531112  | Test Acc.: 63.32\n",
      "Epoch: 72 \tTrain Loss: 0.30662967811226843  | Test Loss: 1.6078669234514236  | Test Acc.: 63.35\n",
      "Epoch: 73 \tTrain Loss: 0.3007327212646604  | Test Loss: 1.6290833613872528  | Test Acc.: 63.37\n",
      "Epoch: 74 \tTrain Loss: 0.29458338364884257  | Test Loss: 1.6491995840668678  | Test Acc.: 63.22\n",
      "Epoch: 75 \tTrain Loss: 0.2887915330849588  | Test Loss: 1.671342021048069  | Test Acc.: 63.13\n",
      "Epoch: 76 \tTrain Loss: 0.28295658028796317  | Test Loss: 1.694475284576416  | Test Acc.: 63.14\n",
      "Epoch: 77 \tTrain Loss: 0.27690384939573703  | Test Loss: 1.7176837373971938  | Test Acc.: 63.04\n",
      "Epoch: 78 \tTrain Loss: 0.27123748825117944  | Test Loss: 1.739377945959568  | Test Acc.: 63.03\n",
      "Epoch: 79 \tTrain Loss: 0.26583548402413726  | Test Loss: 1.7638672048449515  | Test Acc.: 62.96\n",
      "Epoch: 80 \tTrain Loss: 0.26000033215656876  | Test Loss: 1.7877396475672722  | Test Acc.: 62.9\n",
      "Epoch: 81 \tTrain Loss: 0.2544878753431141  | Test Loss: 1.8095075855851173  | Test Acc.: 62.73\n",
      "Epoch: 82 \tTrain Loss: 0.2489610546961427  | Test Loss: 1.8348015231490136  | Test Acc.: 62.95\n",
      "Epoch: 83 \tTrain Loss: 0.24371567421481014  | Test Loss: 1.8567345257997512  | Test Acc.: 62.92\n",
      "Epoch: 84 \tTrain Loss: 0.238436575704813  | Test Loss: 1.885776588320732  | Test Acc.: 62.9\n",
      "Epoch: 85 \tTrain Loss: 0.233116405171901  | Test Loss: 1.9065941416025163  | Test Acc.: 62.89\n",
      "Epoch: 86 \tTrain Loss: 0.22766000990197063  | Test Loss: 1.934737310528755  | Test Acc.: 62.93\n",
      "Epoch: 87 \tTrain Loss: 0.22265981108918786  | Test Loss: 1.9572670805454253  | Test Acc.: 62.9\n",
      "Epoch: 88 \tTrain Loss: 0.21752651958465577  | Test Loss: 1.9821610869765283  | Test Acc.: 62.93\n",
      "Epoch: 89 \tTrain Loss: 0.21233995011113585  | Test Loss: 2.0096553263664245  | Test Acc.: 62.89\n",
      "Epoch: 90 \tTrain Loss: 0.20752322448007762  | Test Loss: 2.0369826308488848  | Test Acc.: 62.8\n",
      "Epoch: 91 \tTrain Loss: 0.2027292839601636  | Test Loss: 2.06263725143671  | Test Acc.: 62.75\n",
      "Epoch: 92 \tTrain Loss: 0.19791660806685685  | Test Loss: 2.0911254613399506  | Test Acc.: 62.67\n",
      "Epoch: 93 \tTrain Loss: 0.19302421991862356  | Test Loss: 2.120089913725853  | Test Acc.: 62.6\n",
      "Epoch: 94 \tTrain Loss: 0.18856518404334782  | Test Loss: 2.147066716969013  | Test Acc.: 62.54\n",
      "Epoch: 95 \tTrain Loss: 0.1839674955451861  | Test Loss: 2.175107874929905  | Test Acc.: 62.56\n",
      "Epoch: 96 \tTrain Loss: 0.17930246310383083  | Test Loss: 2.2074821259975432  | Test Acc.: 62.4\n",
      "Epoch: 97 \tTrain Loss: 0.1750554670650512  | Test Loss: 2.240315684914589  | Test Acc.: 62.42\n",
      "Epoch: 98 \tTrain Loss: 0.17049173512607813  | Test Loss: 2.270654892206192  | Test Acc.: 62.33\n",
      "Epoch: 99 \tTrain Loss: 0.1660627061719075  | Test Loss: 2.3016691385507584  | Test Acc.: 62.16\n",
      "Epoch: 100 \tTrain Loss: 0.1620273899892345  | Test Loss: 2.331060555100441  | Test Acc.: 62.12\n"
     ]
    }
   ],
   "source": [
    "train_loss_plt, valid_loss_plt = [], []\n",
    "test_accuracy_plt = []\n",
    "test_loss_plt = []\n",
    "n_epochs = 100\n",
    "for epoch in range(n_epochs):\n",
    "    train_loss, test_loss = 0, 0\n",
    "    model.train()\n",
    "    for images, labels in train_loader:\n",
    "        images, labels = images.to(device), labels.to(device)\n",
    "\n",
    "        optimizer.zero_grad()\n",
    "        output = model(images)\n",
    "        loss = CE(output, labels)\n",
    "        loss.backward()\n",
    "        optimizer.step()\n",
    "        \n",
    "        train_loss += loss.item() * images.size(0)\n",
    "\n",
    "    train_loss = train_loss / len(train_loader.dataset)\n",
    "    train_loss_plt.append(train_loss)\n",
    "\n",
    "    class_correct = list(0. for i in range(10))\n",
    "    class_total = list(0. for i in range(10))\n",
    "    model.eval()\n",
    "    with torch.no_grad():\n",
    "        for data, target in test_loader:\n",
    "            data, target = data.cuda(), target.cuda()\n",
    "            output = model(data)\n",
    "            loss = CE(output, target)\n",
    "\n",
    "            test_loss += loss.item() * data.size(0)\n",
    "            _, pred = torch.max(output, 1)\n",
    "            correct = np.squeeze(pred.eq(target.data.view_as(pred)))\n",
    "            for i in range(len(target)):\n",
    "                label = target.data[i]\n",
    "                class_correct[label] += correct[i].item()\n",
    "                class_total[label] += 1\n",
    "\n",
    "    test_loss = test_loss / len(test_loader.dataset)\n",
    "    test_loss_plt.append(test_loss)\n",
    "    \n",
    "    test_accuracy = 100. * np.sum(class_correct) / np.sum(class_total)\n",
    "    test_accuracy_plt.append(test_accuracy)\n",
    "\n",
    "    print('Epoch:', (epoch + 1), '\\tTrain Loss:', train_loss,' | Test Loss:', test_loss,' | Test Acc.:',test_accuracy)"
   ]
  },
  {
   "cell_type": "markdown",
   "metadata": {
    "colab_type": "text",
    "id": "lhVSKbxWVT9T"
   },
   "source": [
    "### Saving"
   ]
  },
  {
   "cell_type": "code",
   "execution_count": 0,
   "metadata": {
    "colab": {},
    "colab_type": "code",
    "id": "wm5QvSLiVT9U"
   },
   "outputs": [],
   "source": [
    "joblib.dump(train_loss_plt, 'train_loss_plt_q2_relu.sav')\n",
    "joblib.dump(test_loss_plt, 'test_loss_plt_q2_relu.sav')\n",
    "joblib.dump(test_accuracy_plt, 'test_accuracy_plt_q2_relu.sav')\n",
    "torch.save(model.state_dict(), \"model_q2_relu.pt\")"
   ]
  },
  {
   "cell_type": "code",
   "execution_count": 6,
   "metadata": {
    "colab": {
     "base_uri": "https://localhost:8080/",
     "height": 282
    },
    "colab_type": "code",
    "id": "uCcZ0RWuVT9V",
    "outputId": "39fc1ad3-0f53-4570-d0c9-e198d4f7e064"
   },
   "outputs": [
    {
     "data": {
      "text/plain": [
       "[<matplotlib.lines.Line2D at 0x7fa4c4d98d68>]"
      ]
     },
     "execution_count": 6,
     "metadata": {
      "tags": []
     },
     "output_type": "execute_result"
    },
    {
     "data": {
      "image/png": "[encoded data removed]",
      "text/plain": [
       "<Figure size 432x288 with 1 Axes>"
      ]
     },
     "metadata": {
      "tags": []
     },
     "output_type": "display_data"
    }
   ],
   "source": [
    "plt.plot(np.arange(len(train_loss_plt)),train_loss_plt)"
   ]
  },
  {
   "cell_type": "code",
   "execution_count": 9,
   "metadata": {
    "colab": {
     "base_uri": "https://localhost:8080/",
     "height": 282
    },
    "colab_type": "code",
    "id": "V4clRFDX4Ee6",
    "outputId": "c3d87bed-31f5-4a36-bdee-05e6bf083d38"
   },
   "outputs": [
    {
     "data": {
      "text/plain": [
       "[<matplotlib.lines.Line2D at 0x7fa4bc0f3470>]"
      ]
     },
     "execution_count": 9,
     "metadata": {
      "tags": []
     },
     "output_type": "execute_result"
    },
    {
     "data": {
      "image/png": "[encoded data removed]",
      "text/plain": [
       "<Figure size 432x288 with 1 Axes>"
      ]
     },
     "metadata": {
      "tags": []
     },
     "output_type": "display_data"
    }
   ],
   "source": [
    "plt.plot(np.arange(len(test_loss_plt)),test_loss_plt)"
   ]
  },
  {
   "cell_type": "code",
   "execution_count": 10,
   "metadata": {
    "colab": {
     "base_uri": "https://localhost:8080/",
     "height": 282
    },
    "colab_type": "code",
    "id": "YaOTD5OjVT9Y",
    "outputId": "8f876dd2-d23a-43ef-cfdc-0f5a16551c45"
   },
   "outputs": [
    {
     "data": {
      "text/plain": [
       "[<matplotlib.lines.Line2D at 0x7fa4bc0cff28>]"
      ]
     },
     "execution_count": 10,
     "metadata": {
      "tags": []
     },
     "output_type": "execute_result"
    },
    {
     "data": {
      "image/png": "[encoded data removed]",
      "text/plain": [
       "<Figure size 432x288 with 1 Axes>"
      ]
     },
     "metadata": {
      "tags": []
     },
     "output_type": "display_data"
    }
   ],
   "source": [
    "plt.plot(np.arange(len(test_accuracy_plt)),test_accuracy_plt)"
   ]
  },
  {
   "cell_type": "code",
   "execution_count": 0,
   "metadata": {
    "colab": {},
    "colab_type": "code",
    "id": "r8VgBC2hRQPt"
   },
   "outputs": [],
   "source": []
  },
  {
   "cell_type": "code",
   "execution_count": 2,
   "metadata": {},
   "outputs": [
    {
     "data": {
      "image/png": "[encoded data removed]",
      "text/plain": [
       "<Figure size 432x288 with 1 Axes>"
      ]
     },
     "metadata": {
      "needs_background": "light"
     },
     "output_type": "display_data"
    },
    {
     "data": {
      "image/png": "[encoded data removed]",
      "text/plain": [
       "<Figure size 432x288 with 1 Axes>"
      ]
     },
     "metadata": {
      "needs_background": "light"
     },
     "output_type": "display_data"
    },
    {
     "data": {
      "image/png": "[encoded data removed]",
      "text/plain": [
       "<Figure size 432x288 with 1 Axes>"
      ]
     },
     "metadata": {
      "needs_background": "light"
     },
     "output_type": "display_data"
    }
   ],
   "source": [
    "import joblib\n",
    "import matplotlib.pyplot as plt\n",
    "import numpy as np\n",
    "\n",
    "train_loss_plt = joblib.load('train_loss_plt_q2_relu.sav')\n",
    "test_loss_plt = joblib.load('test_loss_plt_q2_relu.sav')\n",
    "test_accuracy_plt = joblib.load('test_accuracy_plt_q2_relu.sav')\n",
    "\n",
    "plt.title('ReLU without dropout Train loss')\n",
    "plt.plot(np.arange(len(train_loss_plt)),train_loss_plt,label = 'Train Loss')\n",
    "plt.xlabel('Epochs')\n",
    "plt.ylabel('Loss')\n",
    "plt.legend()\n",
    "plt.show()\n",
    "\n",
    "plt.title('ReLU without dropout Test Loss')\n",
    "plt.plot(np.arange(len(test_loss_plt)),test_loss_plt,color='r',label = 'Test Loss')\n",
    "plt.xlabel('Epochs')\n",
    "plt.ylabel('Loss')\n",
    "plt.legend()\n",
    "plt.show()\n",
    "\n",
    "plt.title('ReLU without dropout Test Accuracy')\n",
    "plt.plot(np.arange(len(test_accuracy_plt)),test_accuracy_plt,color='g',label = 'Test Accuracy')\n",
    "plt.xlabel('Epochs')\n",
    "plt.ylabel('Accuracy')\n",
    "plt.legend()\n",
    "plt.show()"
   ]
  },
  {
   "cell_type": "code",
   "execution_count": null,
   "metadata": {},
   "outputs": [],
   "source": []
  }
 ],
 "metadata": {
  "accelerator": "GPU",
  "colab": {
   "collapsed_sections": [],
   "name": "AML_A4_Q2_relu.ipynb",
   "provenance": [],
   "toc_visible": true
  },
  "kernelspec": {
   "display_name": "Python 3",
   "language": "python",
   "name": "python3"
  },
  "language_info": {
   "codemirror_mode": {
    "name": "ipython",
    "version": 3
   },
   "file_extension": ".py",
   "mimetype": "text/x-python",
   "name": "python",
   "nbconvert_exporter": "python",
   "pygments_lexer": "ipython3",
   "version": "3.7.1"
  }
 },
 "nbformat": 4,
 "nbformat_minor": 1
}
