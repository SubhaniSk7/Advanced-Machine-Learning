{
 "cells": [
  {
   "cell_type": "code",
   "execution_count": 1,
   "metadata": {
    "colab": {},
    "colab_type": "code",
    "id": "ZShQLuGyVT9K"
   },
   "outputs": [],
   "source": [
    "import torch\n",
    "from torchvision import datasets, transforms\n",
    "import torch.nn as nn\n",
    "import torch.nn.functional as F\n",
    "import torch.optim as optim\n",
    "from torch.utils.data import DataLoader\n",
    "import matplotlib.pyplot as plt\n",
    "import numpy as np\n",
    "import joblib\n",
    "from torch.autograd import Variable"
   ]
  },
  {
   "cell_type": "markdown",
   "metadata": {
    "colab_type": "text",
    "id": "mVUE3Y4HVT9M"
   },
   "source": [
    "### Data loading"
   ]
  },
  {
   "cell_type": "code",
   "execution_count": 66,
   "metadata": {
    "colab": {
     "base_uri": "https://localhost:8080/",
     "height": 87
    },
    "colab_type": "code",
    "id": "EAf9gYX8VT9N",
    "outputId": "d02b95ba-acb5-4b3c-e172-275e25c94cfd"
   },
   "outputs": [],
   "source": [
    "# # path = \"./Datasets/STL10_data/\"\n",
    "\n",
    "# device = 'cuda'\n",
    "# num_workers = 0\n",
    "# batch_size = 64\n",
    "\n",
    "# transform = transforms.Compose([transforms.ToTensor(),\n",
    "#                                 transforms.Resize(32),\n",
    "#                                 transforms.Normalize((0.5, 0.5, 0.5), (0.5, 0.5, 0.5))])\n",
    "\n",
    "# train_data = datasets.ImageFolder(path, split='train', download=True, transform=transform)\n",
    "# test_data = datasets.ImageFolder(path, split='test', download=True, transform=transform)\n",
    "\n",
    "# train_loader = DataLoader(train_data, batch_size=batch_size, num_workers=num_workers)\n",
    "# test_loader = DataLoader(test_data, batch_size=batch_size, num_workers=num_workers)\n",
    "# # classes = [\"plane\", \"car\", \"bird\", \"cat\", \"deer\", \"dog\", \"frog\", \"horse\", \"ship\", \"truck\"]"
   ]
  },
  {
   "cell_type": "markdown",
   "metadata": {
    "colab_type": "text",
    "id": "rC3AVpplVT9P"
   },
   "source": [
    "### Network"
   ]
  },
  {
   "cell_type": "code",
   "execution_count": 0,
   "metadata": {
    "colab": {},
    "colab_type": "code",
    "id": "A0LpB7EhVT9Q"
   },
   "outputs": [],
   "source": [
    "device='cuda'\n",
    "class Architecture(nn.Module):\n",
    "\n",
    "    def __init__(self):\n",
    "        super(Architecture, self).__init__()\n",
    "\n",
    "        self.b_1 = nn.Sequential(nn.Conv2d(3, 16, kernel_size=3, padding=1),\n",
    "                                nn.BatchNorm2d(16),\n",
    "                                nn.ReLU())\n",
    "        \n",
    "        self.b_2 = nn.Sequential(nn.Conv2d(16, 32, kernel_size=3, padding=1),\n",
    "                                nn.BatchNorm2d(32),\n",
    "                                nn.ReLU())\n",
    "        \n",
    "        self.b_3 = nn.Sequential(nn.Conv2d(32, 32, kernel_size=3, padding=1),\n",
    "                                nn.BatchNorm2d(32),\n",
    "                                nn.ReLU())\n",
    "        \n",
    "        self.b_4 = nn.Sequential(nn.Conv2d(32, 16, kernel_size=3, padding=1),\n",
    "                                nn.BatchNorm2d(16),\n",
    "                                nn.ReLU())\n",
    "        \n",
    "        self.b_5 = nn.Sequential(nn.Conv2d(16, 3, kernel_size=3, padding=1),\n",
    "                                nn.BatchNorm2d(3),\n",
    "                                nn.ReLU())\n",
    "        \n",
    "        self.b_6 = nn.Sequential(nn.Conv2d(16, 3, kernel_size=3, padding=1),\n",
    "                                nn.BatchNorm2d(3),\n",
    "                                nn.ReLU())\n",
    "        \n",
    "        self.pool = nn.MaxPool2d(2)\n",
    "\n",
    "        self.fc_1 = nn.Linear(3 * 3 * 3, 256)\n",
    "        self.fc_2 = nn.Linear(256, 10)\n",
    "\n",
    "        self.relu = nn.ReLU()\n",
    "\n",
    "    def forward(self, x):\n",
    "        x = self.pool(self.b_1(x))\n",
    "        x = self.pool(self.b_2(x))\n",
    "        x = self.pool(self.b_3(x))\n",
    "        x = self.pool(self.b_4(x))\n",
    "        x = self.pool(self.b_5(x))\n",
    "        # print(x.shape)\n",
    "        \n",
    "        x = x.view(-1, 3 * 3 * 3)\n",
    "        x = self.relu(self.fc_1(x))\n",
    "        # x = self.relu(self.fc_2(x))\n",
    "        x = self.fc_2(x)\n",
    "        return x\n",
    "\n",
    "model = Architecture()\n",
    "\n",
    "model.to(device)\n",
    "\n",
    "CE = nn.CrossEntropyLoss()\n",
    "MSE = nn.MSELoss()\n",
    "\n",
    "optimizer = optim.Adagrad(model.parameters(), lr=0.02)"
   ]
  },
  {
   "cell_type": "code",
   "execution_count": 4,
   "metadata": {
    "colab": {
     "base_uri": "https://localhost:8080/",
     "height": 1000
    },
    "colab_type": "code",
    "id": "mm7LDkMrVT9S",
    "outputId": "f112e6e3-3dd5-464a-c647-d2b848d6a264"
   },
   "outputs": [
    {
     "name": "stdout",
     "output_type": "stream",
     "text": [
      "Epoch: 1 \tTrain Loss: 1.8086565174102782  | Test Loss: 2.3226070861816406  | Test Acc.: 19.6125\n",
      "Epoch: 2 \tTrain Loss: 1.5016193799972535  | Test Loss: 1.7238526096343993  | Test Acc.: 36.1125\n",
      "Epoch: 3 \tTrain Loss: 1.3793713581085205  | Test Loss: 1.6932674207687377  | Test Acc.: 35.9625\n",
      "Epoch: 4 \tTrain Loss: 1.282940235710144  | Test Loss: 1.6226443567276  | Test Acc.: 39.75\n",
      "Epoch: 5 \tTrain Loss: 1.1952031269073486  | Test Loss: 1.5871611633300782  | Test Acc.: 41.55\n",
      "Epoch: 6 \tTrain Loss: 1.115401309299469  | Test Loss: 1.5758110513687134  | Test Acc.: 43.1125\n",
      "Epoch: 7 \tTrain Loss: 1.0480306540489197  | Test Loss: 1.4991032104492188  | Test Acc.: 46.0125\n",
      "Epoch: 8 \tTrain Loss: 0.9887364628791809  | Test Loss: 1.4931340684890748  | Test Acc.: 46.5625\n",
      "Epoch: 9 \tTrain Loss: 0.930844390630722  | Test Loss: 1.5940500059127807  | Test Acc.: 45.4125\n",
      "Epoch: 10 \tTrain Loss: 0.8748273243427277  | Test Loss: 1.4239349327087403  | Test Acc.: 50.1\n",
      "Epoch: 11 \tTrain Loss: 0.8247652596712113  | Test Loss: 1.3999517674446107  | Test Acc.: 51.2875\n",
      "Epoch: 12 \tTrain Loss: 0.7750796581745147  | Test Loss: 1.3780630493164063  | Test Acc.: 52.55\n",
      "Epoch: 13 \tTrain Loss: 0.7285922055721283  | Test Loss: 1.5159831018447876  | Test Acc.: 50.3125\n",
      "Epoch: 14 \tTrain Loss: 0.6792570158481598  | Test Loss: 1.4945082039833069  | Test Acc.: 51.4625\n",
      "Epoch: 15 \tTrain Loss: 0.6414881514072418  | Test Loss: 1.5434476761817932  | Test Acc.: 50.9125\n",
      "Epoch: 16 \tTrain Loss: 0.5957014120578766  | Test Loss: 1.5333750624656677  | Test Acc.: 52.0125\n",
      "Epoch: 17 \tTrain Loss: 0.5548391203403473  | Test Loss: 1.6089168481826783  | Test Acc.: 51.1\n",
      "Epoch: 18 \tTrain Loss: 0.5185521463871002  | Test Loss: 1.6297516570091248  | Test Acc.: 51.5125\n",
      "Epoch: 19 \tTrain Loss: 0.4779649582386017  | Test Loss: 1.6532035155296325  | Test Acc.: 51.7125\n",
      "Epoch: 20 \tTrain Loss: 0.4436705776691437  | Test Loss: 1.7160218477249145  | Test Acc.: 51.4\n",
      "Epoch: 21 \tTrain Loss: 0.4105723994731903  | Test Loss: 1.7685488615036011  | Test Acc.: 51.55\n",
      "Epoch: 22 \tTrain Loss: 0.37862806544303895  | Test Loss: 1.870796106338501  | Test Acc.: 50.9625\n",
      "Epoch: 23 \tTrain Loss: 0.3469002953529358  | Test Loss: 1.9646374616622926  | Test Acc.: 50.3\n",
      "Epoch: 24 \tTrain Loss: 0.317752632856369  | Test Loss: 2.013960711479187  | Test Acc.: 50.6625\n",
      "Epoch: 25 \tTrain Loss: 0.29498471817970273  | Test Loss: 2.0643824739456176  | Test Acc.: 50.8875\n",
      "Epoch: 26 \tTrain Loss: 0.26560571455955506  | Test Loss: 2.1569830961227416  | Test Acc.: 50.7\n",
      "Epoch: 27 \tTrain Loss: 0.2375800594329834  | Test Loss: 2.1876350326538088  | Test Acc.: 50.7375\n",
      "Epoch: 28 \tTrain Loss: 0.21677107629776002  | Test Loss: 2.285991361618042  | Test Acc.: 50.275\n",
      "Epoch: 29 \tTrain Loss: 0.1933824223995209  | Test Loss: 2.3589890613555906  | Test Acc.: 50.825\n",
      "Epoch: 30 \tTrain Loss: 0.17188590841293336  | Test Loss: 2.4180967903137205  | Test Acc.: 50.275\n",
      "Epoch: 31 \tTrain Loss: 0.15567409133911134  | Test Loss: 2.487190809249878  | Test Acc.: 50.325\n",
      "Epoch: 32 \tTrain Loss: 0.134933371257782  | Test Loss: 2.5425908575057985  | Test Acc.: 50.425\n",
      "Epoch: 33 \tTrain Loss: 0.1181731451511383  | Test Loss: 2.614185432434082  | Test Acc.: 50.6125\n",
      "Epoch: 34 \tTrain Loss: 0.10489969563484192  | Test Loss: 2.6798506479263304  | Test Acc.: 50.675\n",
      "Epoch: 35 \tTrain Loss: 0.09482812418937683  | Test Loss: 2.816749032974243  | Test Acc.: 49.75\n",
      "Epoch: 36 \tTrain Loss: 0.08055362606048584  | Test Loss: 2.85000931930542  | Test Acc.: 50.1875\n",
      "Epoch: 37 \tTrain Loss: 0.07083569712638856  | Test Loss: 2.9177803573608396  | Test Acc.: 49.975\n",
      "Epoch: 38 \tTrain Loss: 0.062353388953208924  | Test Loss: 3.0106722898483276  | Test Acc.: 49.8\n",
      "Epoch: 39 \tTrain Loss: 0.05464055032730102  | Test Loss: 3.0370797510147094  | Test Acc.: 50.075\n",
      "Epoch: 40 \tTrain Loss: 0.04836224291324615  | Test Loss: 3.126858727455139  | Test Acc.: 49.925\n",
      "Epoch: 41 \tTrain Loss: 0.04320132930278778  | Test Loss: 3.1544309730529787  | Test Acc.: 50.1625\n",
      "Epoch: 42 \tTrain Loss: 0.03782075412273407  | Test Loss: 3.23148445892334  | Test Acc.: 50.1\n",
      "Epoch: 43 \tTrain Loss: 0.03407565889358521  | Test Loss: 3.257044876098633  | Test Acc.: 50.225\n",
      "Epoch: 44 \tTrain Loss: 0.03051449694633484  | Test Loss: 3.3331416149139406  | Test Acc.: 50.075\n",
      "Epoch: 45 \tTrain Loss: 0.02774808819293976  | Test Loss: 3.3661811389923098  | Test Acc.: 50.0125\n",
      "Epoch: 46 \tTrain Loss: 0.02526419060230255  | Test Loss: 3.414348340988159  | Test Acc.: 50.025\n",
      "Epoch: 47 \tTrain Loss: 0.02286332983970642  | Test Loss: 3.4420926399230956  | Test Acc.: 50.1125\n",
      "Epoch: 48 \tTrain Loss: 0.021143944597244262  | Test Loss: 3.480501667022705  | Test Acc.: 50.2625\n",
      "Epoch: 49 \tTrain Loss: 0.01945568346977234  | Test Loss: 3.5229605827331545  | Test Acc.: 50.3125\n",
      "Epoch: 50 \tTrain Loss: 0.0179440105676651  | Test Loss: 3.554928316116333  | Test Acc.: 50.3625\n",
      "Epoch: 51 \tTrain Loss: 0.016644231355190275  | Test Loss: 3.5900774574279786  | Test Acc.: 50.4\n",
      "Epoch: 52 \tTrain Loss: 0.015545100963115692  | Test Loss: 3.629452672958374  | Test Acc.: 50.3375\n",
      "Epoch: 53 \tTrain Loss: 0.014426082158088684  | Test Loss: 3.6555247955322265  | Test Acc.: 50.4875\n",
      "Epoch: 54 \tTrain Loss: 0.013521968531608582  | Test Loss: 3.689738082885742  | Test Acc.: 50.4375\n",
      "Epoch: 55 \tTrain Loss: 0.012715590977668762  | Test Loss: 3.721875629425049  | Test Acc.: 50.425\n",
      "Epoch: 56 \tTrain Loss: 0.011919680750370025  | Test Loss: 3.751130702972412  | Test Acc.: 50.45\n",
      "Epoch: 57 \tTrain Loss: 0.01127123727798462  | Test Loss: 3.777175146102905  | Test Acc.: 50.6625\n",
      "Epoch: 58 \tTrain Loss: 0.010576335859298706  | Test Loss: 3.8071590976715086  | Test Acc.: 50.525\n",
      "Epoch: 59 \tTrain Loss: 0.010020060682296753  | Test Loss: 3.8318663845062257  | Test Acc.: 50.475\n",
      "Epoch: 60 \tTrain Loss: 0.009493062603473663  | Test Loss: 3.8545531673431395  | Test Acc.: 50.575\n",
      "Epoch: 61 \tTrain Loss: 0.008995302188396453  | Test Loss: 3.8795265254974365  | Test Acc.: 50.3375\n",
      "Epoch: 62 \tTrain Loss: 0.0085504350066185  | Test Loss: 3.9058994998931884  | Test Acc.: 50.375\n",
      "Epoch: 63 \tTrain Loss: 0.00814287749528885  | Test Loss: 3.925296998977661  | Test Acc.: 50.35\n",
      "Epoch: 64 \tTrain Loss: 0.0077795374751091  | Test Loss: 3.9467425861358643  | Test Acc.: 50.3125\n",
      "Epoch: 65 \tTrain Loss: 0.007413085329532623  | Test Loss: 3.965567768096924  | Test Acc.: 50.2625\n",
      "Epoch: 66 \tTrain Loss: 0.007091722249984741  | Test Loss: 3.986329677581787  | Test Acc.: 50.15\n",
      "Epoch: 67 \tTrain Loss: 0.006775369733572006  | Test Loss: 4.0056238327026366  | Test Acc.: 50.175\n",
      "Epoch: 68 \tTrain Loss: 0.006460778540372848  | Test Loss: 4.027308353424072  | Test Acc.: 50.2\n",
      "Epoch: 69 \tTrain Loss: 0.006197927969694137  | Test Loss: 4.047075407028198  | Test Acc.: 50.3375\n",
      "Epoch: 70 \tTrain Loss: 0.005920040583610535  | Test Loss: 4.064849626541138  | Test Acc.: 50.325\n",
      "Epoch: 71 \tTrain Loss: 0.0056922321200370786  | Test Loss: 4.081545989990234  | Test Acc.: 50.3875\n",
      "Epoch: 72 \tTrain Loss: 0.005456655657291413  | Test Loss: 4.097416303634644  | Test Acc.: 50.4\n",
      "Epoch: 73 \tTrain Loss: 0.00524717983007431  | Test Loss: 4.114933767318726  | Test Acc.: 50.3875\n",
      "Epoch: 74 \tTrain Loss: 0.005055750262737274  | Test Loss: 4.128688348770142  | Test Acc.: 50.325\n",
      "Epoch: 75 \tTrain Loss: 0.004864545017480851  | Test Loss: 4.14551669883728  | Test Acc.: 50.3375\n",
      "Epoch: 76 \tTrain Loss: 0.0046869530320167545  | Test Loss: 4.16072975730896  | Test Acc.: 50.2875\n",
      "Epoch: 77 \tTrain Loss: 0.0045146774053573605  | Test Loss: 4.17717134475708  | Test Acc.: 50.3375\n",
      "Epoch: 78 \tTrain Loss: 0.004347017419338226  | Test Loss: 4.190726985931397  | Test Acc.: 50.4\n",
      "Epoch: 79 \tTrain Loss: 0.004199967288970948  | Test Loss: 4.204399166107177  | Test Acc.: 50.375\n",
      "Epoch: 80 \tTrain Loss: 0.004049542212486267  | Test Loss: 4.2193753547668456  | Test Acc.: 50.375\n",
      "Epoch: 81 \tTrain Loss: 0.003915358060598373  | Test Loss: 4.232433820724487  | Test Acc.: 50.425\n",
      "Epoch: 82 \tTrain Loss: 0.0037837105423212053  | Test Loss: 4.246616367340088  | Test Acc.: 50.4375\n",
      "Epoch: 83 \tTrain Loss: 0.0036580558955669404  | Test Loss: 4.258052583694458  | Test Acc.: 50.5\n",
      "Epoch: 84 \tTrain Loss: 0.0035348509401082993  | Test Loss: 4.270929040908814  | Test Acc.: 50.5\n",
      "Epoch: 85 \tTrain Loss: 0.0034212792843580247  | Test Loss: 4.284709959030152  | Test Acc.: 50.4125\n",
      "Epoch: 86 \tTrain Loss: 0.003308477905392647  | Test Loss: 4.295298482894897  | Test Acc.: 50.4375\n",
      "Epoch: 87 \tTrain Loss: 0.0032014481604099275  | Test Loss: 4.307417043685913  | Test Acc.: 50.4875\n",
      "Epoch: 88 \tTrain Loss: 0.0030989367455244066  | Test Loss: 4.319746124267578  | Test Acc.: 50.4375\n",
      "Epoch: 89 \tTrain Loss: 0.0030070521503686907  | Test Loss: 4.332226404190063  | Test Acc.: 50.425\n",
      "Epoch: 90 \tTrain Loss: 0.002917963618040085  | Test Loss: 4.34285490989685  | Test Acc.: 50.4125\n",
      "Epoch: 91 \tTrain Loss: 0.0028300692081451415  | Test Loss: 4.354238147735596  | Test Acc.: 50.45\n",
      "Epoch: 92 \tTrain Loss: 0.002750582391023636  | Test Loss: 4.366286666870117  | Test Acc.: 50.4125\n",
      "Epoch: 93 \tTrain Loss: 0.002668265736103058  | Test Loss: 4.375040702819824  | Test Acc.: 50.425\n",
      "Epoch: 94 \tTrain Loss: 0.002596957468986511  | Test Loss: 4.386742942810058  | Test Acc.: 50.425\n",
      "Epoch: 95 \tTrain Loss: 0.002520338761806488  | Test Loss: 4.396826852798462  | Test Acc.: 50.4875\n",
      "Epoch: 96 \tTrain Loss: 0.002453391420841217  | Test Loss: 4.4070899829864505  | Test Acc.: 50.375\n",
      "Epoch: 97 \tTrain Loss: 0.0023835685968399047  | Test Loss: 4.416782848358154  | Test Acc.: 50.4625\n",
      "Epoch: 98 \tTrain Loss: 0.002322836697101593  | Test Loss: 4.426646385192871  | Test Acc.: 50.475\n",
      "Epoch: 99 \tTrain Loss: 0.0022597849905490876  | Test Loss: 4.436195606231689  | Test Acc.: 50.4875\n",
      "Epoch: 100 \tTrain Loss: 0.0022011671781539915  | Test Loss: 4.4455888671875  | Test Acc.: 50.5\n",
      "Epoch: 101 \tTrain Loss: 0.00214939124584198  | Test Loss: 4.455031547546387  | Test Acc.: 50.475\n",
      "Epoch: 102 \tTrain Loss: 0.0020923894941806795  | Test Loss: 4.4654839553833  | Test Acc.: 50.4875\n",
      "Epoch: 103 \tTrain Loss: 0.0020411066710948945  | Test Loss: 4.474907611846924  | Test Acc.: 50.5125\n",
      "Epoch: 104 \tTrain Loss: 0.001992559939622879  | Test Loss: 4.483374805450439  | Test Acc.: 50.4875\n",
      "Epoch: 105 \tTrain Loss: 0.0019446675896644592  | Test Loss: 4.492377645492554  | Test Acc.: 50.5125\n",
      "Epoch: 106 \tTrain Loss: 0.0019006127417087555  | Test Loss: 4.501834335327149  | Test Acc.: 50.5125\n",
      "Epoch: 107 \tTrain Loss: 0.0018584844410419463  | Test Loss: 4.509616386413574  | Test Acc.: 50.5375\n",
      "Epoch: 108 \tTrain Loss: 0.0018150883853435516  | Test Loss: 4.519641263961792  | Test Acc.: 50.525\n",
      "Epoch: 109 \tTrain Loss: 0.0017759316265583038  | Test Loss: 4.527498142242432  | Test Acc.: 50.5375\n",
      "Epoch: 110 \tTrain Loss: 0.0017380508720874787  | Test Loss: 4.536182577133179  | Test Acc.: 50.575\n",
      "Epoch: 111 \tTrain Loss: 0.001700276082754135  | Test Loss: 4.544518981933594  | Test Acc.: 50.5625\n",
      "Epoch: 112 \tTrain Loss: 0.0016643643260002136  | Test Loss: 4.552657234191894  | Test Acc.: 50.5625\n",
      "Epoch: 113 \tTrain Loss: 0.0016296273529529573  | Test Loss: 4.560242841720581  | Test Acc.: 50.6\n",
      "Epoch: 114 \tTrain Loss: 0.0015974784791469574  | Test Loss: 4.567926219940185  | Test Acc.: 50.5875\n",
      "Epoch: 115 \tTrain Loss: 0.001565299379825592  | Test Loss: 4.576389568328858  | Test Acc.: 50.5875\n",
      "Epoch: 116 \tTrain Loss: 0.001534623372554779  | Test Loss: 4.584221748352051  | Test Acc.: 50.55\n",
      "Epoch: 117 \tTrain Loss: 0.0015052477061748505  | Test Loss: 4.59099659538269  | Test Acc.: 50.625\n",
      "Epoch: 118 \tTrain Loss: 0.0014761403858661651  | Test Loss: 4.599036586761475  | Test Acc.: 50.5875\n",
      "Epoch: 119 \tTrain Loss: 0.0014480130553245543  | Test Loss: 4.606294124603272  | Test Acc.: 50.5875\n",
      "Epoch: 120 \tTrain Loss: 0.0014202104747295379  | Test Loss: 4.613839572906494  | Test Acc.: 50.575\n",
      "Epoch: 121 \tTrain Loss: 0.001394625961780548  | Test Loss: 4.620802875518799  | Test Acc.: 50.6\n",
      "Epoch: 122 \tTrain Loss: 0.0013705473721027375  | Test Loss: 4.627894647598267  | Test Acc.: 50.6\n",
      "Epoch: 123 \tTrain Loss: 0.001346389800310135  | Test Loss: 4.634740785598755  | Test Acc.: 50.575\n",
      "Epoch: 124 \tTrain Loss: 0.0013227472007274628  | Test Loss: 4.641507532119751  | Test Acc.: 50.6\n",
      "Epoch: 125 \tTrain Loss: 0.0012998460650444031  | Test Loss: 4.648805601119995  | Test Acc.: 50.6125\n",
      "Epoch: 126 \tTrain Loss: 0.001278303450345993  | Test Loss: 4.655267284393311  | Test Acc.: 50.5875\n",
      "Epoch: 127 \tTrain Loss: 0.0012565132558345796  | Test Loss: 4.661587923049927  | Test Acc.: 50.5625\n",
      "Epoch: 128 \tTrain Loss: 0.00123577778339386  | Test Loss: 4.668500015258789  | Test Acc.: 50.575\n",
      "Epoch: 129 \tTrain Loss: 0.0012163214564323425  | Test Loss: 4.675144744873047  | Test Acc.: 50.525\n",
      "Epoch: 130 \tTrain Loss: 0.0011971303164958955  | Test Loss: 4.681429342269897  | Test Acc.: 50.5875\n",
      "Epoch: 131 \tTrain Loss: 0.0011776462256908417  | Test Loss: 4.687613510131836  | Test Acc.: 50.5625\n",
      "Epoch: 132 \tTrain Loss: 0.0011584245800971985  | Test Loss: 4.693237186431885  | Test Acc.: 50.55\n",
      "Epoch: 133 \tTrain Loss: 0.0011413464426994323  | Test Loss: 4.699656322479248  | Test Acc.: 50.6\n",
      "Epoch: 134 \tTrain Loss: 0.001124017971754074  | Test Loss: 4.706045660018921  | Test Acc.: 50.525\n",
      "Epoch: 135 \tTrain Loss: 0.001107188707590103  | Test Loss: 4.711598197937012  | Test Acc.: 50.5375\n",
      "Epoch: 136 \tTrain Loss: 0.0010905537366867066  | Test Loss: 4.718380044937134  | Test Acc.: 50.55\n",
      "Epoch: 137 \tTrain Loss: 0.0010747284889221192  | Test Loss: 4.723530113220215  | Test Acc.: 50.5375\n",
      "Epoch: 138 \tTrain Loss: 0.001059144002199173  | Test Loss: 4.729425239562988  | Test Acc.: 50.5375\n",
      "Epoch: 139 \tTrain Loss: 0.0010439654946327208  | Test Loss: 4.735584539413452  | Test Acc.: 50.5\n",
      "Epoch: 140 \tTrain Loss: 0.001029833084344864  | Test Loss: 4.741326440811157  | Test Acc.: 50.525\n",
      "Epoch: 141 \tTrain Loss: 0.0010155090928077699  | Test Loss: 4.746168745040894  | Test Acc.: 50.525\n",
      "Epoch: 142 \tTrain Loss: 0.001001257610321045  | Test Loss: 4.752462638854981  | Test Acc.: 50.5375\n",
      "Epoch: 143 \tTrain Loss: 0.000987784093618393  | Test Loss: 4.757584489822388  | Test Acc.: 50.5625\n",
      "Epoch: 144 \tTrain Loss: 0.0009745680570602417  | Test Loss: 4.762601848602295  | Test Acc.: 50.55\n",
      "Epoch: 145 \tTrain Loss: 0.0009613792836666108  | Test Loss: 4.768507415771484  | Test Acc.: 50.525\n",
      "Epoch: 146 \tTrain Loss: 0.0009492071390151978  | Test Loss: 4.773888814926147  | Test Acc.: 50.5875\n",
      "Epoch: 147 \tTrain Loss: 0.0009365167021751404  | Test Loss: 4.779309595108033  | Test Acc.: 50.5875\n",
      "Epoch: 148 \tTrain Loss: 0.0009246763348579407  | Test Loss: 4.784313779830932  | Test Acc.: 50.6\n",
      "Epoch: 149 \tTrain Loss: 0.0009132833123207092  | Test Loss: 4.7899736328125  | Test Acc.: 50.6125\n",
      "Epoch: 150 \tTrain Loss: 0.0009019550800323487  | Test Loss: 4.795132329940796  | Test Acc.: 50.575\n"
     ]
    }
   ],
   "source": [
    "train_loss_plt, valid_loss_plt = [], []\n",
    "test_accuracy_plt = []\n",
    "test_loss_plt = []\n",
    "n_epochs = 150\n",
    "for epoch in range(n_epochs):\n",
    "    train_loss, test_loss = 0, 0\n",
    "    model.train()\n",
    "    for images, gender, age in train_loader:\n",
    "        images, gender, age = images.to(device), gender.to(device), age.to(device)\n",
    "\n",
    "        optimizer.zero_grad()\n",
    "        output = model(images)\n",
    "        loss = CE(output, labels)\n",
    "        loss.backward()\n",
    "        optimizer.step()\n",
    "        \n",
    "        train_loss += loss.item() * images.size(0)\n",
    "\n",
    "    train_loss = train_loss / len(train_loader.dataset)\n",
    "    train_loss_plt.append(train_loss)\n",
    "\n",
    "    class_correct = list(0. for i in range(10))\n",
    "    class_total = list(0. for i in range(10))\n",
    "    model.eval()\n",
    "    with torch.no_grad():\n",
    "        for data, target in test_loader:\n",
    "            data, target = data.cuda(), target.cuda()\n",
    "            output = model(data)\n",
    "            loss = CE(output, target)\n",
    "\n",
    "            test_loss += loss.item() * data.size(0)\n",
    "            _, pred = torch.max(output, 1)\n",
    "            correct = np.squeeze(pred.eq(target.data.view_as(pred)))\n",
    "            for i in range(len(target)):\n",
    "                label = target.data[i]\n",
    "                class_correct[label] += correct[i].item()\n",
    "                class_total[label] += 1\n",
    "\n",
    "    test_loss = test_loss / len(test_loader.dataset)\n",
    "    test_loss_plt.append(test_loss)\n",
    "    \n",
    "    test_accuracy = 100. * np.sum(class_correct) / np.sum(class_total)\n",
    "    test_accuracy_plt.append(test_accuracy)\n",
    "\n",
    "    print('Epoch:', (epoch + 1), '\\tTrain Loss:', train_loss,' | Test Loss:', test_loss,' | Test Acc.:',test_accuracy)"
   ]
  },
  {
   "cell_type": "markdown",
   "metadata": {
    "colab_type": "text",
    "id": "lhVSKbxWVT9T"
   },
   "source": [
    "### Saving"
   ]
  },
  {
   "cell_type": "code",
   "execution_count": 0,
   "metadata": {
    "colab": {},
    "colab_type": "code",
    "id": "wm5QvSLiVT9U"
   },
   "outputs": [],
   "source": [
    "joblib.dump(train_loss_plt, 'train_loss_plt_q3_Xavier_150.sav')\n",
    "joblib.dump(test_loss_plt, 'test_loss_plt_q3_Xavier_150.sav')\n",
    "joblib.dump(test_accuracy_plt, 'test_accuracy_plt_q3_Xavier_150.sav')\n",
    "torch.save(model.state_dict(), \"model_q3_Xavier_150.pt\")"
   ]
  },
  {
   "cell_type": "code",
   "execution_count": 8,
   "metadata": {
    "colab": {
     "base_uri": "https://localhost:8080/",
     "height": 282
    },
    "colab_type": "code",
    "id": "uCcZ0RWuVT9V",
    "outputId": "2aec17e3-06e4-44ad-fe8c-d8a771043e75"
   },
   "outputs": [
    {
     "data": {
      "text/plain": [
       "[<matplotlib.lines.Line2D at 0x7fa014089f28>]"
      ]
     },
     "execution_count": 8,
     "metadata": {
      "tags": []
     },
     "output_type": "execute_result"
    },
    {
     "data": {
      "image/png": "[encoded data removed]",
      "text/plain": [
       "<Figure size 432x288 with 1 Axes>"
      ]
     },
     "metadata": {
      "tags": []
     },
     "output_type": "display_data"
    }
   ],
   "source": [
    "plt.plot(np.arange(len(train_loss_plt)),train_loss_plt)"
   ]
  },
  {
   "cell_type": "code",
   "execution_count": 9,
   "metadata": {
    "colab": {
     "base_uri": "https://localhost:8080/",
     "height": 282
    },
    "colab_type": "code",
    "id": "V4clRFDX4Ee6",
    "outputId": "68b335a8-e709-433a-f1de-d70dfb1dbf0f"
   },
   "outputs": [
    {
     "data": {
      "text/plain": [
       "[<matplotlib.lines.Line2D at 0x7fa013ff9b38>]"
      ]
     },
     "execution_count": 9,
     "metadata": {
      "tags": []
     },
     "output_type": "execute_result"
    },
    {
     "data": {
      "image/png": "[encoded data removed]",
      "text/plain": [
       "<Figure size 432x288 with 1 Axes>"
      ]
     },
     "metadata": {
      "tags": []
     },
     "output_type": "display_data"
    }
   ],
   "source": [
    "plt.plot(np.arange(len(test_loss_plt)),test_loss_plt)"
   ]
  },
  {
   "cell_type": "code",
   "execution_count": 10,
   "metadata": {
    "colab": {
     "base_uri": "https://localhost:8080/",
     "height": 282
    },
    "colab_type": "code",
    "id": "YaOTD5OjVT9Y",
    "outputId": "cc6b4988-8b9b-43f0-c390-9e8440db17fb"
   },
   "outputs": [
    {
     "data": {
      "text/plain": [
       "[<matplotlib.lines.Line2D at 0x7fa0140b8e10>]"
      ]
     },
     "execution_count": 10,
     "metadata": {
      "tags": []
     },
     "output_type": "execute_result"
    },
    {
     "data": {
      "image/png": "[encoded data removed]",
      "text/plain": [
       "<Figure size 432x288 with 1 Axes>"
      ]
     },
     "metadata": {
      "tags": []
     },
     "output_type": "display_data"
    }
   ],
   "source": [
    "plt.plot(np.arange(len(test_accuracy_plt)),test_accuracy_plt)"
   ]
  },
  {
   "cell_type": "code",
   "execution_count": 0,
   "metadata": {
    "colab": {},
    "colab_type": "code",
    "id": "JF4Bq66W6mtD"
   },
   "outputs": [],
   "source": []
  }
 ],
 "metadata": {
  "accelerator": "GPU",
  "colab": {
   "collapsed_sections": [],
   "name": "AML_A4_Q3_Xavier_150.ipynb",
   "provenance": [],
   "toc_visible": true
  },
  "kernelspec": {
   "display_name": "Python 3",
   "language": "python",
   "name": "python3"
  },
  "language_info": {
   "codemirror_mode": {
    "name": "ipython",
    "version": 3
   },
   "file_extension": ".py",
   "mimetype": "text/x-python",
   "name": "python",
   "nbconvert_exporter": "python",
   "pygments_lexer": "ipython3",
   "version": "3.7.1"
  }
 },
 "nbformat": 4,
 "nbformat_minor": 1
}
