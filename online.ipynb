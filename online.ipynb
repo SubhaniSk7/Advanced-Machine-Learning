{
 "cells": [
  {
   "cell_type": "code",
   "execution_count": 1,
   "metadata": {},
   "outputs": [],
   "source": [
    "import numpy as np\n",
    "import matplotlib.pyplot as plt\n",
    "import seaborn as sns\n",
    "import sklearn\n",
    "from sklearn.datasets import load_iris\n",
    "from sklearn.model_selection import train_test_split\n",
    "from sklearn.svm import SVC\n",
    "from sklearn.metrics import f1_score, accuracy_score\n",
    "from sklearn.decomposition import PCA"
   ]
  },
  {
   "cell_type": "code",
   "execution_count": 222,
   "metadata": {},
   "outputs": [],
   "source": [
    "pca = PCA(n_components=2)"
   ]
  },
  {
   "cell_type": "code",
   "execution_count": 229,
   "metadata": {},
   "outputs": [],
   "source": [
    "iris = load_iris()\n",
    "X, y = pca.fit_transform(iris.data), iris.target\n",
    "X_train, X_test, y_train, y_test = train_test_split(X, y, test_size=0.30, random_state=2)"
   ]
  },
  {
   "cell_type": "code",
   "execution_count": 230,
   "metadata": {},
   "outputs": [],
   "source": [
    "def plot_contours(ax, clf, xx, yy, **params):\n",
    "    Z = clf.predict(np.c_[xx.ravel(), yy.ravel()])\n",
    "    Z = Z.reshape(xx.shape)\n",
    "    out = ax.contourf(xx, yy, Z, **params)\n",
    "    return out"
   ]
  },
  {
   "cell_type": "code",
   "execution_count": 231,
   "metadata": {},
   "outputs": [],
   "source": [
    "def plotBoundary(model, X, y, title):\n",
    "    fig, ax = plt.subplots()\n",
    "    xx, yy = np.meshgrid(np.arange(X[:,0].min()-1, X[:,0].max()+1, 2e-2), \n",
    "                         np.arange(X[:,1].min()-1, X[:,1].max()+1, 2e-2))\n",
    "    plot_contours(ax,model,xx,yy,cmap=plt.cm.gist_earth)\n",
    "    ax.scatter(X[:,0], X[:,1], c=y, cmap=plt.cm.flag, s=40, edgecolors='c')\n",
    "    plt.title(title)\n",
    "    plt.grid()\n",
    "    plt.show()"
   ]
  },
  {
   "cell_type": "markdown",
   "metadata": {},
   "source": [
    "## Linear"
   ]
  },
  {
   "cell_type": "code",
   "execution_count": 232,
   "metadata": {},
   "outputs": [],
   "source": [
    "def onlineSVM(i, clf, X_train, y_train, X_test, y_test):\n",
    "    sv = clf.support_vectors_ \n",
    "    X_train = np.concatenate((X_train, X_test[i].reshape(1,-1)), axis=0)\n",
    "    y_train = np.concatenate((y_train, np.array([y_test[i]])), axis=0)\n",
    "    for _ in sv.tolist():\n",
    "        temp = np.where(X_train == np.array(_))\n",
    "        y_.append(y_train[temp[0][0]])\n",
    "    y_.append(y_test[i])\n",
    "    clf.fit(np.concatenate((sv, X_test[i].reshape(1,-1)), axis=0), np.array(y_))\n",
    "    return clf, X_train, y_train"
   ]
  },
  {
   "cell_type": "code",
   "execution_count": 233,
   "metadata": {},
   "outputs": [
    {
     "name": "stdout",
     "output_type": "stream",
     "text": [
      "0.9777777777777777\n"
     ]
    }
   ],
   "source": [
    "clf = SVC(kernel='linear')\n",
    "\n",
    "clf.fit(X_train, y_train)\n",
    "\n",
    "best = 0.\n",
    "while True:\n",
    "    y_pred = clf.predict(X_test)\n",
    "    if accuracy_score(y_test, y_pred) > best:\n",
    "        best = accuracy_score(y_test, y_pred)\n",
    "        print (best)\n",
    "    else:\n",
    "        break\n",
    "    for i in range(len(y_test)):\n",
    "        y_ = []\n",
    "        y_pr = clf.predict(X_test[i].reshape(1,-1))\n",
    "        if y_pr[0] != y_test[i]:\n",
    "            clf, X_train, y_train = onlineSVM(i, clf, X_train, y_train, X_test, y_test)"
   ]
  },
  {
   "cell_type": "code",
   "execution_count": 234,
   "metadata": {},
   "outputs": [
    {
     "name": "stdout",
     "output_type": "stream",
     "text": [
      "0.9777777777777777\n"
     ]
    }
   ],
   "source": [
    "print (best)"
   ]
  },
  {
   "cell_type": "code",
   "execution_count": 196,
   "metadata": {},
   "outputs": [],
   "source": [
    "# a = np.array([[-1,0],[0,1],[0,-1],[1,0],[3,-1],[3,1],[6,-1],[6,1]])\n",
    "a = np.array([[1,4],[2,3],[4,5],[5,6]])"
   ]
  },
  {
   "cell_type": "code",
   "execution_count": 197,
   "metadata": {},
   "outputs": [],
   "source": [
    "# b = np.array([1,1,1,1,2,2,2,2])\n",
    "b = np.array([1,1,2,2])"
   ]
  },
  {
   "cell_type": "code",
   "execution_count": 198,
   "metadata": {},
   "outputs": [
    {
     "data": {
      "image/png": "[encoded data removed]",
      "text/plain": [
       "<Figure size 432x288 with 1 Axes>"
      ]
     },
     "metadata": {
      "needs_background": "light"
     },
     "output_type": "display_data"
    }
   ],
   "source": [
    "clf = SVC(kernel='linear')\n",
    "\n",
    "clf.fit(a,b)\n",
    "\n",
    "plotBoundary(clf, a, b, \"\")"
   ]
  },
  {
   "cell_type": "code",
   "execution_count": null,
   "metadata": {},
   "outputs": [],
   "source": []
  },
  {
   "cell_type": "code",
   "execution_count": null,
   "metadata": {},
   "outputs": [],
   "source": []
  },
  {
   "cell_type": "code",
   "execution_count": null,
   "metadata": {},
   "outputs": [],
   "source": []
  },
  {
   "cell_type": "code",
   "execution_count": null,
   "metadata": {},
   "outputs": [],
   "source": []
  }
 ],
 "metadata": {
  "kernelspec": {
   "display_name": "Python 3",
   "language": "python",
   "name": "python3"
  },
  "language_info": {
   "codemirror_mode": {
    "name": "ipython",
    "version": 3
   },
   "file_extension": ".py",
   "mimetype": "text/x-python",
   "name": "python",
   "nbconvert_exporter": "python",
   "pygments_lexer": "ipython3",
   "version": "3.7.1"
  }
 },
 "nbformat": 4,
 "nbformat_minor": 2
}
