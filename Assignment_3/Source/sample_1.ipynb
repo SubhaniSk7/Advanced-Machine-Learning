{
 "cells": [
  {
   "cell_type": "code",
   "execution_count": 5,
   "metadata": {},
   "outputs": [],
   "source": [
    "import cv2\n",
    "import numpy as np\n",
    "from numpy.linalg import svd\n",
    "import glob,os,time,pdb,warnings\n",
    "from scipy.sparse.linalg import svds\n",
    "from sklearn import preprocessing\n",
    "from copy import deepcopy\n",
    "import matplotlib.pyplot as plt\n",
    "warnings.filterwarnings('ignore')"
   ]
  },
  {
   "cell_type": "code",
   "execution_count": 7,
   "metadata": {},
   "outputs": [
    {
     "name": "stdout",
     "output_type": "stream",
     "text": [
      "dataset\\yaleB11\n",
      "dataset\\yaleB12\n",
      "dataset\\yaleB13\n",
      "dataset\\yaleB15\n",
      "dataset\\yaleB16\n",
      "dataset\\yaleB17\n",
      "dataset\\yaleB18\n",
      "dataset\\yaleB19\n",
      "dataset\\yaleB20\n",
      "dataset\\yaleB21\n",
      "1000 1000\n"
     ]
    }
   ],
   "source": [
    "path = 'dataset/'\n",
    "X_files, y_class=[], []\n",
    "class_number = 0\n",
    "for dire in glob.glob(os.path.join(path, '*')):\n",
    "    print(dire)\n",
    "    count=0\n",
    "    for filename in glob.glob(os.path.join(dire, '*')):\n",
    "        if('.info' in filename):\n",
    "            continue\n",
    "        if(count==100):\n",
    "            break\n",
    "        st=filename.split('\\\\')\n",
    "        s=st[0]+'/'+st[1]+'/'+st[2]\n",
    "        X_files.append(s)\n",
    "#         y_class.append(dire)\n",
    "        y_class.append(class_number)\n",
    "        count += 1\n",
    "    class_number +=1\n",
    "print(len(X_files),len(y_class))"
   ]
  },
  {
   "cell_type": "code",
   "execution_count": 8,
   "metadata": {},
   "outputs": [],
   "source": [
    "X_data = []\n",
    "for name in X_files:\n",
    "    img=cv2.imread(r''+name,cv2.COLOR_BGR2GRAY) #converting to gray scale img\n",
    "    X_data.append(img)\n",
    "\n",
    "X_ravel = []\n",
    "for i in X_data:\n",
    "    ravel = i.ravel()\n",
    "    X_ravel.append(ravel)\n",
    "\n",
    "X_ravel = np.asarray(X_ravel)"
   ]
  },
  {
   "cell_type": "code",
   "execution_count": 9,
   "metadata": {},
   "outputs": [
    {
     "data": {
      "text/plain": [
       "((480, 640), (1000, 307200))"
      ]
     },
     "execution_count": 9,
     "metadata": {},
     "output_type": "execute_result"
    }
   ],
   "source": [
    "X_data[0].shape, X_ravel.shape"
   ]
  },
  {
   "cell_type": "code",
   "execution_count": 10,
   "metadata": {},
   "outputs": [
    {
     "data": {
      "text/plain": [
       "307200"
      ]
     },
     "execution_count": 10,
     "metadata": {},
     "output_type": "execute_result"
    }
   ],
   "source": [
    "480*640"
   ]
  },
  {
   "cell_type": "code",
   "execution_count": 12,
   "metadata": {},
   "outputs": [
    {
     "name": "stdout",
     "output_type": "stream",
     "text": [
      "1\n"
     ]
    }
   ],
   "source": [
    "µ = 1\n",
    "\n",
    "print(µ)"
   ]
  },
  {
   "cell_type": "code",
   "execution_count": null,
   "metadata": {},
   "outputs": [],
   "source": []
  }
 ],
 "metadata": {
  "kernelspec": {
   "display_name": "Python 3",
   "language": "python",
   "name": "python3"
  },
  "language_info": {
   "codemirror_mode": {
    "name": "ipython",
    "version": 3
   },
   "file_extension": ".py",
   "mimetype": "text/x-python",
   "name": "python",
   "nbconvert_exporter": "python",
   "pygments_lexer": "ipython3",
   "version": "3.7.1"
  }
 },
 "nbformat": 4,
 "nbformat_minor": 2
}
