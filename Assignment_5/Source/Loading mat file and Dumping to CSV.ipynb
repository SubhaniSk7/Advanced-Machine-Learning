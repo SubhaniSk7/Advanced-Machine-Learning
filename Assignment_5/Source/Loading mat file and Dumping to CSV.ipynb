{
 "cells": [
  {
   "cell_type": "code",
   "execution_count": 8,
   "metadata": {},
   "outputs": [],
   "source": [
    "import torch\n",
    "import torch.nn as nn\n",
    "import torch.nn.functional as F\n",
    "import torch.optim as optim\n",
    "from torchvision import datasets,transforms\n",
    "from torch.utils.data import DataLoader\n",
    "import matplotlib.pyplot as plt\n",
    "import numpy as np\n",
    "\n",
    "import joblib\n",
    "import scipy.io as sio\n",
    "import pandas as pd"
   ]
  },
  {
   "cell_type": "code",
   "execution_count": 3,
   "metadata": {},
   "outputs": [],
   "source": [
    "train_path = r\"E:\\Sem3\\AML\\Assignments & Quiz\\Assignment_5\\Dataset\\IIIT5K-Word_V3.0\\IIIT5K\\traindata.mat\"\n",
    "test_path = r\"E:\\Sem3\\AML\\Assignments & Quiz\\Assignment_5\\Dataset\\IIIT5K-Word_V3.0\\IIIT5K\\testdata.mat\"\n",
    "\n",
    "train_data, test_data = sio.loadmat(train_path),sio.loadmat(test_path)\n",
    "train_data = train_data[\"traindata\"][0]\n",
    "test_data = test_data[\"testdata\"][0]"
   ]
  },
  {
   "cell_type": "code",
   "execution_count": 4,
   "metadata": {},
   "outputs": [],
   "source": [
    "train_dataset = []\n",
    "for x in train_data:\n",
    "    img_name = x[0][0]\n",
    "    label = x[1][0]\n",
    "    sample = [img_name,label]\n",
    "    train_dataset.append(sample)  "
   ]
  },
  {
   "cell_type": "code",
   "execution_count": 6,
   "metadata": {},
   "outputs": [],
   "source": [
    "test_dataset = []\n",
    "for x in test_data:\n",
    "    img_name = x[0][0]\n",
    "    label = x[1][0]\n",
    "    sample = [img_name,label]\n",
    "    test_dataset.append(sample)"
   ]
  },
  {
   "cell_type": "code",
   "execution_count": 15,
   "metadata": {},
   "outputs": [],
   "source": [
    "train_pd = pd.DataFrame(train_dataset,columns=['image_name','label'])\n",
    "test_pd = pd.DataFrame(test_dataset,columns=['image_name','label'])\n",
    "\n",
    "train_pd.to_csv(\"train.csv\",index=False)\n",
    "test_pd.to_csv(\"test.csv\",index=False)"
   ]
  }
 ],
 "metadata": {
  "kernelspec": {
   "display_name": "Python 3",
   "language": "python",
   "name": "python3"
  },
  "language_info": {
   "codemirror_mode": {
    "name": "ipython",
    "version": 3
   },
   "file_extension": ".py",
   "mimetype": "text/x-python",
   "name": "python",
   "nbconvert_exporter": "python",
   "pygments_lexer": "ipython3",
   "version": "3.7.1"
  }
 },
 "nbformat": 4,
 "nbformat_minor": 2
}
