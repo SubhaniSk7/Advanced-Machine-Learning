{
 "cells": [
  {
   "cell_type": "code",
   "execution_count": 0,
   "metadata": {
    "colab": {},
    "colab_type": "code",
    "id": "ha10zxmPyefo"
   },
   "outputs": [],
   "source": [
    "# !unzip horse2zebra.zip"
   ]
  },
  {
   "cell_type": "code",
   "execution_count": 0,
   "metadata": {
    "colab": {},
    "colab_type": "code",
    "id": "9EkRkI-byDHg"
   },
   "outputs": [],
   "source": [
    "# referred and taken some code from https://github.com/junyanz/pytorch-CycleGAN-and-pix2pix and https://github.com/aitorzip/PyTorch-CycleGAN\n",
    "\n",
    "import numpy as np\n",
    "import os, glob, warnings, cv2, joblib, random,sys\n",
    "from torchvision import datasets, transforms\n",
    "from torchvision.utils import save_image\n",
    "import torch\n",
    "import torch.nn as nn\n",
    "import torch.nn.functional as F\n",
    "from torch.utils.data import Dataset,DataLoader,SequentialSampler,SubsetRandomSampler\n",
    "import torch.optim as optim\n",
    "\n",
    "import matplotlib.pyplot as plt\n",
    "from skimage import io,transform\n",
    "import pandas as pd\n",
    "from PIL import Image\n",
    "warnings.filterwarnings('ignore')\n",
    "import itertools\n",
    "from torch.autograd import variable"
   ]
  },
  {
   "cell_type": "code",
   "execution_count": 0,
   "metadata": {
    "colab": {},
    "colab_type": "code",
    "id": "vTQMxsCYyDHm"
   },
   "outputs": [],
   "source": [
    "# A_path = r\"E:\\Sem3\\AML\\Assignments & Quiz\\Assignment_5\\Dataset_2\\horse2zebra\\train\\A\"\n",
    "# B_path = r\"E:\\Sem3\\AML\\Assignments & Quiz\\Assignment_5\\Dataset_2\\horse2zebra\\train\\B\"\n",
    "\n",
    "A_path = r\"horse2zebra/train/A\"\n",
    "B_path = r\"horse2zebra/train/B\"\n",
    "\n",
    "device='cuda'\n",
    "# device = 'cpu'\n",
    "n_workers = 0\n",
    "batch_size = 1\n",
    "height, width = 286, 286\n",
    "crop_height, crop_width = 256, 256\n",
    "\n",
    "transform = transforms.Compose([\n",
    "#     transforms.RandomHorizontalFlip(),\n",
    "#                                 transforms.Resize((height,width)),\n",
    "#                                 transforms.RandomCrop((crop_height,crop_width)),\n",
    "                                transforms.ToTensor(),\n",
    "                                transforms.Normalize(mean=[0.5, 0.5, 0.5], std=[0.5, 0.5, 0.5])])\n",
    "\n",
    "\n",
    "A_data = datasets.ImageFolder(root=A_path,transform=transform)\n",
    "B_data = datasets.ImageFolder(root=B_path,transform=transform)\n",
    "\n",
    "A_loader = DataLoader(A_data, batch_size=batch_size, num_workers=n_workers)\n",
    "B_loader = DataLoader(B_data, batch_size=batch_size, num_workers=n_workers)\n",
    "\n",
    "# for i,(images, label) in enumerate(A_loader,0):\n",
    "#     plt.imshow(images[0].permute(1,2,0))\n",
    "#     plt.show()\n",
    "#     if(i==1):\n",
    "#         break\n",
    "        \n",
    "# for i,(images, label) in enumerate(B_loader,0):\n",
    "#     plt.imshow(images[0].permute(1,2,0))\n",
    "#     plt.show()\n",
    "#     if(i==1):\n",
    "#         break"
   ]
  },
  {
   "cell_type": "markdown",
   "metadata": {
    "colab_type": "text",
    "id": "c09hcS4dyDHq"
   },
   "source": [
    "### Architecture"
   ]
  },
  {
   "cell_type": "code",
   "execution_count": 0,
   "metadata": {
    "colab": {},
    "colab_type": "code",
    "id": "mB6XC7DyyDHr"
   },
   "outputs": [],
   "source": [
    "class ResidualBlock(nn.Module):\n",
    "    def __init__(self, in_features):\n",
    "        super(ResidualBlock, self).__init__()\n",
    "\n",
    "        conv_block = [  nn.ReflectionPad2d(1),\n",
    "                        nn.Conv2d(in_features, in_features, 3),\n",
    "                        nn.InstanceNorm2d(in_features),\n",
    "                        nn.ReLU(inplace=True),\n",
    "                        nn.ReflectionPad2d(1),\n",
    "                        nn.Conv2d(in_features, in_features, 3),\n",
    "                        nn.InstanceNorm2d(in_features)  ]\n",
    "\n",
    "        self.conv_block = nn.Sequential(*conv_block)\n",
    "\n",
    "    def forward(self, x):\n",
    "        return x + self.conv_block(x)\n",
    "\n",
    "class Generator(nn.Module):\n",
    "    def __init__(self, input_nc, output_nc, n_residual_blocks=9):\n",
    "        super(Generator, self).__init__()\n",
    "\n",
    "        # Initial convolution block       \n",
    "        model = [nn.ReflectionPad2d(3),\n",
    "                 nn.Conv2d(input_nc, 64, 7),\n",
    "                 nn.InstanceNorm2d(64),\n",
    "                 nn.ReLU(inplace=True)]\n",
    "\n",
    "        # Downsampling\n",
    "        in_features = 64\n",
    "        out_features = in_features*2\n",
    "        for _ in range(2):\n",
    "            model += [  nn.Conv2d(in_features, out_features, 3, stride=2, padding=1),\n",
    "                        nn.InstanceNorm2d(out_features),\n",
    "                        nn.ReLU(inplace=True) ]\n",
    "            in_features = out_features\n",
    "            out_features = in_features*2\n",
    "\n",
    "        # Residual blocks\n",
    "        for _ in range(n_residual_blocks):\n",
    "            model += [ResidualBlock(in_features)]\n",
    "\n",
    "        # Upsampling\n",
    "        out_features = in_features//2\n",
    "        for _ in range(2):\n",
    "            model += [  nn.ConvTranspose2d(in_features, out_features, 3, stride=2, padding=1, output_padding=1),\n",
    "                        nn.InstanceNorm2d(out_features),\n",
    "                        nn.ReLU(inplace=True) ]\n",
    "            in_features = out_features\n",
    "            out_features = in_features//2\n",
    "\n",
    "        # Output layer\n",
    "        model += [  nn.ReflectionPad2d(3),\n",
    "                    nn.Conv2d(64, output_nc, 7),\n",
    "                    nn.Tanh() ]\n",
    "\n",
    "        self.model = nn.Sequential(*model)\n",
    "        \n",
    "#         self.network = nn.Sequential()\n",
    "        \n",
    "\n",
    "    def forward(self, x):\n",
    "        return self.model(x)\n",
    "\n",
    "class Discriminator(nn.Module):\n",
    "    def __init__(self, input_nc):\n",
    "        super(Discriminator, self).__init__()\n",
    "\n",
    "        # A bunch of convolutions one after another\n",
    "        \n",
    "        self.network = nn.Sequential(nn.Conv2d(input_nc, 64, 4, stride=2, padding=1),\n",
    "                                     nn.LeakyReLU(0.2, inplace=True),\n",
    "                                     \n",
    "                                     nn.Conv2d(64, 128, 4, stride=2, padding=1),\n",
    "                                     nn.InstanceNorm2d(128),\n",
    "                                     nn.LeakyReLU(0.2, inplace=True),\n",
    "                                     \n",
    "                                     nn.Conv2d(128, 256, 4, stride=2, padding=1),\n",
    "                                     nn.InstanceNorm2d(256),\n",
    "                                     nn.LeakyReLU(0.2, inplace=True),\n",
    "                                     \n",
    "                                     nn.Conv2d(256, 512, 4, padding=1),\n",
    "                                     nn.InstanceNorm2d(512),\n",
    "                                     nn.LeakyReLU(0.2, inplace=True),\n",
    "                                     \n",
    "                                     nn.Conv2d(512, 1, 4, padding=1)# FCN classification layer\n",
    "                                    )\n",
    "\n",
    "    def forward(self, x):\n",
    "        x =  self.network(x)\n",
    "        # Average pooling and flatten\n",
    "        return F.avg_pool2d(x, x.size()[2:]).view(x.size()[0], -1)\n",
    "\n",
    "class ReplayBuffer():\n",
    "    def __init__(self, max_size=10):\n",
    "        assert (max_size > 0), 'Empty buffer or trying to create a black hole. Be careful.'\n",
    "        self.max_size = max_size\n",
    "        self.data = []\n",
    "\n",
    "    def push_and_pop(self, data):\n",
    "        to_return = []\n",
    "        for element in data.data:\n",
    "            element = torch.unsqueeze(element, 0)\n",
    "            if len(self.data) < self.max_size:\n",
    "                self.data.append(element)\n",
    "                to_return.append(element)\n",
    "            else:\n",
    "                if random.uniform(0,1) > 0.5:\n",
    "                    i = random.randint(0, self.max_size-1)\n",
    "                    to_return.append(self.data[i].clone())\n",
    "                    self.data[i] = element\n",
    "                else:\n",
    "                    to_return.append(element)\n",
    "#         return Variable(torch.cat(to_return))\n",
    "        return torch.cat(to_return)\n",
    "\n",
    "class LambdaLR():\n",
    "    def __init__(self, n_epochs, offset, decay_start_epoch):\n",
    "        assert ((n_epochs - decay_start_epoch) > 0), \"Decay must start before the training session ends!\"\n",
    "        self.n_epochs = n_epochs\n",
    "        self.offset = offset\n",
    "        self.decay_start_epoch = decay_start_epoch\n",
    "\n",
    "    def step(self, epoch):\n",
    "        return 1.0 - max(0, epoch + self.offset - self.decay_start_epoch)/(self.n_epochs - self.decay_start_epoch)"
   ]
  },
  {
   "cell_type": "code",
   "execution_count": 0,
   "metadata": {
    "colab": {},
    "colab_type": "code",
    "id": "vM_XHuNyyDHu"
   },
   "outputs": [],
   "source": [
    "input_nc=3\n",
    "output_nc = 3\n",
    "lr = 0.0002\n",
    "batchSize = 1\n",
    "size = 256\n",
    "\n",
    "netG_A2B = Generator(input_nc, output_nc)\n",
    "netG_B2A = Generator(output_nc, input_nc)\n",
    "netD_A = Discriminator(input_nc)\n",
    "netD_B = Discriminator(output_nc)\n",
    "\n",
    "netG_A2B.to(device)\n",
    "netG_B2A.to(device)\n",
    "netD_A.to(device)\n",
    "netD_B.to(device)\n",
    "\n",
    "criterion_GAN = torch.nn.MSELoss()\n",
    "criterion_cycle = torch.nn.L1Loss()\n",
    "criterion_identity = torch.nn.L1Loss()\n",
    "\n",
    "optimizer_G = torch.optim.Adam(itertools.chain(netG_A2B.parameters(), netG_B2A.parameters()),\n",
    "                                lr=lr, betas=(0.5, 0.999))\n",
    "optimizer_D_A = torch.optim.Adam(netD_A.parameters(), lr=lr, betas=(0.5, 0.999))\n",
    "optimizer_D_B = torch.optim.Adam(netD_B.parameters(), lr=lr, betas=(0.5, 0.999))\n",
    "\n",
    "n_epochs = 100\n",
    "epoch=0\n",
    "decay_epoch=50\n",
    "\n",
    "lr_scheduler_G = torch.optim.lr_scheduler.LambdaLR(optimizer_G, lr_lambda=LambdaLR(n_epochs, epoch, decay_epoch).step)\n",
    "lr_scheduler_D_A = torch.optim.lr_scheduler.LambdaLR(optimizer_D_A, lr_lambda=LambdaLR(n_epochs, epoch, decay_epoch).step)\n",
    "lr_scheduler_D_B = torch.optim.lr_scheduler.LambdaLR(optimizer_D_B, lr_lambda=LambdaLR(n_epochs, epoch, decay_epoch).step)\n",
    "\n",
    "# Tensor = torch.cuda.FloatTensor if opt.cuda else torch.Tensor\n",
    "Tensor = torch.cuda.FloatTensor\n",
    "# Tensor = torch.Tensor\n",
    "input_A = Tensor(batchSize, input_nc, size, size)\n",
    "input_B = Tensor(batchSize, output_nc, size, size)\n",
    "\n",
    "target_real = Tensor(batchSize).fill_(1.0)\n",
    "target_fake = Tensor(batchSize).fill_(0.0)\n",
    "\n",
    "fake_A_buffer = ReplayBuffer()\n",
    "fake_B_buffer = ReplayBuffer()"
   ]
  },
  {
   "cell_type": "code",
   "execution_count": 5,
   "metadata": {
    "colab": {
     "base_uri": "https://localhost:8080/",
     "height": 289
    },
    "colab_type": "code",
    "id": "dA_sNHelyDHw",
    "outputId": "c533f38b-469d-42cf-c25a-9a43f33464f9"
   },
   "outputs": [
    {
     "name": "stdout",
     "output_type": "stream",
     "text": [
      "0 : L_G: 8.424875259399414 | L_G_id.: 2.527878522872925 | L_G_GAN: 0.4518752098083496 | L_G_cycle: 5.445122241973877 | L_D: 0.34011828899383545\n",
      "1 : L_G: 8.205333709716797 | L_G_id.: 2.2678818702697754 | L_G_GAN: 0.9384846091270447 | L_G_cycle: 4.998967170715332 | L_D: 0.4492664933204651\n",
      "2 : L_G: 7.966972827911377 | L_G_id.: 2.062452793121338 | L_G_GAN: 1.3488659858703613 | L_G_cycle: 4.555654525756836 | L_D: 0.5239294171333313\n",
      "3 : L_G: 8.215192794799805 | L_G_id.: 2.1716222763061523 | L_G_GAN: 1.4545269012451172 | L_G_cycle: 4.589044094085693 | L_D: 0.4305124282836914\n",
      "4 : L_G: 8.213871002197266 | L_G_id.: 2.0189709663391113 | L_G_GAN: 1.8909471035003662 | L_G_cycle: 4.303952217102051 | L_D: 0.5690851211547852\n",
      "5 : L_G: 7.635962963104248 | L_G_id.: 2.015946865081787 | L_G_GAN: 1.2520674467086792 | L_G_cycle: 4.367948532104492 | L_D: 0.24286046624183655\n",
      "6 : L_G: 7.5173797607421875 | L_G_id.: 2.0325560569763184 | L_G_GAN: 1.1883764266967773 | L_G_cycle: 4.29644775390625 | L_D: 0.41058826446533203\n",
      "7 : L_G: 7.32859992980957 | L_G_id.: 2.096658945083618 | L_G_GAN: 0.7884120941162109 | L_G_cycle: 4.44352912902832 | L_D: 0.31519296765327454\n",
      "8 : L_G: 7.206870079040527 | L_G_id.: 1.8932697772979736 | L_G_GAN: 1.1231900453567505 | L_G_cycle: 4.1904096603393555 | L_D: 0.4316232204437256\n",
      "9 : L_G: 7.673270225524902 | L_G_id.: 1.9828362464904785 | L_G_GAN: 1.342151165008545 | L_G_cycle: 4.348282814025879 | L_D: 0.271396279335022\n",
      "10 : L_G: 7.605589389801025 | L_G_id.: 1.969031810760498 | L_G_GAN: 1.4282023906707764 | L_G_cycle: 4.20835542678833 | L_D: 0.2686668634414673\n",
      "11 : L_G: 7.593368053436279 | L_G_id.: 1.9793875217437744 | L_G_GAN: 1.304908037185669 | L_G_cycle: 4.309072494506836 | L_D: 0.36403748393058777\n",
      "12 : L_G: 6.591238021850586 | L_G_id.: 2.023517370223999 | L_G_GAN: 0.28115350008010864 | L_G_cycle: 4.286567211151123 | L_D: 0.33327987790107727\n",
      "13 : L_G: 8.095975875854492 | L_G_id.: 2.0892369747161865 | L_G_GAN: 1.613480567932129 | L_G_cycle: 4.393258094787598 | L_D: 0.49413445591926575\n",
      "14 : L_G: 7.172759056091309 | L_G_id.: 2.0153751373291016 | L_G_GAN: 1.0076537132263184 | L_G_cycle: 4.1497297286987305 | L_D: 0.3695889413356781\n"
     ]
    }
   ],
   "source": [
    "epochs=15\n",
    "loss_G_plt = []\n",
    "loss_identity_A_plt=[]\n",
    "loss_identity_B_plt=[]\n",
    "loss_G_identity_plt = []\n",
    "\n",
    "loss_GAN_A2B_plt = []\n",
    "loss_GAN_B2A_plt = []\n",
    "loss_G_GAN_plt = []\n",
    "\n",
    "loss_cycle_ABA_plt = []\n",
    "loss_cycle_BAB_plt = []\n",
    "loss_G_cycle_plt = []\n",
    "\n",
    "loss_D_A_plt = []\n",
    "loss_D_B_plt = []\n",
    "loss_D_plt = []\n",
    "\n",
    "for epoch in range(epochs):\n",
    "    for i, (realA, realB) in enumerate(zip(A_loader, B_loader)):\n",
    "        # Set model input\n",
    "        # print(realA[0].shape)\n",
    "        real_A = input_A.copy_(realA[0])\n",
    "        real_B = input_B.copy_(realB[0])\n",
    "\n",
    "        ###### Generators A2B and B2A ######\n",
    "        optimizer_G.zero_grad()\n",
    "\n",
    "        # Identity loss\n",
    "        # G_A2B(B) should equal B if real B is fed\n",
    "        same_B = netG_A2B(real_B)\n",
    "        loss_identity_B = criterion_identity(same_B, real_B)*5.0\n",
    "        \n",
    "        # G_B2A(A) should equal A if real A is fed\n",
    "        same_A = netG_B2A(real_A)\n",
    "        loss_identity_A = criterion_identity(same_A, real_A)*5.0\n",
    "\n",
    "        # GAN loss\n",
    "        fake_B = netG_A2B(real_A)\n",
    "        pred_fake = netD_B(fake_B)\n",
    "        loss_GAN_A2B = criterion_GAN(pred_fake, target_real)\n",
    "\n",
    "        fake_A = netG_B2A(real_B)\n",
    "        pred_fake = netD_A(fake_A)\n",
    "        loss_GAN_B2A = criterion_GAN(pred_fake, target_real)\n",
    "\n",
    "        # Cycle loss\n",
    "        recovered_A = netG_B2A(fake_B)\n",
    "        loss_cycle_ABA = criterion_cycle(recovered_A, real_A)*10.0\n",
    "\n",
    "        recovered_B = netG_A2B(fake_A)\n",
    "        loss_cycle_BAB = criterion_cycle(recovered_B, real_B)*10.0\n",
    "\n",
    "        # Total loss\n",
    "        loss_G = loss_identity_A + loss_identity_B + loss_GAN_A2B + loss_GAN_B2A + loss_cycle_ABA + loss_cycle_BAB\n",
    "        loss_G.backward()\n",
    "        \n",
    "        optimizer_G.step()\n",
    "        ###################################\n",
    "\n",
    "        ###### Discriminator A ######\n",
    "        optimizer_D_A.zero_grad()\n",
    "\n",
    "        # Real loss\n",
    "        pred_real = netD_A(real_A)\n",
    "        loss_D_real = criterion_GAN(pred_real, target_real)\n",
    "\n",
    "        # Fake loss\n",
    "        fake_A = fake_A_buffer.push_and_pop(fake_A)\n",
    "        pred_fake = netD_A(fake_A.detach())\n",
    "        loss_D_fake = criterion_GAN(pred_fake, target_fake)\n",
    "\n",
    "        # Total loss\n",
    "        loss_D_A = (loss_D_real + loss_D_fake)*0.5\n",
    "        loss_D_A.backward()\n",
    "\n",
    "        optimizer_D_A.step()\n",
    "        ###################################\n",
    "\n",
    "        ###### Discriminator B ######\n",
    "        optimizer_D_B.zero_grad()\n",
    "\n",
    "        # Real loss\n",
    "        pred_real = netD_B(real_B)\n",
    "        loss_D_real = criterion_GAN(pred_real, target_real)\n",
    "        \n",
    "        # Fake loss\n",
    "        fake_B = fake_B_buffer.push_and_pop(fake_B)\n",
    "        pred_fake = netD_B(fake_B.detach())\n",
    "        loss_D_fake = criterion_GAN(pred_fake, target_fake)\n",
    "\n",
    "        # Total loss\n",
    "        loss_D_B = (loss_D_real + loss_D_fake)*0.5\n",
    "        loss_D_B.backward()\n",
    "\n",
    "        optimizer_D_B.step()\n",
    "\n",
    "#         print('loss_G', torch.FloatTensor(loss_G.item()), '| loss_G_identity',(loss_identity_A.item() + loss_identity_B.item()),'| loss_G_GAN', (loss_GAN_A2B.item() + loss_GAN_B2A.item()),'| loss_G_cycle', (loss_cycle_ABA.item() + loss_cycle_BAB.item()), '| loss_D', (loss_D_A.item() + loss_D_B.item()))\n",
    "    print(epoch,': L_G:', loss_G.item(), '| L_G_id.:',(loss_identity_A + loss_identity_B).item(),'| L_G_GAN:', (loss_GAN_A2B + loss_GAN_B2A).item(),'| L_G_cycle:', (loss_cycle_ABA + loss_cycle_BAB).item(), '| L_D:', (loss_D_A+ loss_D_B).item())\n",
    "    loss_G_plt.append(loss_G.item())\n",
    "    loss_identity_A_plt.append(loss_identity_A.item())\n",
    "    loss_identity_B_plt.append(loss_identity_B.item())\n",
    "    loss_G_identity_plt.append(loss_identity_A.item()+loss_identity_B.item())\n",
    "\n",
    "    loss_GAN_A2B_plt.append(loss_GAN_A2B.item())\n",
    "    loss_GAN_B2A_plt.append(loss_GAN_B2A.item())\n",
    "    loss_G_GAN_plt.append(loss_GAN_A2B.item() + loss_GAN_B2A.item())\n",
    "\n",
    "    loss_cycle_ABA_plt.append(loss_cycle_ABA.item())\n",
    "    loss_cycle_BAB_plt.append(loss_cycle_BAB.item())\n",
    "    loss_G_cycle_plt.append(loss_cycle_ABA.item() + loss_cycle_BAB.item())\n",
    "\n",
    "    loss_D_A_plt.append(loss_D_A.item())\n",
    "    loss_D_B_plt.append(loss_D_B.item())\n",
    "    loss_D_plt.append(loss_D_A.item() + loss_D_B.item())\n",
    "\n",
    "    # Update learning rates\n",
    "    lr_scheduler_G.step()\n",
    "    lr_scheduler_D_A.step()\n",
    "    lr_scheduler_D_B.step()"
   ]
  },
  {
   "cell_type": "code",
   "execution_count": 7,
   "metadata": {
    "colab": {
     "base_uri": "https://localhost:8080/",
     "height": 34
    },
    "colab_type": "code",
    "id": "Lk_yQDtT9jlJ",
    "outputId": "f40e12ad-d6d5-4985-c7c0-ba3b864a4e94"
   },
   "outputs": [
    {
     "name": "stdout",
     "output_type": "stream",
     "text": [
      "Generated images 0005 of 0100\n"
     ]
    }
   ],
   "source": [
    "# Set model's test mode\n",
    "netG_A2B.eval()\n",
    "netG_B2A.eval()\n",
    "\n",
    "# Inputs & targets memory allocation\n",
    "Tensor = torch.cuda.FloatTensor\n",
    "input_A = Tensor(batchSize, input_nc, size, size)\n",
    "input_B = Tensor(batchSize, output_nc, size, size)\n",
    "A_path_test = 'horse2zebra/test/A/'\n",
    "B_path_test = 'horse2zebra/test/B/'\n",
    "\n",
    "A_data_test = datasets.ImageFolder(root=A_path_test,transform=transform)\n",
    "B_data_test = datasets.ImageFolder(root=B_path_test,transform=transform)\n",
    "\n",
    "A_loader_test = DataLoader(A_data_test, batch_size=batch_size, num_workers=n_workers)\n",
    "B_loader_test = DataLoader(B_data_test, batch_size=batch_size, num_workers=n_workers)\n",
    "\n",
    "###### Testing######\n",
    "# Create output dirs if they don't exist\n",
    "if not os.path.exists('output/A'):\n",
    "    os.makedirs('output/A')\n",
    "if not os.path.exists('output/B'):\n",
    "    os.makedirs('output/B')\n",
    "\n",
    "for i, (realA, realB) in enumerate(zip(A_loader_test, B_loader_test)):\n",
    "    # Set model input\n",
    "    real_A = input_A.copy_(realA[0])\n",
    "    real_B = input_B.copy_(realB[0])\n",
    "\n",
    "    # Generate output\n",
    "    fake_B = 0.5*(netG_A2B(real_A).data + 1.0)\n",
    "    fake_A = 0.5*(netG_B2A(real_B).data + 1.0)\n",
    "\n",
    "    # Save image files\n",
    "    save_image(fake_A, 'output/A/%04d.png' % (i+1))\n",
    "    save_image(fake_B, 'output/B/%04d.png' % (i+1))\n",
    "\n",
    "    sys.stdout.write('\\rGenerated images %04d of %04d' % (i+1, len(A_loader)))\n",
    "\n",
    "sys.stdout.write('\\n')"
   ]
  },
  {
   "cell_type": "code",
   "execution_count": 0,
   "metadata": {
    "colab": {},
    "colab_type": "code",
    "id": "w-rfFDjK-5sL"
   },
   "outputs": [],
   "source": [
    "# !zip -r output.zip output"
   ]
  },
  {
   "cell_type": "code",
   "execution_count": 0,
   "metadata": {
    "colab": {},
    "colab_type": "code",
    "id": "Oi1cauXcXIob"
   },
   "outputs": [],
   "source": [
    "def plot(values,title,xaxis='epochs',yaxis='Loss',color='b'):\n",
    "    plt.title(title)\n",
    "    plt.xlabel(xaxis)\n",
    "    plt.ylabel(yaxis)\n",
    "    plt.plot(np.arange(len(values)),values,color=color)\n",
    "    plt.show()"
   ]
  },
  {
   "cell_type": "code",
   "execution_count": 29,
   "metadata": {
    "colab": {
     "base_uri": "https://localhost:8080/",
     "height": 1000
    },
    "colab_type": "code",
    "id": "x9fCSimdQ0Hj",
    "outputId": "a67d5fd7-7adc-421b-88ec-0c6636bba851"
   },
   "outputs": [
    {
     "data": {
      "image/png": "[encoded data removed]",
      "text/plain": [
       "<Figure size 432x288 with 1 Axes>"
      ]
     },
     "metadata": {
      "tags": []
     },
     "output_type": "display_data"
    },
    {
     "data": {
      "image/png": "[encoded data removed]",
      "text/plain": [
       "<Figure size 432x288 with 1 Axes>"
      ]
     },
     "metadata": {
      "tags": []
     },
     "output_type": "display_data"
    },
    {
     "data": {
      "image/png": "[encoded data removed]",
      "text/plain": [
       "<Figure size 432x288 with 1 Axes>"
      ]
     },
     "metadata": {
      "tags": []
     },
     "output_type": "display_data"
    },
    {
     "data": {
      "image/png": "[encoded data removed]",
      "text/plain": [
       "<Figure size 432x288 with 1 Axes>"
      ]
     },
     "metadata": {
      "tags": []
     },
     "output_type": "display_data"
    },
    {
     "data": {
      "image/png": "[encoded data removed]",
      "text/plain": [
       "<Figure size 432x288 with 1 Axes>"
      ]
     },
     "metadata": {
      "tags": []
     },
     "output_type": "display_data"
    }
   ],
   "source": [
    "import matplotlib.pyplot as plt\n",
    "\n",
    "plot(loss_G_plt,'Generator loss','epochs','Loss_G')\n",
    "# plot(loss_identity_A_plt,'A identity loss','epochs','Loss_A identity')\n",
    "# plot(loss_identity_B_plt,'B identity loss','epochs','Loss_B identity')\n",
    "plot(loss_G_identity_plt,'G identity loss','epochs','Loss_G identity')\n",
    "# plot(loss_GAN_A2B_plt,'G_A2B loss','epochs','G_A2B loss')\n",
    "# plot(loss_GAN_B2A_plt,'G_B2A loss','epochs','G_B2A loss')\n",
    "plot(loss_G_GAN_plt,'G_GAN loss','epochs','G_GAN loss')\n",
    "# plot(loss_cycle_ABA_plt,'cycle_ABA loss','epochs','cycle_ABA loss','g')\n",
    "# plot(loss_cycle_BAB_plt,'cycle_BAB loss','epochs','cycle_BAB loss','g')\n",
    "plot(loss_G_cycle_plt,'cycle_G loss','epochs','cycle_G loss','g')\n",
    "# plot(loss_D_A_plt,'D_A loss','epochs','D_A loss','r')\n",
    "# plot(loss_D_B_plt,'D_B loss','epochs','D_B loss','r')\n",
    "plot(loss_D_plt,'D loss','epochs','D loss','r')"
   ]
  },
  {
   "cell_type": "code",
   "execution_count": 14,
   "metadata": {
    "colab": {
     "base_uri": "https://localhost:8080/",
     "height": 34
    },
    "colab_type": "code",
    "id": "w20XvNVuRQz-",
    "outputId": "f90ab1dd-8a19-4bc7-a914-69c79a57fe23"
   },
   "outputs": [
    {
     "data": {
      "text/plain": [
       "['loss_D_plt.sav']"
      ]
     },
     "execution_count": 14,
     "metadata": {
      "tags": []
     },
     "output_type": "execute_result"
    }
   ],
   "source": [
    "# import joblib\n",
    "\n",
    "# joblib.dump(netG_A2B,'netG_A2B.sav')\n",
    "# joblib.dump(netG_B2A,'netG_B2A.sav')\n",
    "# joblib.dump(netD_A,'netD_A.sav')\n",
    "# joblib.dump(netD_B,'netD_B.sav')\n",
    "\n",
    "\n",
    "# joblib.dump(loss_G_plt,'loss_G_plt.sav')\n",
    "# joblib.dump(loss_identity_A_plt,'loss_identity_A_plt.sav')\n",
    "# joblib.dump(loss_identity_B_plt,'loss_identity_B_plt.sav')\n",
    "# joblib.dump(loss_G_identity_plt,'loss_G_identity_plt.sav')\n",
    "# joblib.dump(loss_GAN_A2B_plt,'loss_GAN_A2B_plt.sav')\n",
    "# joblib.dump(loss_GAN_B2A_plt,'loss_GAN_B2A_plt.sav')\n",
    "# joblib.dump(loss_G_GAN_plt,'loss_G_GAN_plt.sav')\n",
    "# joblib.dump(loss_cycle_ABA_plt,'loss_cycle_ABA_plt.sav')\n",
    "# joblib.dump(loss_cycle_BAB_plt,'loss_cycle_BAB_plt.sav')\n",
    "# joblib.dump(loss_G_cycle_plt,'loss_G_cycle_plt.sav')\n",
    "# joblib.dump(loss_D_A_plt,'loss_D_A_plt.sav')\n",
    "# joblib.dump(loss_D_B_plt,'loss_D_B_plt.sav')\n",
    "# joblib.dump(loss_D_plt,'loss_D_plt.sav')"
   ]
  },
  {
   "cell_type": "code",
   "execution_count": 0,
   "metadata": {
    "colab": {},
    "colab_type": "code",
    "id": "hyZ0DY8WSV6Q"
   },
   "outputs": [],
   "source": []
  }
 ],
 "metadata": {
  "accelerator": "GPU",
  "colab": {
   "collapsed_sections": [],
   "name": "AML_A5_Q2.ipynb",
   "provenance": [],
   "toc_visible": true
  },
  "kernelspec": {
   "display_name": "Python 3",
   "language": "python",
   "name": "python3"
  },
  "language_info": {
   "codemirror_mode": {
    "name": "ipython",
    "version": 3
   },
   "file_extension": ".py",
   "mimetype": "text/x-python",
   "name": "python",
   "nbconvert_exporter": "python",
   "pygments_lexer": "ipython3",
   "version": "3.7.1"
  }
 },
 "nbformat": 4,
 "nbformat_minor": 1
}
